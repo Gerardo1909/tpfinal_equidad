{
 "cells": [
  {
   "cell_type": "markdown",
   "id": "1acd1550",
   "metadata": {},
   "source": [
    "# Preprocesamiento de Datos"
   ]
  },
  {
   "cell_type": "markdown",
   "id": "65f89c7e",
   "metadata": {},
   "source": [
    "## Índice de Contenido\n",
    "\n",
    "1. [Carga de datos brutos](#1-Carga-de-datos-brutos)  \n",
    "2. [Transformación de códigos a etiquetas descriptivas](#2-Transformación-de-códigos-a-etiquetas-descriptivas)  \n",
    "3. [Extracción de la variable de género](#3-Extracción-de-la-variable-de-género)  \n",
    "4. [Creación de etiquetas categóricas para la variable objetivo](#4.-Creación-de-etiquetas-categóricas-para-la-variable-objetivo)  \n",
    "5. [Verificación de consistencia de los datos](#5.-Verificación-de-consistencia-de-los-datos)  \n",
    "6. [Guardado de los datos procesados](#6.-Guardado-de-los-datos-procesados)  \n",
    "7. [Resumen y conclusiones](#7.-Resumen-y-conclusiones)"
   ]
  },
  {
   "cell_type": "markdown",
   "id": "37869fbe",
   "metadata": {},
   "source": [
    "## 1. Carga de datos brutos"
   ]
  },
  {
   "cell_type": "markdown",
   "id": "539d7d11",
   "metadata": {},
   "source": [
    "Comenzamos cargando el conjunto de datos original 'german.data', que se encuentra en formato de texto \n",
    "con valores codificados (tanto numéricos como alfanuméricos). Estos datos requieren procesamiento \n",
    "para ser interpretables y utilizables en análisis posteriores."
   ]
  },
  {
   "cell_type": "code",
   "execution_count": 1,
   "id": "669119a7",
   "metadata": {},
   "outputs": [
    {
     "name": "stdout",
     "output_type": "stream",
     "text": [
      "Dimensiones del dataset: (1000, 21)\n",
      "\n",
      "Primeras 5 filas de los datos brutos:\n"
     ]
    },
    {
     "data": {
      "text/html": [
       "<div>\n",
       "<style scoped>\n",
       "    .dataframe tbody tr th:only-of-type {\n",
       "        vertical-align: middle;\n",
       "    }\n",
       "\n",
       "    .dataframe tbody tr th {\n",
       "        vertical-align: top;\n",
       "    }\n",
       "\n",
       "    .dataframe thead th {\n",
       "        text-align: right;\n",
       "    }\n",
       "</style>\n",
       "<table border=\"1\" class=\"dataframe\">\n",
       "  <thead>\n",
       "    <tr style=\"text-align: right;\">\n",
       "      <th></th>\n",
       "      <th>0</th>\n",
       "      <th>1</th>\n",
       "      <th>2</th>\n",
       "      <th>3</th>\n",
       "      <th>4</th>\n",
       "      <th>5</th>\n",
       "      <th>6</th>\n",
       "      <th>7</th>\n",
       "      <th>8</th>\n",
       "      <th>9</th>\n",
       "      <th>...</th>\n",
       "      <th>11</th>\n",
       "      <th>12</th>\n",
       "      <th>13</th>\n",
       "      <th>14</th>\n",
       "      <th>15</th>\n",
       "      <th>16</th>\n",
       "      <th>17</th>\n",
       "      <th>18</th>\n",
       "      <th>19</th>\n",
       "      <th>20</th>\n",
       "    </tr>\n",
       "  </thead>\n",
       "  <tbody>\n",
       "    <tr>\n",
       "      <th>0</th>\n",
       "      <td>A11</td>\n",
       "      <td>6</td>\n",
       "      <td>A34</td>\n",
       "      <td>A43</td>\n",
       "      <td>1169</td>\n",
       "      <td>A65</td>\n",
       "      <td>A75</td>\n",
       "      <td>4</td>\n",
       "      <td>A93</td>\n",
       "      <td>A101</td>\n",
       "      <td>...</td>\n",
       "      <td>A121</td>\n",
       "      <td>67</td>\n",
       "      <td>A143</td>\n",
       "      <td>A152</td>\n",
       "      <td>2</td>\n",
       "      <td>A173</td>\n",
       "      <td>1</td>\n",
       "      <td>A192</td>\n",
       "      <td>A201</td>\n",
       "      <td>1</td>\n",
       "    </tr>\n",
       "    <tr>\n",
       "      <th>1</th>\n",
       "      <td>A12</td>\n",
       "      <td>48</td>\n",
       "      <td>A32</td>\n",
       "      <td>A43</td>\n",
       "      <td>5951</td>\n",
       "      <td>A61</td>\n",
       "      <td>A73</td>\n",
       "      <td>2</td>\n",
       "      <td>A92</td>\n",
       "      <td>A101</td>\n",
       "      <td>...</td>\n",
       "      <td>A121</td>\n",
       "      <td>22</td>\n",
       "      <td>A143</td>\n",
       "      <td>A152</td>\n",
       "      <td>1</td>\n",
       "      <td>A173</td>\n",
       "      <td>1</td>\n",
       "      <td>A191</td>\n",
       "      <td>A201</td>\n",
       "      <td>2</td>\n",
       "    </tr>\n",
       "    <tr>\n",
       "      <th>2</th>\n",
       "      <td>A14</td>\n",
       "      <td>12</td>\n",
       "      <td>A34</td>\n",
       "      <td>A46</td>\n",
       "      <td>2096</td>\n",
       "      <td>A61</td>\n",
       "      <td>A74</td>\n",
       "      <td>2</td>\n",
       "      <td>A93</td>\n",
       "      <td>A101</td>\n",
       "      <td>...</td>\n",
       "      <td>A121</td>\n",
       "      <td>49</td>\n",
       "      <td>A143</td>\n",
       "      <td>A152</td>\n",
       "      <td>1</td>\n",
       "      <td>A172</td>\n",
       "      <td>2</td>\n",
       "      <td>A191</td>\n",
       "      <td>A201</td>\n",
       "      <td>1</td>\n",
       "    </tr>\n",
       "    <tr>\n",
       "      <th>3</th>\n",
       "      <td>A11</td>\n",
       "      <td>42</td>\n",
       "      <td>A32</td>\n",
       "      <td>A42</td>\n",
       "      <td>7882</td>\n",
       "      <td>A61</td>\n",
       "      <td>A74</td>\n",
       "      <td>2</td>\n",
       "      <td>A93</td>\n",
       "      <td>A103</td>\n",
       "      <td>...</td>\n",
       "      <td>A122</td>\n",
       "      <td>45</td>\n",
       "      <td>A143</td>\n",
       "      <td>A153</td>\n",
       "      <td>1</td>\n",
       "      <td>A173</td>\n",
       "      <td>2</td>\n",
       "      <td>A191</td>\n",
       "      <td>A201</td>\n",
       "      <td>1</td>\n",
       "    </tr>\n",
       "    <tr>\n",
       "      <th>4</th>\n",
       "      <td>A11</td>\n",
       "      <td>24</td>\n",
       "      <td>A33</td>\n",
       "      <td>A40</td>\n",
       "      <td>4870</td>\n",
       "      <td>A61</td>\n",
       "      <td>A73</td>\n",
       "      <td>3</td>\n",
       "      <td>A93</td>\n",
       "      <td>A101</td>\n",
       "      <td>...</td>\n",
       "      <td>A124</td>\n",
       "      <td>53</td>\n",
       "      <td>A143</td>\n",
       "      <td>A153</td>\n",
       "      <td>2</td>\n",
       "      <td>A173</td>\n",
       "      <td>2</td>\n",
       "      <td>A191</td>\n",
       "      <td>A201</td>\n",
       "      <td>2</td>\n",
       "    </tr>\n",
       "  </tbody>\n",
       "</table>\n",
       "<p>5 rows × 21 columns</p>\n",
       "</div>"
      ],
      "text/plain": [
       "    0   1    2    3     4    5    6   7    8     9   ...    11  12    13  \\\n",
       "0  A11   6  A34  A43  1169  A65  A75   4  A93  A101  ...  A121  67  A143   \n",
       "1  A12  48  A32  A43  5951  A61  A73   2  A92  A101  ...  A121  22  A143   \n",
       "2  A14  12  A34  A46  2096  A61  A74   2  A93  A101  ...  A121  49  A143   \n",
       "3  A11  42  A32  A42  7882  A61  A74   2  A93  A103  ...  A122  45  A143   \n",
       "4  A11  24  A33  A40  4870  A61  A73   3  A93  A101  ...  A124  53  A143   \n",
       "\n",
       "     14 15    16 17    18    19 20  \n",
       "0  A152  2  A173  1  A192  A201  1  \n",
       "1  A152  1  A173  1  A191  A201  2  \n",
       "2  A152  1  A172  2  A191  A201  1  \n",
       "3  A153  1  A173  2  A191  A201  1  \n",
       "4  A153  2  A173  2  A191  A201  2  \n",
       "\n",
       "[5 rows x 21 columns]"
      ]
     },
     "execution_count": 1,
     "metadata": {},
     "output_type": "execute_result"
    }
   ],
   "source": [
    "import pandas as pd\n",
    "import numpy as np\n",
    "import os\n",
    "\n",
    "ruta_archivo = os.path.join('..', 'data', 'raw', 'german.data')\n",
    "\n",
    "g_credit_data = pd.read_csv(ruta_archivo, sep=' ', header=None, skipinitialspace=True)\n",
    "\n",
    "print(f\"Dimensiones del dataset: {g_credit_data.shape}\")\n",
    "print(\"\\nPrimeras 5 filas de los datos brutos:\")\n",
    "g_credit_data.head()"
   ]
  },
  {
   "cell_type": "markdown",
   "id": "4f8744f5",
   "metadata": {},
   "source": [
    "Como podemos observar, los datos están en su formato bruto con columnas numeradas y valores codificados \n",
    "como \"A11\", \"A32\", etc. Estos códigos no son interpretables directamente y necesitan ser transformados \n",
    "en etiquetas que describan su significado real según la documentación del conjunto de datos.\n",
    "\n",
    "El dataset contiene 1000 filas (solicitantes de crédito) y 21 columnas (atributos y la variable objetivo)."
   ]
  },
  {
   "cell_type": "markdown",
   "id": "22bb6557",
   "metadata": {},
   "source": [
    "## 2. Transformación de códigos a etiquetas descriptivas"
   ]
  },
  {
   "cell_type": "markdown",
   "id": "746aba54",
   "metadata": {},
   "source": [
    "Para facilitar el análisis, transformaremos los códigos alfanuméricos a descripciones legibles utilizando\n",
    "una función auxiliar que mapea estos códigos según la documentación oficial del German Credit Dataset."
   ]
  },
  {
   "cell_type": "code",
   "execution_count": 2,
   "id": "e0169b26",
   "metadata": {},
   "outputs": [
    {
     "name": "stdout",
     "output_type": "stream",
     "text": [
      "\n",
      "Primeras 5 filas de los datos con etiquetas descriptivas:\n"
     ]
    },
    {
     "data": {
      "text/html": [
       "<div>\n",
       "<style scoped>\n",
       "    .dataframe tbody tr th:only-of-type {\n",
       "        vertical-align: middle;\n",
       "    }\n",
       "\n",
       "    .dataframe tbody tr th {\n",
       "        vertical-align: top;\n",
       "    }\n",
       "\n",
       "    .dataframe thead th {\n",
       "        text-align: right;\n",
       "    }\n",
       "</style>\n",
       "<table border=\"1\" class=\"dataframe\">\n",
       "  <thead>\n",
       "    <tr style=\"text-align: right;\">\n",
       "      <th></th>\n",
       "      <th>checking_account</th>\n",
       "      <th>duration</th>\n",
       "      <th>credit_history</th>\n",
       "      <th>purpose</th>\n",
       "      <th>credit_amount</th>\n",
       "      <th>savings_account</th>\n",
       "      <th>employment_since</th>\n",
       "      <th>installment_rate</th>\n",
       "      <th>personal_status_sex</th>\n",
       "      <th>other_debtors</th>\n",
       "      <th>...</th>\n",
       "      <th>property</th>\n",
       "      <th>age</th>\n",
       "      <th>other_installment_plans</th>\n",
       "      <th>housing</th>\n",
       "      <th>number_credits</th>\n",
       "      <th>job</th>\n",
       "      <th>people_liable</th>\n",
       "      <th>telephone</th>\n",
       "      <th>foreign_worker</th>\n",
       "      <th>target</th>\n",
       "    </tr>\n",
       "  </thead>\n",
       "  <tbody>\n",
       "    <tr>\n",
       "      <th>0</th>\n",
       "      <td>&lt; 0 DM</td>\n",
       "      <td>6</td>\n",
       "      <td>critical account / other bank</td>\n",
       "      <td>radio/TV</td>\n",
       "      <td>1169</td>\n",
       "      <td>unknown / no account</td>\n",
       "      <td>&gt;= 7 years</td>\n",
       "      <td>4</td>\n",
       "      <td>male, single</td>\n",
       "      <td>none</td>\n",
       "      <td>...</td>\n",
       "      <td>real estate</td>\n",
       "      <td>67</td>\n",
       "      <td>none</td>\n",
       "      <td>own</td>\n",
       "      <td>2</td>\n",
       "      <td>skilled / official</td>\n",
       "      <td>1</td>\n",
       "      <td>yes, registered</td>\n",
       "      <td>yes</td>\n",
       "      <td>1</td>\n",
       "    </tr>\n",
       "    <tr>\n",
       "      <th>1</th>\n",
       "      <td>0 &lt;= ... &lt; 200 DM</td>\n",
       "      <td>48</td>\n",
       "      <td>paid duly till now</td>\n",
       "      <td>radio/TV</td>\n",
       "      <td>5951</td>\n",
       "      <td>&lt; 100 DM</td>\n",
       "      <td>1 &lt;= ... &lt; 4 years</td>\n",
       "      <td>2</td>\n",
       "      <td>female, div/sep/married</td>\n",
       "      <td>none</td>\n",
       "      <td>...</td>\n",
       "      <td>real estate</td>\n",
       "      <td>22</td>\n",
       "      <td>none</td>\n",
       "      <td>own</td>\n",
       "      <td>1</td>\n",
       "      <td>skilled / official</td>\n",
       "      <td>1</td>\n",
       "      <td>none</td>\n",
       "      <td>yes</td>\n",
       "      <td>2</td>\n",
       "    </tr>\n",
       "    <tr>\n",
       "      <th>2</th>\n",
       "      <td>no account</td>\n",
       "      <td>12</td>\n",
       "      <td>critical account / other bank</td>\n",
       "      <td>education</td>\n",
       "      <td>2096</td>\n",
       "      <td>&lt; 100 DM</td>\n",
       "      <td>4 &lt;= ... &lt; 7 years</td>\n",
       "      <td>2</td>\n",
       "      <td>male, single</td>\n",
       "      <td>none</td>\n",
       "      <td>...</td>\n",
       "      <td>real estate</td>\n",
       "      <td>49</td>\n",
       "      <td>none</td>\n",
       "      <td>own</td>\n",
       "      <td>1</td>\n",
       "      <td>unskilled - resident</td>\n",
       "      <td>2</td>\n",
       "      <td>none</td>\n",
       "      <td>yes</td>\n",
       "      <td>1</td>\n",
       "    </tr>\n",
       "    <tr>\n",
       "      <th>3</th>\n",
       "      <td>&lt; 0 DM</td>\n",
       "      <td>42</td>\n",
       "      <td>paid duly till now</td>\n",
       "      <td>furniture/equipment</td>\n",
       "      <td>7882</td>\n",
       "      <td>&lt; 100 DM</td>\n",
       "      <td>4 &lt;= ... &lt; 7 years</td>\n",
       "      <td>2</td>\n",
       "      <td>male, single</td>\n",
       "      <td>guarantor</td>\n",
       "      <td>...</td>\n",
       "      <td>building society / insurance</td>\n",
       "      <td>45</td>\n",
       "      <td>none</td>\n",
       "      <td>for free</td>\n",
       "      <td>1</td>\n",
       "      <td>skilled / official</td>\n",
       "      <td>2</td>\n",
       "      <td>none</td>\n",
       "      <td>yes</td>\n",
       "      <td>1</td>\n",
       "    </tr>\n",
       "    <tr>\n",
       "      <th>4</th>\n",
       "      <td>&lt; 0 DM</td>\n",
       "      <td>24</td>\n",
       "      <td>delay in past</td>\n",
       "      <td>car (new)</td>\n",
       "      <td>4870</td>\n",
       "      <td>&lt; 100 DM</td>\n",
       "      <td>1 &lt;= ... &lt; 4 years</td>\n",
       "      <td>3</td>\n",
       "      <td>male, single</td>\n",
       "      <td>none</td>\n",
       "      <td>...</td>\n",
       "      <td>unknown / no property</td>\n",
       "      <td>53</td>\n",
       "      <td>none</td>\n",
       "      <td>for free</td>\n",
       "      <td>2</td>\n",
       "      <td>skilled / official</td>\n",
       "      <td>2</td>\n",
       "      <td>none</td>\n",
       "      <td>yes</td>\n",
       "      <td>2</td>\n",
       "    </tr>\n",
       "  </tbody>\n",
       "</table>\n",
       "<p>5 rows × 21 columns</p>\n",
       "</div>"
      ],
      "text/plain": [
       "    checking_account  duration                 credit_history  \\\n",
       "0             < 0 DM         6  critical account / other bank   \n",
       "1  0 <= ... < 200 DM        48             paid duly till now   \n",
       "2         no account        12  critical account / other bank   \n",
       "3             < 0 DM        42             paid duly till now   \n",
       "4             < 0 DM        24                  delay in past   \n",
       "\n",
       "               purpose  credit_amount       savings_account  \\\n",
       "0             radio/TV           1169  unknown / no account   \n",
       "1             radio/TV           5951              < 100 DM   \n",
       "2            education           2096              < 100 DM   \n",
       "3  furniture/equipment           7882              < 100 DM   \n",
       "4            car (new)           4870              < 100 DM   \n",
       "\n",
       "     employment_since  installment_rate      personal_status_sex  \\\n",
       "0          >= 7 years                 4             male, single   \n",
       "1  1 <= ... < 4 years                 2  female, div/sep/married   \n",
       "2  4 <= ... < 7 years                 2             male, single   \n",
       "3  4 <= ... < 7 years                 2             male, single   \n",
       "4  1 <= ... < 4 years                 3             male, single   \n",
       "\n",
       "  other_debtors  ...                      property age  \\\n",
       "0          none  ...                   real estate  67   \n",
       "1          none  ...                   real estate  22   \n",
       "2          none  ...                   real estate  49   \n",
       "3     guarantor  ...  building society / insurance  45   \n",
       "4          none  ...         unknown / no property  53   \n",
       "\n",
       "   other_installment_plans   housing number_credits                   job  \\\n",
       "0                     none       own              2    skilled / official   \n",
       "1                     none       own              1    skilled / official   \n",
       "2                     none       own              1  unskilled - resident   \n",
       "3                     none  for free              1    skilled / official   \n",
       "4                     none  for free              2    skilled / official   \n",
       "\n",
       "  people_liable        telephone foreign_worker target  \n",
       "0             1  yes, registered            yes      1  \n",
       "1             1             none            yes      2  \n",
       "2             2             none            yes      1  \n",
       "3             2             none            yes      1  \n",
       "4             2             none            yes      2  \n",
       "\n",
       "[5 rows x 21 columns]"
      ]
     },
     "execution_count": 2,
     "metadata": {},
     "output_type": "execute_result"
    }
   ],
   "source": [
    "from tp_final_fairness_ML.utils.preprocessing import mapear_german_credit_data\n",
    "\n",
    "g_credit_data = mapear_german_credit_data(g_credit_data)\n",
    "\n",
    "print(\"\\nPrimeras 5 filas de los datos con etiquetas descriptivas:\")\n",
    "g_credit_data.head()"
   ]
  },
  {
   "cell_type": "markdown",
   "id": "130a0f63",
   "metadata": {},
   "source": [
    "Ahora los datos son mucho más interpretables. Cada columna tiene un nombre descriptivo \n",
    "(como \"checking_account\", \"credit_history\", etc.) y los valores son legibles en lenguaje natural \n",
    "en lugar de códigos crípticos."
   ]
  },
  {
   "cell_type": "markdown",
   "id": "8713666e",
   "metadata": {},
   "source": [
    "## 3. Extracción de la variable de género"
   ]
  },
  {
   "cell_type": "markdown",
   "id": "0182d0f7",
   "metadata": {},
   "source": [
    "Observamos que la columna 'personal_status_sex' contiene información combinada sobre el estado civil \n",
    "y el género del solicitante. Para facilitar nuestro análisis de equidad, extraeremos específicamente \n",
    "la información de género en una nueva columna."
   ]
  },
  {
   "cell_type": "code",
   "execution_count": 3,
   "id": "e3e8d5b3",
   "metadata": {},
   "outputs": [
    {
     "name": "stdout",
     "output_type": "stream",
     "text": [
      "Distribución de estado civil y género:\n",
      "personal_status_sex\n",
      "male, single                548\n",
      "female, div/sep/married     310\n",
      "male, married/widowed        92\n",
      "male, divorced/separated     50\n",
      "Name: count, dtype: int64\n"
     ]
    }
   ],
   "source": [
    "status_counts = g_credit_data['personal_status_sex'].value_counts()\n",
    "print(\"Distribución de estado civil y género:\")\n",
    "print(status_counts)"
   ]
  },
  {
   "cell_type": "markdown",
   "id": "0b026bfc",
   "metadata": {},
   "source": [
    "Podemos observar que la columna 'personal_status_sex' contiene cuatro categorías, donde solo una corresponde \n",
    "a mujeres (female, div/sep/married) y las otras tres a hombres con diferentes estados civiles. \n",
    "\n",
    "Para facilitar el análisis de equidad por género, necesitamos crear una nueva columna 'genre' que \n",
    "contenga exclusivamente la información de género (masculino o femenino)."
   ]
  },
  {
   "cell_type": "code",
   "execution_count": 4,
   "id": "17c75269",
   "metadata": {},
   "outputs": [
    {
     "name": "stdout",
     "output_type": "stream",
     "text": [
      "\n",
      "Comparación entre personal_status_sex y genre:\n"
     ]
    },
    {
     "data": {
      "text/html": [
       "<div>\n",
       "<style scoped>\n",
       "    .dataframe tbody tr th:only-of-type {\n",
       "        vertical-align: middle;\n",
       "    }\n",
       "\n",
       "    .dataframe tbody tr th {\n",
       "        vertical-align: top;\n",
       "    }\n",
       "\n",
       "    .dataframe thead th {\n",
       "        text-align: right;\n",
       "    }\n",
       "</style>\n",
       "<table border=\"1\" class=\"dataframe\">\n",
       "  <thead>\n",
       "    <tr style=\"text-align: right;\">\n",
       "      <th></th>\n",
       "      <th>personal_status_sex</th>\n",
       "      <th>genre</th>\n",
       "    </tr>\n",
       "  </thead>\n",
       "  <tbody>\n",
       "    <tr>\n",
       "      <th>0</th>\n",
       "      <td>male, single</td>\n",
       "      <td>male</td>\n",
       "    </tr>\n",
       "    <tr>\n",
       "      <th>1</th>\n",
       "      <td>female, div/sep/married</td>\n",
       "      <td>female</td>\n",
       "    </tr>\n",
       "    <tr>\n",
       "      <th>2</th>\n",
       "      <td>male, single</td>\n",
       "      <td>male</td>\n",
       "    </tr>\n",
       "    <tr>\n",
       "      <th>3</th>\n",
       "      <td>male, single</td>\n",
       "      <td>male</td>\n",
       "    </tr>\n",
       "    <tr>\n",
       "      <th>4</th>\n",
       "      <td>male, single</td>\n",
       "      <td>male</td>\n",
       "    </tr>\n",
       "    <tr>\n",
       "      <th>5</th>\n",
       "      <td>male, single</td>\n",
       "      <td>male</td>\n",
       "    </tr>\n",
       "    <tr>\n",
       "      <th>6</th>\n",
       "      <td>male, single</td>\n",
       "      <td>male</td>\n",
       "    </tr>\n",
       "    <tr>\n",
       "      <th>7</th>\n",
       "      <td>male, single</td>\n",
       "      <td>male</td>\n",
       "    </tr>\n",
       "    <tr>\n",
       "      <th>8</th>\n",
       "      <td>male, divorced/separated</td>\n",
       "      <td>male</td>\n",
       "    </tr>\n",
       "    <tr>\n",
       "      <th>9</th>\n",
       "      <td>male, married/widowed</td>\n",
       "      <td>male</td>\n",
       "    </tr>\n",
       "  </tbody>\n",
       "</table>\n",
       "</div>"
      ],
      "text/plain": [
       "        personal_status_sex   genre\n",
       "0              male, single    male\n",
       "1   female, div/sep/married  female\n",
       "2              male, single    male\n",
       "3              male, single    male\n",
       "4              male, single    male\n",
       "5              male, single    male\n",
       "6              male, single    male\n",
       "7              male, single    male\n",
       "8  male, divorced/separated    male\n",
       "9     male, married/widowed    male"
      ]
     },
     "execution_count": 4,
     "metadata": {},
     "output_type": "execute_result"
    }
   ],
   "source": [
    "from tp_final_fairness_ML.utils.preprocessing import extraer_genero\n",
    "\n",
    "g_credit_data = extraer_genero(g_credit_data, 'genre')\n",
    "\n",
    "print(\"\\nComparación entre personal_status_sex y genre:\")\n",
    "g_credit_data[['personal_status_sex', 'genre']].head(10)"
   ]
  },
  {
   "cell_type": "markdown",
   "id": "f4a53d9c",
   "metadata": {},
   "source": [
    "## 4. Creación de etiquetas categóricas para la variable objetivo"
   ]
  },
  {
   "cell_type": "markdown",
   "id": "17f04345",
   "metadata": {},
   "source": [
    "La variable objetivo 'target' actualmente está codificada como 1 (bajo riesgo) y 2 (alto riesgo).\n",
    "Para mejorar la interpretabilidad, especialmente en visualizaciones futuras, crearemos una nueva\n",
    "columna 'target_label' con etiquetas descriptivas."
   ]
  },
  {
   "cell_type": "code",
   "execution_count": 5,
   "id": "0f1763fd",
   "metadata": {},
   "outputs": [
    {
     "name": "stdout",
     "output_type": "stream",
     "text": [
      "\n",
      "Verificación de la transformación de target a target_label:\n"
     ]
    },
    {
     "data": {
      "text/html": [
       "<div>\n",
       "<style scoped>\n",
       "    .dataframe tbody tr th:only-of-type {\n",
       "        vertical-align: middle;\n",
       "    }\n",
       "\n",
       "    .dataframe tbody tr th {\n",
       "        vertical-align: top;\n",
       "    }\n",
       "\n",
       "    .dataframe thead th {\n",
       "        text-align: right;\n",
       "    }\n",
       "</style>\n",
       "<table border=\"1\" class=\"dataframe\">\n",
       "  <thead>\n",
       "    <tr style=\"text-align: right;\">\n",
       "      <th></th>\n",
       "      <th>target</th>\n",
       "      <th>target_label</th>\n",
       "    </tr>\n",
       "  </thead>\n",
       "  <tbody>\n",
       "    <tr>\n",
       "      <th>0</th>\n",
       "      <td>1</td>\n",
       "      <td>low_risk</td>\n",
       "    </tr>\n",
       "    <tr>\n",
       "      <th>1</th>\n",
       "      <td>2</td>\n",
       "      <td>high_risk</td>\n",
       "    </tr>\n",
       "    <tr>\n",
       "      <th>2</th>\n",
       "      <td>1</td>\n",
       "      <td>low_risk</td>\n",
       "    </tr>\n",
       "    <tr>\n",
       "      <th>3</th>\n",
       "      <td>1</td>\n",
       "      <td>low_risk</td>\n",
       "    </tr>\n",
       "    <tr>\n",
       "      <th>4</th>\n",
       "      <td>2</td>\n",
       "      <td>high_risk</td>\n",
       "    </tr>\n",
       "    <tr>\n",
       "      <th>5</th>\n",
       "      <td>1</td>\n",
       "      <td>low_risk</td>\n",
       "    </tr>\n",
       "    <tr>\n",
       "      <th>6</th>\n",
       "      <td>1</td>\n",
       "      <td>low_risk</td>\n",
       "    </tr>\n",
       "    <tr>\n",
       "      <th>7</th>\n",
       "      <td>1</td>\n",
       "      <td>low_risk</td>\n",
       "    </tr>\n",
       "    <tr>\n",
       "      <th>8</th>\n",
       "      <td>1</td>\n",
       "      <td>low_risk</td>\n",
       "    </tr>\n",
       "    <tr>\n",
       "      <th>9</th>\n",
       "      <td>2</td>\n",
       "      <td>high_risk</td>\n",
       "    </tr>\n",
       "  </tbody>\n",
       "</table>\n",
       "</div>"
      ],
      "text/plain": [
       "   target target_label\n",
       "0       1     low_risk\n",
       "1       2    high_risk\n",
       "2       1     low_risk\n",
       "3       1     low_risk\n",
       "4       2    high_risk\n",
       "5       1     low_risk\n",
       "6       1     low_risk\n",
       "7       1     low_risk\n",
       "8       1     low_risk\n",
       "9       2    high_risk"
      ]
     },
     "execution_count": 5,
     "metadata": {},
     "output_type": "execute_result"
    }
   ],
   "source": [
    "g_credit_data['target_label'] = g_credit_data['target'].map({1: 'low_risk', 2: 'high_risk'})\n",
    "\n",
    "print(\"\\nVerificación de la transformación de target a target_label:\")\n",
    "g_credit_data[['target', 'target_label']].head(10)"
   ]
  },
  {
   "cell_type": "markdown",
   "id": "ac24bf33",
   "metadata": {},
   "source": [
    "## 5. Verificación de consistencia de los datos"
   ]
  },
  {
   "cell_type": "markdown",
   "id": "7ec48b85",
   "metadata": {},
   "source": [
    "Antes de guardar los datos procesados, es fundamental verificar la calidad y consistencia del dataset:\n",
    "- Comprobar que no hay valores faltantes\n",
    "- Verificar que los tipos de datos son correctos\n",
    "- Confirmar que todas las columnas esperadas están presentes"
   ]
  },
  {
   "cell_type": "code",
   "execution_count": 6,
   "id": "8528eeb4",
   "metadata": {},
   "outputs": [
    {
     "name": "stdout",
     "output_type": "stream",
     "text": [
      "\n",
      "Estructura del dataset procesado:\n",
      "<class 'pandas.core.frame.DataFrame'>\n",
      "RangeIndex: 1000 entries, 0 to 999\n",
      "Data columns (total 23 columns):\n",
      " #   Column                   Non-Null Count  Dtype \n",
      "---  ------                   --------------  ----- \n",
      " 0   checking_account         1000 non-null   object\n",
      " 1   duration                 1000 non-null   int64 \n",
      " 2   credit_history           1000 non-null   object\n",
      " 3   purpose                  1000 non-null   object\n",
      " 4   credit_amount            1000 non-null   int64 \n",
      " 5   savings_account          1000 non-null   object\n",
      " 6   employment_since         1000 non-null   object\n",
      " 7   installment_rate         1000 non-null   int64 \n",
      " 8   personal_status_sex      1000 non-null   object\n",
      " 9   other_debtors            1000 non-null   object\n",
      " 10  residence_since          1000 non-null   int64 \n",
      " 11  property                 1000 non-null   object\n",
      " 12  age                      1000 non-null   int64 \n",
      " 13  other_installment_plans  1000 non-null   object\n",
      " 14  housing                  1000 non-null   object\n",
      " 15  number_credits           1000 non-null   int64 \n",
      " 16  job                      1000 non-null   object\n",
      " 17  people_liable            1000 non-null   int64 \n",
      " 18  telephone                1000 non-null   object\n",
      " 19  foreign_worker           1000 non-null   object\n",
      " 20  target                   1000 non-null   int64 \n",
      " 21  genre                    1000 non-null   object\n",
      " 22  target_label             1000 non-null   object\n",
      "dtypes: int64(8), object(15)\n",
      "memory usage: 179.8+ KB\n",
      "\n",
      "Estadísticas descriptivas de las variables numéricas:\n"
     ]
    },
    {
     "data": {
      "text/html": [
       "<div>\n",
       "<style scoped>\n",
       "    .dataframe tbody tr th:only-of-type {\n",
       "        vertical-align: middle;\n",
       "    }\n",
       "\n",
       "    .dataframe tbody tr th {\n",
       "        vertical-align: top;\n",
       "    }\n",
       "\n",
       "    .dataframe thead th {\n",
       "        text-align: right;\n",
       "    }\n",
       "</style>\n",
       "<table border=\"1\" class=\"dataframe\">\n",
       "  <thead>\n",
       "    <tr style=\"text-align: right;\">\n",
       "      <th></th>\n",
       "      <th>duration</th>\n",
       "      <th>credit_amount</th>\n",
       "      <th>installment_rate</th>\n",
       "      <th>residence_since</th>\n",
       "      <th>age</th>\n",
       "      <th>number_credits</th>\n",
       "      <th>people_liable</th>\n",
       "      <th>target</th>\n",
       "    </tr>\n",
       "  </thead>\n",
       "  <tbody>\n",
       "    <tr>\n",
       "      <th>count</th>\n",
       "      <td>1000.000000</td>\n",
       "      <td>1000.000000</td>\n",
       "      <td>1000.000000</td>\n",
       "      <td>1000.000000</td>\n",
       "      <td>1000.000000</td>\n",
       "      <td>1000.000000</td>\n",
       "      <td>1000.000000</td>\n",
       "      <td>1000.000000</td>\n",
       "    </tr>\n",
       "    <tr>\n",
       "      <th>mean</th>\n",
       "      <td>20.903000</td>\n",
       "      <td>3271.258000</td>\n",
       "      <td>2.973000</td>\n",
       "      <td>2.845000</td>\n",
       "      <td>35.546000</td>\n",
       "      <td>1.407000</td>\n",
       "      <td>1.155000</td>\n",
       "      <td>1.300000</td>\n",
       "    </tr>\n",
       "    <tr>\n",
       "      <th>std</th>\n",
       "      <td>12.058814</td>\n",
       "      <td>2822.736876</td>\n",
       "      <td>1.118715</td>\n",
       "      <td>1.103718</td>\n",
       "      <td>11.375469</td>\n",
       "      <td>0.577654</td>\n",
       "      <td>0.362086</td>\n",
       "      <td>0.458487</td>\n",
       "    </tr>\n",
       "    <tr>\n",
       "      <th>min</th>\n",
       "      <td>4.000000</td>\n",
       "      <td>250.000000</td>\n",
       "      <td>1.000000</td>\n",
       "      <td>1.000000</td>\n",
       "      <td>19.000000</td>\n",
       "      <td>1.000000</td>\n",
       "      <td>1.000000</td>\n",
       "      <td>1.000000</td>\n",
       "    </tr>\n",
       "    <tr>\n",
       "      <th>25%</th>\n",
       "      <td>12.000000</td>\n",
       "      <td>1365.500000</td>\n",
       "      <td>2.000000</td>\n",
       "      <td>2.000000</td>\n",
       "      <td>27.000000</td>\n",
       "      <td>1.000000</td>\n",
       "      <td>1.000000</td>\n",
       "      <td>1.000000</td>\n",
       "    </tr>\n",
       "    <tr>\n",
       "      <th>50%</th>\n",
       "      <td>18.000000</td>\n",
       "      <td>2319.500000</td>\n",
       "      <td>3.000000</td>\n",
       "      <td>3.000000</td>\n",
       "      <td>33.000000</td>\n",
       "      <td>1.000000</td>\n",
       "      <td>1.000000</td>\n",
       "      <td>1.000000</td>\n",
       "    </tr>\n",
       "    <tr>\n",
       "      <th>75%</th>\n",
       "      <td>24.000000</td>\n",
       "      <td>3972.250000</td>\n",
       "      <td>4.000000</td>\n",
       "      <td>4.000000</td>\n",
       "      <td>42.000000</td>\n",
       "      <td>2.000000</td>\n",
       "      <td>1.000000</td>\n",
       "      <td>2.000000</td>\n",
       "    </tr>\n",
       "    <tr>\n",
       "      <th>max</th>\n",
       "      <td>72.000000</td>\n",
       "      <td>18424.000000</td>\n",
       "      <td>4.000000</td>\n",
       "      <td>4.000000</td>\n",
       "      <td>75.000000</td>\n",
       "      <td>4.000000</td>\n",
       "      <td>2.000000</td>\n",
       "      <td>2.000000</td>\n",
       "    </tr>\n",
       "  </tbody>\n",
       "</table>\n",
       "</div>"
      ],
      "text/plain": [
       "          duration  credit_amount  installment_rate  residence_since  \\\n",
       "count  1000.000000    1000.000000       1000.000000      1000.000000   \n",
       "mean     20.903000    3271.258000          2.973000         2.845000   \n",
       "std      12.058814    2822.736876          1.118715         1.103718   \n",
       "min       4.000000     250.000000          1.000000         1.000000   \n",
       "25%      12.000000    1365.500000          2.000000         2.000000   \n",
       "50%      18.000000    2319.500000          3.000000         3.000000   \n",
       "75%      24.000000    3972.250000          4.000000         4.000000   \n",
       "max      72.000000   18424.000000          4.000000         4.000000   \n",
       "\n",
       "               age  number_credits  people_liable       target  \n",
       "count  1000.000000     1000.000000    1000.000000  1000.000000  \n",
       "mean     35.546000        1.407000       1.155000     1.300000  \n",
       "std      11.375469        0.577654       0.362086     0.458487  \n",
       "min      19.000000        1.000000       1.000000     1.000000  \n",
       "25%      27.000000        1.000000       1.000000     1.000000  \n",
       "50%      33.000000        1.000000       1.000000     1.000000  \n",
       "75%      42.000000        2.000000       1.000000     2.000000  \n",
       "max      75.000000        4.000000       2.000000     2.000000  "
      ]
     },
     "execution_count": 6,
     "metadata": {},
     "output_type": "execute_result"
    }
   ],
   "source": [
    "print(\"\\nEstructura del dataset procesado:\")\n",
    "g_credit_data.info()\n",
    "\n",
    "print(\"\\nEstadísticas descriptivas de las variables numéricas:\")\n",
    "g_credit_data.describe()"
   ]
  },
  {
   "cell_type": "markdown",
   "id": "d671152b",
   "metadata": {},
   "source": [
    "Confirmamos que:\n",
    "- El dataset tiene 1000 registros y 23 columnas (las 21 originales más 'genre' y 'target_label')\n",
    "- No hay valores nulos en ninguna columna\n",
    "- Las variables numéricas y categóricas tienen los tipos de datos adecuados\n",
    "- Las distribuciones de las variables parecen razonables"
   ]
  },
  {
   "cell_type": "markdown",
   "id": "a637e905",
   "metadata": {},
   "source": [
    "## 6. Guardado de los datos procesados"
   ]
  },
  {
   "cell_type": "markdown",
   "id": "90a90b4d",
   "metadata": {},
   "source": [
    "Finalmente, guardamos el dataset procesado en formato CSV para su uso en las etapas posteriores\n",
    "del proyecto."
   ]
  },
  {
   "cell_type": "code",
   "execution_count": 7,
   "id": "bf77643c",
   "metadata": {},
   "outputs": [
    {
     "name": "stdout",
     "output_type": "stream",
     "text": [
      "\n",
      "Datos procesados guardados en: ..\\data\\processed\\german_credit_data.csv\n"
     ]
    }
   ],
   "source": [
    "ruta_guardado = os.path.join('..', 'data', 'processed', 'german_credit_data.csv')\n",
    "\n",
    "g_credit_data.to_csv(ruta_guardado, index=False)\n",
    "print(f\"\\nDatos procesados guardados en: {ruta_guardado}\")"
   ]
  },
  {
   "cell_type": "markdown",
   "id": "6a70ae36",
   "metadata": {},
   "source": [
    "## 7. Resumen y conclusiones"
   ]
  },
  {
   "cell_type": "markdown",
   "id": "440bd291",
   "metadata": {},
   "source": [
    "En este notebook hemos completado las siguientes tareas de preprocesamiento:\n",
    "\n",
    "1. **Carga de datos**: Importamos el conjunto de datos German Credit en su formato bruto\n",
    "2. **Transformación**: Convertimos los códigos a etiquetas descriptivas en lenguaje natural\n",
    "3. **Extracción de género**: Aislamos la variable de género para facilitar el análisis de equidad\n",
    "4. **Etiquetado de target**: Creamos etiquetas descriptivas para la variable objetivo\n",
    "5. **Verificación**: Comprobamos la consistencia y calidad de los datos\n",
    "6. **Guardado**: Almacenamos el dataset procesado para su uso posterior"
   ]
  },
  {
   "cell_type": "markdown",
   "id": "ff4e5d5d",
   "metadata": {},
   "source": [
    "# Análisis Exploratorio de Datos (EDA)"
   ]
  },
  {
   "cell_type": "markdown",
   "id": "e9a14847",
   "metadata": {},
   "source": [
    "## Índice de Contenido\n",
    "\n",
    "1. [Preparación del entorno y carga de datos](#1.-Preparación-del-entorno-y-carga-de-datos)\n",
    "2. [Análisis de variables numéricas](#2.-Análisis-de-variables-numéricas)\n",
    "   - [Distribuciones y estadísticas](#2.1-Distribuciones-y-estadísticas)\n",
    "   - [Relación con la variable objetivo](#2.2-Relación-con-la-variable-objetivo)\n",
    "3. [Análisis de variables categóricas](#3.-Análisis-de-variables-categóricas)\n",
    "   - [Distribuciones](#3.1-Distribuciones)\n",
    "   - [Relación con la variable objetivo](#3.2-Relación-con-la-variable-objetivo)\n",
    "4. [Análisis de equidad por género](#4.-Análisis-de-equidad-por-género)\n",
    "   - [Distribución por género](#4.1-Distribución-por-género)\n",
    "   - [Tasas de aprobación por género](#4.2-Tasas-de-aprobación-por-género)\n",
    "5. [Resumen y conclusiones](#5.-Resumen-y-conclusiones)"
   ]
  },
  {
   "cell_type": "markdown",
   "id": "24726c25",
   "metadata": {},
   "source": [
    "## 1. Preparación del entorno y carga de datos"
   ]
  },
  {
   "cell_type": "code",
   "execution_count": 2,
   "id": "ed413605",
   "metadata": {},
   "outputs": [],
   "source": [
    "import pandas as pd\n",
    "import seaborn as sns\n",
    "import matplotlib.pyplot as plt\n",
    "from tp_final_fairness_ML.utils.preprocessing import convertir_object_a_categ\n",
    "import os \n",
    "\n",
    "# Carga de datos\n",
    "ruta_archivo = os.path.join('..', 'data', 'processed', 'german_credit_data.csv')\n",
    "g_credit_data = pd.read_csv(ruta_archivo)\n",
    "\n",
    "# Conversión de columnas tipo objeto a categóricas para mejor manejo\n",
    "g_credit_data = convertir_object_a_categ(g_credit_data)"
   ]
  },
  {
   "cell_type": "code",
   "execution_count": 3,
   "id": "7972c7ad",
   "metadata": {},
   "outputs": [
    {
     "name": "stdout",
     "output_type": "stream",
     "text": [
      "Dimensiones del dataset: 1000 filas × 23 columnas\n",
      "\n",
      "Primeras 5 filas:\n"
     ]
    },
    {
     "data": {
      "text/html": [
       "<div>\n",
       "<style scoped>\n",
       "    .dataframe tbody tr th:only-of-type {\n",
       "        vertical-align: middle;\n",
       "    }\n",
       "\n",
       "    .dataframe tbody tr th {\n",
       "        vertical-align: top;\n",
       "    }\n",
       "\n",
       "    .dataframe thead th {\n",
       "        text-align: right;\n",
       "    }\n",
       "</style>\n",
       "<table border=\"1\" class=\"dataframe\">\n",
       "  <thead>\n",
       "    <tr style=\"text-align: right;\">\n",
       "      <th></th>\n",
       "      <th>checking_account</th>\n",
       "      <th>duration</th>\n",
       "      <th>credit_history</th>\n",
       "      <th>purpose</th>\n",
       "      <th>credit_amount</th>\n",
       "      <th>savings_account</th>\n",
       "      <th>employment_since</th>\n",
       "      <th>installment_rate</th>\n",
       "      <th>personal_status_sex</th>\n",
       "      <th>other_debtors</th>\n",
       "      <th>...</th>\n",
       "      <th>other_installment_plans</th>\n",
       "      <th>housing</th>\n",
       "      <th>number_credits</th>\n",
       "      <th>job</th>\n",
       "      <th>people_liable</th>\n",
       "      <th>telephone</th>\n",
       "      <th>foreign_worker</th>\n",
       "      <th>target</th>\n",
       "      <th>genre</th>\n",
       "      <th>target_label</th>\n",
       "    </tr>\n",
       "  </thead>\n",
       "  <tbody>\n",
       "    <tr>\n",
       "      <th>0</th>\n",
       "      <td>&lt; 0 DM</td>\n",
       "      <td>6</td>\n",
       "      <td>critical account / other bank</td>\n",
       "      <td>radio/TV</td>\n",
       "      <td>1169</td>\n",
       "      <td>unknown / no account</td>\n",
       "      <td>&gt;= 7 years</td>\n",
       "      <td>4</td>\n",
       "      <td>male, single</td>\n",
       "      <td>none</td>\n",
       "      <td>...</td>\n",
       "      <td>none</td>\n",
       "      <td>own</td>\n",
       "      <td>2</td>\n",
       "      <td>skilled / official</td>\n",
       "      <td>1</td>\n",
       "      <td>yes, registered</td>\n",
       "      <td>yes</td>\n",
       "      <td>1</td>\n",
       "      <td>male</td>\n",
       "      <td>low_risk</td>\n",
       "    </tr>\n",
       "    <tr>\n",
       "      <th>1</th>\n",
       "      <td>0 &lt;= ... &lt; 200 DM</td>\n",
       "      <td>48</td>\n",
       "      <td>paid duly till now</td>\n",
       "      <td>radio/TV</td>\n",
       "      <td>5951</td>\n",
       "      <td>&lt; 100 DM</td>\n",
       "      <td>1 &lt;= ... &lt; 4 years</td>\n",
       "      <td>2</td>\n",
       "      <td>female, div/sep/married</td>\n",
       "      <td>none</td>\n",
       "      <td>...</td>\n",
       "      <td>none</td>\n",
       "      <td>own</td>\n",
       "      <td>1</td>\n",
       "      <td>skilled / official</td>\n",
       "      <td>1</td>\n",
       "      <td>none</td>\n",
       "      <td>yes</td>\n",
       "      <td>2</td>\n",
       "      <td>female</td>\n",
       "      <td>high_risk</td>\n",
       "    </tr>\n",
       "    <tr>\n",
       "      <th>2</th>\n",
       "      <td>no account</td>\n",
       "      <td>12</td>\n",
       "      <td>critical account / other bank</td>\n",
       "      <td>education</td>\n",
       "      <td>2096</td>\n",
       "      <td>&lt; 100 DM</td>\n",
       "      <td>4 &lt;= ... &lt; 7 years</td>\n",
       "      <td>2</td>\n",
       "      <td>male, single</td>\n",
       "      <td>none</td>\n",
       "      <td>...</td>\n",
       "      <td>none</td>\n",
       "      <td>own</td>\n",
       "      <td>1</td>\n",
       "      <td>unskilled - resident</td>\n",
       "      <td>2</td>\n",
       "      <td>none</td>\n",
       "      <td>yes</td>\n",
       "      <td>1</td>\n",
       "      <td>male</td>\n",
       "      <td>low_risk</td>\n",
       "    </tr>\n",
       "    <tr>\n",
       "      <th>3</th>\n",
       "      <td>&lt; 0 DM</td>\n",
       "      <td>42</td>\n",
       "      <td>paid duly till now</td>\n",
       "      <td>furniture/equipment</td>\n",
       "      <td>7882</td>\n",
       "      <td>&lt; 100 DM</td>\n",
       "      <td>4 &lt;= ... &lt; 7 years</td>\n",
       "      <td>2</td>\n",
       "      <td>male, single</td>\n",
       "      <td>guarantor</td>\n",
       "      <td>...</td>\n",
       "      <td>none</td>\n",
       "      <td>for free</td>\n",
       "      <td>1</td>\n",
       "      <td>skilled / official</td>\n",
       "      <td>2</td>\n",
       "      <td>none</td>\n",
       "      <td>yes</td>\n",
       "      <td>1</td>\n",
       "      <td>male</td>\n",
       "      <td>low_risk</td>\n",
       "    </tr>\n",
       "    <tr>\n",
       "      <th>4</th>\n",
       "      <td>&lt; 0 DM</td>\n",
       "      <td>24</td>\n",
       "      <td>delay in past</td>\n",
       "      <td>car (new)</td>\n",
       "      <td>4870</td>\n",
       "      <td>&lt; 100 DM</td>\n",
       "      <td>1 &lt;= ... &lt; 4 years</td>\n",
       "      <td>3</td>\n",
       "      <td>male, single</td>\n",
       "      <td>none</td>\n",
       "      <td>...</td>\n",
       "      <td>none</td>\n",
       "      <td>for free</td>\n",
       "      <td>2</td>\n",
       "      <td>skilled / official</td>\n",
       "      <td>2</td>\n",
       "      <td>none</td>\n",
       "      <td>yes</td>\n",
       "      <td>2</td>\n",
       "      <td>male</td>\n",
       "      <td>high_risk</td>\n",
       "    </tr>\n",
       "  </tbody>\n",
       "</table>\n",
       "<p>5 rows × 23 columns</p>\n",
       "</div>"
      ],
      "text/plain": [
       "    checking_account  duration                 credit_history  \\\n",
       "0             < 0 DM         6  critical account / other bank   \n",
       "1  0 <= ... < 200 DM        48             paid duly till now   \n",
       "2         no account        12  critical account / other bank   \n",
       "3             < 0 DM        42             paid duly till now   \n",
       "4             < 0 DM        24                  delay in past   \n",
       "\n",
       "               purpose  credit_amount       savings_account  \\\n",
       "0             radio/TV           1169  unknown / no account   \n",
       "1             radio/TV           5951              < 100 DM   \n",
       "2            education           2096              < 100 DM   \n",
       "3  furniture/equipment           7882              < 100 DM   \n",
       "4            car (new)           4870              < 100 DM   \n",
       "\n",
       "     employment_since  installment_rate      personal_status_sex  \\\n",
       "0          >= 7 years                 4             male, single   \n",
       "1  1 <= ... < 4 years                 2  female, div/sep/married   \n",
       "2  4 <= ... < 7 years                 2             male, single   \n",
       "3  4 <= ... < 7 years                 2             male, single   \n",
       "4  1 <= ... < 4 years                 3             male, single   \n",
       "\n",
       "  other_debtors  ...  other_installment_plans   housing  number_credits  \\\n",
       "0          none  ...                     none       own               2   \n",
       "1          none  ...                     none       own               1   \n",
       "2          none  ...                     none       own               1   \n",
       "3     guarantor  ...                     none  for free               1   \n",
       "4          none  ...                     none  for free               2   \n",
       "\n",
       "                    job people_liable        telephone foreign_worker  target  \\\n",
       "0    skilled / official             1  yes, registered            yes       1   \n",
       "1    skilled / official             1             none            yes       2   \n",
       "2  unskilled - resident             2             none            yes       1   \n",
       "3    skilled / official             2             none            yes       1   \n",
       "4    skilled / official             2             none            yes       2   \n",
       "\n",
       "    genre target_label  \n",
       "0    male     low_risk  \n",
       "1  female    high_risk  \n",
       "2    male     low_risk  \n",
       "3    male     low_risk  \n",
       "4    male    high_risk  \n",
       "\n",
       "[5 rows x 23 columns]"
      ]
     },
     "execution_count": 3,
     "metadata": {},
     "output_type": "execute_result"
    }
   ],
   "source": [
    "# Vista general de los datos\n",
    "print(f\"Dimensiones del dataset: {g_credit_data.shape[0]} filas × {g_credit_data.shape[1]} columnas\\n\")\n",
    "print(\"Primeras 5 filas:\")\n",
    "g_credit_data.head()"
   ]
  },
  {
   "cell_type": "code",
   "execution_count": 4,
   "id": "fd0ad382",
   "metadata": {},
   "outputs": [
    {
     "name": "stdout",
     "output_type": "stream",
     "text": [
      "<class 'pandas.core.frame.DataFrame'>\n",
      "RangeIndex: 1000 entries, 0 to 999\n",
      "Data columns (total 23 columns):\n",
      " #   Column                   Non-Null Count  Dtype   \n",
      "---  ------                   --------------  -----   \n",
      " 0   checking_account         1000 non-null   category\n",
      " 1   duration                 1000 non-null   int64   \n",
      " 2   credit_history           1000 non-null   category\n",
      " 3   purpose                  1000 non-null   category\n",
      " 4   credit_amount            1000 non-null   int64   \n",
      " 5   savings_account          1000 non-null   category\n",
      " 6   employment_since         1000 non-null   category\n",
      " 7   installment_rate         1000 non-null   int64   \n",
      " 8   personal_status_sex      1000 non-null   category\n",
      " 9   other_debtors            1000 non-null   category\n",
      " 10  residence_since          1000 non-null   int64   \n",
      " 11  property                 1000 non-null   category\n",
      " 12  age                      1000 non-null   int64   \n",
      " 13  other_installment_plans  1000 non-null   category\n",
      " 14  housing                  1000 non-null   category\n",
      " 15  number_credits           1000 non-null   int64   \n",
      " 16  job                      1000 non-null   category\n",
      " 17  people_liable            1000 non-null   int64   \n",
      " 18  telephone                1000 non-null   category\n",
      " 19  foreign_worker           1000 non-null   category\n",
      " 20  target                   1000 non-null   int64   \n",
      " 21  genre                    1000 non-null   category\n",
      " 22  target_label             1000 non-null   category\n",
      "dtypes: category(15), int64(8)\n",
      "memory usage: 79.9 KB\n"
     ]
    }
   ],
   "source": [
    "# Información general sobre el dataset\n",
    "g_credit_data.info()"
   ]
  },
  {
   "cell_type": "markdown",
   "id": "f64172a1",
   "metadata": {},
   "source": [
    "## 2. Análisis de variables numéricas"
   ]
  },
  {
   "cell_type": "markdown",
   "id": "7e468ae2",
   "metadata": {},
   "source": [
    "Comenzamos analizando las variables numéricas del conjunto de datos para entender su distribución, tendencias centrales y relación con la variable objetivo (riesgo crediticio)."
   ]
  },
  {
   "cell_type": "markdown",
   "id": "af9dff9f",
   "metadata": {},
   "source": [
    "### 2.1 Distribuciones y estadísticas\n",
    "\n",
    "Utilizamos la función `.describe()` para obtener estadísticas descriptivas de las variables numéricas:"
   ]
  },
  {
   "cell_type": "code",
   "execution_count": 5,
   "id": "5b661ab2",
   "metadata": {},
   "outputs": [
    {
     "data": {
      "text/html": [
       "<div>\n",
       "<style scoped>\n",
       "    .dataframe tbody tr th:only-of-type {\n",
       "        vertical-align: middle;\n",
       "    }\n",
       "\n",
       "    .dataframe tbody tr th {\n",
       "        vertical-align: top;\n",
       "    }\n",
       "\n",
       "    .dataframe thead th {\n",
       "        text-align: right;\n",
       "    }\n",
       "</style>\n",
       "<table border=\"1\" class=\"dataframe\">\n",
       "  <thead>\n",
       "    <tr style=\"text-align: right;\">\n",
       "      <th></th>\n",
       "      <th>duration</th>\n",
       "      <th>credit_amount</th>\n",
       "      <th>installment_rate</th>\n",
       "      <th>residence_since</th>\n",
       "      <th>age</th>\n",
       "      <th>number_credits</th>\n",
       "      <th>people_liable</th>\n",
       "      <th>target</th>\n",
       "    </tr>\n",
       "  </thead>\n",
       "  <tbody>\n",
       "    <tr>\n",
       "      <th>count</th>\n",
       "      <td>1000.000000</td>\n",
       "      <td>1000.000000</td>\n",
       "      <td>1000.000000</td>\n",
       "      <td>1000.000000</td>\n",
       "      <td>1000.000000</td>\n",
       "      <td>1000.000000</td>\n",
       "      <td>1000.000000</td>\n",
       "      <td>1000.000000</td>\n",
       "    </tr>\n",
       "    <tr>\n",
       "      <th>mean</th>\n",
       "      <td>20.903000</td>\n",
       "      <td>3271.258000</td>\n",
       "      <td>2.973000</td>\n",
       "      <td>2.845000</td>\n",
       "      <td>35.546000</td>\n",
       "      <td>1.407000</td>\n",
       "      <td>1.155000</td>\n",
       "      <td>1.300000</td>\n",
       "    </tr>\n",
       "    <tr>\n",
       "      <th>std</th>\n",
       "      <td>12.058814</td>\n",
       "      <td>2822.736876</td>\n",
       "      <td>1.118715</td>\n",
       "      <td>1.103718</td>\n",
       "      <td>11.375469</td>\n",
       "      <td>0.577654</td>\n",
       "      <td>0.362086</td>\n",
       "      <td>0.458487</td>\n",
       "    </tr>\n",
       "    <tr>\n",
       "      <th>min</th>\n",
       "      <td>4.000000</td>\n",
       "      <td>250.000000</td>\n",
       "      <td>1.000000</td>\n",
       "      <td>1.000000</td>\n",
       "      <td>19.000000</td>\n",
       "      <td>1.000000</td>\n",
       "      <td>1.000000</td>\n",
       "      <td>1.000000</td>\n",
       "    </tr>\n",
       "    <tr>\n",
       "      <th>25%</th>\n",
       "      <td>12.000000</td>\n",
       "      <td>1365.500000</td>\n",
       "      <td>2.000000</td>\n",
       "      <td>2.000000</td>\n",
       "      <td>27.000000</td>\n",
       "      <td>1.000000</td>\n",
       "      <td>1.000000</td>\n",
       "      <td>1.000000</td>\n",
       "    </tr>\n",
       "    <tr>\n",
       "      <th>50%</th>\n",
       "      <td>18.000000</td>\n",
       "      <td>2319.500000</td>\n",
       "      <td>3.000000</td>\n",
       "      <td>3.000000</td>\n",
       "      <td>33.000000</td>\n",
       "      <td>1.000000</td>\n",
       "      <td>1.000000</td>\n",
       "      <td>1.000000</td>\n",
       "    </tr>\n",
       "    <tr>\n",
       "      <th>75%</th>\n",
       "      <td>24.000000</td>\n",
       "      <td>3972.250000</td>\n",
       "      <td>4.000000</td>\n",
       "      <td>4.000000</td>\n",
       "      <td>42.000000</td>\n",
       "      <td>2.000000</td>\n",
       "      <td>1.000000</td>\n",
       "      <td>2.000000</td>\n",
       "    </tr>\n",
       "    <tr>\n",
       "      <th>max</th>\n",
       "      <td>72.000000</td>\n",
       "      <td>18424.000000</td>\n",
       "      <td>4.000000</td>\n",
       "      <td>4.000000</td>\n",
       "      <td>75.000000</td>\n",
       "      <td>4.000000</td>\n",
       "      <td>2.000000</td>\n",
       "      <td>2.000000</td>\n",
       "    </tr>\n",
       "  </tbody>\n",
       "</table>\n",
       "</div>"
      ],
      "text/plain": [
       "          duration  credit_amount  installment_rate  residence_since  \\\n",
       "count  1000.000000    1000.000000       1000.000000      1000.000000   \n",
       "mean     20.903000    3271.258000          2.973000         2.845000   \n",
       "std      12.058814    2822.736876          1.118715         1.103718   \n",
       "min       4.000000     250.000000          1.000000         1.000000   \n",
       "25%      12.000000    1365.500000          2.000000         2.000000   \n",
       "50%      18.000000    2319.500000          3.000000         3.000000   \n",
       "75%      24.000000    3972.250000          4.000000         4.000000   \n",
       "max      72.000000   18424.000000          4.000000         4.000000   \n",
       "\n",
       "               age  number_credits  people_liable       target  \n",
       "count  1000.000000     1000.000000    1000.000000  1000.000000  \n",
       "mean     35.546000        1.407000       1.155000     1.300000  \n",
       "std      11.375469        0.577654       0.362086     0.458487  \n",
       "min      19.000000        1.000000       1.000000     1.000000  \n",
       "25%      27.000000        1.000000       1.000000     1.000000  \n",
       "50%      33.000000        1.000000       1.000000     1.000000  \n",
       "75%      42.000000        2.000000       1.000000     2.000000  \n",
       "max      75.000000        4.000000       2.000000     2.000000  "
      ]
     },
     "execution_count": 5,
     "metadata": {},
     "output_type": "execute_result"
    }
   ],
   "source": [
    "g_credit_data.select_dtypes(include=['int64', 'float64']).describe()"
   ]
  },
  {
   "cell_type": "markdown",
   "id": "9dd65485",
   "metadata": {},
   "source": [
    "Y visualizamos las distribuciones de las variables numéricas exceptuando a la variable objetivo:"
   ]
  },
  {
   "cell_type": "code",
   "execution_count": 6,
   "id": "0a5f0169",
   "metadata": {},
   "outputs": [
    {
     "data": {
      "image/png": "[encoded data removed]",
      "text/plain": [
       "<Figure size 1200x1000 with 9 Axes>"
      ]
     },
     "metadata": {},
     "output_type": "display_data"
    }
   ],
   "source": [
    "from tp_final_fairness_ML.utils.plotting import visualizar_distribuciones\n",
    "\n",
    "variables_numericas = ['duration', 'credit_amount', 'age', 'installment_rate', 'number_credits', 'people_liable', 'residence_since']\n",
    "visualizar_distribuciones(g_credit_data, variables_numericas, filas = 3, columnas= 3)"
   ]
  },
  {
   "cell_type": "markdown",
   "id": "f73c59bb",
   "metadata": {},
   "source": [
    "**Observaciones sobre las variables numéricas:**\n",
    "\n",
    "- **duration**: La duración media del crédito es de aproximadamente 21 meses, con un rango de 4 a 72 meses.\n",
    "- **credit_amount**: El monto promedio de crédito es de 3,271 DM, con una variabilidad considerable (desviación estándar de 2,823 DM).\n",
    "- **age**: La edad promedio de los solicitantes es de 35.5 años, con un mínimo de 19 y un máximo de 75 años.\n",
    "- **installment_rate**: La tasa de pago promedio es de aproximadamente 3 (en porcentaje del ingreso disponible).\n",
    "- **target**: La variable objetivo tiene un valor medio de 1.3, lo que indica que aproximadamente el 30% de los préstamos están clasificados como de alto riesgo (valor 2)."
   ]
  },
  {
   "cell_type": "markdown",
   "id": "d1bfd886",
   "metadata": {},
   "source": [
    "### 2.2 Relación con la variable objetivo\n",
    "\n",
    "Exploramos cómo las variables numéricas se relacionan con la clasificación de riesgo crediticio."
   ]
  },
  {
   "cell_type": "code",
   "execution_count": 7,
   "id": "220efc34",
   "metadata": {},
   "outputs": [
    {
     "data": {
      "image/png": "[encoded data removed]",
      "text/plain": [
       "<Figure size 1500x1200 with 9 Axes>"
      ]
     },
     "metadata": {},
     "output_type": "display_data"
    }
   ],
   "source": [
    "from tp_final_fairness_ML.utils.plotting import graficar_columnas\n",
    "\n",
    "graficar_columnas(g_credit_data, variables_numericas, 'target_label', 'boxplot')"
   ]
  },
  {
   "cell_type": "markdown",
   "id": "cded6751",
   "metadata": {},
   "source": [
    "**Análisis de la relación entre variables numéricas y riesgo crediticio:**\n",
    "\n",
    "- **duration**: Los préstamos clasificados como de alto riesgo tienden a tener una duración mayor. Esto podría indicar que préstamos a más largo plazo se asocian con mayor probabilidad de incumplimiento.\n",
    "- **credit_amount**: Los préstamos de alto riesgo suelen tener montos ligeramente más altos, aunque la diferencia no es tan marcada como en otras variables.\n",
    "- **age**: Los solicitantes más jóvenes parecen ser clasificados como de alto riesgo con mayor frecuencia.\n",
    "- **installment_rate**: Las tasas de pago más altas se asocian moderadamente con clasificaciones de alto riesgo.\n",
    "- **residence_since**: No se observa una diferencia significativa entre las categorías de riesgo en función del tiempo de residencia."
   ]
  },
  {
   "cell_type": "markdown",
   "id": "826b82ab",
   "metadata": {},
   "source": [
    "## 3. Análisis de variables categóricas"
   ]
  },
  {
   "cell_type": "markdown",
   "id": "5a27d1ed",
   "metadata": {},
   "source": [
    "Analizamos ahora las variables categóricas para entender su distribución y relación con la variable objetivo."
   ]
  },
  {
   "cell_type": "markdown",
   "id": "1e9ec26d",
   "metadata": {},
   "source": [
    "### 3.1 Distribuciones y estadísticas"
   ]
  },
  {
   "cell_type": "code",
   "execution_count": 8,
   "id": "f5c1b2e0",
   "metadata": {
    "lines_to_next_cell": 1
   },
   "outputs": [
    {
     "data": {
      "text/html": [
       "<div>\n",
       "<style scoped>\n",
       "    .dataframe tbody tr th:only-of-type {\n",
       "        vertical-align: middle;\n",
       "    }\n",
       "\n",
       "    .dataframe tbody tr th {\n",
       "        vertical-align: top;\n",
       "    }\n",
       "\n",
       "    .dataframe thead th {\n",
       "        text-align: right;\n",
       "    }\n",
       "</style>\n",
       "<table border=\"1\" class=\"dataframe\">\n",
       "  <thead>\n",
       "    <tr style=\"text-align: right;\">\n",
       "      <th></th>\n",
       "      <th>checking_account</th>\n",
       "      <th>credit_history</th>\n",
       "      <th>purpose</th>\n",
       "      <th>savings_account</th>\n",
       "      <th>employment_since</th>\n",
       "      <th>personal_status_sex</th>\n",
       "      <th>other_debtors</th>\n",
       "      <th>property</th>\n",
       "      <th>other_installment_plans</th>\n",
       "      <th>housing</th>\n",
       "      <th>job</th>\n",
       "      <th>telephone</th>\n",
       "      <th>foreign_worker</th>\n",
       "      <th>genre</th>\n",
       "      <th>target_label</th>\n",
       "    </tr>\n",
       "  </thead>\n",
       "  <tbody>\n",
       "    <tr>\n",
       "      <th>count</th>\n",
       "      <td>1000</td>\n",
       "      <td>1000</td>\n",
       "      <td>1000</td>\n",
       "      <td>1000</td>\n",
       "      <td>1000</td>\n",
       "      <td>1000</td>\n",
       "      <td>1000</td>\n",
       "      <td>1000</td>\n",
       "      <td>1000</td>\n",
       "      <td>1000</td>\n",
       "      <td>1000</td>\n",
       "      <td>1000</td>\n",
       "      <td>1000</td>\n",
       "      <td>1000</td>\n",
       "      <td>1000</td>\n",
       "    </tr>\n",
       "    <tr>\n",
       "      <th>unique</th>\n",
       "      <td>4</td>\n",
       "      <td>5</td>\n",
       "      <td>10</td>\n",
       "      <td>5</td>\n",
       "      <td>5</td>\n",
       "      <td>4</td>\n",
       "      <td>3</td>\n",
       "      <td>4</td>\n",
       "      <td>3</td>\n",
       "      <td>3</td>\n",
       "      <td>4</td>\n",
       "      <td>2</td>\n",
       "      <td>2</td>\n",
       "      <td>2</td>\n",
       "      <td>2</td>\n",
       "    </tr>\n",
       "    <tr>\n",
       "      <th>top</th>\n",
       "      <td>no account</td>\n",
       "      <td>paid duly till now</td>\n",
       "      <td>radio/TV</td>\n",
       "      <td>&lt; 100 DM</td>\n",
       "      <td>1 &lt;= ... &lt; 4 years</td>\n",
       "      <td>male, single</td>\n",
       "      <td>none</td>\n",
       "      <td>car / other</td>\n",
       "      <td>none</td>\n",
       "      <td>own</td>\n",
       "      <td>skilled / official</td>\n",
       "      <td>none</td>\n",
       "      <td>yes</td>\n",
       "      <td>male</td>\n",
       "      <td>low_risk</td>\n",
       "    </tr>\n",
       "    <tr>\n",
       "      <th>freq</th>\n",
       "      <td>394</td>\n",
       "      <td>530</td>\n",
       "      <td>280</td>\n",
       "      <td>603</td>\n",
       "      <td>339</td>\n",
       "      <td>548</td>\n",
       "      <td>907</td>\n",
       "      <td>332</td>\n",
       "      <td>814</td>\n",
       "      <td>713</td>\n",
       "      <td>630</td>\n",
       "      <td>596</td>\n",
       "      <td>963</td>\n",
       "      <td>690</td>\n",
       "      <td>700</td>\n",
       "    </tr>\n",
       "  </tbody>\n",
       "</table>\n",
       "</div>"
      ],
      "text/plain": [
       "       checking_account      credit_history   purpose savings_account  \\\n",
       "count              1000                1000      1000            1000   \n",
       "unique                4                   5        10               5   \n",
       "top          no account  paid duly till now  radio/TV        < 100 DM   \n",
       "freq                394                 530       280             603   \n",
       "\n",
       "          employment_since personal_status_sex other_debtors     property  \\\n",
       "count                 1000                1000          1000         1000   \n",
       "unique                   5                   4             3            4   \n",
       "top     1 <= ... < 4 years        male, single          none  car / other   \n",
       "freq                   339                 548           907          332   \n",
       "\n",
       "       other_installment_plans housing                 job telephone  \\\n",
       "count                     1000    1000                1000      1000   \n",
       "unique                       3       3                   4         2   \n",
       "top                       none     own  skilled / official      none   \n",
       "freq                       814     713                 630       596   \n",
       "\n",
       "       foreign_worker genre target_label  \n",
       "count            1000  1000         1000  \n",
       "unique              2     2            2  \n",
       "top               yes  male     low_risk  \n",
       "freq              963   690          700  "
      ]
     },
     "execution_count": 8,
     "metadata": {},
     "output_type": "execute_result"
    }
   ],
   "source": [
    "g_credit_data.describe(include='category')"
   ]
  },
  {
   "cell_type": "markdown",
   "id": "d5671377",
   "metadata": {},
   "source": [
    "**Observaciones sobre las variables categóricas:**\n",
    "\n",
    "* **credit_history**: Al momento de solicitar un préstamo, un solicitante suele tener todos sus préstamos pagados debidamente.\n",
    "* **personal_status_sex**: Los solicitantes son mayormente hombres solteros.\n",
    "* **housing**: Los solicitantes en gran mayoría son dueños de la casa que habitan.\n",
    "* **job**: Los solicitantes en gran mayoría tienen trabajos estables.\n",
    "* **foreign_worker**: La mayoría son trabajadores extranjeros."
   ]
  },
  {
   "cell_type": "markdown",
   "id": "0a1fe0a4",
   "metadata": {},
   "source": [
    "### 3.2 Relación con la variable objetivo"
   ]
  },
  {
   "cell_type": "code",
   "execution_count": 9,
   "id": "ef3832b5",
   "metadata": {},
   "outputs": [
    {
     "data": {
      "image/png": "[encoded data removed]",
      "text/plain": [
       "<Figure size 1500x1200 with 9 Axes>"
      ]
     },
     "metadata": {},
     "output_type": "display_data"
    }
   ],
   "source": [
    "cat_cols = ['checking_account', 'credit_history', 'purpose', 'savings_account',\n",
    "            'employment_since', 'housing', 'job']\n",
    "\n",
    "graficar_columnas(g_credit_data, cat_cols, 'target_label', 'countplot')"
   ]
  },
  {
   "cell_type": "markdown",
   "id": "49dc57f0",
   "metadata": {},
   "source": [
    "**Análisis de la relación entre variables categóricas y riesgo crediticio:**\n",
    "\n",
    "* **checking_account**: Los solicitantes de bajo riesgo suelen no tener cuenta o tener saldos altos. Los de alto riesgo se concentran con saldos bajos.\n",
    "\n",
    "* **savings_account**: En solicitantes con ahorros más bajos (<100 DM) suelen aparecer más de alto riesgo.\n",
    "\n",
    "* **employment_since**: Mayor antigüedad laboral (≥ 4 años) se asocia a buen historial. Los que llevan menos de 1 año o están desempleados tienden a ser de alto riesgo.\n",
    "\n",
    "* **housing**: La mayoría de los solicitantes de bajo riesgo son propietarios. Alquilar o vivir gratis es más común entre aquellos solicitantes clasificados como de alto riesgo si hablamos en términos de proporciones.\n",
    "\n",
    "Con todos estos puntos en mente ya tenemos un análisis realizado sobre las variables presentes en nuestro conjunto de datos, logrando identificar aquellas más relevantes para la variable objetivo y aquellas que no tanto.\n",
    "\n",
    "Ahora como último paso en este análisis exploratorio analizaremos más a fondo la variable que registra información sobre el género del solicitante."
   ]
  },
  {
   "cell_type": "markdown",
   "id": "230d1a63",
   "metadata": {},
   "source": [
    "## 4. Análisis de equidad por género"
   ]
  },
  {
   "cell_type": "markdown",
   "id": "53060d6b",
   "metadata": {},
   "source": [
    "En esta sección, examinamos específicamente la distribución de género en los datos y su relación con la clasificación de riesgo crediticio, lo cual es fundamental para evaluar la equidad del modelo."
   ]
  },
  {
   "cell_type": "markdown",
   "id": "b268e95a",
   "metadata": {},
   "source": [
    "### 4.1 Distribución por género"
   ]
  },
  {
   "cell_type": "code",
   "execution_count": 10,
   "id": "19303400",
   "metadata": {},
   "outputs": [
    {
     "data": {
      "image/png": "[encoded data removed]",
      "text/plain": [
       "<Figure size 800x600 with 1 Axes>"
      ]
     },
     "metadata": {},
     "output_type": "display_data"
    }
   ],
   "source": [
    "plt.figure(figsize=(8, 6))\n",
    "sns.countplot(data=g_credit_data, x='genre', hue='genre')\n",
    "plt.title(\"Distribución de género en la muestra\")\n",
    "plt.xlabel(\"Género\")\n",
    "plt.ylabel(\"Cantidad\")\n",
    "plt.show()"
   ]
  },
  {
   "cell_type": "markdown",
   "id": "9d11fcd4",
   "metadata": {},
   "source": [
    "**Observaciones sobre la distribución de género:**\n",
    "\n",
    "* Tenemos **una clara mayoría** del género masculino siendo en total 700 solicitantes de este género ante 300 del género femenino."
   ]
  },
  {
   "cell_type": "markdown",
   "id": "abff4711",
   "metadata": {},
   "source": [
    "### 4.2 Tasas de aprobación por género"
   ]
  },
  {
   "cell_type": "code",
   "execution_count": 11,
   "id": "c6898476",
   "metadata": {},
   "outputs": [
    {
     "data": {
      "image/png": "[encoded data removed]",
      "text/plain": [
       "<Figure size 800x600 with 1 Axes>"
      ]
     },
     "metadata": {},
     "output_type": "display_data"
    }
   ],
   "source": [
    "plt.figure(figsize=(8, 6))\n",
    "sns.countplot(data=g_credit_data, x='genre', hue='target_label')\n",
    "plt.title(\"Resultado crediticio por género\")\n",
    "plt.xlabel(\"Género\")\n",
    "plt.ylabel(\"Cantidad\")\n",
    "plt.legend(title=\"Clasificación\")\n",
    "plt.show()"
   ]
  },
  {
   "cell_type": "markdown",
   "id": "89a0bfac",
   "metadata": {},
   "source": [
    "**Análisis de la relación género-riesgo:**\n",
    "\n",
    "Podemos ver que en el género femenino la diferencia de proporciones entre el bajo o alto riesgo crediticio no está tan marcada como en el género masculino, donde la mayoría son clasificados como de bajo riesgo. Esto sugiere que en términos de proporciones, a las solicitantes femeninas se les suele clasificar como de alto riesgo con mayor frecuencia.\n",
    "\n",
    "Veamos esto de las proporciones con un gráfico más específico:"
   ]
  },
  {
   "cell_type": "code",
   "execution_count": 12,
   "id": "feca3980",
   "metadata": {},
   "outputs": [
    {
     "data": {
      "image/png": "[encoded data removed]",
      "text/plain": [
       "<Figure size 800x600 with 1 Axes>"
      ]
     },
     "metadata": {},
     "output_type": "display_data"
    }
   ],
   "source": [
    "# Calculamos la tasa de alto riesgo por género\n",
    "tasa_genero = g_credit_data.groupby('genre', observed= True)['target'].apply(lambda x: (x == 2).mean()).reset_index()\n",
    "tasa_genero.columns = ['genre', 'tasa']\n",
    "\n",
    "plt.figure(figsize=(8, 6))\n",
    "sns.barplot(data=tasa_genero, x='genre', y='tasa', hue='genre')\n",
    "plt.title(\"Tasa de clientes de alto riesgo por género\")\n",
    "plt.ylabel(\"Proporción\")\n",
    "plt.ylim(0, 1)\n",
    "plt.show()"
   ]
  },
  {
   "cell_type": "code",
   "execution_count": 13,
   "id": "5a48fd93",
   "metadata": {},
   "outputs": [
    {
     "data": {
      "text/html": [
       "<div>\n",
       "<style scoped>\n",
       "    .dataframe tbody tr th:only-of-type {\n",
       "        vertical-align: middle;\n",
       "    }\n",
       "\n",
       "    .dataframe tbody tr th {\n",
       "        vertical-align: top;\n",
       "    }\n",
       "\n",
       "    .dataframe thead th {\n",
       "        text-align: right;\n",
       "    }\n",
       "</style>\n",
       "<table border=\"1\" class=\"dataframe\">\n",
       "  <thead>\n",
       "    <tr style=\"text-align: right;\">\n",
       "      <th></th>\n",
       "      <th>genre</th>\n",
       "      <th>tasa</th>\n",
       "    </tr>\n",
       "  </thead>\n",
       "  <tbody>\n",
       "    <tr>\n",
       "      <th>0</th>\n",
       "      <td>female</td>\n",
       "      <td>0.351613</td>\n",
       "    </tr>\n",
       "    <tr>\n",
       "      <th>1</th>\n",
       "      <td>male</td>\n",
       "      <td>0.276812</td>\n",
       "    </tr>\n",
       "  </tbody>\n",
       "</table>\n",
       "</div>"
      ],
      "text/plain": [
       "    genre      tasa\n",
       "0  female  0.351613\n",
       "1    male  0.276812"
      ]
     },
     "execution_count": 13,
     "metadata": {},
     "output_type": "execute_result"
    }
   ],
   "source": [
    "tasa_genero"
   ]
  },
  {
   "cell_type": "markdown",
   "id": "c42a460c",
   "metadata": {},
   "source": [
    "**Hallazgos importantes sobre equidad de género:**\n",
    "\n",
    "A partir del gráfico y tabla anteriores, podemos ver que los solicitantes clasificados como de alto riesgo son en mayor proporción femeninos (como ya habíamos notado en los gráficos anteriores). Más precisamente, la diferencia es de aproximadamente 8 puntos porcentuales entre géneros:\n",
    "\n",
    "- **Mujeres**: 35.2% clasificadas como alto riesgo\n",
    "- **Hombres**: 27.7% clasificados como alto riesgo\n",
    "\n",
    "Esta disparidad es significativa y plantea interrogantes importantes sobre equidad:\n",
    "- ¿Existe un sesgo preestablecido entre las personas que generaron la clasificación originalmente?\n",
    "- ¿Podremos evitar este posible sesgo en nuestro modelo predictivo?"
   ]
  },
  {
   "cell_type": "markdown",
   "id": "e0a16f8b",
   "metadata": {},
   "source": [
    "## 5. Resumen y conclusiones"
   ]
  },
  {
   "cell_type": "markdown",
   "id": "6fa50f83",
   "metadata": {},
   "source": [
    "Del análisis exploratorio realizado, podemos extraer las siguientes conclusiones clave:\n",
    "\n",
    "1. **Variables numéricas relevantes:**\n",
    "   - La duración del crédito muestra una clara relación con el riesgo: préstamos a más largo plazo tienden a ser clasificados como de mayor riesgo.\n",
    "   - Solicitantes más jóvenes tienen mayor probabilidad de ser clasificados como de alto riesgo.\n",
    "   - Montos de crédito más altos también se asocian moderadamente con clasificaciones de mayor riesgo.\n",
    "\n",
    "2. **Variables categóricas importantes:**\n",
    "   - El estado de la cuenta corriente es un fuerte predictor: saldos bajos se asocian con alto riesgo.\n",
    "   - Ahorros bajos (<100 DM) se asocian con clasificaciones de alto riesgo.\n",
    "   - Menor antigüedad laboral (menos de 1 año) está relacionada con clasificaciones de alto riesgo.\n",
    "   - Propietarios de vivienda tienen menor probabilidad de ser clasificados como de alto riesgo.\n",
    "\n",
    "3. **Consideraciones de equidad:**\n",
    "   - Existe una disparidad notable en las tasas de clasificación de alto riesgo entre géneros (35.2% para mujeres vs 27.7% para hombres).\n",
    "   - Esta diferencia de 8 puntos porcentuales plantea preocupaciones sobre posibles sesgos en la clasificación original.\n",
    "   - Las variables relacionadas con ingresos, empleo y propiedad podrían estar actuando como proxies que amplifican disparidades de género."
   ]
  },
  {
   "cell_type": "markdown",
   "id": "22fe1d49",
   "metadata": {
    "id": "22fe1d49"
   },
   "source": [
    "# Entrenando un primer modelo"
   ]
  },
  {
   "cell_type": "markdown",
   "id": "b76f1b91",
   "metadata": {
    "id": "b76f1b91"
   },
   "source": [
    "## Índice de Contenido\n",
    "\n",
    "1. [Preparación del entorno y carga de datos](#1.-Preparación-del-entorno-y-carga-de-datos)\n",
    "2. [Preparación de datos para el entrenamiento](#2.-Preparación-de-datos-para-el-entrenamiento)\n",
    "    - [One-Hot Encoding y análisis de correlación respecto a variable objetivo](#2.1-One-hot-encoding-y-análisis-de-correlación-respecto-a-variable-objetivo)\n",
    "    - [Estandarización y separación en datos de entrenamiento y prueba](#2.2-Estandarización-y-separación-en-datos-de-entrenamiento-y-prueba)\n",
    "3. [Entrenamiento del modelo de regresión logística](#3.-Entrenamiento-del-modelo-de-regresión-logística)\n",
    "4. [Evaluación del modelo mediante métricas de clasificación](#4.-Evaluación-del-modelo-mediante-métricas-de-clasificación)\n",
    "5. [Análisis de la matriz de confusión](#5.-Análisis-de-la-matriz-de-confusión)\n",
    "6. [Preparación y guardado de datos para análisis de equidad y posterior mitigación](#6.-Preparación-y-guardado-de-datos-para-análisis-de-equidad-y-posterior-mitigación)\n",
    "7. [Resumen y conclusiones](#7.-Resumen-y-conclusiones)"
   ]
  },
  {
   "cell_type": "markdown",
   "id": "e7a02d01",
   "metadata": {
    "id": "e7a02d01"
   },
   "source": [
    "## 1. Preparación del entorno y carga de datos"
   ]
  },
  {
   "cell_type": "code",
   "execution_count": 28,
   "id": "ee4535c8",
   "metadata": {
    "id": "ee4535c8",
    "outputId": "e600e99e-875a-40b3-cc59-00198338592f"
   },
   "outputs": [],
   "source": [
    "import pandas as pd\n",
    "from tp_final_fairness_ML.utils.preprocessing import convertir_object_a_categ\n",
    "import os \n",
    "import numpy as np\n",
    "from sklearn.model_selection import train_test_split\n",
    "from sklearn.metrics import classification_report\n",
    "from sklearn.preprocessing import StandardScaler\n",
    "from tp_final_fairness_ML.utils.plotting import graficar_matriz_de_confusion\n",
    "\n",
    "# Carga de datos\n",
    "ruta_archivo = os.path.join('..', 'data', 'processed', 'german_credit_data.csv')\n",
    "g_credit_data = pd.read_csv(ruta_archivo)\n",
    "\n",
    "# Conversión de columnas tipo objeto a categóricas para mejor manejo\n",
    "g_credit_data = convertir_object_a_categ(g_credit_data)"
   ]
  },
  {
   "cell_type": "code",
   "execution_count": 29,
   "id": "3a0a52f7",
   "metadata": {
    "id": "3a0a52f7",
    "outputId": "c7b1b0e2-2f79-4050-f928-f5e157b1f133"
   },
   "outputs": [
    {
     "name": "stdout",
     "output_type": "stream",
     "text": [
      "Dimensiones del dataset: 1000 filas × 23 columnas\n",
      "\n",
      "Primeras 5 filas:\n"
     ]
    },
    {
     "data": {
      "text/html": [
       "<div>\n",
       "<style scoped>\n",
       "    .dataframe tbody tr th:only-of-type {\n",
       "        vertical-align: middle;\n",
       "    }\n",
       "\n",
       "    .dataframe tbody tr th {\n",
       "        vertical-align: top;\n",
       "    }\n",
       "\n",
       "    .dataframe thead th {\n",
       "        text-align: right;\n",
       "    }\n",
       "</style>\n",
       "<table border=\"1\" class=\"dataframe\">\n",
       "  <thead>\n",
       "    <tr style=\"text-align: right;\">\n",
       "      <th></th>\n",
       "      <th>checking_account</th>\n",
       "      <th>duration</th>\n",
       "      <th>credit_history</th>\n",
       "      <th>purpose</th>\n",
       "      <th>credit_amount</th>\n",
       "      <th>savings_account</th>\n",
       "      <th>employment_since</th>\n",
       "      <th>installment_rate</th>\n",
       "      <th>personal_status_sex</th>\n",
       "      <th>other_debtors</th>\n",
       "      <th>...</th>\n",
       "      <th>other_installment_plans</th>\n",
       "      <th>housing</th>\n",
       "      <th>number_credits</th>\n",
       "      <th>job</th>\n",
       "      <th>people_liable</th>\n",
       "      <th>telephone</th>\n",
       "      <th>foreign_worker</th>\n",
       "      <th>target</th>\n",
       "      <th>genre</th>\n",
       "      <th>target_label</th>\n",
       "    </tr>\n",
       "  </thead>\n",
       "  <tbody>\n",
       "    <tr>\n",
       "      <th>0</th>\n",
       "      <td>&lt; 0 DM</td>\n",
       "      <td>6</td>\n",
       "      <td>critical account / other bank</td>\n",
       "      <td>radio/TV</td>\n",
       "      <td>1169</td>\n",
       "      <td>unknown / no account</td>\n",
       "      <td>&gt;= 7 years</td>\n",
       "      <td>4</td>\n",
       "      <td>male, single</td>\n",
       "      <td>none</td>\n",
       "      <td>...</td>\n",
       "      <td>none</td>\n",
       "      <td>own</td>\n",
       "      <td>2</td>\n",
       "      <td>skilled / official</td>\n",
       "      <td>1</td>\n",
       "      <td>yes, registered</td>\n",
       "      <td>yes</td>\n",
       "      <td>1</td>\n",
       "      <td>male</td>\n",
       "      <td>low_risk</td>\n",
       "    </tr>\n",
       "    <tr>\n",
       "      <th>1</th>\n",
       "      <td>0 &lt;= ... &lt; 200 DM</td>\n",
       "      <td>48</td>\n",
       "      <td>paid duly till now</td>\n",
       "      <td>radio/TV</td>\n",
       "      <td>5951</td>\n",
       "      <td>&lt; 100 DM</td>\n",
       "      <td>1 &lt;= ... &lt; 4 years</td>\n",
       "      <td>2</td>\n",
       "      <td>female, div/sep/married</td>\n",
       "      <td>none</td>\n",
       "      <td>...</td>\n",
       "      <td>none</td>\n",
       "      <td>own</td>\n",
       "      <td>1</td>\n",
       "      <td>skilled / official</td>\n",
       "      <td>1</td>\n",
       "      <td>none</td>\n",
       "      <td>yes</td>\n",
       "      <td>2</td>\n",
       "      <td>female</td>\n",
       "      <td>high_risk</td>\n",
       "    </tr>\n",
       "    <tr>\n",
       "      <th>2</th>\n",
       "      <td>no account</td>\n",
       "      <td>12</td>\n",
       "      <td>critical account / other bank</td>\n",
       "      <td>education</td>\n",
       "      <td>2096</td>\n",
       "      <td>&lt; 100 DM</td>\n",
       "      <td>4 &lt;= ... &lt; 7 years</td>\n",
       "      <td>2</td>\n",
       "      <td>male, single</td>\n",
       "      <td>none</td>\n",
       "      <td>...</td>\n",
       "      <td>none</td>\n",
       "      <td>own</td>\n",
       "      <td>1</td>\n",
       "      <td>unskilled - resident</td>\n",
       "      <td>2</td>\n",
       "      <td>none</td>\n",
       "      <td>yes</td>\n",
       "      <td>1</td>\n",
       "      <td>male</td>\n",
       "      <td>low_risk</td>\n",
       "    </tr>\n",
       "    <tr>\n",
       "      <th>3</th>\n",
       "      <td>&lt; 0 DM</td>\n",
       "      <td>42</td>\n",
       "      <td>paid duly till now</td>\n",
       "      <td>furniture/equipment</td>\n",
       "      <td>7882</td>\n",
       "      <td>&lt; 100 DM</td>\n",
       "      <td>4 &lt;= ... &lt; 7 years</td>\n",
       "      <td>2</td>\n",
       "      <td>male, single</td>\n",
       "      <td>guarantor</td>\n",
       "      <td>...</td>\n",
       "      <td>none</td>\n",
       "      <td>for free</td>\n",
       "      <td>1</td>\n",
       "      <td>skilled / official</td>\n",
       "      <td>2</td>\n",
       "      <td>none</td>\n",
       "      <td>yes</td>\n",
       "      <td>1</td>\n",
       "      <td>male</td>\n",
       "      <td>low_risk</td>\n",
       "    </tr>\n",
       "    <tr>\n",
       "      <th>4</th>\n",
       "      <td>&lt; 0 DM</td>\n",
       "      <td>24</td>\n",
       "      <td>delay in past</td>\n",
       "      <td>car (new)</td>\n",
       "      <td>4870</td>\n",
       "      <td>&lt; 100 DM</td>\n",
       "      <td>1 &lt;= ... &lt; 4 years</td>\n",
       "      <td>3</td>\n",
       "      <td>male, single</td>\n",
       "      <td>none</td>\n",
       "      <td>...</td>\n",
       "      <td>none</td>\n",
       "      <td>for free</td>\n",
       "      <td>2</td>\n",
       "      <td>skilled / official</td>\n",
       "      <td>2</td>\n",
       "      <td>none</td>\n",
       "      <td>yes</td>\n",
       "      <td>2</td>\n",
       "      <td>male</td>\n",
       "      <td>high_risk</td>\n",
       "    </tr>\n",
       "  </tbody>\n",
       "</table>\n",
       "<p>5 rows × 23 columns</p>\n",
       "</div>"
      ],
      "text/plain": [
       "    checking_account  duration                 credit_history  \\\n",
       "0             < 0 DM         6  critical account / other bank   \n",
       "1  0 <= ... < 200 DM        48             paid duly till now   \n",
       "2         no account        12  critical account / other bank   \n",
       "3             < 0 DM        42             paid duly till now   \n",
       "4             < 0 DM        24                  delay in past   \n",
       "\n",
       "               purpose  credit_amount       savings_account  \\\n",
       "0             radio/TV           1169  unknown / no account   \n",
       "1             radio/TV           5951              < 100 DM   \n",
       "2            education           2096              < 100 DM   \n",
       "3  furniture/equipment           7882              < 100 DM   \n",
       "4            car (new)           4870              < 100 DM   \n",
       "\n",
       "     employment_since  installment_rate      personal_status_sex  \\\n",
       "0          >= 7 years                 4             male, single   \n",
       "1  1 <= ... < 4 years                 2  female, div/sep/married   \n",
       "2  4 <= ... < 7 years                 2             male, single   \n",
       "3  4 <= ... < 7 years                 2             male, single   \n",
       "4  1 <= ... < 4 years                 3             male, single   \n",
       "\n",
       "  other_debtors  ...  other_installment_plans   housing  number_credits  \\\n",
       "0          none  ...                     none       own               2   \n",
       "1          none  ...                     none       own               1   \n",
       "2          none  ...                     none       own               1   \n",
       "3     guarantor  ...                     none  for free               1   \n",
       "4          none  ...                     none  for free               2   \n",
       "\n",
       "                    job people_liable        telephone foreign_worker  target  \\\n",
       "0    skilled / official             1  yes, registered            yes       1   \n",
       "1    skilled / official             1             none            yes       2   \n",
       "2  unskilled - resident             2             none            yes       1   \n",
       "3    skilled / official             2             none            yes       1   \n",
       "4    skilled / official             2             none            yes       2   \n",
       "\n",
       "    genre target_label  \n",
       "0    male     low_risk  \n",
       "1  female    high_risk  \n",
       "2    male     low_risk  \n",
       "3    male     low_risk  \n",
       "4    male    high_risk  \n",
       "\n",
       "[5 rows x 23 columns]"
      ]
     },
     "execution_count": 29,
     "metadata": {},
     "output_type": "execute_result"
    }
   ],
   "source": [
    "# Vista general de los datos\n",
    "print(f\"Dimensiones del dataset: {g_credit_data.shape[0]} filas × {g_credit_data.shape[1]} columnas\\n\")\n",
    "print(\"Primeras 5 filas:\")\n",
    "g_credit_data.head()"
   ]
  },
  {
   "cell_type": "code",
   "execution_count": 30,
   "id": "8190a1f4",
   "metadata": {},
   "outputs": [
    {
     "name": "stdout",
     "output_type": "stream",
     "text": [
      "<class 'pandas.core.frame.DataFrame'>\n",
      "RangeIndex: 1000 entries, 0 to 999\n",
      "Data columns (total 23 columns):\n",
      " #   Column                   Non-Null Count  Dtype   \n",
      "---  ------                   --------------  -----   \n",
      " 0   checking_account         1000 non-null   category\n",
      " 1   duration                 1000 non-null   int64   \n",
      " 2   credit_history           1000 non-null   category\n",
      " 3   purpose                  1000 non-null   category\n",
      " 4   credit_amount            1000 non-null   int64   \n",
      " 5   savings_account          1000 non-null   category\n",
      " 6   employment_since         1000 non-null   category\n",
      " 7   installment_rate         1000 non-null   int64   \n",
      " 8   personal_status_sex      1000 non-null   category\n",
      " 9   other_debtors            1000 non-null   category\n",
      " 10  residence_since          1000 non-null   int64   \n",
      " 11  property                 1000 non-null   category\n",
      " 12  age                      1000 non-null   int64   \n",
      " 13  other_installment_plans  1000 non-null   category\n",
      " 14  housing                  1000 non-null   category\n",
      " 15  number_credits           1000 non-null   int64   \n",
      " 16  job                      1000 non-null   category\n",
      " 17  people_liable            1000 non-null   int64   \n",
      " 18  telephone                1000 non-null   category\n",
      " 19  foreign_worker           1000 non-null   category\n",
      " 20  target                   1000 non-null   int64   \n",
      " 21  genre                    1000 non-null   category\n",
      " 22  target_label             1000 non-null   category\n",
      "dtypes: category(15), int64(8)\n",
      "memory usage: 79.9 KB\n"
     ]
    }
   ],
   "source": [
    "# Información general sobre el dataset\n",
    "g_credit_data.info()"
   ]
  },
  {
   "cell_type": "markdown",
   "id": "44e4ecaa",
   "metadata": {
    "id": "44e4ecaa"
   },
   "source": [
    "## 2. Preparación de datos para el entrenamiento"
   ]
  },
  {
   "cell_type": "markdown",
   "id": "9df9ca12",
   "metadata": {},
   "source": [
    "Llegamos a la prte de la preparación de datos para el entrenamiento de nuestro primer modelo. Entre los objetivos principales a lograr en esta sección tenemos:\n",
    "\n",
    "* Llevar nuestros datos categóricos a un formato numérico mediante técnicas de encoding para poder usarlas en nuestro modelo.\n",
    "\n",
    "* Realizar una **selección de variables** predictoras mediante el análisis de correlación respecto a la variable objetivo\n",
    "\n",
    "* Sobre las variables seleccionadas **hacer una estandarización** de cara al entrenamiento del modelo.\n",
    "\n",
    "* Separar los datos en conjuntos de entrenamiento y prueba."
   ]
  },
  {
   "cell_type": "markdown",
   "id": "0a559088",
   "metadata": {},
   "source": [
    "### 2.1 One-Hot Encoding y análisis de correlación respecto a variable objetivo"
   ]
  },
  {
   "cell_type": "markdown",
   "id": "67dbbe4a",
   "metadata": {},
   "source": [
    "Primero, aplicaremos **One-Hot Encoding** a nuestro conjunto de datos para convertir todas las variables categóricas en un formato completamente numérico. Sin embargo, antes de hacerlo, eliminaremos un par de columnas cuya inclusión en este proceso resultaría **redundante**: **target_label** y **personal_status_sex**. A continuación, explicamos las razones para su exclusión:\n",
    "\n",
    "* **personal_status_sex** contiene información combinada sobre el género y el estado civil de los solicitantes. Durante el análisis exploratorio, ya resumimos esta información en una nueva columna llamada **genre**, que indica únicamente si el solicitante es hombre o mujer. Consideramos que el estado civil no es relevante para los objetivos de este proyecto, por lo que **genre** contiene toda la información pertinente. Mantener **personal_status_sex** sería, por lo tanto, redundante.\n",
    "\n",
    "* **target_label** fue una columna auxiliar creada durante el análisis exploratorio para facilitar la interpretación de las clases objetivo. Sin embargo, su información ya está representada en la columna **target**, por lo que no es necesario conservarla ni transformarla.\n",
    "\n",
    "Por último, es importante aclarar una modificación que realizaremos en la columna **target**, la cual actualmente codifica el riesgo crediticio como **1 para bajo riesgo** y **2 para alto riesgo**. Para simplificar el modelado y facilitar la interpretación de los resultados, convertiremos estos valores a **1 para bajo riesgo crediticio** y **0 para alto riesgo crediticio**, siguiendo la convención habitual en problemas de clasificación binaria. Con todo esto aclarado procedemos a realizar los cambios:"
   ]
  },
  {
   "cell_type": "code",
   "execution_count": 31,
   "id": "648db0dd",
   "metadata": {},
   "outputs": [
    {
     "name": "stdout",
     "output_type": "stream",
     "text": [
      "Dimensiones del dataset: 1000 filas × 60 columnas\n",
      "\n",
      "Primeras 5 filas:\n"
     ]
    },
    {
     "data": {
      "text/html": [
       "<div>\n",
       "<style scoped>\n",
       "    .dataframe tbody tr th:only-of-type {\n",
       "        vertical-align: middle;\n",
       "    }\n",
       "\n",
       "    .dataframe tbody tr th {\n",
       "        vertical-align: top;\n",
       "    }\n",
       "\n",
       "    .dataframe thead th {\n",
       "        text-align: right;\n",
       "    }\n",
       "</style>\n",
       "<table border=\"1\" class=\"dataframe\">\n",
       "  <thead>\n",
       "    <tr style=\"text-align: right;\">\n",
       "      <th></th>\n",
       "      <th>duration</th>\n",
       "      <th>credit_amount</th>\n",
       "      <th>installment_rate</th>\n",
       "      <th>residence_since</th>\n",
       "      <th>age</th>\n",
       "      <th>number_credits</th>\n",
       "      <th>people_liable</th>\n",
       "      <th>target</th>\n",
       "      <th>checking_account_0 &lt;= ... &lt; 200 DM</th>\n",
       "      <th>checking_account_&lt; 0 DM</th>\n",
       "      <th>...</th>\n",
       "      <th>job_management / self-employed / qualified</th>\n",
       "      <th>job_skilled / official</th>\n",
       "      <th>job_unemployed / non-resident</th>\n",
       "      <th>job_unskilled - resident</th>\n",
       "      <th>telephone_none</th>\n",
       "      <th>telephone_yes, registered</th>\n",
       "      <th>foreign_worker_no</th>\n",
       "      <th>foreign_worker_yes</th>\n",
       "      <th>genre_female</th>\n",
       "      <th>genre_male</th>\n",
       "    </tr>\n",
       "  </thead>\n",
       "  <tbody>\n",
       "    <tr>\n",
       "      <th>0</th>\n",
       "      <td>6</td>\n",
       "      <td>1169</td>\n",
       "      <td>4</td>\n",
       "      <td>4</td>\n",
       "      <td>67</td>\n",
       "      <td>2</td>\n",
       "      <td>1</td>\n",
       "      <td>1</td>\n",
       "      <td>0</td>\n",
       "      <td>1</td>\n",
       "      <td>...</td>\n",
       "      <td>0</td>\n",
       "      <td>1</td>\n",
       "      <td>0</td>\n",
       "      <td>0</td>\n",
       "      <td>0</td>\n",
       "      <td>1</td>\n",
       "      <td>0</td>\n",
       "      <td>1</td>\n",
       "      <td>0</td>\n",
       "      <td>1</td>\n",
       "    </tr>\n",
       "    <tr>\n",
       "      <th>1</th>\n",
       "      <td>48</td>\n",
       "      <td>5951</td>\n",
       "      <td>2</td>\n",
       "      <td>2</td>\n",
       "      <td>22</td>\n",
       "      <td>1</td>\n",
       "      <td>1</td>\n",
       "      <td>0</td>\n",
       "      <td>1</td>\n",
       "      <td>0</td>\n",
       "      <td>...</td>\n",
       "      <td>0</td>\n",
       "      <td>1</td>\n",
       "      <td>0</td>\n",
       "      <td>0</td>\n",
       "      <td>1</td>\n",
       "      <td>0</td>\n",
       "      <td>0</td>\n",
       "      <td>1</td>\n",
       "      <td>1</td>\n",
       "      <td>0</td>\n",
       "    </tr>\n",
       "    <tr>\n",
       "      <th>2</th>\n",
       "      <td>12</td>\n",
       "      <td>2096</td>\n",
       "      <td>2</td>\n",
       "      <td>3</td>\n",
       "      <td>49</td>\n",
       "      <td>1</td>\n",
       "      <td>2</td>\n",
       "      <td>1</td>\n",
       "      <td>0</td>\n",
       "      <td>0</td>\n",
       "      <td>...</td>\n",
       "      <td>0</td>\n",
       "      <td>0</td>\n",
       "      <td>0</td>\n",
       "      <td>1</td>\n",
       "      <td>1</td>\n",
       "      <td>0</td>\n",
       "      <td>0</td>\n",
       "      <td>1</td>\n",
       "      <td>0</td>\n",
       "      <td>1</td>\n",
       "    </tr>\n",
       "    <tr>\n",
       "      <th>3</th>\n",
       "      <td>42</td>\n",
       "      <td>7882</td>\n",
       "      <td>2</td>\n",
       "      <td>4</td>\n",
       "      <td>45</td>\n",
       "      <td>1</td>\n",
       "      <td>2</td>\n",
       "      <td>1</td>\n",
       "      <td>0</td>\n",
       "      <td>1</td>\n",
       "      <td>...</td>\n",
       "      <td>0</td>\n",
       "      <td>1</td>\n",
       "      <td>0</td>\n",
       "      <td>0</td>\n",
       "      <td>1</td>\n",
       "      <td>0</td>\n",
       "      <td>0</td>\n",
       "      <td>1</td>\n",
       "      <td>0</td>\n",
       "      <td>1</td>\n",
       "    </tr>\n",
       "    <tr>\n",
       "      <th>4</th>\n",
       "      <td>24</td>\n",
       "      <td>4870</td>\n",
       "      <td>3</td>\n",
       "      <td>4</td>\n",
       "      <td>53</td>\n",
       "      <td>2</td>\n",
       "      <td>2</td>\n",
       "      <td>0</td>\n",
       "      <td>0</td>\n",
       "      <td>1</td>\n",
       "      <td>...</td>\n",
       "      <td>0</td>\n",
       "      <td>1</td>\n",
       "      <td>0</td>\n",
       "      <td>0</td>\n",
       "      <td>1</td>\n",
       "      <td>0</td>\n",
       "      <td>0</td>\n",
       "      <td>1</td>\n",
       "      <td>0</td>\n",
       "      <td>1</td>\n",
       "    </tr>\n",
       "  </tbody>\n",
       "</table>\n",
       "<p>5 rows × 60 columns</p>\n",
       "</div>"
      ],
      "text/plain": [
       "   duration  credit_amount  installment_rate  residence_since  age  \\\n",
       "0         6           1169                 4                4   67   \n",
       "1        48           5951                 2                2   22   \n",
       "2        12           2096                 2                3   49   \n",
       "3        42           7882                 2                4   45   \n",
       "4        24           4870                 3                4   53   \n",
       "\n",
       "   number_credits  people_liable  target  checking_account_0 <= ... < 200 DM  \\\n",
       "0               2              1       1                                   0   \n",
       "1               1              1       0                                   1   \n",
       "2               1              2       1                                   0   \n",
       "3               1              2       1                                   0   \n",
       "4               2              2       0                                   0   \n",
       "\n",
       "   checking_account_< 0 DM  ...  job_management / self-employed / qualified  \\\n",
       "0                        1  ...                                           0   \n",
       "1                        0  ...                                           0   \n",
       "2                        0  ...                                           0   \n",
       "3                        1  ...                                           0   \n",
       "4                        1  ...                                           0   \n",
       "\n",
       "   job_skilled / official  job_unemployed / non-resident  \\\n",
       "0                       1                              0   \n",
       "1                       1                              0   \n",
       "2                       0                              0   \n",
       "3                       1                              0   \n",
       "4                       1                              0   \n",
       "\n",
       "   job_unskilled - resident  telephone_none  telephone_yes, registered  \\\n",
       "0                         0               0                          1   \n",
       "1                         0               1                          0   \n",
       "2                         1               1                          0   \n",
       "3                         0               1                          0   \n",
       "4                         0               1                          0   \n",
       "\n",
       "   foreign_worker_no  foreign_worker_yes  genre_female  genre_male  \n",
       "0                  0                   1             0           1  \n",
       "1                  0                   1             1           0  \n",
       "2                  0                   1             0           1  \n",
       "3                  0                   1             0           1  \n",
       "4                  0                   1             0           1  \n",
       "\n",
       "[5 rows x 60 columns]"
      ]
     },
     "metadata": {},
     "output_type": "display_data"
    }
   ],
   "source": [
    "# Eliminación de columnas innecesarias\n",
    "g_credit_data = g_credit_data.drop(columns=['target_label', 'personal_status_sex'])\n",
    "\n",
    "# Cambio de valores en columna 'target'\n",
    "g_credit_data['target'] = g_credit_data['target'].map({1: 1, 2: 0})\n",
    "\n",
    "# One-Hot Encoding de variables categóricas\n",
    "g_credit_data_dummies = pd.get_dummies(g_credit_data)\n",
    "g_credit_data_dummies = g_credit_data_dummies.astype(int)\n",
    "\n",
    "print(f\"Dimensiones del dataset: {g_credit_data_dummies.shape[0]} filas × {g_credit_data_dummies.shape[1]} columnas\\n\")\n",
    "print(\"Primeras 5 filas:\")\n",
    "display(g_credit_data_dummies.head())"
   ]
  },
  {
   "cell_type": "markdown",
   "id": "c6997eb6",
   "metadata": {},
   "source": [
    "Ya con nuestros datos en un formato numérico podemos proceder con el **análisis de correlación** que nos ayudará a elegir variables predictoras para nuestro modelo. Procedemos a observar las correlaciones respecto a la variable objetivo:"
   ]
  },
  {
   "cell_type": "code",
   "execution_count": 32,
   "id": "5ccfc260",
   "metadata": {},
   "outputs": [
    {
     "name": "stdout",
     "output_type": "stream",
     "text": [
      "Correlaciones con la variable 'target':\n",
      "target                                           1.000000\n",
      "checking_account_no account                      0.322436\n",
      "credit_history_critical account / other bank     0.181713\n",
      "housing_own                                      0.134589\n",
      "savings_account_unknown / no account             0.129238\n",
      "property_real estate                             0.119300\n",
      "other_installment_plans_none                     0.113285\n",
      "purpose_radio/TV                                 0.106922\n",
      "purpose_car (used)                               0.099791\n",
      "age                                              0.091127\n",
      "savings_account_>= 1000 DM                       0.085749\n",
      "foreign_worker_no                                0.082079\n",
      "employment_since_4 <= ... < 7 years              0.075980\n",
      "genre_male                                       0.075493\n",
      "savings_account_500 <= ... < 1000 DM             0.070954\n",
      "employment_since_>= 7 years                      0.059733\n",
      "other_debtors_guarantor                          0.055039\n",
      "number_credits                                   0.045732\n",
      "checking_account_>= 200 DM or salary assigned    0.044009\n",
      "purpose_retraining                               0.039281\n",
      "telephone_yes, registered                        0.036466\n",
      "job_unskilled - resident                         0.021822\n",
      "job_skilled / official                           0.013559\n",
      "people_liable                                    0.003015\n",
      "other_debtors_none                               0.000751\n",
      "residence_since                                 -0.002967\n",
      "job_unemployed / non-resident                   -0.005951\n",
      "property_building society / insurance           -0.007238\n",
      "purpose_domestic appliances                     -0.008016\n",
      "employment_since_1 <= ... < 4 years             -0.010603\n",
      "property_car / other                            -0.011121\n",
      "credit_history_delay in past                    -0.012325\n",
      "purpose_repairs                                 -0.020828\n",
      "purpose_furniture/equipment                     -0.020971\n",
      "savings_account_100 <= ... < 500 DM             -0.022255\n",
      "purpose_others                                  -0.028058\n",
      "purpose_business                                -0.036129\n",
      "telephone_none                                  -0.036466\n",
      "employment_since_unemployed                     -0.039815\n",
      "job_management / self-employed / qualified      -0.040559\n",
      "credit_history_paid duly till now               -0.043722\n",
      "other_installment_plans_stores                  -0.050523\n",
      "other_debtors_co-applicant                      -0.062728\n",
      "purpose_education                               -0.070088\n",
      "installment_rate                                -0.072404\n",
      "genre_female                                    -0.075493\n",
      "housing_for free                                -0.081556\n",
      "foreign_worker_yes                              -0.082079\n",
      "housing_rent                                    -0.092785\n",
      "other_installment_plans_bank                    -0.096510\n",
      "purpose_car (new)                               -0.096900\n",
      "employment_since_< 1 year                       -0.106397\n",
      "checking_account_0 <= ... < 200 DM              -0.119581\n",
      "property_unknown / no property                  -0.125750\n",
      "credit_history_paid at this bank                -0.134448\n",
      "credit_history_no credits / all paid            -0.144767\n",
      "credit_amount                                   -0.154739\n",
      "savings_account_< 100 DM                        -0.161007\n",
      "duration                                        -0.214927\n",
      "checking_account_< 0 DM                         -0.258333\n",
      "Name: target, dtype: float64\n"
     ]
    }
   ],
   "source": [
    "correlaciones = g_credit_data_dummies.corr()['target'].sort_values(ascending=False)\n",
    "print(\"Correlaciones con la variable 'target':\")\n",
    "print(correlaciones)"
   ]
  },
  {
   "cell_type": "markdown",
   "id": "4cdafa32",
   "metadata": {},
   "source": [
    "Podemos ver en valores numéricos concretos cosas que **habíamos notado antes en el análisis exploratorio**: \n",
    "\n",
    "* La duración de un préstamo tiene una correlación negativa respecto a la variable objetivo, es decir que los solicitantes de alto riesgo solicitan préstamos de mayor duración.\n",
    "\n",
    "* La presencia o ausencia de cuentas de ahorro/corriente tienen fuerte correlación en ambos sentidos con respecto a la variable objetivo.\n",
    "\n",
    "Y así muchas otras relaciones observadas anteriormente en el análisis exploratorio podemos observar que aquí se cumplen.\n",
    "\n",
    "Ahora con el objetivo de reducir el ruido y construir un modelo base más simple pero efectivo, aplicaremos un criterio básico de **selección de variables basado en la correlación** con la variable objetivo. En concreto, seleccionaremos aquellas variables que presenten una **correlación en valor absoluto mayor a 0.1** respecto de la variable **target**.\n",
    "\n",
    "Este umbral fue elegido de manera pragmática: aunque no es alto, permite filtrar aquellas variables que tienen una **relación débil o inexistente con la variable objetivo**, sin ser demasiado restrictivo. De esta forma, eliminamos variables irrelevantes que podrían introducir ruido o redundancia en el modelo, al tiempo que conservamos aquellas que muestran al menos un **grado mínimo de asociación lineal** con el resultado que se desea predecir.\n",
    "Procedemos a realizar dicha selección:"
   ]
  },
  {
   "cell_type": "code",
   "execution_count": 33,
   "id": "370856b2",
   "metadata": {},
   "outputs": [
    {
     "name": "stdout",
     "output_type": "stream",
     "text": [
      "Variables seleccionadas y su correlación con la variable 'target':\n"
     ]
    },
    {
     "data": {
      "text/html": [
       "<div>\n",
       "<style scoped>\n",
       "    .dataframe tbody tr th:only-of-type {\n",
       "        vertical-align: middle;\n",
       "    }\n",
       "\n",
       "    .dataframe tbody tr th {\n",
       "        vertical-align: top;\n",
       "    }\n",
       "\n",
       "    .dataframe thead th {\n",
       "        text-align: right;\n",
       "    }\n",
       "</style>\n",
       "<table border=\"1\" class=\"dataframe\">\n",
       "  <thead>\n",
       "    <tr style=\"text-align: right;\">\n",
       "      <th></th>\n",
       "      <th>variable</th>\n",
       "      <th>correlacion</th>\n",
       "    </tr>\n",
       "  </thead>\n",
       "  <tbody>\n",
       "    <tr>\n",
       "      <th>0</th>\n",
       "      <td>checking_account_no account</td>\n",
       "      <td>0.322436</td>\n",
       "    </tr>\n",
       "    <tr>\n",
       "      <th>1</th>\n",
       "      <td>credit_history_critical account / other bank</td>\n",
       "      <td>0.181713</td>\n",
       "    </tr>\n",
       "    <tr>\n",
       "      <th>2</th>\n",
       "      <td>housing_own</td>\n",
       "      <td>0.134589</td>\n",
       "    </tr>\n",
       "    <tr>\n",
       "      <th>3</th>\n",
       "      <td>savings_account_unknown / no account</td>\n",
       "      <td>0.129238</td>\n",
       "    </tr>\n",
       "    <tr>\n",
       "      <th>4</th>\n",
       "      <td>property_real estate</td>\n",
       "      <td>0.119300</td>\n",
       "    </tr>\n",
       "    <tr>\n",
       "      <th>5</th>\n",
       "      <td>other_installment_plans_none</td>\n",
       "      <td>0.113285</td>\n",
       "    </tr>\n",
       "    <tr>\n",
       "      <th>6</th>\n",
       "      <td>purpose_radio/TV</td>\n",
       "      <td>0.106922</td>\n",
       "    </tr>\n",
       "    <tr>\n",
       "      <th>16</th>\n",
       "      <td>genre_male</td>\n",
       "      <td>0.075493</td>\n",
       "    </tr>\n",
       "    <tr>\n",
       "      <th>7</th>\n",
       "      <td>employment_since_&lt; 1 year</td>\n",
       "      <td>-0.106397</td>\n",
       "    </tr>\n",
       "    <tr>\n",
       "      <th>8</th>\n",
       "      <td>checking_account_0 &lt;= ... &lt; 200 DM</td>\n",
       "      <td>-0.119581</td>\n",
       "    </tr>\n",
       "    <tr>\n",
       "      <th>9</th>\n",
       "      <td>property_unknown / no property</td>\n",
       "      <td>-0.125750</td>\n",
       "    </tr>\n",
       "    <tr>\n",
       "      <th>10</th>\n",
       "      <td>credit_history_paid at this bank</td>\n",
       "      <td>-0.134448</td>\n",
       "    </tr>\n",
       "    <tr>\n",
       "      <th>11</th>\n",
       "      <td>credit_history_no credits / all paid</td>\n",
       "      <td>-0.144767</td>\n",
       "    </tr>\n",
       "    <tr>\n",
       "      <th>12</th>\n",
       "      <td>credit_amount</td>\n",
       "      <td>-0.154739</td>\n",
       "    </tr>\n",
       "    <tr>\n",
       "      <th>13</th>\n",
       "      <td>savings_account_&lt; 100 DM</td>\n",
       "      <td>-0.161007</td>\n",
       "    </tr>\n",
       "    <tr>\n",
       "      <th>14</th>\n",
       "      <td>duration</td>\n",
       "      <td>-0.214927</td>\n",
       "    </tr>\n",
       "    <tr>\n",
       "      <th>15</th>\n",
       "      <td>checking_account_&lt; 0 DM</td>\n",
       "      <td>-0.258333</td>\n",
       "    </tr>\n",
       "  </tbody>\n",
       "</table>\n",
       "</div>"
      ],
      "text/plain": [
       "                                        variable  correlacion\n",
       "0                    checking_account_no account     0.322436\n",
       "1   credit_history_critical account / other bank     0.181713\n",
       "2                                    housing_own     0.134589\n",
       "3           savings_account_unknown / no account     0.129238\n",
       "4                           property_real estate     0.119300\n",
       "5                   other_installment_plans_none     0.113285\n",
       "6                               purpose_radio/TV     0.106922\n",
       "16                                    genre_male     0.075493\n",
       "7                      employment_since_< 1 year    -0.106397\n",
       "8             checking_account_0 <= ... < 200 DM    -0.119581\n",
       "9                 property_unknown / no property    -0.125750\n",
       "10              credit_history_paid at this bank    -0.134448\n",
       "11          credit_history_no credits / all paid    -0.144767\n",
       "12                                 credit_amount    -0.154739\n",
       "13                      savings_account_< 100 DM    -0.161007\n",
       "14                                      duration    -0.214927\n",
       "15                       checking_account_< 0 DM    -0.258333"
      ]
     },
     "execution_count": 33,
     "metadata": {},
     "output_type": "execute_result"
    }
   ],
   "source": [
    "# Selección de variables con correlación significativa\n",
    "variables_seleccionadas = correlaciones[abs(correlaciones) > 0.1].index.tolist()\n",
    "variables_seleccionadas.append('genre_male')\n",
    "variables_seleccionadas.remove('target')\n",
    "                               \n",
    "# Df para mostrar las variables seleccionadas junto con su correlacion\n",
    "df_seleccionadas = pd.DataFrame(correlaciones[variables_seleccionadas])\n",
    "df_seleccionadas = df_seleccionadas.reset_index()\n",
    "df_seleccionadas.columns = ['variable', 'correlacion']\n",
    "df_seleccionadas = df_seleccionadas.sort_values(by='correlacion', ascending=False)\n",
    "print(\"Variables seleccionadas y su correlación con la variable 'target':\")\n",
    "df_seleccionadas"
   ]
  },
  {
   "cell_type": "markdown",
   "id": "4fe7234d",
   "metadata": {},
   "source": [
    "Como último comentario queríamos mencionar el hecho de que incluimos a la variable que registra el género entre las seleccionadas, por más que esta no tuviese una alta correlación entendemos que esta es la pieza central en el desarrollo del modelo. "
   ]
  },
  {
   "cell_type": "markdown",
   "id": "1c97de7e",
   "metadata": {},
   "source": [
    "### 2.2 Estandarización y separación en datos de entrenamiento y prueba"
   ]
  },
  {
   "cell_type": "markdown",
   "id": "653bff4f",
   "metadata": {
    "id": "653bff4f"
   },
   "source": [
    "Prepararemos los datos para el entrenamiento de nuestro modelo.Esto implica:\n",
    "\n",
    "1. Separar variables predictoras (X) de la variable objetivo (y)\n",
    "2. Dividir los datos en conjuntos de entrenamiento y prueba\n",
    "3. Estandarizar las variables predictoras (X) de entrenamiento y prueba"
   ]
  },
  {
   "cell_type": "code",
   "execution_count": 34,
   "id": "c7000ab1",
   "metadata": {
    "id": "c7000ab1",
    "outputId": "3a350f23-d8fa-416c-e334-b5a26ecb24fb"
   },
   "outputs": [
    {
     "name": "stdout",
     "output_type": "stream",
     "text": [
      "Dimensiones de X_train: (800, 17)\n",
      "Dimensiones de X_test: (200, 17)\n",
      "Distribución de clases en el conjunto de entrenamiento: [241 559]\n",
      "Distribución de clases en el conjunto de prueba: [ 59 141]\n"
     ]
    }
   ],
   "source": [
    "# Separamos variables predictoras (X) y variable objetivo (y)\n",
    "X = g_credit_data_dummies[variables_seleccionadas]\n",
    "y = g_credit_data_dummies['target']\n",
    "indices = X.index\n",
    "\n",
    "# Dividimos en conjuntos de entrenamiento (80%) y prueba (20%)\n",
    "X_train, X_test, y_train, y_test, idx_train, idx_test = train_test_split(\n",
    "    X.values, y.values, indices, test_size=0.2, random_state=42\n",
    ")\n",
    "\n",
    "# Estandarizamos las variables predictoras \n",
    "scaler = StandardScaler()\n",
    "X_train_scaled= scaler.fit_transform(X_train)\n",
    "X_test_scaled = scaler.transform(X_test)\n",
    "\n",
    "# Mostramos las dimensiones de los conjuntos de entrenamiento y prueba\n",
    "print(f\"Dimensiones de X_train: {X_train.shape}\")\n",
    "print(f\"Dimensiones de X_test: {X_test.shape}\")\n",
    "print(f\"Distribución de clases en el conjunto de entrenamiento: {np.bincount(y_train)}\")\n",
    "print(f\"Distribución de clases en el conjunto de prueba: {np.bincount(y_test)}\")"
   ]
  },
  {
   "cell_type": "markdown",
   "id": "4189a492",
   "metadata": {
    "id": "4189a492"
   },
   "source": [
    "## 3. Entrenamiento del modelo de regresión logística"
   ]
  },
  {
   "cell_type": "markdown",
   "id": "bf391edd",
   "metadata": {
    "id": "bf391edd"
   },
   "source": [
    "Utilizaremos un modelo de regresión logística como nuestro modelo base debido a:\n",
    "\n",
    "1. **Simplicidad e interpretabilidad**: La regresión logística es un modelo sencillo\n",
    "   cuyos coeficientes pueden interpretarse directamente, facilitando el análisis de equidad.\n",
    "\n",
    "2. **Adecuación al problema**: Al ser un problema de clasificación binaria (alto/bajo riesgo),\n",
    "   la regresión logística es una opción natural y efectiva.\n",
    "\n",
    "3. **Eficiencia computacional**: Requiere menos recursos y tiempo de entrenamiento\n",
    "   que modelos más complejos, lo que es ideal para una primera iteración.\n",
    "\n",
    "Procedemos al entrenamiento de este modelo:"
   ]
  },
  {
   "cell_type": "code",
   "execution_count": 35,
   "id": "cf2c8c44",
   "metadata": {
    "id": "cf2c8c44",
    "outputId": "b4bf88ca-1b2f-4b00-91e8-8aa511b516b5"
   },
   "outputs": [],
   "source": [
    "from sklearn.linear_model import LogisticRegression\n",
    "\n",
    "modelo = LogisticRegression(random_state=42, max_iter=1000, fit_intercept= True)\n",
    "modelo.fit(X_train_scaled, y_train)\n",
    "\n",
    "# Predicciones en el conjunto de prueba\n",
    "y_pred_test = modelo.predict(X_test_scaled)"
   ]
  },
  {
   "cell_type": "markdown",
   "id": "1a7a7b00",
   "metadata": {
    "id": "1a7a7b00"
   },
   "source": [
    "## 4. Evaluación del modelo mediante métricas de clasificación"
   ]
  },
  {
   "cell_type": "markdown",
   "id": "c601119d",
   "metadata": {
    "id": "c601119d"
   },
   "source": [
    "Evaluaremos el desempeño del modelo utilizando métricas estándar de clasificación:\n",
    "\n",
    "- **Precisión (Precision)**: Proporción de predicciones positivas que fueron correctas\n",
    "- **Sensibilidad (Recall)**: Proporción de casos positivos reales que fueron correctamente identificados\n",
    "- **F1-Score**: Media armónica de precisión y sensibilidad\n",
    "- **Exactitud (Accuracy)**: Proporción total de predicciones correctas\n",
    "\n",
    "Estas métricas nos darán una visión general de la calidad del modelo y su capacidad\n",
    "para identificar correctamente tanto solicitantes de bajo como de alto riesgo."
   ]
  },
  {
   "cell_type": "code",
   "execution_count": 36,
   "id": "4f9508e9",
   "metadata": {
    "id": "4f9508e9",
    "outputId": "ce9d1fc8-716d-4c3a-b711-7439dc505fb6"
   },
   "outputs": [
    {
     "name": "stdout",
     "output_type": "stream",
     "text": [
      "Reporte de clasificación:\n",
      "              precision    recall  f1-score   support\n",
      "\n",
      "           0       0.66      0.42      0.52        59\n",
      "           1       0.79      0.91      0.84       141\n",
      "\n",
      "    accuracy                           0.77       200\n",
      "   macro avg       0.72      0.67      0.68       200\n",
      "weighted avg       0.75      0.77      0.75       200\n",
      "\n"
     ]
    }
   ],
   "source": [
    "print(\"Reporte de clasificación:\")\n",
    "print(classification_report(y_test, y_pred_test))"
   ]
  },
  {
   "cell_type": "markdown",
   "id": "d829ecef",
   "metadata": {
    "id": "d829ecef"
   },
   "source": [
    "### Interpretación de las métricas\n",
    "\n",
    "- **Clase 1 (Bajo riesgo)**: El modelo muestra un buen desempeño identificando solicitantes de bajo riesgo:\n",
    "  - Precisión: 0.79 - El 79% de los solicitantes clasificados como bajo riesgo efectivamente lo son.\n",
    "  - Sensibilidad: 0.91 - El modelo identifica correctamente el 91% de los solicitantes de bajo riesgo.\n",
    "  - F1-Score: 0.84 - Buen balance entre precisión y sensibilidad para esta clase.\n",
    "\n",
    "- **Clase 0 (Alto riesgo)**: El desempeño es menor para identificar solicitantes de alto riesgo:\n",
    "  - Precisión: 0.66 - El 66% de los solicitantes clasificados como alto riesgo realmente lo son.\n",
    "  - Sensibilidad: 0.42 - El modelo solo identifica correctamente el 42% de los solicitantes de alto riesgo.\n",
    "  - F1-Score: 0.52 - Desempeño bajo/moderado para esta clase.\n",
    "\n",
    "- **Exactitud general**: 0.77 - El 77% de todas las predicciones son correctas.\n",
    "\n",
    "Este desequilibrio en el desempeño entre clases podría atribuirse principalmente a la\n",
    "distribución desbalanceada de las clases en los datos, donde hay más solicitantes de\n",
    "bajo riesgo que de alto riesgo. Esta situación es común en problemas de crédito y\n",
    "requiere atención especial desde la perspectiva de equidad."
   ]
  },
  {
   "cell_type": "markdown",
   "id": "20e67ca6",
   "metadata": {
    "id": "20e67ca6"
   },
   "source": [
    "## 5. Análisis de la matriz de confusión"
   ]
  },
  {
   "cell_type": "markdown",
   "id": "5bc721b7",
   "metadata": {
    "id": "5bc721b7"
   },
   "source": [
    "La matriz de confusión nos permitirá visualizar en detalle los aciertos y errores del modelo,\n",
    "así como entender los diferentes tipos de errores (falsos positivos y falsos negativos) y su\n",
    "impacto en términos de equidad y toma de decisiones."
   ]
  },
  {
   "cell_type": "code",
   "execution_count": 37,
   "id": "5568bdaa",
   "metadata": {
    "id": "5568bdaa",
    "outputId": "142a34e4-3a78-4411-d212-5513e56c3898"
   },
   "outputs": [
    {
     "data": {
      "image/png": "[encoded data removed]",
      "text/plain": [
       "<Figure size 1000x600 with 2 Axes>"
      ]
     },
     "metadata": {},
     "output_type": "display_data"
    }
   ],
   "source": [
    "graficar_matriz_de_confusion(y_test, y_pred_test)"
   ]
  },
  {
   "cell_type": "markdown",
   "id": "958eb4a9",
   "metadata": {
    "id": "958eb4a9"
   },
   "source": [
    "### Interpretación de la matriz de confusión\n",
    "\n",
    "Para interpretar correctamente la matriz, consideremos:\n",
    "\n",
    "- **Verdaderos positivos (TP)**: 128 solicitantes fueron correctamente clasificados como de bajo riesgo.\n",
    "- **Falsos negativos (FN)**: 13 solicitantes de bajo riesgo fueron incorrectamente clasificados como de alto riesgo.\n",
    "- **Falsos positivos (FP)**: 34 solicitantes de alto riesgo fueron incorrectamente clasificados como de bajo riesgo.\n",
    "- **Verdaderos negativos (TN)**: 25 solicitantes fueron correctamente clasificados como de alto riesgo.\n",
    "\n",
    "**Implicaciones de los errores**:\n",
    "\n",
    "1. **Falsos positivos (34)**: Este tipo de error es particularmente problemático para instituciones financieras, ya que implica otorgar préstamos a personas que realmente son de alto riesgo, lo que podría resultar en pérdidas financieras.\n",
    "\n",
    "2. **Falsos negativos (13)**: Aunque menos costoso desde la perspectiva financiera, este error implica negar préstamos a personas que realmente son de bajo riesgo, lo que representa un problema de equidad y acceso a servicios financieros.\n",
    "\n",
    "El balance entre estos tipos de errores es fundamental para garantizar tanto la salud financiera de la institución como la equidad en el acceso al crédito para diferentes grupos demográficos."
   ]
  },
  {
   "cell_type": "markdown",
   "id": "bd25c44a",
   "metadata": {
    "id": "bd25c44a"
   },
   "source": [
    "## 6. Preparación y guardado de datos para análisis de equidad y posterior mitigación"
   ]
  },
  {
   "cell_type": "markdown",
   "id": "a6221f1e",
   "metadata": {
    "id": "a6221f1e"
   },
   "source": [
    "Para realizar un análisis de equidad por género, necesitamos combinar nuestras predicciones\n",
    "con la información de género de los solicitantes. Esto nos permitirá evaluar si el modelo\n",
    "presenta sesgos algorítmicos que afecten desproporcionadamente a algún grupo.\n",
    "\n",
    "Crearemos un nuevo conjunto de datos que contenga:\n",
    "- Las etiquetas reales **y_test**\n",
    "- Las predicciones del modelo **y_pred_test**\n",
    "- El género de cada solicitante"
   ]
  },
  {
   "cell_type": "code",
   "execution_count": 38,
   "id": "5bf39c60",
   "metadata": {
    "id": "5bf39c60",
    "outputId": "354b9bff-2eb4-4aed-e6bb-e89a44b11eab"
   },
   "outputs": [
    {
     "name": "stdout",
     "output_type": "stream",
     "text": [
      "Primeras filas del dataframe para análisis de equidad:\n"
     ]
    },
    {
     "data": {
      "text/html": [
       "<div>\n",
       "<style scoped>\n",
       "    .dataframe tbody tr th:only-of-type {\n",
       "        vertical-align: middle;\n",
       "    }\n",
       "\n",
       "    .dataframe tbody tr th {\n",
       "        vertical-align: top;\n",
       "    }\n",
       "\n",
       "    .dataframe thead th {\n",
       "        text-align: right;\n",
       "    }\n",
       "</style>\n",
       "<table border=\"1\" class=\"dataframe\">\n",
       "  <thead>\n",
       "    <tr style=\"text-align: right;\">\n",
       "      <th></th>\n",
       "      <th>y_test</th>\n",
       "      <th>y_pred_test</th>\n",
       "      <th>genre</th>\n",
       "    </tr>\n",
       "  </thead>\n",
       "  <tbody>\n",
       "    <tr>\n",
       "      <th>521</th>\n",
       "      <td>0</td>\n",
       "      <td>1</td>\n",
       "      <td>female</td>\n",
       "    </tr>\n",
       "    <tr>\n",
       "      <th>737</th>\n",
       "      <td>1</td>\n",
       "      <td>1</td>\n",
       "      <td>male</td>\n",
       "    </tr>\n",
       "    <tr>\n",
       "      <th>740</th>\n",
       "      <td>1</td>\n",
       "      <td>0</td>\n",
       "      <td>male</td>\n",
       "    </tr>\n",
       "    <tr>\n",
       "      <th>660</th>\n",
       "      <td>1</td>\n",
       "      <td>1</td>\n",
       "      <td>male</td>\n",
       "    </tr>\n",
       "    <tr>\n",
       "      <th>411</th>\n",
       "      <td>1</td>\n",
       "      <td>1</td>\n",
       "      <td>male</td>\n",
       "    </tr>\n",
       "  </tbody>\n",
       "</table>\n",
       "</div>"
      ],
      "text/plain": [
       "     y_test  y_pred_test   genre\n",
       "521       0            1  female\n",
       "737       1            1    male\n",
       "740       1            0    male\n",
       "660       1            1    male\n",
       "411       1            1    male"
      ]
     },
     "metadata": {},
     "output_type": "display_data"
    },
    {
     "name": "stdout",
     "output_type": "stream",
     "text": [
      "Datos guardados en: ..\\data\\processed\\df_genero_eval.csv\n"
     ]
    }
   ],
   "source": [
    "ruta_datos_procesados = os.path.join('..', 'data', 'processed', 'german_credit_data.csv')\n",
    "g_credit_data = pd.read_csv(ruta_datos_procesados)\n",
    "\n",
    "df_genero_eval = pd.DataFrame({\n",
    "    'y_test': y_test,\n",
    "    'y_pred_test': y_pred_test,\n",
    "    'genre': g_credit_data.loc[idx_test, 'genre']\n",
    "})\n",
    "\n",
    "print(\"Primeras filas del dataframe para análisis de equidad:\")\n",
    "display(df_genero_eval.head())\n",
    "\n",
    "ruta_guardado = os.path.join('..', 'data', 'processed', 'df_genero_eval.csv')\n",
    "df_genero_eval.to_csv(ruta_guardado, index=False)\n",
    "print(f\"Datos guardados en: {ruta_guardado}\")"
   ]
  },
  {
   "cell_type": "markdown",
   "id": "f2babb6a",
   "metadata": {},
   "source": [
    "También guardaremos los conjuntos de datos de entrenamiento y de prueba, esto con el propósito de usarlos en la posterior \n",
    "aplicación de técnicas de mitigación sobre el modelo base:"
   ]
  },
  {
   "cell_type": "code",
   "execution_count": 39,
   "id": "fa811e0b",
   "metadata": {},
   "outputs": [
    {
     "name": "stdout",
     "output_type": "stream",
     "text": [
      "Conjuntos de entrenamiento y prueba guardados en:\n",
      " - ..\\data\\processed\\X_train.csv\n",
      " - ..\\data\\processed\\X_test.csv\n",
      " - ..\\data\\processed\\y_train.csv\n",
      " - ..\\data\\processed\\y_test.csv\n"
     ]
    }
   ],
   "source": [
    "# Convertimos los conjuntos de entrenamiento y prueba a DataFrames para guardarlos\n",
    "X_train_df = pd.DataFrame(X_train, columns=variables_seleccionadas)\n",
    "X_test_df = pd.DataFrame(X_test, columns=variables_seleccionadas)\n",
    "y_train_df = pd.DataFrame(y_train, columns=['target'])\n",
    "y_test_df = pd.DataFrame(y_test, columns=['target'])\n",
    "\n",
    "# Definimos las rutas para guardar los conjuntos de entrenamiento y prueba\n",
    "ruta_X_train = os.path.join('..', 'data', 'processed', 'X_train.csv')\n",
    "ruta_X_test = os.path.join('..', 'data', 'processed', 'X_test.csv')\n",
    "ruta_y_train = os.path.join('..', 'data', 'processed', 'y_train.csv')\n",
    "ruta_y_test = os.path.join('..', 'data', 'processed', 'y_test.csv')\n",
    "\n",
    "# Guardamos los conjuntos de entrenamiento y prueba en archivos CSV\n",
    "X_train_df.to_csv(ruta_X_train, index=False)\n",
    "X_test_df.to_csv(ruta_X_test, index=False)\n",
    "y_train_df.to_csv(ruta_y_train, index=False)\n",
    "y_test_df.to_csv(ruta_y_test, index=False)\n",
    "\n",
    "print(f\"Conjuntos de entrenamiento y prueba guardados en:\")\n",
    "print(f\" - {ruta_X_train}\")\n",
    "print(f\" - {ruta_X_test}\")\n",
    "print(f\" - {ruta_y_train}\")\n",
    "print(f\" - {ruta_y_test}\")"
   ]
  },
  {
   "cell_type": "markdown",
   "id": "347f93d8",
   "metadata": {
    "id": "347f93d8"
   },
   "source": [
    "## 7. Resumen y conclusiones"
   ]
  },
  {
   "cell_type": "markdown",
   "id": "32a746d1",
   "metadata": {
    "id": "32a746d1"
   },
   "source": [
    "En este notebook hemos completado las siguientes tareas:\n",
    "\n",
    "1. **Carga y preparación de datos**: Importamos el conjunto de datos German Credit y aplicamos un One hot encoding para poder entrenar un modelo usando también a las variables categóricas.\n",
    "\n",
    "2. **Selección de features**: Una vez hecho el One-Hot Encoding elegimos las columnas que mostraron mayor correlación con la variable objetivo, eliminando así gran parte del ruido.\n",
    "\n",
    "3. **Entrenamiento del modelo**: Implementamos un modelo de regresión logística para predecir el riesgo crediticio de un solicitante.\n",
    "\n",
    "4. **Evaluación de desempeño**: Analizamos las métricas de clasificación y la matriz de confusión para entender el comportamiento del modelo.\n",
    "\n",
    "5. **Preparación y guardado de datos para análisis de equidad y posterior mitigación**: Generamos un conjunto de datos que incluye las predicciones y el género de los solicitantes, además guardamos los conjuntos de datos de entrenamiento y prueba para usarlo en posteriores modelos mitigados que desarrollemos.\n",
    "\n",
    "Observamos que el modelo tiene un buen desempeño general (77% de exactitud), pero muestra diferencias significativas en su capacidad para identificar correctamente las dos clases: es mejor identificando solicitantes de bajo riesgo (91% de sensibilidad) que solicitantes de alto riesgo (42% de sensibilidad)."
   ]
  },
  {
   "cell_type": "markdown",
   "id": "fa6ddd31",
   "metadata": {
    "id": "fa6ddd31"
   },
   "source": [
    "# Evaluación de equidad por género"
   ]
  },
  {
   "cell_type": "markdown",
   "id": "c09c298f",
   "metadata": {
    "id": "c09c298f"
   },
   "source": [
    "## Índice de Contenido\n",
    "\n",
    "1. [Preparación del entorno y carga de datos](#1.-Preparación-del-entorno-y-carga-de-datos)\n",
    "2. [Mirando matriz de confusión y métricas varias](#2.-Mirando-matriz-de-confusión-y-métricas-varias)\n",
    "3. [Evaluando según distintos enfoques del Group Fairness](#3.-Evaluando-según-distintos-enfoques-del-group-fairness)\n",
    "    - [Definición de métricas del Group Fairness](#3.1-Definición-de-métricas-del-group-fairness)\n",
    "    - [Evaluación de disparidad](#3.2-Evaluación-de-disparidad)\n",
    "4. [Resumen y conclusiones](#4.-Resumen-y-conclusiones)"
   ]
  },
  {
   "cell_type": "markdown",
   "id": "c0b69103",
   "metadata": {
    "id": "c0b69103"
   },
   "source": [
    "## 1. Preparación del entorno y carga de datos"
   ]
  },
  {
   "cell_type": "code",
   "execution_count": 1,
   "id": "a025aa0b",
   "metadata": {
    "id": "a025aa0b"
   },
   "outputs": [],
   "source": [
    "import pandas as pd\n",
    "import matplotlib.pyplot as plt\n",
    "import os\n",
    "\n",
    "ruta_archivo = os.path.join('..', 'data', 'processed', 'df_genero_eval.csv')\n",
    "\n",
    "df_genero_eval = pd.read_csv(ruta_archivo)"
   ]
  },
  {
   "cell_type": "code",
   "execution_count": 2,
   "id": "Jc1BdkpRzCkk",
   "metadata": {
    "colab": {
     "base_uri": "https://localhost:8080/",
     "height": 258
    },
    "id": "Jc1BdkpRzCkk",
    "outputId": "b05c6ddc-cda1-42fd-e1ff-d688b97f3379"
   },
   "outputs": [
    {
     "name": "stdout",
     "output_type": "stream",
     "text": [
      "Dimensiones del dataset: 200 filas × 3 columnas\n",
      "\n",
      "Primeras 5 filas:\n"
     ]
    },
    {
     "data": {
      "text/html": [
       "<div>\n",
       "<style scoped>\n",
       "    .dataframe tbody tr th:only-of-type {\n",
       "        vertical-align: middle;\n",
       "    }\n",
       "\n",
       "    .dataframe tbody tr th {\n",
       "        vertical-align: top;\n",
       "    }\n",
       "\n",
       "    .dataframe thead th {\n",
       "        text-align: right;\n",
       "    }\n",
       "</style>\n",
       "<table border=\"1\" class=\"dataframe\">\n",
       "  <thead>\n",
       "    <tr style=\"text-align: right;\">\n",
       "      <th></th>\n",
       "      <th>y_test</th>\n",
       "      <th>y_pred_test</th>\n",
       "      <th>genre</th>\n",
       "    </tr>\n",
       "  </thead>\n",
       "  <tbody>\n",
       "    <tr>\n",
       "      <th>0</th>\n",
       "      <td>0</td>\n",
       "      <td>1</td>\n",
       "      <td>female</td>\n",
       "    </tr>\n",
       "    <tr>\n",
       "      <th>1</th>\n",
       "      <td>1</td>\n",
       "      <td>1</td>\n",
       "      <td>male</td>\n",
       "    </tr>\n",
       "    <tr>\n",
       "      <th>2</th>\n",
       "      <td>1</td>\n",
       "      <td>0</td>\n",
       "      <td>male</td>\n",
       "    </tr>\n",
       "    <tr>\n",
       "      <th>3</th>\n",
       "      <td>1</td>\n",
       "      <td>1</td>\n",
       "      <td>male</td>\n",
       "    </tr>\n",
       "    <tr>\n",
       "      <th>4</th>\n",
       "      <td>1</td>\n",
       "      <td>1</td>\n",
       "      <td>male</td>\n",
       "    </tr>\n",
       "  </tbody>\n",
       "</table>\n",
       "</div>"
      ],
      "text/plain": [
       "   y_test  y_pred_test   genre\n",
       "0       0            1  female\n",
       "1       1            1    male\n",
       "2       1            0    male\n",
       "3       1            1    male\n",
       "4       1            1    male"
      ]
     },
     "execution_count": 2,
     "metadata": {},
     "output_type": "execute_result"
    }
   ],
   "source": [
    "# Vista general de los datos\n",
    "print(f\"Dimensiones del dataset: {df_genero_eval.shape[0]} filas × {df_genero_eval.shape[1]} columnas\\n\")\n",
    "print(\"Primeras 5 filas:\")\n",
    "df_genero_eval.head()"
   ]
  },
  {
   "cell_type": "code",
   "execution_count": 3,
   "id": "y_BHs25KzIv8",
   "metadata": {
    "colab": {
     "base_uri": "https://localhost:8080/"
    },
    "id": "y_BHs25KzIv8",
    "outputId": "004c3112-b891-4714-f245-dd58501265a8"
   },
   "outputs": [
    {
     "name": "stdout",
     "output_type": "stream",
     "text": [
      "<class 'pandas.core.frame.DataFrame'>\n",
      "RangeIndex: 200 entries, 0 to 199\n",
      "Data columns (total 3 columns):\n",
      " #   Column       Non-Null Count  Dtype \n",
      "---  ------       --------------  ----- \n",
      " 0   y_test       200 non-null    int64 \n",
      " 1   y_pred_test  200 non-null    int64 \n",
      " 2   genre        200 non-null    object\n",
      "dtypes: int64(2), object(1)\n",
      "memory usage: 4.8+ KB\n"
     ]
    }
   ],
   "source": [
    "# Información general sobre el dataset\n",
    "df_genero_eval.info()"
   ]
  },
  {
   "cell_type": "markdown",
   "id": "bfd316b9",
   "metadata": {
    "id": "bfd316b9"
   },
   "source": [
    "## 2. Mirando matriz de confusión y métricas varias"
   ]
  },
  {
   "cell_type": "markdown",
   "id": "c1b9ac1b",
   "metadata": {
    "id": "c1b9ac1b"
   },
   "source": [
    "Ahora vamos a analizar al atributo que consideramos sensible en este análisis, el género. Para esto vamos a separar el conjunto de datos entre la categoría femenina y masculina:"
   ]
  },
  {
   "cell_type": "code",
   "execution_count": 4,
   "id": "246317c2",
   "metadata": {
    "id": "246317c2"
   },
   "outputs": [],
   "source": [
    "df_male_eval = df_genero_eval[df_genero_eval['genre'] == 'male']\n",
    "df_female_eval = df_genero_eval[df_genero_eval['genre']  == 'female']"
   ]
  },
  {
   "cell_type": "markdown",
   "id": "8f47b522",
   "metadata": {
    "id": "8f47b522"
   },
   "source": [
    "Con los grupos separados lo siguiente es armar una matriz de confusión para cada uno, así podremos tener insights más precisos sobre el comportamiento del modelo con ambos grupos:"
   ]
  },
  {
   "cell_type": "code",
   "execution_count": 5,
   "id": "ac2dd97a",
   "metadata": {
    "id": "ac2dd97a",
    "outputId": "a17e8700-f979-428c-e190-b48142bfb39b"
   },
   "outputs": [
    {
     "data": {
      "image/png": "[encoded data removed]",
      "text/plain": [
       "<Figure size 1500x500 with 4 Axes>"
      ]
     },
     "metadata": {},
     "output_type": "display_data"
    }
   ],
   "source": [
    "from tp_final_fairness_ML.utils.plotting import graficar_matriz_de_confusion_por_genero\n",
    "\n",
    "graficar_matriz_de_confusion_por_genero([df_female_eval, df_male_eval], ['Bajo riesgo (1)', 'Alto riesgo (0)'], 'genre', 'y_test', 'y_pred_test')"
   ]
  },
  {
   "cell_type": "markdown",
   "id": "7f77615a",
   "metadata": {
    "id": "7f77615a"
   },
   "source": [
    "De este par de gráficos podemos notar lo siguiente:\n",
    "\n",
    "* En ambas categorías el modelo logró identificar en la mayoría de los casos a los verdaderos positivos con 34 casos en la categoría femenina y 94 en la masculina.\n",
    "\n",
    "* En la categoría masculina se obtuvo una mayor tasa de falsos positivos en términos de proporción a comparación de la categoría femenina, siendo que de un total de 42 casos de alto riesgo, 26 fueron falsos positivos y 16 verdaderos negativos.\n",
    "\n",
    "* En la categoría femenina solamente se identificaron a 5 personas erróneamente como de alto riesgo, lo que indica que el modelo tuvo un buen desempeño identificando instancias positivas en esta clase.\n",
    "\n",
    "Con estos puntos ya empezamos a notar cosas importantes acerca del desempeño del modelo entre los grupos, **pareciendo inicialmente que el modelo se desempeñó mejor en la clase femenina**.\n",
    "\n",
    "Miremos ahora las métricas generales de clasificación para cada grupo:"
   ]
  },
  {
   "cell_type": "code",
   "execution_count": 6,
   "id": "e58aace8",
   "metadata": {
    "id": "e58aace8",
    "outputId": "bc3d9aae-28bb-4401-b2f3-5ac385743754"
   },
   "outputs": [
    {
     "name": "stdout",
     "output_type": "stream",
     "text": [
      "Mujeres:\n",
      "              precision    recall  f1-score   support\n",
      "\n",
      "           0       0.64      0.53      0.58        17\n",
      "           1       0.81      0.87      0.84        39\n",
      "\n",
      "    accuracy                           0.77        56\n",
      "   macro avg       0.73      0.70      0.71        56\n",
      "weighted avg       0.76      0.77      0.76        56\n",
      "\n",
      "Hombres:\n",
      "              precision    recall  f1-score   support\n",
      "\n",
      "           0       0.67      0.38      0.48        42\n",
      "           1       0.78      0.92      0.85       102\n",
      "\n",
      "    accuracy                           0.76       144\n",
      "   macro avg       0.72      0.65      0.67       144\n",
      "weighted avg       0.75      0.76      0.74       144\n",
      "\n"
     ]
    }
   ],
   "source": [
    "from sklearn.metrics import classification_report\n",
    "\n",
    "print(\"Mujeres:\")\n",
    "print(classification_report(df_female_eval['y_test'], df_female_eval['y_pred_test']))\n",
    "print(\"Hombres:\")\n",
    "print(classification_report(df_male_eval['y_test'], df_male_eval['y_pred_test']))"
   ]
  },
  {
   "cell_type": "markdown",
   "id": "3148b189",
   "metadata": {
    "id": "3148b189"
   },
   "source": [
    "Podemos ver que en términos de métricas calculadas no hay diferencias significativas entre ambos géneros, siendo que en casos como **accuracy general** ambas tuvieron puntajes casi similares e igual ocurre con las otras métricas. **¿Que implica esto en términos de equidad?**.\n",
    "\n",
    "Para analizar esto aún más a profundidad vamos a hacer **pruebas de disparidad** entre ambos géneros para evaluar si el modelo está generando predicciones justas."
   ]
  },
  {
   "cell_type": "markdown",
   "id": "dfe4c455",
   "metadata": {
    "id": "dfe4c455"
   },
   "source": [
    "## 3. Evaluando según distintos enfoques del Group Fairness"
   ]
  },
  {
   "cell_type": "markdown",
   "id": "4c6e086b",
   "metadata": {},
   "source": [
    "En el contexto en el que nos encontramos, donde desarrollamos un modelo de aprendizaje automático que ayude en la asignación de créditos bancarios, es fundamental garantizar que las decisiones del sistema no estén sesgadas en función de atributos sensibles como el género. Un enfoque que nos ayudará a evaluar cuestiones relacionadas al sesgo por grupos es el **Group Fairness (equidad grupal)**, el cual permite evaluar si el modelo trata de manera equitativa a distintos grupos poblacionales definidos por atributos sensibles. \n",
    "\n",
    "Este enfoque se basa en comparar métricas de desempeño del modelo **—como tasas de verdaderos positivos, falsos positivos, precisión o tasa de aprobación—** entre los distintos grupos. Su relevancia radica en que ayuda a identificar **disparidades sistemáticas que podrían derivar en discriminación algorítmica**, afectando la transparencia, la justicia y, potencialmente, el cumplimiento normativo de la organización."
   ]
  },
  {
   "cell_type": "markdown",
   "id": "Bz-CDtU1-w2j",
   "metadata": {
    "id": "Bz-CDtU1-w2j"
   },
   "source": [
    "### 3.1 Definición de métricas del Group Fairness"
   ]
  },
  {
   "cell_type": "markdown",
   "id": "Pcc9nY5uCexz",
   "metadata": {
    "id": "Pcc9nY5uCexz"
   },
   "source": [
    "Entre las principales definiciones de equidad según el enfoque de **Group Fairness**, se identifican **cuatro métricas clave**, que en nuestro caso pueden interpretarse de la siguiente manera:\n",
    "\n",
    "* **Statistical Parity / Demographic Parity (Independencia): $\\mathbb{P}(\\hat{Y} = 1 | A =a) = \\mathbb{P}(\\hat{Y} = 1 | A =b)$:** En nuestro contexto, la clase positiva (1) representa a un solicitante con bajo riesgo crediticio. Este criterio busca que la proporción de personas clasificadas por el modelo como de bajo riesgo sea la misma en ambos grupos (géneros). Esto apunta a garantizar un acceso equitativo a decisiones favorables sin importar el grupo al que se pertenezca.\n",
    "\n",
    "* **Equalized Odds (Separación): $\\mathbb{P}(\\hat{Y} = 1 |Y = 1, A =a) = \\mathbb{P}(\\hat{Y} = 1 |Y = 1, A =b)$ $\\text{ y }$ $\\mathbb{P}(\\hat{Y} = 1 |Y = 0, A =a) = \\mathbb{P}(\\hat{Y} = 1 |Y = 0, A =b)$:** Este criterio exige que el modelo tenga la misma tasa de verdaderos positivos (clasificar correctamente como de bajo riesgo) y de falsos positivos (clasificar como de bajo riesgo a quienes en realidad no lo son) para ambos grupos. Es decir, que el modelo acierte y se equivoque de forma similar para todos los grupos sensibles.\n",
    "\n",
    "* **Equal Oportunity (Separación relajada): $\\mathbb{P}(\\hat{Y} = 1 |Y = 1, A =a) = \\mathbb{P}(\\hat{Y} = 1 |Y = 1, A =b)$:** Es una versión más flexible de Equalized Odds. Se enfoca únicamente en la tasa de verdaderos positivos, buscando que el modelo identifique con la misma probabilidad como de bajo riesgo a las personas que realmente lo son, sin importar su grupo.\n",
    "\n",
    "* **Predictive Parity (Suficiencia): $\\mathbb{P}(Y= 1 |\\hat{Y} =1, A =a) = \\mathbb{P}(Y= 1 |\\hat{Y} =1, A =b)$** Este criterio se centra en la precisión de las predicciones positivas. En nuestro caso, exige que, entre los solicitantes identificados por el modelo como de bajo riesgo, la proporción que realmente lo son sea igual en ambos grupos. Esto asegura que la confianza que se puede tener en una predicción favorable sea independiente del grupo sensible."
   ]
  },
  {
   "cell_type": "markdown",
   "id": "Y3cr3hunIegK",
   "metadata": {
    "id": "Y3cr3hunIegK"
   },
   "source": [
    "Teniendo en cuenta las definiciones anteriores, ya contamos con una idea clara de qué aspectos debemos medir para evaluar la equidad en cada caso. Para hacerlo, necesitamos recurrir a métricas específicas que se alineen con cada una de estas definiciones. A continuación, detallamos las métricas correspondientes:\n",
    "\n",
    "* Para **Statistical Parity**, una métrica útil es **`pprev`**, que según la [documentación de Aequitas](https://dssg.github.io/aequitas/metrics.html), libreria dedicada a evaluar fairness, representa la proporción de instancias que el modelo clasifica como positivas (en nuestro caso, solicitantes de bajo riesgo) sobre el total de instancias de un grupo. Esta métrica refleja directamente la probabilidad condicional definida anteriormente.\n",
    "\n",
    "* En el caso de **Equalized Odds**, las métricas relevantes son el **True Positive Rate (TPR)** y el **False Positive Rate (FPR)**. Para que se cumpla esta definición, ambos indicadores deben superar la prueba de disparidad, es decir, presentar valores similares entre los grupos.\n",
    "\n",
    "* Para **Equal Opportunity**, nos enfocamos únicamente en el **True Positive Rate (TPR)**. Si esta métrica pasa la prueba de disparidad, se considera que la definición está satisfecha.\n",
    "\n",
    "* Finalmente, para **Predictive Parity**, la métrica adecuada es la **precisión (precision)**, que mide qué proporción de las instancias clasificadas como positivas por el modelo (bajo riesgo) fueron realmente positivas en la realidad.\n",
    "\n",
    "Con estas métricas definidas, podemos proceder a aplicar la prueba de disparidad entre los distintos grupos definidos por la variable de género."
   ]
  },
  {
   "cell_type": "markdown",
   "id": "apO4iUyp-7lT",
   "metadata": {
    "id": "apO4iUyp-7lT"
   },
   "source": [
    "### 3.2 Evaluación de disparidad"
   ]
  },
  {
   "cell_type": "markdown",
   "id": "223f2135",
   "metadata": {},
   "source": [
    "A continuación, utilizamos las métricas definidas previamente para evaluar la equidad del modelo en función del **género**. Para ello primero obtenemos sus valores puntuales para este caso:"
   ]
  },
  {
   "cell_type": "code",
   "execution_count": 7,
   "id": "cwQRDwms50MD",
   "metadata": {
    "colab": {
     "base_uri": "https://localhost:8080/",
     "height": 112
    },
    "id": "cwQRDwms50MD",
    "outputId": "af8b5eea-d4e0-4cd9-d750-57c5f5fa050d"
   },
   "outputs": [
    {
     "data": {
      "text/html": [
       "<div>\n",
       "<style scoped>\n",
       "    .dataframe tbody tr th:only-of-type {\n",
       "        vertical-align: middle;\n",
       "    }\n",
       "\n",
       "    .dataframe tbody tr th {\n",
       "        vertical-align: top;\n",
       "    }\n",
       "\n",
       "    .dataframe thead th {\n",
       "        text-align: right;\n",
       "    }\n",
       "</style>\n",
       "<table border=\"1\" class=\"dataframe\">\n",
       "  <thead>\n",
       "    <tr style=\"text-align: right;\">\n",
       "      <th></th>\n",
       "      <th>attribute_value</th>\n",
       "      <th>pprev</th>\n",
       "      <th>tpr</th>\n",
       "      <th>fpr</th>\n",
       "      <th>precision</th>\n",
       "    </tr>\n",
       "  </thead>\n",
       "  <tbody>\n",
       "    <tr>\n",
       "      <th>0</th>\n",
       "      <td>female</td>\n",
       "      <td>0.750000</td>\n",
       "      <td>0.871795</td>\n",
       "      <td>0.470588</td>\n",
       "      <td>0.809524</td>\n",
       "    </tr>\n",
       "    <tr>\n",
       "      <th>1</th>\n",
       "      <td>male</td>\n",
       "      <td>0.833333</td>\n",
       "      <td>0.921569</td>\n",
       "      <td>0.619048</td>\n",
       "      <td>0.783333</td>\n",
       "    </tr>\n",
       "  </tbody>\n",
       "</table>\n",
       "</div>"
      ],
      "text/plain": [
       "  attribute_value     pprev       tpr       fpr  precision\n",
       "0          female  0.750000  0.871795  0.470588   0.809524\n",
       "1            male  0.833333  0.921569  0.619048   0.783333"
      ]
     },
     "metadata": {},
     "output_type": "display_data"
    }
   ],
   "source": [
    "from tp_final_fairness_ML.utils.fairness_eval import calcular_metricas_group_fairness\n",
    "\n",
    "df_resultado = calcular_metricas_group_fairness(df_genero_eval, 'genre')\n",
    "display(df_resultado)"
   ]
  },
  {
   "cell_type": "markdown",
   "id": "0d5949fb",
   "metadata": {},
   "source": [
    "Para evaluar la equidad del modelo en términos de *Group Fairness*, decidimos adoptar como criterio de disparidad una diferencia máxima tolerable de **0.1** (en valor absoluto) entre las métricas de equidad de ambos géneros. Este umbral se fundamenta en tres consideraciones:\n",
    "\n",
    "* **Interpretabilidad práctica**: diferencias mayores al 10% en métricas como la tasa de verdaderos positivos o la tasa de aprobación pueden implicar efectos sustanciales y sistemáticos sobre el acceso a beneficios (como créditos, becas o servicios), y por lo tanto, pueden considerarse potencialmente injustas o discriminatorias desde una perspectiva de impacto social.\n",
    "\n",
    "* **Balance entre equidad y performance**: un umbral de 0.1 nos permite mantener un buen compromiso entre reducir el sesgo y no afectar excesivamente la capacidad predictiva del modelo. Umbrales más estrictos podrían forzar al modelo a sacrificar demasiado rendimiento, mientras que valores más permisivos podrían ignorar desigualdades sustanciales.\n",
    "\n",
    "En este análisis, entonces, **consideramos como aceptable toda diferencia en módulo menor o igual a 0.1**. Si alguna métrica clave supera dicho umbral, interpretamos que hay indicios de sesgo que deben ser luego mitigados. "
   ]
  },
  {
   "cell_type": "code",
   "execution_count": 8,
   "id": "F0W5mgaiD3Az",
   "metadata": {
    "colab": {
     "base_uri": "https://localhost:8080/"
    },
    "id": "F0W5mgaiD3Az",
    "outputId": "289de4a8-bfce-4963-c7e9-451e1558d2dc"
   },
   "outputs": [
    {
     "name": "stdout",
     "output_type": "stream",
     "text": [
      "pprev        0.083333\n",
      "tpr          0.049774\n",
      "fpr          0.148459\n",
      "precision     0.02619\n",
      "dtype: object\n"
     ]
    }
   ],
   "source": [
    "# Seleccionamos solo las columnas numéricas (excluyendo 'attribute_value')\n",
    "columnas_numericas = ['pprev', 'tpr', 'fpr', 'precision']\n",
    "\n",
    "# Calculamos la diferencia absoluta entre las dos filas\n",
    "modulo_diferencias = (df_resultado.loc[0, columnas_numericas] - df_resultado.loc[1, columnas_numericas]).abs()\n",
    "\n",
    "# Mostramos el resultado\n",
    "print(modulo_diferencias)"
   ]
  },
  {
   "cell_type": "markdown",
   "id": "6f96a8ff",
   "metadata": {},
   "source": [
    "A partir de las diferencias obtenidas tenemos que:\n",
    "\n",
    "* **Demographic Parity** (`pprev`: 0.0833): **cumple**\n",
    "* **Predictive Parity** (`precision`: 0.0261): **cumple**\n",
    "* **Equalized Odds**:\n",
    "\n",
    "  * `tpr`: 0.0497 → **cumple** **(Equal Oportunity)**\n",
    "  * `fpr`: 0.1485 → **no cumple**\n",
    "\n",
    "Por lo tanto, el modelo **no cumple con Equalized Odds**, ya que comete más errores (falsos positivos) en un grupo que en el otro. Sin embargo nunca está de más destacar el buen desempeño \n",
    "general que tuvo nuestro modelo con las 4 métricas consideradas. \n",
    "\n",
    "Ahora pensando desde la perspectiva del equipo que forma parte del banco que otorga los créditos, sabemos que nuestro objetivo principal es **maximizar la cantidad de personas que efectivamente van a pagar el préstamo**. Desde esta perspectiva, **Equalized Odds** es la definición de equidad que mejor se alinea con nuestra meta institucional, ya que:\n",
    "\n",
    "* Controla a los verdaderos positivos, procurando que ambos grupos tengan tasas similares en esta métrica e **identificando correctamente a personas que podrán pagar**.\n",
    "\n",
    "* Evita otorgar créditos a quienes no podrán pagarlos **ya que toma en cuenta también a los falsos positivos**, protegiendo la sustentabilidad del sistema.\n",
    "\n",
    "Teniendo esto en cuenta, y dado que observamos una disparidad en la tasa de falsos positivos entre grupos, el próximo paso será desarrollar un modelo que mitigue este sesgo y nos permita cumplir con la definición de **Equalized Odds** en nuestro caso de asignación de créditos."
   ]
  },
  {
   "cell_type": "markdown",
   "id": "4bfcbf30",
   "metadata": {
    "id": "4bfcbf30"
   },
   "source": [
    "## 4. Resumen y conclusiones"
   ]
  },
  {
   "cell_type": "markdown",
   "id": "9d450b4e",
   "metadata": {
    "vscode": {
     "languageId": "groovy"
    }
   },
   "source": [
    "En este notebook se llevaron a cabo las siguientes etapas:\n",
    "\n",
    "1. **Carga y exploración de datos**: Se importó el dataset procesado con información de género y predicciones de riesgo crediticio, realizando una revisión inicial de sus dimensiones y características principales.\n",
    "\n",
    "2. **Análisis de desempeño por género**: Se dividieron los datos en grupos según el género (femenino y masculino) y se evaluó el comportamiento del modelo en cada uno, utilizando matrices de confusión y métricas de clasificación como accuracy, precisión, sensibilidad y tasa de falsos positivos.\n",
    "\n",
    "3. **Definición y cálculo de métricas de equidad**: Se presentaron los principales enfoques de Group Fairness (Demographic Parity, Equalized Odds, Equal Opportunity y Predictive Parity) y se calcularon las métricas asociadas para cada grupo.\n",
    "\n",
    "4. **Evaluación de disparidad**: Se compararon las métricas clave entre géneros, estableciendo un umbral de tolerancia 0.1 para considerar aceptable la diferencia. Se identificó que el modelo cumple con la mayoría de los criterios de equidad, excepto en la tasa de falsos positivos (Equalized Odds), donde se observa una disparidad relevante.\n",
    "\n",
    "5. **Conclusiones y próximos pasos**: Se concluye que, aunque el modelo muestra buen desempeño general, existe un sesgo en la tasa de falsos positivos entre géneros. Se plantea como siguiente objetivo el desarrollo de un modelo mitigado que logre cumplir con Equalized Odds, alineando la equidad con los objetivos institucionales del banco.\n",
    "\n",
    "En resumen, el análisis permitió identificar fortalezas y áreas de mejora en términos de equidad de género, sentando las bases para futuras acciones de mitigación de sesgo en modelos de riesgo crediticio."
   ]
  },
  {
   "cell_type": "markdown",
   "id": "0922741b",
   "metadata": {},
   "source": [
    "# Mitigación de sesgo en el modelo original"
   ]
  },
  {
   "cell_type": "markdown",
   "id": "a347a0a1",
   "metadata": {},
   "source": [
    "## Índice de Contenido\n",
    "\n",
    "1. [Preparación del entorno y carga de datos](#1.-Preparación-del-entorno-y-carga-de-datos)\n",
    "2. [Primer método de mitigación](#2.-Primer-método-de-mitigación)\n",
    "    - [Aplicación del método y entrenamiento del modelo](#2.1-Aplicación-del-método-y-entrenamiento-del-modelo)\n",
    "    - [Evaluación del modelo mediante métricas de clasificación](#2.2-Evaluación-del-modelo-mediante-métricas-de-clasificación)\n",
    "3. [Segundo método de mitigación](#3.-Segundo-método-de-mitigación)\n",
    "    - [Aplicación del método y entrenamiento del modelo](#3.1-Aplicación-del-método-y-entrenamiento-del-modelo)\n",
    "    - [Evaluación del modelo mediante métricas de clasificación](#3.2-Evaluación-del-modelo-mediante-métricas-de-clasificación)\n",
    "4. [Evaluación de equidad de modelos mitigados](#4.-Evaluación-de-equidad-de-modelos-mitigados)\n",
    "5. [Resumen y conclusiones](#5.-Resumen-y-conclusiones)"
   ]
  },
  {
   "cell_type": "markdown",
   "id": "965bb257",
   "metadata": {},
   "source": [
    "# 1. Preparación del entorno y carga de datos"
   ]
  },
  {
   "cell_type": "code",
   "execution_count": 141,
   "id": "fc905426",
   "metadata": {},
   "outputs": [],
   "source": [
    "import pandas as pd\n",
    "import os\n",
    "from holisticai.bias.metrics import classification_bias_metrics\n",
    "from sklearn.linear_model import LogisticRegression\n",
    "from holisticai.pipeline import Pipeline\n",
    "from sklearn.preprocessing import StandardScaler\n",
    "from sklearn.metrics import classification_report, accuracy_score\n",
    "from tp_final_fairness_ML.utils.plotting import graficar_matriz_de_confusion\n",
    "\n",
    "# Carga de datos\n",
    "ruta_X_train = os.path.join(\"..\", \"data\", \"processed\", \"X_train.csv\")\n",
    "ruta_X_test = os.path.join(\"..\", \"data\", \"processed\", \"X_test.csv\")\n",
    "ruta_y_train = os.path.join(\"..\", \"data\", \"processed\", \"y_train.csv\")\n",
    "ruta_y_test = os.path.join(\"..\", \"data\", \"processed\", \"y_test.csv\")\n",
    "\n",
    "X_train = pd.read_csv(ruta_X_train, index_col=0)\n",
    "X_test = pd.read_csv(ruta_X_test, index_col=0)\n",
    "y_train = pd.read_csv(ruta_y_train).values.ravel()\n",
    "y_test = pd.read_csv(ruta_y_test).values.ravel()"
   ]
  },
  {
   "cell_type": "markdown",
   "id": "a05f146d",
   "metadata": {},
   "source": [
    "#### Baseline"
   ]
  },
  {
   "cell_type": "code",
   "execution_count": 142,
   "id": "052d1fcf",
   "metadata": {},
   "outputs": [
    {
     "name": "stdout",
     "output_type": "stream",
     "text": [
      "                                       Value  Reference\n",
      "Metric                                                 \n",
      "Statistical Parity                  0.076389          0\n",
      "Disparate Impact                    1.101852          1\n",
      "Four Fifths Rule                    0.907563          1\n",
      "Cohen D                             0.193591          0\n",
      "2SD Rule                            1.224264          0\n",
      "Equality of Opportunity Difference  0.049774          0\n",
      "False Positive Rate Difference      0.124650          0\n",
      "Average Odds Difference             0.087212          0\n",
      "Accuracy Difference                 0.002976          0\n",
      "Baseline accuracy: 0.7700\n",
      "              precision    recall  f1-score   support\n",
      "\n",
      "           0       0.67      0.44      0.53        59\n",
      "           1       0.80      0.91      0.85       141\n",
      "\n",
      "    accuracy                           0.77       200\n",
      "   macro avg       0.73      0.67      0.69       200\n",
      "weighted avg       0.76      0.77      0.75       200\n",
      "\n"
     ]
    }
   ],
   "source": [
    "scaler = StandardScaler()\n",
    "X_train_scaled = scaler.fit_transform(X_train)\n",
    "X_test_scaled = scaler.transform(X_test)\n",
    "\n",
    "modelo = LogisticRegression(random_state=42, max_iter=1000)\n",
    "modelo.fit(X_train_scaled, y_train)\n",
    "\n",
    "y_pred_test = modelo.predict(X_test_scaled)\n",
    "\n",
    "metrics = {}\n",
    "\n",
    "baseline = classification_bias_metrics(\n",
    "    X_test[\"genre_male\"] == 1,\n",
    "    X_test[\"genre_male\"] == 0,\n",
    "    y_pred_test,\n",
    "    y_test,\n",
    "    metric_type=\"both\",\n",
    ")\n",
    "\n",
    "baseline_accuracy = accuracy_score(y_test, y_pred_test)\n",
    "\n",
    "metrics[\"Baseline\"] = baseline\n",
    "print(baseline)\n",
    "print(f\"Baseline accuracy: {baseline_accuracy:.4f}\")\n",
    "print(classification_report(y_test, y_pred_test))"
   ]
  },
  {
   "cell_type": "markdown",
   "id": "80433921",
   "metadata": {},
   "source": [
    "# 2. Primer método de mitigación"
   ]
  },
  {
   "cell_type": "markdown",
   "id": "38c3e7a6",
   "metadata": {},
   "source": [
    "## 2.1 Aplicación del método y entrenamiento del modelo"
   ]
  },
  {
   "cell_type": "code",
   "execution_count": 143,
   "id": "e6e2d74a",
   "metadata": {},
   "outputs": [
    {
     "name": "stdout",
     "output_type": "stream",
     "text": [
      "                                       Value  Reference\n",
      "Metric                                                 \n",
      "Statistical Parity                 -0.097222          0\n",
      "Disparate Impact                    0.888889          1\n",
      "Four Fifths Rule                    0.888889          1\n",
      "Cohen D                            -0.246777          0\n",
      "2SD Rule                           -1.558155          0\n",
      "Equality of Opportunity Difference -0.056561          0\n",
      "False Positive Rate Difference     -0.205882          0\n",
      "Average Odds Difference            -0.131222          0\n",
      "Accuracy Difference                 0.027778          0\n"
     ]
    }
   ],
   "source": [
    "from holisticai.bias.mitigation import CorrelationRemover\n",
    "\n",
    "mitigator = CorrelationRemover()\n",
    "\n",
    "model = LogisticRegression(random_state=42, max_iter=1000)\n",
    "\n",
    "pipeline = Pipeline(\n",
    "    steps=[\n",
    "        (\"scaler\", StandardScaler()),\n",
    "        (\"bm_preprocessing\", mitigator),\n",
    "        (\"estimator\", model),\n",
    "    ]\n",
    ")\n",
    "\n",
    "pipeline.fit(\n",
    "    X_train,\n",
    "    y_train,\n",
    "    bm__group_a=X_train[\"genre_male\"] == 1,\n",
    "    bm__group_b=X_train[\"genre_male\"] == 0,\n",
    ")\n",
    "\n",
    "y_pred_pipeline = pipeline.predict(\n",
    "    X_test, bm__group_a=X_test[\"genre_male\"] == 1, bm__group_b=X_test[\"genre_male\"] == 0\n",
    ")\n",
    "\n",
    "metrics_preprocessing_correlationRemover = classification_bias_metrics(\n",
    "    X_test[\"genre_male\"] == 1,\n",
    "    X_test[\"genre_male\"] == 0,\n",
    "    y_pred_pipeline,\n",
    "    y_test,\n",
    "    metric_type=\"both\",\n",
    ")\n",
    "\n",
    "metrics[\"CorrelationRemover\"] = metrics_preprocessing_correlationRemover\n",
    "print(metrics_preprocessing_correlationRemover)"
   ]
  },
  {
   "cell_type": "markdown",
   "id": "466392de",
   "metadata": {},
   "source": [
    "## 2.2 Evaluación del modelo mediante métricas de clasificación"
   ]
  },
  {
   "cell_type": "code",
   "execution_count": 144,
   "id": "2132cbf6",
   "metadata": {},
   "outputs": [
    {
     "name": "stdout",
     "output_type": "stream",
     "text": [
      "Reporte de clasificación:\n",
      "              precision    recall  f1-score   support\n",
      "\n",
      "           0       0.67      0.44      0.53        59\n",
      "           1       0.80      0.91      0.85       141\n",
      "\n",
      "    accuracy                           0.77       200\n",
      "   macro avg       0.73      0.67      0.69       200\n",
      "weighted avg       0.76      0.77      0.75       200\n",
      "\n"
     ]
    }
   ],
   "source": [
    "print(\"Reporte de clasificación:\")\n",
    "print(classification_report(y_test, y_pred_pipeline))"
   ]
  },
  {
   "cell_type": "code",
   "execution_count": 145,
   "id": "2e49b886",
   "metadata": {},
   "outputs": [
    {
     "data": {
      "image/png": "[encoded data removed]",
      "text/plain": [
       "<Figure size 1000x600 with 2 Axes>"
      ]
     },
     "metadata": {},
     "output_type": "display_data"
    }
   ],
   "source": [
    "graficar_matriz_de_confusion(y_test, y_pred_pipeline)"
   ]
  },
  {
   "cell_type": "markdown",
   "id": "3f2dea1b",
   "metadata": {},
   "source": [
    "# 3. Segundo método de mitigación"
   ]
  },
  {
   "cell_type": "markdown",
   "id": "b31858a3",
   "metadata": {},
   "source": [
    "## 3.1 Aplicación del método y entrenamiento del modelo"
   ]
  },
  {
   "cell_type": "code",
   "execution_count": 146,
   "id": "8b608273",
   "metadata": {},
   "outputs": [
    {
     "name": "stdout",
     "output_type": "stream",
     "text": [
      "[elapsed time: 00:00:00 | iter:5/100 | loss:400.8517]\n",
      "[elapsed time: 00:00:00 | Best Loss : 400.8517]\n",
      "                                       Value  Reference\n",
      "Metric                                                 \n",
      "Statistical Parity                 -0.058532          0\n",
      "Disparate Impact                    0.931713          1\n",
      "Four Fifths Rule                    0.931713          1\n",
      "Cohen D                            -0.151043          0\n",
      "2SD Rule                           -0.957166          0\n",
      "Equality of Opportunity Difference -0.062594          0\n",
      "False Positive Rate Difference     -0.064426          0\n",
      "Average Odds Difference            -0.063510          0\n",
      "Accuracy Difference                -0.018849          0\n"
     ]
    }
   ],
   "source": [
    "from holisticai.bias.mitigation import PrejudiceRemover\n",
    "\n",
    "mitigator = PrejudiceRemover(\n",
    "    maxiter=100, fit_intercept=True, verbose=1, print_interval=1\n",
    ")\n",
    "\n",
    "model = LogisticRegression(random_state=42, max_iter=1000)\n",
    "\n",
    "pipeline = Pipeline(\n",
    "    steps=[\n",
    "        (\"scaler\", StandardScaler()),\n",
    "        (\"bm_inprocessing\", mitigator.transform_estimator(model)),\n",
    "    ]\n",
    ")\n",
    "\n",
    "pipeline.fit(\n",
    "    X_train,\n",
    "    y_train,\n",
    "    bm__group_a=X_train[\"genre_male\"] == 1,\n",
    "    bm__group_b=X_train[\"genre_male\"] == 0,\n",
    ")\n",
    "\n",
    "y_pred_prejudice = pipeline.predict(\n",
    "    X_test, bm__group_a=X_test[\"genre_male\"] == 1, bm__group_b=X_test[\"genre_male\"] == 0\n",
    ")\n",
    "\n",
    "metrics_prejudice = classification_bias_metrics(\n",
    "    X_test[\"genre_male\"] == 1,\n",
    "    X_test[\"genre_male\"] == 0,\n",
    "    y_pred_prejudice,\n",
    "    y_test,\n",
    "    metric_type=\"both\",\n",
    ")\n",
    "\n",
    "metrics[\"PrejudiceRemover\"] = metrics_prejudice\n",
    "print(metrics_prejudice)"
   ]
  },
  {
   "cell_type": "markdown",
   "id": "2d91db36",
   "metadata": {},
   "source": [
    "## 3.2 Evaluación del modelo mediante métricas de clasificación"
   ]
  },
  {
   "cell_type": "code",
   "execution_count": 147,
   "id": "2593e90d",
   "metadata": {},
   "outputs": [
    {
     "name": "stdout",
     "output_type": "stream",
     "text": [
      "Reporte de clasificación:\n",
      "              precision    recall  f1-score   support\n",
      "\n",
      "           0       0.73      0.46      0.56        59\n",
      "           1       0.80      0.93      0.86       141\n",
      "\n",
      "    accuracy                           0.79       200\n",
      "   macro avg       0.77      0.69      0.71       200\n",
      "weighted avg       0.78      0.79      0.77       200\n",
      "\n"
     ]
    }
   ],
   "source": [
    "print(\"Reporte de clasificación:\")\n",
    "print(classification_report(y_test, y_pred_prejudice))"
   ]
  },
  {
   "cell_type": "code",
   "execution_count": 148,
   "id": "f9728016",
   "metadata": {},
   "outputs": [
    {
     "data": {
      "image/png": "[encoded data removed]",
      "text/plain": [
       "<Figure size 1000x600 with 2 Axes>"
      ]
     },
     "metadata": {},
     "output_type": "display_data"
    }
   ],
   "source": [
    "graficar_matriz_de_confusion(y_test, y_pred_prejudice)"
   ]
  },
  {
   "cell_type": "markdown",
   "id": "03ccc6e5",
   "metadata": {},
   "source": [
    "# 4. Evaluación de equidad de modelos mitigados"
   ]
  },
  {
   "cell_type": "code",
   "execution_count": 149,
   "id": "897d3ea4",
   "metadata": {},
   "outputs": [
    {
     "data": {
      "text/html": [
       "<style type=\"text/css\">\n",
       "#T_4f10e_row0_col2, #T_4f10e_row1_col2, #T_4f10e_row2_col2, #T_4f10e_row3_col2, #T_4f10e_row4_col2, #T_4f10e_row5_col0, #T_4f10e_row6_col2, #T_4f10e_row7_col2, #T_4f10e_row8_col0 {\n",
       "  background-color: mediumseagreen;\n",
       "}\n",
       "</style>\n",
       "<table id=\"T_4f10e\">\n",
       "  <thead>\n",
       "    <tr>\n",
       "      <th class=\"blank level0\" >&nbsp;</th>\n",
       "      <th id=\"T_4f10e_level0_col0\" class=\"col_heading level0 col0\" >Baseline</th>\n",
       "      <th id=\"T_4f10e_level0_col1\" class=\"col_heading level0 col1\" >CorrelationRemover</th>\n",
       "      <th id=\"T_4f10e_level0_col2\" class=\"col_heading level0 col2\" >PrejudiceRemover</th>\n",
       "      <th id=\"T_4f10e_level0_col3\" class=\"col_heading level0 col3\" >Reference</th>\n",
       "    </tr>\n",
       "    <tr>\n",
       "      <th class=\"index_name level0\" >Metric</th>\n",
       "      <th class=\"blank col0\" >&nbsp;</th>\n",
       "      <th class=\"blank col1\" >&nbsp;</th>\n",
       "      <th class=\"blank col2\" >&nbsp;</th>\n",
       "      <th class=\"blank col3\" >&nbsp;</th>\n",
       "    </tr>\n",
       "  </thead>\n",
       "  <tbody>\n",
       "    <tr>\n",
       "      <th id=\"T_4f10e_level0_row0\" class=\"row_heading level0 row0\" >Statistical Parity</th>\n",
       "      <td id=\"T_4f10e_row0_col0\" class=\"data row0 col0\" >0.076389</td>\n",
       "      <td id=\"T_4f10e_row0_col1\" class=\"data row0 col1\" >-0.097222</td>\n",
       "      <td id=\"T_4f10e_row0_col2\" class=\"data row0 col2\" >-0.058532</td>\n",
       "      <td id=\"T_4f10e_row0_col3\" class=\"data row0 col3\" >0</td>\n",
       "    </tr>\n",
       "    <tr>\n",
       "      <th id=\"T_4f10e_level0_row1\" class=\"row_heading level0 row1\" >Disparate Impact</th>\n",
       "      <td id=\"T_4f10e_row1_col0\" class=\"data row1 col0\" >1.101852</td>\n",
       "      <td id=\"T_4f10e_row1_col1\" class=\"data row1 col1\" >0.888889</td>\n",
       "      <td id=\"T_4f10e_row1_col2\" class=\"data row1 col2\" >0.931713</td>\n",
       "      <td id=\"T_4f10e_row1_col3\" class=\"data row1 col3\" >1</td>\n",
       "    </tr>\n",
       "    <tr>\n",
       "      <th id=\"T_4f10e_level0_row2\" class=\"row_heading level0 row2\" >Four Fifths Rule</th>\n",
       "      <td id=\"T_4f10e_row2_col0\" class=\"data row2 col0\" >0.907563</td>\n",
       "      <td id=\"T_4f10e_row2_col1\" class=\"data row2 col1\" >0.888889</td>\n",
       "      <td id=\"T_4f10e_row2_col2\" class=\"data row2 col2\" >0.931713</td>\n",
       "      <td id=\"T_4f10e_row2_col3\" class=\"data row2 col3\" >1</td>\n",
       "    </tr>\n",
       "    <tr>\n",
       "      <th id=\"T_4f10e_level0_row3\" class=\"row_heading level0 row3\" >Cohen D</th>\n",
       "      <td id=\"T_4f10e_row3_col0\" class=\"data row3 col0\" >0.193591</td>\n",
       "      <td id=\"T_4f10e_row3_col1\" class=\"data row3 col1\" >-0.246777</td>\n",
       "      <td id=\"T_4f10e_row3_col2\" class=\"data row3 col2\" >-0.151043</td>\n",
       "      <td id=\"T_4f10e_row3_col3\" class=\"data row3 col3\" >0</td>\n",
       "    </tr>\n",
       "    <tr>\n",
       "      <th id=\"T_4f10e_level0_row4\" class=\"row_heading level0 row4\" >2SD Rule</th>\n",
       "      <td id=\"T_4f10e_row4_col0\" class=\"data row4 col0\" >1.224264</td>\n",
       "      <td id=\"T_4f10e_row4_col1\" class=\"data row4 col1\" >-1.558155</td>\n",
       "      <td id=\"T_4f10e_row4_col2\" class=\"data row4 col2\" >-0.957166</td>\n",
       "      <td id=\"T_4f10e_row4_col3\" class=\"data row4 col3\" >0</td>\n",
       "    </tr>\n",
       "    <tr>\n",
       "      <th id=\"T_4f10e_level0_row5\" class=\"row_heading level0 row5\" >Equality of Opportunity Difference</th>\n",
       "      <td id=\"T_4f10e_row5_col0\" class=\"data row5 col0\" >0.049774</td>\n",
       "      <td id=\"T_4f10e_row5_col1\" class=\"data row5 col1\" >-0.056561</td>\n",
       "      <td id=\"T_4f10e_row5_col2\" class=\"data row5 col2\" >-0.062594</td>\n",
       "      <td id=\"T_4f10e_row5_col3\" class=\"data row5 col3\" >0</td>\n",
       "    </tr>\n",
       "    <tr>\n",
       "      <th id=\"T_4f10e_level0_row6\" class=\"row_heading level0 row6\" >False Positive Rate Difference</th>\n",
       "      <td id=\"T_4f10e_row6_col0\" class=\"data row6 col0\" >0.124650</td>\n",
       "      <td id=\"T_4f10e_row6_col1\" class=\"data row6 col1\" >-0.205882</td>\n",
       "      <td id=\"T_4f10e_row6_col2\" class=\"data row6 col2\" >-0.064426</td>\n",
       "      <td id=\"T_4f10e_row6_col3\" class=\"data row6 col3\" >0</td>\n",
       "    </tr>\n",
       "    <tr>\n",
       "      <th id=\"T_4f10e_level0_row7\" class=\"row_heading level0 row7\" >Average Odds Difference</th>\n",
       "      <td id=\"T_4f10e_row7_col0\" class=\"data row7 col0\" >0.087212</td>\n",
       "      <td id=\"T_4f10e_row7_col1\" class=\"data row7 col1\" >-0.131222</td>\n",
       "      <td id=\"T_4f10e_row7_col2\" class=\"data row7 col2\" >-0.063510</td>\n",
       "      <td id=\"T_4f10e_row7_col3\" class=\"data row7 col3\" >0</td>\n",
       "    </tr>\n",
       "    <tr>\n",
       "      <th id=\"T_4f10e_level0_row8\" class=\"row_heading level0 row8\" >Accuracy Difference</th>\n",
       "      <td id=\"T_4f10e_row8_col0\" class=\"data row8 col0\" >0.002976</td>\n",
       "      <td id=\"T_4f10e_row8_col1\" class=\"data row8 col1\" >0.027778</td>\n",
       "      <td id=\"T_4f10e_row8_col2\" class=\"data row8 col2\" >-0.018849</td>\n",
       "      <td id=\"T_4f10e_row8_col3\" class=\"data row8 col3\" >0</td>\n",
       "    </tr>\n",
       "  </tbody>\n",
       "</table>\n"
      ],
      "text/plain": [
       "<pandas.io.formats.style.Styler at 0x23e207328d0>"
      ]
     },
     "execution_count": 149,
     "metadata": {},
     "output_type": "execute_result"
    }
   ],
   "source": [
    "keys = [\"Baseline\", \"CorrelationRemover\", \"PrejudiceRemover\", \"Reference\"]\n",
    "comparison = pd.concat(\n",
    "    [\n",
    "        baseline[\"Value\"],\n",
    "        metrics_preprocessing_correlationRemover[\"Value\"],\n",
    "        metrics_prejudice,\n",
    "    ],\n",
    "    axis=1,\n",
    ")\n",
    "comparison.columns = keys\n",
    "\n",
    "\n",
    "def highlight_closest(s):\n",
    "    reference = s[\"Reference\"]\n",
    "    differences = s.drop(\"Reference\").apply(lambda x: abs(x - reference))\n",
    "    closest = differences.idxmin()\n",
    "    return [\"background-color: mediumseagreen\" if x == s[closest] else \"\" for x in s]\n",
    "\n",
    "\n",
    "comparison_highlighted = comparison.style.apply(highlight_closest, axis=1)\n",
    "comparison_highlighted"
   ]
  },
  {
   "cell_type": "markdown",
   "id": "408d3fbe",
   "metadata": {},
   "source": [
    "# 5. Resumen y conclusiones"
   ]
  },
  {
   "cell_type": "markdown",
   "id": "6f8ab716",
   "metadata": {},
   "source": [
    "En este notebook hemos realizado las siguientes tareas:\n",
    "\n",
    "1. **Preparación del entorno y carga de datos**: Se importaron los datos procesados de German Credit, ya preparados para el análisis y modelado.\n",
    "\n",
    "2. **Aplicación de métodos de mitigación de sesgo**: Se implementaron dos enfoques para mitigar el sesgo de género en el modelo:\n",
    "    - **CorrelationRemover** (preprocesamiento): Elimina la correlación entre las variables de entrada y el atributo protegido antes del entrenamiento.\n",
    "    - **PrejudiceRemover** (in-processing): Incorpora una penalización durante el entrenamiento para reducir el sesgo en el modelo.\n",
    "\n",
    "3. **Entrenamiento y evaluación de modelos mitigados**: Se entrenó un modelo de regresión logística bajo ambos métodos y se evaluó su desempeño mediante métricas de clasificación y fairness.\n",
    "\n",
    "4. **Análisis de métricas de equidad**: Se compararon métricas como Statistical Parity, Disparate Impact, Four Fifths Rule, Cohen D, y otras, respecto a un valor de referencia ideal.\n",
    "\n",
    "**Conclusiones:**\n",
    "\n",
    "- El método **PrejudiceRemover** mostró una mejora más consistente en la mayoría de las métricas de equidad, logrando valores más cercanos al punto de referencia en Statistical Parity, Disparate Impact y Average Odds Difference.\n",
    "- Al disminuir significativamente el modulo de la diferencia de FPR, este nuevo modelo cumple con Equalized Odds para un umbral de 0.1.\n",
    "- El desempeño general del modelo mitigado se mantiene adecuado, con una exactitud del 79%. Sin embargo, persiste una diferencia en la sensibilidad para las clases: el modelo identifica mejor a los solicitantes de bajo riesgo (sensibilidad alta) que a los de alto riesgo.\n",
    "- La mitigación del sesgo es posible sin sacrificar el desempeño global del modelo, aunque se recomienda seguir explorando técnicas y ajustando hiperparámetros para lograr un balance óptimo entre equidad y precisión."
   ]
  },
  {
   "cell_type": "markdown",
   "id": "a0b7dd97",
   "metadata": {},
   "source": [
    "# Conclusiones\n",
    "\n",
    "## Índice de Contenido\n",
    "\n",
    "1. [Preparación del entorno y carga de datos](#1-preparación-del-entorno-y-carga-de-datos)\n",
    "    - [Reproducción del modelo original](#reproducimos-el-modelo-usado-en-la-notebook-3-entrenando-un-primer-modelo)\n",
    "    - [Reproducción del modelo mitigado](#reproducimos-el-modelo-mitigado-usando-in-processing-prejudiceremover)\n",
    "2. [Comparación de resultados](#2-comparación-de-resultados)\n",
    "    - [Matrices generales](#21-modelos-en-general)\n",
    "    - [Matrices por grupo](#22-matrices-de-confusión-por-grupo)\n",
    "    - [Gráfico en conjunto](#23-gráfico-en-conjunto)"
   ]
  },
  {
   "cell_type": "markdown",
   "id": "2983c548",
   "metadata": {},
   "source": [
    "## 1. Preparación del entorno y carga de datos"
   ]
  },
  {
   "cell_type": "code",
   "execution_count": 1,
   "id": "318a79f4",
   "metadata": {},
   "outputs": [],
   "source": [
    "import os\n",
    "\n",
    "import numpy as np\n",
    "import pandas as pd\n",
    "from matplotlib import pyplot as plt\n",
    "import seaborn as sns\n",
    "from sklearn.pipeline import Pipeline\n",
    "from sklearn.preprocessing import StandardScaler\n",
    "from sklearn.model_selection import train_test_split\n",
    "from sklearn.linear_model import LogisticRegression\n",
    "from sklearn.metrics import classification_report, confusion_matrix\n",
    "from holisticai.bias.mitigation import PrejudiceRemover\n",
    "\n",
    "# Carga de datos\n",
    "ruta_X_train = os.path.join('..', 'data', 'processed', 'X_train.csv')\n",
    "ruta_X_test = os.path.join('..', 'data', 'processed', 'X_test.csv')\n",
    "ruta_y_train = os.path.join('..', 'data', 'processed', 'y_train.csv')\n",
    "ruta_y_test = os.path.join('..', 'data', 'processed', 'y_test.csv')\n",
    "\n",
    "X_train = pd.read_csv(ruta_X_train, index_col=0)\n",
    "X_test = pd.read_csv(ruta_X_test, index_col=0)\n",
    "y_train = pd.read_csv(ruta_y_train).values.ravel()\n",
    "y_test = pd.read_csv(ruta_y_test).values.ravel()"
   ]
  },
  {
   "cell_type": "markdown",
   "id": "af2f0eaf",
   "metadata": {},
   "source": [
    "### Reproducimos el modelo usado en la notebook 3 \"Entrenando un primer modelo\""
   ]
  },
  {
   "cell_type": "code",
   "execution_count": 2,
   "id": "64c415e9",
   "metadata": {},
   "outputs": [
    {
     "name": "stdout",
     "output_type": "stream",
     "text": [
      "\tModelo Baseline: LogisticRegressor de scikit-learn\n",
      "\tReporte de clasificación\n",
      "\n",
      "               precision    recall  f1-score   support\n",
      "\n",
      "           0       0.67      0.44      0.53        59\n",
      "           1       0.80      0.91      0.85       141\n",
      "\n",
      "    accuracy                           0.77       200\n",
      "   macro avg       0.73      0.67      0.69       200\n",
      "weighted avg       0.76      0.77      0.75       200\n",
      "\n"
     ]
    }
   ],
   "source": [
    "# Modelo baseline\n",
    "scaler = StandardScaler()\n",
    "baseline_model = LogisticRegression(\n",
    "    random_state=42,\n",
    "    max_iter=1000\n",
    ")\n",
    "pipe = Pipeline(\n",
    "    [(\"Scaler\", scaler),\n",
    "    ((\"Baseline\"), baseline_model)]\n",
    ")\n",
    "pipe.fit(X_train, y_train)\n",
    "\n",
    "# Resultados del modelo baseline\n",
    "y_pred_test = pipe.predict(X_test)\n",
    "print(\"\\tModelo Baseline: LogisticRegressor de scikit-learn\\n\\tReporte de clasificación\\n\\n\", classification_report(y_true=y_test, y_pred=y_pred_test))"
   ]
  },
  {
   "cell_type": "markdown",
   "id": "dcf5757c",
   "metadata": {},
   "source": [
    "### Reproducimos el modelo mitigado usando _In-Processing_ _PrejudiceRemover_"
   ]
  },
  {
   "cell_type": "code",
   "execution_count": 3,
   "id": "ffd4371e",
   "metadata": {},
   "outputs": [
    {
     "name": "stdout",
     "output_type": "stream",
     "text": [
      "\tModelo Mitigado: PrejudiceRemover de holisticai\n",
      "\tReporte de clasificación\n",
      "\n",
      "               precision    recall  f1-score   support\n",
      "\n",
      "           0       0.73      0.46      0.56        59\n",
      "           1       0.80      0.93      0.86       141\n",
      "\n",
      "    accuracy                           0.79       200\n",
      "   macro avg       0.77      0.69      0.71       200\n",
      "weighted avg       0.78      0.79      0.77       200\n",
      "\n"
     ]
    }
   ],
   "source": [
    "# Necesito separar a los grupos de la variable sensible para fittear y predecir con PrejudiceRemover\n",
    "X_train_scaled = scaler.fit_transform(X_train)\n",
    "X_test_scaled = scaler.transform(X_test)\n",
    "\n",
    "group_a_train = X_train['genre_male'] == 1\n",
    "group_b_train = X_train['genre_male'] == 0\n",
    "group_a_test = X_test['genre_male'] == 1\n",
    "group_b_test = X_test['genre_male'] == 0\n",
    "\n",
    "# Modelo con mitigación\n",
    "mitigator = PrejudiceRemover(\n",
    "    maxiter=100,\n",
    "    fit_intercept=True,\n",
    "    print_interval=1\n",
    ").transform_estimator(baseline_model)\n",
    "mitigator.fit(X_train_scaled, y_train, group_a_train, group_b_train)\n",
    "\n",
    "# Resultados del modelo con mitigación\n",
    "y_mitigated_pred_test = mitigator.predict(X_test_scaled, group_a_test, group_b_test)\n",
    "print(\"\\tModelo Mitigado: PrejudiceRemover de holisticai\\n\\tReporte de clasificación\\n\\n\", classification_report(y_true=y_test, y_pred=y_mitigated_pred_test))"
   ]
  },
  {
   "cell_type": "markdown",
   "id": "e97a66da",
   "metadata": {},
   "source": [
    "## 2. Comparación de resultados"
   ]
  },
  {
   "cell_type": "markdown",
   "id": "aab4855d",
   "metadata": {},
   "source": [
    "### 2.1 Modelos en general"
   ]
  },
  {
   "cell_type": "code",
   "execution_count": 4,
   "id": "48809077",
   "metadata": {},
   "outputs": [],
   "source": [
    "# Generamos y juntamos las matrices de consufión para graficarlas\n",
    "cm_baseline = confusion_matrix(\n",
    "    y_test,\n",
    "    y_pred_test,\n",
    "    labels=[1, 0]\n",
    ")\n",
    "\n",
    "cm_mitigated = confusion_matrix(\n",
    "    y_test,\n",
    "    y_mitigated_pred_test,\n",
    "    labels=[1, 0]\n",
    ")\n",
    "\n",
    "matrices = {\n",
    "    \"Modelo baseline\": cm_baseline,\n",
    "    \"Modelo mitigado\": cm_mitigated\n",
    "}"
   ]
  },
  {
   "cell_type": "markdown",
   "id": "e39e5c91",
   "metadata": {},
   "source": [
    "### 2.2 Matrices de confusión por grupo"
   ]
  },
  {
   "cell_type": "code",
   "execution_count": null,
   "id": "5181ec34",
   "metadata": {},
   "outputs": [],
   "source": [
    "# Índices de los grupos\n",
    "idx_group_0 = y_test.index[y_test.index.isin(idx_test) & (group_a_test == False)]\n",
    "idx_group_1 = y_test.index[y_test.index.isin(idx_test) & (group_a_test == True)]\n",
    "y_test_female = y_test.loc[idx_group_0]\n",
    "y_test_male = y_test.loc[idx_group_1]\n",
    "y_pred_test_female = y_pred_test[[i for i, idx in enumerate(idx_test) if idx in idx_group_0]]\n",
    "y_pred_test_male = y_pred_test[[i for i, idx in enumerate(idx_test) if idx in idx_group_1]]\n",
    "y_mitigated_pred_test_female = y_mitigated_pred_test[[i for i, idx in enumerate(idx_test) if idx in idx_group_0]]\n",
    "y_mitigated_pred_test_male = y_mitigated_pred_test[[i for i, idx in enumerate(idx_test) if idx in idx_group_1]]\n",
    "\n",
    "# Para el modelo sin mitigación\n",
    "cm_female = confusion_matrix(\n",
    "    y_test_female,\n",
    "    y_pred_test_female,\n",
    "    labels=[1, 0]\n",
    ")\n",
    "cm_male = confusion_matrix(\n",
    "    y_test_male,\n",
    "    y_pred_test_male,\n",
    "    labels=[1, 0]\n",
    ")\n",
    "\n",
    "# Para el modelo mitigado\n",
    "cm_mitigated_female = confusion_matrix(\n",
    "    y_test_female,\n",
    "    y_mitigated_pred_test_female,\n",
    "    labels=[1, 0]\n",
    ")\n",
    "cm_mitigated_male = confusion_matrix(\n",
    "    y_test_male,\n",
    "    y_mitigated_pred_test_male,\n",
    "    labels=[1, 0]\n",
    ")\n",
    "\n",
    "matrices.update({\n",
    "    \"Modelo baseline para mujeres\": cm_female,\n",
    "    \"Modelo mitigado para mujeres\": cm_mitigated_female,\n",
    "    \"Modelo baseline para hombres\": cm_male,\n",
    "    \"Modelo mitigado para hombres\": cm_mitigated_male\n",
    "})"
   ]
  },
  {
   "cell_type": "markdown",
   "id": "37ceed66",
   "metadata": {},
   "source": [
    "### 2.3 Gráfico en conjunto"
   ]
  },
  {
   "cell_type": "code",
   "execution_count": 7,
   "id": "b16a7190",
   "metadata": {},
   "outputs": [
    {
     "data": {
      "image/png": "[encoded data removed]",
      "text/plain": [
       "<Figure size 1200x1200 with 6 Axes>"
      ]
     },
     "metadata": {},
     "output_type": "display_data"
    }
   ],
   "source": [
    "# Visualizamos las matrices de confusión\n",
    "fig, ax = plt.subplots(3, 2, figsize=(12, 12))\n",
    "labels = ['Bajo riesgo (1)', 'Alto riesgo (0)']\n",
    "ax = ax.ravel()\n",
    "\n",
    "i = 0\n",
    "for titulo, matriz in matrices.items():\n",
    "    current_ax = ax[i]\n",
    "\n",
    "    # Cada uno de los heatmaps\n",
    "    sns.heatmap(\n",
    "        matriz,\n",
    "        annot=True,\n",
    "        fmt=\"d\",\n",
    "        cmap=\"Blues\",\n",
    "        ax=current_ax,\n",
    "        cbar=False,\n",
    "        xticklabels=labels,\n",
    "        yticklabels=labels\n",
    "    )\n",
    "\n",
    "    # Agrego labels de referencia para mayor claridad\n",
    "    for (j, k), val in np.ndenumerate(matriz):\n",
    "        if j == 0 and k == 0:\n",
    "            label = \"TP\"\n",
    "        elif j == 1 and k == 0:\n",
    "            label = \"FP\"\n",
    "        elif j == 0 and k == 1:\n",
    "            label = \"FN\"\n",
    "        else:\n",
    "            label = \"TN\"\n",
    "        current_ax.text(\n",
    "            k + 0.35, j + 0.5,\n",
    "            label,\n",
    "            color=\"black\",\n",
    "            ha=\"center\",\n",
    "            va=\"center\",\n",
    "            fontsize=10,\n",
    "            fontweight=\"bold\"\n",
    "        )\n",
    "\n",
    "    #  Configuraciones de labels\n",
    "    current_ax.set_title(titulo)\n",
    "    current_ax.set_xlabel(\"Predicción\")\n",
    "    current_ax.set_ylabel(\"Valor Real\")\n",
    "    i = i+1\n",
    "\n",
    "plt.tight_layout()\n",
    "plt.show()"
   ]
  },
  {
   "cell_type": "markdown",
   "id": "b9137803",
   "metadata": {},
   "source": [
    "El modelo entrenado con `PrejudiceRemover` mejoró la _performance_ para el grupo de mujeres, incrementando la cantidad de Positivos Verdaderos (TP, _True Positive_) en 3 casos, además de mejorar en 1 caso los TP del modelo en general. Se pierde un poco la perfomance del grupo privilegiado en el modelo basae, pero se gana en _fairness_, (equidad o igualdad) para los grupos estudiados."
   ]
  },
  {
   "cell_type": "code",
   "execution_count": 8,
   "id": "4115ac67",
   "metadata": {},
   "outputs": [],
   "source": [
    "tp_female = [ix for k, ix in enumerate(idx_group_0) if y_test_female[ix] == 1 and y_pred_test_female[k] == 1]\n",
    "tp_male = [ix for k, ix in enumerate(idx_group_1) if y_test_male[ix] == 1 and y_pred_test_male[k] == 1]\n",
    "new_tp_female = [ix for k, ix in enumerate(idx_group_0) if y_test_female[ix] == 1 and y_mitigated_pred_test_female[k] == 1 and y_pred_test_female[k] == 0]\n",
    "\n",
    "df_women_base = german_credit_df.loc[tp_female]\n",
    "df_men = german_credit_df.loc[tp_male]\n",
    "df_women_mitigated = german_credit_df.loc[new_tp_female]"
   ]
  },
  {
   "cell_type": "code",
   "execution_count": 9,
   "id": "ceaffd3a",
   "metadata": {},
   "outputs": [
    {
     "name": "stdout",
     "output_type": "stream",
     "text": [
      "Promedios:\n",
      "\n",
      "Mujeres (Baseline):\n",
      " credit_amount    2228.058824\n",
      "duration           15.941176\n",
      "dtype: float64\n",
      "\n",
      "Hombres (Baseline):\n",
      " credit_amount    2678.446809\n",
      "duration           17.000000\n",
      "dtype: float64\n",
      "\n",
      "Mujeres (Mitigado):\n",
      " credit_amount    3336.0\n",
      "duration           18.0\n",
      "dtype: float64\n"
     ]
    }
   ],
   "source": [
    "# Suponiendo que `df_women` y `df_men` son los DataFrames filtrados\n",
    "variables_numericas = ['credit_amount', 'duration']\n",
    "print(\"Promedios:\\n\")\n",
    "print(\"Mujeres (Baseline):\\n\", df_women_base[variables_numericas].mean())\n",
    "print(\"\\nHombres (Baseline):\\n\", df_men[variables_numericas].mean())\n",
    "print(\"\\nMujeres (Mitigado):\\n\", df_women_mitigated[variables_numericas].mean())\n"
   ]
  },
  {
   "cell_type": "code",
   "execution_count": 10,
   "id": "53b57960",
   "metadata": {},
   "outputs": [
    {
     "name": "stdout",
     "output_type": "stream",
     "text": [
      "\n",
      "Distribución de checking_account_no account:\n",
      "Mujeres (Baseline):\n",
      " checking_account_no account\n",
      "0    0.323529\n",
      "1    0.676471\n",
      "Name: proportion, dtype: float64\n",
      "Hombres (Baseline):\n",
      " checking_account_no account\n",
      "0    0.521277\n",
      "1    0.478723\n",
      "Name: proportion, dtype: float64\n",
      "Mujeres (Mitigado):\n",
      " checking_account_no account\n",
      "0    1.0\n",
      "Name: proportion, dtype: float64\n",
      "\n",
      "Distribución de credit_history_critical account / other bank:\n",
      "Mujeres (Baseline):\n",
      " credit_history_critical account / other bank\n",
      "0    0.617647\n",
      "1    0.382353\n",
      "Name: proportion, dtype: float64\n",
      "Hombres (Baseline):\n",
      " credit_history_critical account / other bank\n",
      "0    0.638298\n",
      "1    0.361702\n",
      "Name: proportion, dtype: float64\n",
      "Mujeres (Mitigado):\n",
      " credit_history_critical account / other bank\n",
      "0    0.666667\n",
      "1    0.333333\n",
      "Name: proportion, dtype: float64\n",
      "\n",
      "Distribución de housing_own:\n",
      "Mujeres (Baseline):\n",
      " housing_own\n",
      "0    0.323529\n",
      "1    0.676471\n",
      "Name: proportion, dtype: float64\n",
      "Hombres (Baseline):\n",
      " housing_own\n",
      "0    0.234043\n",
      "1    0.765957\n",
      "Name: proportion, dtype: float64\n",
      "Mujeres (Mitigado):\n",
      " housing_own\n",
      "0    0.666667\n",
      "1    0.333333\n",
      "Name: proportion, dtype: float64\n",
      "\n",
      "Distribución de savings_account_unknown / no account:\n",
      "Mujeres (Baseline):\n",
      " savings_account_unknown / no account\n",
      "0    0.794118\n",
      "1    0.205882\n",
      "Name: proportion, dtype: float64\n",
      "Hombres (Baseline):\n",
      " savings_account_unknown / no account\n",
      "0    0.755319\n",
      "1    0.244681\n",
      "Name: proportion, dtype: float64\n",
      "Mujeres (Mitigado):\n",
      " savings_account_unknown / no account\n",
      "0    0.666667\n",
      "1    0.333333\n",
      "Name: proportion, dtype: float64\n",
      "\n",
      "Distribución de property_real estate:\n",
      "Mujeres (Baseline):\n",
      " property_real estate\n",
      "0    0.735294\n",
      "1    0.264706\n",
      "Name: proportion, dtype: float64\n",
      "Hombres (Baseline):\n",
      " property_real estate\n",
      "0    0.617021\n",
      "1    0.382979\n",
      "Name: proportion, dtype: float64\n",
      "Mujeres (Mitigado):\n",
      " property_real estate\n",
      "0    1.0\n",
      "Name: proportion, dtype: float64\n"
     ]
    }
   ],
   "source": [
    "categoricas = ['checking_account_no account', 'credit_history_critical account / other bank', 'housing_own', 'savings_account_unknown / no account', 'property_real estate']\n",
    "for col in categoricas:\n",
    "    print(f\"\\nDistribución de {col}:\")\n",
    "    print(\"Mujeres (Baseline):\\n\", df_women_base[col].value_counts(normalize=True).sort_index())\n",
    "    print(\"Hombres (Baseline):\\n\", df_men[col].value_counts(normalize=True).sort_values().sort_index())\n",
    "    print(\"Mujeres (Mitigado):\\n\", df_women_mitigated[col].value_counts(normalize=True).sort_values().sort_index())\n"
   ]
  }
 ],
 "metadata": {
  "colab": {
   "provenance": []
  },
  "jupytext": {
   "cell_metadata_filter": "-all",
   "main_language": "python",
   "notebook_metadata_filter": "-all"
  },
  "kernelspec": {
   "display_name": "venv",
   "language": "python",
   "name": "python3"
  },
  "language_info": {
   "codemirror_mode": {
    "name": "ipython",
    "version": 3
   },
   "file_extension": ".py",
   "mimetype": "text/x-python",
   "name": "python",
   "nbconvert_exporter": "python",
   "pygments_lexer": "ipython3",
   "version": "3.11.4"
  }
 },
 "nbformat": 4,
 "nbformat_minor": 5
}
