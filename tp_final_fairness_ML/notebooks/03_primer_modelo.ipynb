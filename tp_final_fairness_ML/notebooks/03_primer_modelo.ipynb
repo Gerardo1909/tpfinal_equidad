{
  "cells": [
    {
      "cell_type": "markdown",
      "id": "22fe1d49",
      "metadata": {
        "id": "22fe1d49"
      },
      "source": [
        "# Entrenando un primer modelo"
      ]
    },
    {
      "cell_type": "markdown",
      "id": "b76f1b91",
      "metadata": {
        "id": "b76f1b91"
      },
      "source": [
        "## Índice de Contenido\n",
        "\n",
        "1. [Carga de datos en formato numérico](#1.-Carga-de-datos-en-formato-numérico)\n",
        "2. [Preparación de datos para el entrenamiento](#2.-Preparación-de-datos-para-el-entrenamiento)\n",
        "3. [Entrenamiento del modelo de regresión logística](#3.-Entrenamiento-del-modelo-de-regresión-logística)\n",
        "4. [Evaluación del modelo mediante métricas de clasificación](#4.-Evaluación-del-modelo-mediante-métricas-de-clasificación)\n",
        "5. [Análisis de la matriz de confusión](#5.-Análisis-de-la-matriz-de-confusión)\n",
        "6. [Preparación de datos para análisis de equidad](#6.-Preparación-de-datos-para-análisis-de-equidad)\n",
        "7. [Resumen y conclusiones](#7.-Resumen-y-conclusiones)"
      ]
    },
    {
      "cell_type": "markdown",
      "id": "e7a02d01",
      "metadata": {
        "id": "e7a02d01"
      },
      "source": [
        "## 1. Carga de datos en formato numérico"
      ]
    },
    {
      "cell_type": "markdown",
      "id": "e3272b71",
      "metadata": {
        "id": "e3272b71"
      },
      "source": [
        "En lugar de utilizar los datos transformados en el notebook de preprocesamiento,\n",
        "cargaremos un conjunto de datos numérico que se encuentra en la fuente original.\n",
        "Este conjunto contiene las mismas variables pero en formato numérico, facilitando\n",
        "el entrenamiento de modelos predictivos."
      ]
    },
    {
      "cell_type": "code",
      "execution_count": null,
      "id": "ee4535c8",
      "metadata": {
        "id": "ee4535c8",
        "outputId": "e600e99e-875a-40b3-cc59-00198338592f"
      },
      "outputs": [
        {
          "name": "stdout",
          "output_type": "stream",
          "text": [
            "Dimensiones del dataset numérico: (1000, 26)\n",
            "\n",
            "Primeras 5 filas del dataset numérico:\n"
          ]
        },
        {
          "data": {
            "text/html": [
              "<div>\n",
              "<style scoped>\n",
              "    .dataframe tbody tr th:only-of-type {\n",
              "        vertical-align: middle;\n",
              "    }\n",
              "\n",
              "    .dataframe tbody tr th {\n",
              "        vertical-align: top;\n",
              "    }\n",
              "\n",
              "    .dataframe thead th {\n",
              "        text-align: right;\n",
              "    }\n",
              "</style>\n",
              "<table border=\"1\" class=\"dataframe\">\n",
              "  <thead>\n",
              "    <tr style=\"text-align: right;\">\n",
              "      <th></th>\n",
              "      <th>0</th>\n",
              "      <th>1</th>\n",
              "      <th>2</th>\n",
              "      <th>3</th>\n",
              "      <th>4</th>\n",
              "      <th>5</th>\n",
              "      <th>6</th>\n",
              "      <th>7</th>\n",
              "      <th>8</th>\n",
              "      <th>9</th>\n",
              "      <th>...</th>\n",
              "      <th>16</th>\n",
              "      <th>17</th>\n",
              "      <th>18</th>\n",
              "      <th>19</th>\n",
              "      <th>20</th>\n",
              "      <th>21</th>\n",
              "      <th>22</th>\n",
              "      <th>23</th>\n",
              "      <th>24</th>\n",
              "      <th>25</th>\n",
              "    </tr>\n",
              "  </thead>\n",
              "  <tbody>\n",
              "    <tr>\n",
              "      <th>0</th>\n",
              "      <td>1</td>\n",
              "      <td>6</td>\n",
              "      <td>4</td>\n",
              "      <td>12</td>\n",
              "      <td>5</td>\n",
              "      <td>5</td>\n",
              "      <td>3</td>\n",
              "      <td>4</td>\n",
              "      <td>1</td>\n",
              "      <td>67</td>\n",
              "      <td>...</td>\n",
              "      <td>0</td>\n",
              "      <td>1</td>\n",
              "      <td>0</td>\n",
              "      <td>0</td>\n",
              "      <td>1</td>\n",
              "      <td>0</td>\n",
              "      <td>0</td>\n",
              "      <td>1</td>\n",
              "      <td>1</td>\n",
              "      <td>NaN</td>\n",
              "    </tr>\n",
              "    <tr>\n",
              "      <th>1</th>\n",
              "      <td>2</td>\n",
              "      <td>48</td>\n",
              "      <td>2</td>\n",
              "      <td>60</td>\n",
              "      <td>1</td>\n",
              "      <td>3</td>\n",
              "      <td>2</td>\n",
              "      <td>2</td>\n",
              "      <td>1</td>\n",
              "      <td>22</td>\n",
              "      <td>...</td>\n",
              "      <td>0</td>\n",
              "      <td>1</td>\n",
              "      <td>0</td>\n",
              "      <td>0</td>\n",
              "      <td>1</td>\n",
              "      <td>0</td>\n",
              "      <td>0</td>\n",
              "      <td>1</td>\n",
              "      <td>2</td>\n",
              "      <td>NaN</td>\n",
              "    </tr>\n",
              "    <tr>\n",
              "      <th>2</th>\n",
              "      <td>4</td>\n",
              "      <td>12</td>\n",
              "      <td>4</td>\n",
              "      <td>21</td>\n",
              "      <td>1</td>\n",
              "      <td>4</td>\n",
              "      <td>3</td>\n",
              "      <td>3</td>\n",
              "      <td>1</td>\n",
              "      <td>49</td>\n",
              "      <td>...</td>\n",
              "      <td>0</td>\n",
              "      <td>1</td>\n",
              "      <td>0</td>\n",
              "      <td>0</td>\n",
              "      <td>1</td>\n",
              "      <td>0</td>\n",
              "      <td>1</td>\n",
              "      <td>0</td>\n",
              "      <td>1</td>\n",
              "      <td>NaN</td>\n",
              "    </tr>\n",
              "    <tr>\n",
              "      <th>3</th>\n",
              "      <td>1</td>\n",
              "      <td>42</td>\n",
              "      <td>2</td>\n",
              "      <td>79</td>\n",
              "      <td>1</td>\n",
              "      <td>4</td>\n",
              "      <td>3</td>\n",
              "      <td>4</td>\n",
              "      <td>2</td>\n",
              "      <td>45</td>\n",
              "      <td>...</td>\n",
              "      <td>0</td>\n",
              "      <td>0</td>\n",
              "      <td>0</td>\n",
              "      <td>0</td>\n",
              "      <td>0</td>\n",
              "      <td>0</td>\n",
              "      <td>0</td>\n",
              "      <td>1</td>\n",
              "      <td>1</td>\n",
              "      <td>NaN</td>\n",
              "    </tr>\n",
              "    <tr>\n",
              "      <th>4</th>\n",
              "      <td>1</td>\n",
              "      <td>24</td>\n",
              "      <td>3</td>\n",
              "      <td>49</td>\n",
              "      <td>1</td>\n",
              "      <td>3</td>\n",
              "      <td>3</td>\n",
              "      <td>4</td>\n",
              "      <td>4</td>\n",
              "      <td>53</td>\n",
              "      <td>...</td>\n",
              "      <td>0</td>\n",
              "      <td>1</td>\n",
              "      <td>0</td>\n",
              "      <td>0</td>\n",
              "      <td>0</td>\n",
              "      <td>0</td>\n",
              "      <td>0</td>\n",
              "      <td>1</td>\n",
              "      <td>2</td>\n",
              "      <td>NaN</td>\n",
              "    </tr>\n",
              "  </tbody>\n",
              "</table>\n",
              "<p>5 rows × 26 columns</p>\n",
              "</div>"
            ],
            "text/plain": [
              "   0   1   2   3   4   5   6   7   8   9   ...  16  17  18  19  20  21  22  \\\n",
              "0   1   6   4  12   5   5   3   4   1  67  ...   0   1   0   0   1   0   0   \n",
              "1   2  48   2  60   1   3   2   2   1  22  ...   0   1   0   0   1   0   0   \n",
              "2   4  12   4  21   1   4   3   3   1  49  ...   0   1   0   0   1   0   1   \n",
              "3   1  42   2  79   1   4   3   4   2  45  ...   0   0   0   0   0   0   0   \n",
              "4   1  24   3  49   1   3   3   4   4  53  ...   0   1   0   0   0   0   0   \n",
              "\n",
              "   23  24  25  \n",
              "0   1   1 NaN  \n",
              "1   1   2 NaN  \n",
              "2   0   1 NaN  \n",
              "3   1   1 NaN  \n",
              "4   1   2 NaN  \n",
              "\n",
              "[5 rows x 26 columns]"
            ]
          },
          "metadata": {},
          "output_type": "display_data"
        }
      ],
      "source": [
        "import pandas as pd\n",
        "import matplotlib.pyplot as plt\n",
        "import seaborn as sns\n",
        "import os\n",
        "import numpy as np\n",
        "from sklearn.model_selection import train_test_split\n",
        "from sklearn.metrics import classification_report, confusion_matrix\n",
        "\n",
        "ruta_archivo = os.path.join('..', 'data', 'raw', 'german.data-numeric')\n",
        "\n",
        "g_credit_data_numeric = pd.read_csv(ruta_archivo, sep=' ', header=None, skipinitialspace=True)\n",
        "\n",
        "print(f\"Dimensiones del dataset numérico: {g_credit_data_numeric.shape}\")\n",
        "print(\"\\nPrimeras 5 filas del dataset numérico: \")\n",
        "display(g_credit_data_numeric.head())"
      ]
    },
    {
      "cell_type": "markdown",
      "id": "6549972f",
      "metadata": {
        "id": "6549972f"
      },
      "source": [
        "### 1.1 Limpieza de datos\n",
        "\n",
        "Detectamos que la última columna contiene valores faltantes. Verificamos si esto\n",
        "ocurre en toda la columna para decidir si la eliminamos."
      ]
    },
    {
      "cell_type": "code",
      "execution_count": null,
      "id": "3a0a52f7",
      "metadata": {
        "id": "3a0a52f7",
        "outputId": "c7b1b0e2-2f79-4050-f928-f5e157b1f133"
      },
      "outputs": [
        {
          "name": "stdout",
          "output_type": "stream",
          "text": [
            "<class 'pandas.core.frame.DataFrame'>\n",
            "RangeIndex: 1000 entries, 0 to 999\n",
            "Data columns (total 26 columns):\n",
            " #   Column  Non-Null Count  Dtype  \n",
            "---  ------  --------------  -----  \n",
            " 0   0       1000 non-null   int64  \n",
            " 1   1       1000 non-null   int64  \n",
            " 2   2       1000 non-null   int64  \n",
            " 3   3       1000 non-null   int64  \n",
            " 4   4       1000 non-null   int64  \n",
            " 5   5       1000 non-null   int64  \n",
            " 6   6       1000 non-null   int64  \n",
            " 7   7       1000 non-null   int64  \n",
            " 8   8       1000 non-null   int64  \n",
            " 9   9       1000 non-null   int64  \n",
            " 10  10      1000 non-null   int64  \n",
            " 11  11      1000 non-null   int64  \n",
            " 12  12      1000 non-null   int64  \n",
            " 13  13      1000 non-null   int64  \n",
            " 14  14      1000 non-null   int64  \n",
            " 15  15      1000 non-null   int64  \n",
            " 16  16      1000 non-null   int64  \n",
            " 17  17      1000 non-null   int64  \n",
            " 18  18      1000 non-null   int64  \n",
            " 19  19      1000 non-null   int64  \n",
            " 20  20      1000 non-null   int64  \n",
            " 21  21      1000 non-null   int64  \n",
            " 22  22      1000 non-null   int64  \n",
            " 23  23      1000 non-null   int64  \n",
            " 24  24      1000 non-null   int64  \n",
            " 25  25      0 non-null      float64\n",
            "dtypes: float64(1), int64(25)\n",
            "memory usage: 203.3 KB\n"
          ]
        }
      ],
      "source": [
        "g_credit_data_numeric.info()"
      ]
    },
    {
      "cell_type": "markdown",
      "id": "fe50e3b4",
      "metadata": {
        "id": "fe50e3b4"
      },
      "source": [
        "Confirmamos que la columna 25 está completamente vacía (0 valores no nulos),\n",
        "por lo tanto la eliminaremos del dataframe para evitar problemas en el entrenamiento."
      ]
    },
    {
      "cell_type": "code",
      "execution_count": null,
      "id": "e13a5362",
      "metadata": {
        "id": "e13a5362",
        "outputId": "a617ba45-2907-4537-e5ce-4db734fee5b1"
      },
      "outputs": [
        {
          "name": "stdout",
          "output_type": "stream",
          "text": [
            "Dimensiones del dataset después de eliminar la columna vacía: (1000, 25)\n"
          ]
        }
      ],
      "source": [
        "g_credit_data_numeric = g_credit_data_numeric.iloc[:, :-1]\n",
        "print(f\"Dimensiones del dataset después de eliminar la columna vacía: {g_credit_data_numeric.shape}\")"
      ]
    },
    {
      "cell_type": "markdown",
      "id": "44e4ecaa",
      "metadata": {
        "id": "44e4ecaa"
      },
      "source": [
        "## 2. Preparación de datos para el entrenamiento"
      ]
    },
    {
      "cell_type": "markdown",
      "id": "653bff4f",
      "metadata": {
        "id": "653bff4f"
      },
      "source": [
        "Prepararemos los datos para el entrenamiento de nuestro modelo de regresión logística.\n",
        "Esto implica:\n",
        "1. Separar variables predictoras (X) de la variable objetivo (y)\n",
        "2. Transformar la variable objetivo a formato binario (0 para bajo riesgo, 1 para alto riesgo)\n",
        "3. Dividir los datos en conjuntos de entrenamiento y prueba\n",
        "4. Preparar la matriz de diseño con término de intercepto para la regresión logística"
      ]
    },
    {
      "cell_type": "code",
      "execution_count": null,
      "id": "c7000ab1",
      "metadata": {
        "id": "c7000ab1",
        "outputId": "3a350f23-d8fa-416c-e334-b5a26ecb24fb"
      },
      "outputs": [
        {
          "name": "stdout",
          "output_type": "stream",
          "text": [
            "Dimensiones de X_train_design: (800, 25)\n",
            "Dimensiones de X_test_design: (200, 25)\n",
            "Distribución de clases en el conjunto de entrenamiento: [559 241]\n",
            "Distribución de clases en el conjunto de prueba: [141  59]\n"
          ]
        }
      ],
      "source": [
        "# Separamos variables predictoras (X) y variable objetivo (y)\n",
        "X = g_credit_data_numeric.iloc[:, :-1]\n",
        "y = g_credit_data_numeric.iloc[:, -1].map({1: 0, 2: 1})  # Mapeamos 1->0 (bajo riesgo) y 2->1 (alto riesgo)\n",
        "indices = X.index\n",
        "\n",
        "# Dividimos en conjuntos de entrenamiento (80%) y prueba (20%)\n",
        "X_train, X_test, y_train, y_test, idx_train, idx_test = train_test_split(\n",
        "    X.values, y.values, indices, test_size=0.2, random_state=42\n",
        ")\n",
        "\n",
        "# Agregamos columna de intercepto (unos) a las matrices de diseño\n",
        "X_train_design = np.hstack([np.ones((X_train.shape[0], 1)), X_train])\n",
        "X_test_design = np.hstack([np.ones((X_test.shape[0], 1)), X_test])\n",
        "\n",
        "print(f\"Dimensiones de X_train_design: {X_train_design.shape}\")\n",
        "print(f\"Dimensiones de X_test_design: {X_test_design.shape}\")\n",
        "print(f\"Distribución de clases en el conjunto de entrenamiento: {np.bincount(y_train)}\")\n",
        "print(f\"Distribución de clases en el conjunto de prueba: {np.bincount(y_test)}\")"
      ]
    },
    {
      "cell_type": "markdown",
      "id": "4189a492",
      "metadata": {
        "id": "4189a492"
      },
      "source": [
        "## 3. Entrenamiento del modelo de regresión logística"
      ]
    },
    {
      "cell_type": "markdown",
      "id": "bf391edd",
      "metadata": {
        "id": "bf391edd"
      },
      "source": [
        "Utilizaremos un modelo de regresión logística como nuestro primer enfoque debido a:\n",
        "\n",
        "1. **Simplicidad e interpretabilidad**: La regresión logística es un modelo sencillo\n",
        "   cuyos coeficientes pueden interpretarse directamente, facilitando el análisis de equidad.\n",
        "\n",
        "2. **Adecuación al problema**: Al ser un problema de clasificación binaria (alto/bajo riesgo),\n",
        "   la regresión logística es una opción natural y efectiva.\n",
        "\n",
        "3. **Eficiencia computacional**: Requiere menos recursos y tiempo de entrenamiento\n",
        "   que modelos más complejos, lo que es ideal para una primera iteración.\n",
        "\n",
        "Utilizaremos funciones personalizadas de nuestro módulo de utilidades para el ajuste\n",
        "y la predicción del modelo."
      ]
    },
    {
      "cell_type": "code",
      "execution_count": null,
      "id": "cf2c8c44",
      "metadata": {
        "id": "cf2c8c44",
        "outputId": "b4bf88ca-1b2f-4b00-91e8-8aa511b516b5"
      },
      "outputs": [
        {
          "name": "stdout",
          "output_type": "stream",
          "text": [
            "Entrenando modelo de regresión logística...\n",
            "Predicciones completadas.\n"
          ]
        }
      ],
      "source": [
        "from tp_final_fairness_ML.utils.models import ajustar_regresion_logistica, predecir_regresion_logistica\n",
        "\n",
        "coeficientes = ajustar_regresion_logistica(X_train_design, y_train)\n",
        "y_pred_test = predecir_regresion_logistica(X_test_design, coeficientes)"
      ]
    },
    {
      "cell_type": "markdown",
      "id": "1a7a7b00",
      "metadata": {
        "id": "1a7a7b00"
      },
      "source": [
        "## 4. Evaluación del modelo mediante métricas de clasificación"
      ]
    },
    {
      "cell_type": "markdown",
      "id": "c601119d",
      "metadata": {
        "id": "c601119d"
      },
      "source": [
        "Evaluaremos el desempeño del modelo utilizando métricas estándar de clasificación:\n",
        "\n",
        "- **Precisión (Precision)**: Proporción de predicciones positivas que fueron correctas\n",
        "- **Sensibilidad (Recall)**: Proporción de casos positivos reales que fueron correctamente identificados\n",
        "- **F1-Score**: Media armónica de precisión y sensibilidad\n",
        "- **Exactitud (Accuracy)**: Proporción total de predicciones correctas\n",
        "\n",
        "Estas métricas nos darán una visión general de la calidad del modelo y su capacidad\n",
        "para identificar correctamente tanto solicitantes de bajo como de alto riesgo."
      ]
    },
    {
      "cell_type": "code",
      "execution_count": null,
      "id": "4f9508e9",
      "metadata": {
        "id": "4f9508e9",
        "outputId": "ce9d1fc8-716d-4c3a-b711-7439dc505fb6"
      },
      "outputs": [
        {
          "name": "stdout",
          "output_type": "stream",
          "text": [
            "Reporte de clasificación:\n",
            "              precision    recall  f1-score   support\n",
            "\n",
            "           0       0.82      0.89      0.85       141\n",
            "           1       0.66      0.53      0.58        59\n",
            "\n",
            "    accuracy                           0.78       200\n",
            "   macro avg       0.74      0.71      0.72       200\n",
            "weighted avg       0.77      0.78      0.77       200\n",
            "\n"
          ]
        }
      ],
      "source": [
        "print(\"Reporte de clasificación:\")\n",
        "print(classification_report(y_test, y_pred_test))"
      ]
    },
    {
      "cell_type": "markdown",
      "id": "d829ecef",
      "metadata": {
        "id": "d829ecef"
      },
      "source": [
        "### Interpretación de las métricas\n",
        "\n",
        "- **Clase 0 (Bajo riesgo)**: El modelo muestra un buen desempeño identificando solicitantes de bajo riesgo:\n",
        "  - Precisión: 0.82 - El 82% de los solicitantes clasificados como bajo riesgo efectivamente lo son.\n",
        "  - Sensibilidad: 0.89 - El modelo identifica correctamente el 89% de los solicitantes de bajo riesgo.\n",
        "  - F1-Score: 0.85 - Buen balance entre precisión y sensibilidad para esta clase.\n",
        "\n",
        "- **Clase 1 (Alto riesgo)**: El desempeño es menor para identificar solicitantes de alto riesgo:\n",
        "  - Precisión: 0.66 - Solo el 66% de los solicitantes clasificados como alto riesgo realmente lo son.\n",
        "  - Sensibilidad: 0.53 - El modelo solo identifica correctamente el 53% de los solicitantes de alto riesgo.\n",
        "  - F1-Score: 0.58 - Desempeño moderado para esta clase.\n",
        "\n",
        "- **Exactitud general**: 0.78 - El 78% de todas las predicciones son correctas.\n",
        "\n",
        "Este desequilibrio en el desempeño entre clases podría atribuirse principalmente a la\n",
        "distribución desbalanceada de las clases en los datos, donde hay más solicitantes de\n",
        "bajo riesgo que de alto riesgo. Esta situación es común en problemas de crédito y\n",
        "requiere atención especial desde la perspectiva de equidad."
      ]
    },
    {
      "cell_type": "markdown",
      "id": "20e67ca6",
      "metadata": {
        "id": "20e67ca6"
      },
      "source": [
        "## 5. Análisis de la matriz de confusión"
      ]
    },
    {
      "cell_type": "markdown",
      "id": "5bc721b7",
      "metadata": {
        "id": "5bc721b7"
      },
      "source": [
        "La matriz de confusión nos permitirá visualizar en detalle los aciertos y errores del modelo,\n",
        "así como entender los diferentes tipos de errores (falsos positivos y falsos negativos) y su\n",
        "impacto en términos de equidad y toma de decisiones."
      ]
    },
    {
      "cell_type": "code",
      "execution_count": null,
      "id": "5568bdaa",
      "metadata": {
        "id": "5568bdaa",
        "outputId": "142a34e4-3a78-4411-d212-5513e56c3898"
      },
      "outputs": [
        {
          "data": {
            "image/png": "[encoded data removed]",
            "text/plain": [
              "<Figure size 1000x600 with 2 Axes>"
            ]
          },
          "metadata": {},
          "output_type": "display_data"
        }
      ],
      "source": [
        "cm = confusion_matrix(y_test, y_pred_test)\n",
        "labels = ['Bajo riesgo (0)', 'Alto riesgo (1)']\n",
        "\n",
        "plt.figure(figsize=(10, 6))\n",
        "sns.heatmap(cm, annot=True, fmt='d', cmap='Blues', xticklabels=labels, yticklabels=labels)\n",
        "plt.xlabel('Predicción')\n",
        "plt.ylabel('Valor real')\n",
        "plt.title('Matriz de confusión')\n",
        "plt.tight_layout()\n",
        "plt.show()"
      ]
    },
    {
      "cell_type": "markdown",
      "id": "958eb4a9",
      "metadata": {
        "id": "958eb4a9"
      },
      "source": [
        "### Interpretación de la matriz de confusión\n",
        "\n",
        "Para interpretar correctamente la matriz, consideremos:\n",
        "\n",
        "- **Verdaderos positivos (TP)**: 125 solicitantes fueron correctamente clasificados como de bajo riesgo.\n",
        "- **Falsos negativos (FN)**: 16 solicitantes de bajo riesgo fueron incorrectamente clasificados como de alto riesgo.\n",
        "- **Falsos positivos (FP)**: 28 solicitantes de alto riesgo fueron incorrectamente clasificados como de bajo riesgo.\n",
        "- **Verdaderos negativos (TN)**: 31 solicitantes fueron correctamente clasificados como de alto riesgo.\n",
        "\n",
        "**Implicaciones de los errores**:\n",
        "\n",
        "1. **Falsos positivos (28)**: Este tipo de error es particularmente problemático para instituciones financieras, ya que implica otorgar préstamos a personas que realmente son de alto riesgo, lo que podría resultar en pérdidas financieras.\n",
        "\n",
        "2. **Falsos negativos (16)**: Aunque menos costoso desde la perspectiva financiera, este error implica negar préstamos a personas que realmente son de bajo riesgo, lo que representa un problema de equidad y acceso a servicios financieros.\n",
        "\n",
        "El balance entre estos tipos de errores es fundamental para garantizar tanto la salud financiera de la institución como la equidad en el acceso al crédito para diferentes grupos demográficos."
      ]
    },
    {
      "cell_type": "markdown",
      "id": "bd25c44a",
      "metadata": {
        "id": "bd25c44a"
      },
      "source": [
        "## 6. Preparación de datos para análisis de equidad"
      ]
    },
    {
      "cell_type": "markdown",
      "id": "a6221f1e",
      "metadata": {
        "id": "a6221f1e"
      },
      "source": [
        "Para realizar un análisis de equidad por género, necesitamos combinar nuestras predicciones\n",
        "con la información de género de los solicitantes. Esto nos permitirá evaluar si el modelo\n",
        "presenta sesgos algorítmicos que afecten desproporcionadamente a algún grupo.\n",
        "\n",
        "Crearemos un nuevo conjunto de datos que contenga:\n",
        "- Las etiquetas reales (y_test)\n",
        "- Las predicciones del modelo (y_pred_test)\n",
        "- El género de cada solicitante"
      ]
    },
    {
      "cell_type": "code",
      "execution_count": null,
      "id": "5bf39c60",
      "metadata": {
        "id": "5bf39c60",
        "outputId": "354b9bff-2eb4-4aed-e6bb-e89a44b11eab"
      },
      "outputs": [
        {
          "name": "stdout",
          "output_type": "stream",
          "text": [
            "Primeras filas del dataframe para análisis de equidad:\n"
          ]
        },
        {
          "data": {
            "text/html": [
              "<div>\n",
              "<style scoped>\n",
              "    .dataframe tbody tr th:only-of-type {\n",
              "        vertical-align: middle;\n",
              "    }\n",
              "\n",
              "    .dataframe tbody tr th {\n",
              "        vertical-align: top;\n",
              "    }\n",
              "\n",
              "    .dataframe thead th {\n",
              "        text-align: right;\n",
              "    }\n",
              "</style>\n",
              "<table border=\"1\" class=\"dataframe\">\n",
              "  <thead>\n",
              "    <tr style=\"text-align: right;\">\n",
              "      <th></th>\n",
              "      <th>y_test</th>\n",
              "      <th>y_pred_test</th>\n",
              "      <th>genre</th>\n",
              "    </tr>\n",
              "  </thead>\n",
              "  <tbody>\n",
              "    <tr>\n",
              "      <th>521</th>\n",
              "      <td>1</td>\n",
              "      <td>1</td>\n",
              "      <td>female</td>\n",
              "    </tr>\n",
              "    <tr>\n",
              "      <th>737</th>\n",
              "      <td>0</td>\n",
              "      <td>1</td>\n",
              "      <td>male</td>\n",
              "    </tr>\n",
              "    <tr>\n",
              "      <th>740</th>\n",
              "      <td>0</td>\n",
              "      <td>1</td>\n",
              "      <td>male</td>\n",
              "    </tr>\n",
              "    <tr>\n",
              "      <th>660</th>\n",
              "      <td>0</td>\n",
              "      <td>0</td>\n",
              "      <td>male</td>\n",
              "    </tr>\n",
              "    <tr>\n",
              "      <th>411</th>\n",
              "      <td>0</td>\n",
              "      <td>0</td>\n",
              "      <td>male</td>\n",
              "    </tr>\n",
              "  </tbody>\n",
              "</table>\n",
              "</div>"
            ],
            "text/plain": [
              "     y_test  y_pred_test   genre\n",
              "521       1            1  female\n",
              "737       0            1    male\n",
              "740       0            1    male\n",
              "660       0            0    male\n",
              "411       0            0    male"
            ]
          },
          "metadata": {},
          "output_type": "display_data"
        },
        {
          "name": "stdout",
          "output_type": "stream",
          "text": [
            "Datos guardados en: ..\\data\\processed\\df_genero_eval.csv\n"
          ]
        }
      ],
      "source": [
        "ruta_datos_procesados = os.path.join('..', 'data', 'processed', 'german_credit_data.csv')\n",
        "g_credit_data = pd.read_csv(ruta_datos_procesados)\n",
        "\n",
        "df_genero_eval = pd.DataFrame({\n",
        "    'y_test': y_test,\n",
        "    'y_pred_test': y_pred_test,\n",
        "    'genre': g_credit_data.loc[idx_test, 'genre']\n",
        "})\n",
        "\n",
        "print(\"Primeras filas del dataframe para análisis de equidad:\")\n",
        "display(df_genero_eval.head())\n",
        "\n",
        "ruta_guardado = os.path.join('..', 'data', 'processed', 'df_genero_eval.csv')\n",
        "df_genero_eval.to_csv(ruta_guardado, index=False)\n",
        "print(f\"Datos guardados en: {ruta_guardado}\")"
      ]
    },
    {
      "cell_type": "markdown",
      "id": "347f93d8",
      "metadata": {
        "id": "347f93d8"
      },
      "source": [
        "## 7. Resumen y conclusiones"
      ]
    },
    {
      "cell_type": "markdown",
      "id": "32a746d1",
      "metadata": {
        "id": "32a746d1"
      },
      "source": [
        "En este notebook hemos completado las siguientes tareas:\n",
        "\n",
        "1. **Carga y preparación de datos**: Importamos el conjunto de datos German Credit en formato numérico.\n",
        "\n",
        "2. **Entrenamiento del modelo**: Implementamos un modelo de regresión logística para predecir el riesgo crediticio.\n",
        "\n",
        "3. **Evaluación de desempeño**: Analizamos las métricas de clasificación y la matriz de confusión para entender el comportamiento del modelo.\n",
        "\n",
        "4. **Preparación para análisis de equidad**: Generamos un conjunto de datos que incluye las predicciones y el género de los solicitantes.\n",
        "\n",
        "Observamos que el modelo tiene un buen desempeño general (78% de exactitud), pero muestra diferencias significativas en su capacidad para identificar correctamente las dos clases: es mejor identificando solicitantes de bajo riesgo (89% de sensibilidad) que solicitantes de alto riesgo (53% de sensibilidad)."
      ]
    }
  ],
  "metadata": {
    "jupytext": {
      "cell_metadata_filter": "-all",
      "main_language": "python",
      "notebook_metadata_filter": "-all"
    },
    "kernelspec": {
      "display_name": "venv",
      "language": "python",
      "name": "python3"
    },
    "language_info": {
      "codemirror_mode": {
        "name": "ipython",
        "version": 3
      },
      "file_extension": ".py",
      "mimetype": "text/x-python",
      "name": "python",
      "nbconvert_exporter": "python",
      "pygments_lexer": "ipython3",
      "version": "3.11.4"
    },
    "colab": {
      "provenance": []
    }
  },
  "nbformat": 4,
  "nbformat_minor": 5
}