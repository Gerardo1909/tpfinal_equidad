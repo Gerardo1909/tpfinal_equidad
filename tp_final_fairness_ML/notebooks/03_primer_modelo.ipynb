{
  "cells": [
    {
      "cell_type": "markdown",
      "id": "22fe1d49",
      "metadata": {
        "id": "22fe1d49"
      },
      "source": [
        "# Entrenando un primer modelo"
      ]
    },
    {
      "cell_type": "markdown",
      "id": "b76f1b91",
      "metadata": {
        "id": "b76f1b91"
      },
      "source": [
        "## Índice de Contenido\n",
        "\n",
        "1. [Preparación del entorno y carga de datos](#1.-Preparación-del-entorno-y-carga-de-datos)\n",
        "2. [Preparación de datos para el entrenamiento](#2.-Preparación-de-datos-para-el-entrenamiento)\n",
        "    - [One hot encoding y análisis de correlación respecto a variable objetivo](#2.1-One-hot-encoding-y-análisis-de-correlación-respecto-a-variable-objetivo)\n",
        "    - [Separación en datos de entrenamiento y prueba](#2.2-Separación-en-datos-de-entrenamiento-y-prueba)\n",
        "3. [Entrenamiento del modelo de regresión logística](#3.-Entrenamiento-del-modelo-de-regresión-logística)\n",
        "4. [Evaluación del modelo mediante métricas de clasificación](#4.-Evaluación-del-modelo-mediante-métricas-de-clasificación)\n",
        "5. [Análisis de la matriz de confusión](#5.-Análisis-de-la-matriz-de-confusión)\n",
        "6. [Preparación de datos para análisis de equidad](#6.-Preparación-de-datos-para-análisis-de-equidad)\n",
        "7. [Resumen y conclusiones](#7.-Resumen-y-conclusiones)"
      ]
    },
    {
      "cell_type": "markdown",
      "id": "e7a02d01",
      "metadata": {
        "id": "e7a02d01"
      },
      "source": [
        "## 1. Preparación del entorno y carga de datos"
      ]
    },
    {
      "cell_type": "code",
      "execution_count": 1,
      "id": "ee4535c8",
      "metadata": {
        "id": "ee4535c8",
        "outputId": "e600e99e-875a-40b3-cc59-00198338592f"
      },
      "outputs": [],
      "source": [
        "import pandas as pd\n",
        "import seaborn as sns\n",
        "import matplotlib.pyplot as plt\n",
        "from tp_final_fairness_ML.utils.preprocessing import convertir_object_a_categ\n",
        "import os \n",
        "import numpy as np\n",
        "from sklearn.model_selection import train_test_split\n",
        "from sklearn.metrics import classification_report, confusion_matrix\n",
        "\n",
        "# Carga de datos\n",
        "ruta_archivo = os.path.join('..', 'data', 'processed', 'german_credit_data.csv')\n",
        "g_credit_data = pd.read_csv(ruta_archivo)\n",
        "\n",
        "# Conversión de columnas tipo objeto a categóricas para mejor manejo\n",
        "g_credit_data = convertir_object_a_categ(g_credit_data)"
      ]
    },
    {
      "cell_type": "code",
      "execution_count": 2,
      "id": "3a0a52f7",
      "metadata": {
        "id": "3a0a52f7",
        "outputId": "c7b1b0e2-2f79-4050-f928-f5e157b1f133"
      },
      "outputs": [
        {
          "name": "stdout",
          "output_type": "stream",
          "text": [
            "Dimensiones del dataset: 1000 filas × 23 columnas\n",
            "\n",
            "Primeras 5 filas:\n"
          ]
        },
        {
          "data": {
            "text/html": [
              "<div>\n",
              "<style scoped>\n",
              "    .dataframe tbody tr th:only-of-type {\n",
              "        vertical-align: middle;\n",
              "    }\n",
              "\n",
              "    .dataframe tbody tr th {\n",
              "        vertical-align: top;\n",
              "    }\n",
              "\n",
              "    .dataframe thead th {\n",
              "        text-align: right;\n",
              "    }\n",
              "</style>\n",
              "<table border=\"1\" class=\"dataframe\">\n",
              "  <thead>\n",
              "    <tr style=\"text-align: right;\">\n",
              "      <th></th>\n",
              "      <th>checking_account</th>\n",
              "      <th>duration</th>\n",
              "      <th>credit_history</th>\n",
              "      <th>purpose</th>\n",
              "      <th>credit_amount</th>\n",
              "      <th>savings_account</th>\n",
              "      <th>employment_since</th>\n",
              "      <th>installment_rate</th>\n",
              "      <th>personal_status_sex</th>\n",
              "      <th>other_debtors</th>\n",
              "      <th>...</th>\n",
              "      <th>other_installment_plans</th>\n",
              "      <th>housing</th>\n",
              "      <th>number_credits</th>\n",
              "      <th>job</th>\n",
              "      <th>people_liable</th>\n",
              "      <th>telephone</th>\n",
              "      <th>foreign_worker</th>\n",
              "      <th>target</th>\n",
              "      <th>genre</th>\n",
              "      <th>target_label</th>\n",
              "    </tr>\n",
              "  </thead>\n",
              "  <tbody>\n",
              "    <tr>\n",
              "      <th>0</th>\n",
              "      <td>&lt; 0 DM</td>\n",
              "      <td>6</td>\n",
              "      <td>critical account / other bank</td>\n",
              "      <td>radio/TV</td>\n",
              "      <td>1169</td>\n",
              "      <td>unknown / no account</td>\n",
              "      <td>&gt;= 7 years</td>\n",
              "      <td>4</td>\n",
              "      <td>male, single</td>\n",
              "      <td>none</td>\n",
              "      <td>...</td>\n",
              "      <td>none</td>\n",
              "      <td>own</td>\n",
              "      <td>2</td>\n",
              "      <td>skilled / official</td>\n",
              "      <td>1</td>\n",
              "      <td>yes, registered</td>\n",
              "      <td>yes</td>\n",
              "      <td>1</td>\n",
              "      <td>male</td>\n",
              "      <td>low_risk</td>\n",
              "    </tr>\n",
              "    <tr>\n",
              "      <th>1</th>\n",
              "      <td>0 &lt;= ... &lt; 200 DM</td>\n",
              "      <td>48</td>\n",
              "      <td>paid duly till now</td>\n",
              "      <td>radio/TV</td>\n",
              "      <td>5951</td>\n",
              "      <td>&lt; 100 DM</td>\n",
              "      <td>1 &lt;= ... &lt; 4 years</td>\n",
              "      <td>2</td>\n",
              "      <td>female, div/sep/married</td>\n",
              "      <td>none</td>\n",
              "      <td>...</td>\n",
              "      <td>none</td>\n",
              "      <td>own</td>\n",
              "      <td>1</td>\n",
              "      <td>skilled / official</td>\n",
              "      <td>1</td>\n",
              "      <td>none</td>\n",
              "      <td>yes</td>\n",
              "      <td>2</td>\n",
              "      <td>female</td>\n",
              "      <td>high_risk</td>\n",
              "    </tr>\n",
              "    <tr>\n",
              "      <th>2</th>\n",
              "      <td>no account</td>\n",
              "      <td>12</td>\n",
              "      <td>critical account / other bank</td>\n",
              "      <td>education</td>\n",
              "      <td>2096</td>\n",
              "      <td>&lt; 100 DM</td>\n",
              "      <td>4 &lt;= ... &lt; 7 years</td>\n",
              "      <td>2</td>\n",
              "      <td>male, single</td>\n",
              "      <td>none</td>\n",
              "      <td>...</td>\n",
              "      <td>none</td>\n",
              "      <td>own</td>\n",
              "      <td>1</td>\n",
              "      <td>unskilled - resident</td>\n",
              "      <td>2</td>\n",
              "      <td>none</td>\n",
              "      <td>yes</td>\n",
              "      <td>1</td>\n",
              "      <td>male</td>\n",
              "      <td>low_risk</td>\n",
              "    </tr>\n",
              "    <tr>\n",
              "      <th>3</th>\n",
              "      <td>&lt; 0 DM</td>\n",
              "      <td>42</td>\n",
              "      <td>paid duly till now</td>\n",
              "      <td>furniture/equipment</td>\n",
              "      <td>7882</td>\n",
              "      <td>&lt; 100 DM</td>\n",
              "      <td>4 &lt;= ... &lt; 7 years</td>\n",
              "      <td>2</td>\n",
              "      <td>male, single</td>\n",
              "      <td>guarantor</td>\n",
              "      <td>...</td>\n",
              "      <td>none</td>\n",
              "      <td>for free</td>\n",
              "      <td>1</td>\n",
              "      <td>skilled / official</td>\n",
              "      <td>2</td>\n",
              "      <td>none</td>\n",
              "      <td>yes</td>\n",
              "      <td>1</td>\n",
              "      <td>male</td>\n",
              "      <td>low_risk</td>\n",
              "    </tr>\n",
              "    <tr>\n",
              "      <th>4</th>\n",
              "      <td>&lt; 0 DM</td>\n",
              "      <td>24</td>\n",
              "      <td>delay in past</td>\n",
              "      <td>car (new)</td>\n",
              "      <td>4870</td>\n",
              "      <td>&lt; 100 DM</td>\n",
              "      <td>1 &lt;= ... &lt; 4 years</td>\n",
              "      <td>3</td>\n",
              "      <td>male, single</td>\n",
              "      <td>none</td>\n",
              "      <td>...</td>\n",
              "      <td>none</td>\n",
              "      <td>for free</td>\n",
              "      <td>2</td>\n",
              "      <td>skilled / official</td>\n",
              "      <td>2</td>\n",
              "      <td>none</td>\n",
              "      <td>yes</td>\n",
              "      <td>2</td>\n",
              "      <td>male</td>\n",
              "      <td>high_risk</td>\n",
              "    </tr>\n",
              "  </tbody>\n",
              "</table>\n",
              "<p>5 rows × 23 columns</p>\n",
              "</div>"
            ],
            "text/plain": [
              "    checking_account  duration                 credit_history  \\\n",
              "0             < 0 DM         6  critical account / other bank   \n",
              "1  0 <= ... < 200 DM        48             paid duly till now   \n",
              "2         no account        12  critical account / other bank   \n",
              "3             < 0 DM        42             paid duly till now   \n",
              "4             < 0 DM        24                  delay in past   \n",
              "\n",
              "               purpose  credit_amount       savings_account  \\\n",
              "0             radio/TV           1169  unknown / no account   \n",
              "1             radio/TV           5951              < 100 DM   \n",
              "2            education           2096              < 100 DM   \n",
              "3  furniture/equipment           7882              < 100 DM   \n",
              "4            car (new)           4870              < 100 DM   \n",
              "\n",
              "     employment_since  installment_rate      personal_status_sex  \\\n",
              "0          >= 7 years                 4             male, single   \n",
              "1  1 <= ... < 4 years                 2  female, div/sep/married   \n",
              "2  4 <= ... < 7 years                 2             male, single   \n",
              "3  4 <= ... < 7 years                 2             male, single   \n",
              "4  1 <= ... < 4 years                 3             male, single   \n",
              "\n",
              "  other_debtors  ...  other_installment_plans   housing  number_credits  \\\n",
              "0          none  ...                     none       own               2   \n",
              "1          none  ...                     none       own               1   \n",
              "2          none  ...                     none       own               1   \n",
              "3     guarantor  ...                     none  for free               1   \n",
              "4          none  ...                     none  for free               2   \n",
              "\n",
              "                    job people_liable        telephone foreign_worker  target  \\\n",
              "0    skilled / official             1  yes, registered            yes       1   \n",
              "1    skilled / official             1             none            yes       2   \n",
              "2  unskilled - resident             2             none            yes       1   \n",
              "3    skilled / official             2             none            yes       1   \n",
              "4    skilled / official             2             none            yes       2   \n",
              "\n",
              "    genre target_label  \n",
              "0    male     low_risk  \n",
              "1  female    high_risk  \n",
              "2    male     low_risk  \n",
              "3    male     low_risk  \n",
              "4    male    high_risk  \n",
              "\n",
              "[5 rows x 23 columns]"
            ]
          },
          "execution_count": 2,
          "metadata": {},
          "output_type": "execute_result"
        }
      ],
      "source": [
        "# Vista general de los datos\n",
        "print(f\"Dimensiones del dataset: {g_credit_data.shape[0]} filas × {g_credit_data.shape[1]} columnas\\n\")\n",
        "print(\"Primeras 5 filas:\")\n",
        "g_credit_data.head()"
      ]
    },
    {
      "cell_type": "code",
      "execution_count": 3,
      "id": "8190a1f4",
      "metadata": {},
      "outputs": [
        {
          "name": "stdout",
          "output_type": "stream",
          "text": [
            "<class 'pandas.core.frame.DataFrame'>\n",
            "RangeIndex: 1000 entries, 0 to 999\n",
            "Data columns (total 23 columns):\n",
            " #   Column                   Non-Null Count  Dtype   \n",
            "---  ------                   --------------  -----   \n",
            " 0   checking_account         1000 non-null   category\n",
            " 1   duration                 1000 non-null   int64   \n",
            " 2   credit_history           1000 non-null   category\n",
            " 3   purpose                  1000 non-null   category\n",
            " 4   credit_amount            1000 non-null   int64   \n",
            " 5   savings_account          1000 non-null   category\n",
            " 6   employment_since         1000 non-null   category\n",
            " 7   installment_rate         1000 non-null   int64   \n",
            " 8   personal_status_sex      1000 non-null   category\n",
            " 9   other_debtors            1000 non-null   category\n",
            " 10  residence_since          1000 non-null   int64   \n",
            " 11  property                 1000 non-null   category\n",
            " 12  age                      1000 non-null   int64   \n",
            " 13  other_installment_plans  1000 non-null   category\n",
            " 14  housing                  1000 non-null   category\n",
            " 15  number_credits           1000 non-null   int64   \n",
            " 16  job                      1000 non-null   category\n",
            " 17  people_liable            1000 non-null   int64   \n",
            " 18  telephone                1000 non-null   category\n",
            " 19  foreign_worker           1000 non-null   category\n",
            " 20  target                   1000 non-null   int64   \n",
            " 21  genre                    1000 non-null   category\n",
            " 22  target_label             1000 non-null   category\n",
            "dtypes: category(15), int64(8)\n",
            "memory usage: 79.9 KB\n"
          ]
        }
      ],
      "source": [
        "# Información general sobre el dataset\n",
        "g_credit_data.info()"
      ]
    },
    {
      "cell_type": "markdown",
      "id": "44e4ecaa",
      "metadata": {
        "id": "44e4ecaa"
      },
      "source": [
        "## 2. Preparación de datos para el entrenamiento"
      ]
    },
    {
      "cell_type": "markdown",
      "id": "0a559088",
      "metadata": {},
      "source": [
        "### 2.1 One hot encoding y análisis de correlación respecto a variable objetivo"
      ]
    },
    {
      "cell_type": "code",
      "execution_count": 4,
      "id": "0c38fe5a",
      "metadata": {},
      "outputs": [],
      "source": [
        "# para hacer el one hot encoding por ahora saquemos 'target_label' y 'personal_status_sex'\n",
        "g_credit_data = g_credit_data.drop(columns=['target_label', 'personal_status_sex'])\n",
        "\n",
        "# mapeamos a 'target' a 0 y 1\n",
        "g_credit_data['target'] = g_credit_data['target'].map({1: 1, 2: 0})"
      ]
    },
    {
      "cell_type": "code",
      "execution_count": 5,
      "id": "648db0dd",
      "metadata": {},
      "outputs": [
        {
          "name": "stdout",
          "output_type": "stream",
          "text": [
            "Dimensiones del dataset: 1000 filas × 60 columnas\n",
            "\n",
            "Primeras 5 filas:\n"
          ]
        },
        {
          "data": {
            "text/html": [
              "<div>\n",
              "<style scoped>\n",
              "    .dataframe tbody tr th:only-of-type {\n",
              "        vertical-align: middle;\n",
              "    }\n",
              "\n",
              "    .dataframe tbody tr th {\n",
              "        vertical-align: top;\n",
              "    }\n",
              "\n",
              "    .dataframe thead th {\n",
              "        text-align: right;\n",
              "    }\n",
              "</style>\n",
              "<table border=\"1\" class=\"dataframe\">\n",
              "  <thead>\n",
              "    <tr style=\"text-align: right;\">\n",
              "      <th></th>\n",
              "      <th>duration</th>\n",
              "      <th>credit_amount</th>\n",
              "      <th>installment_rate</th>\n",
              "      <th>residence_since</th>\n",
              "      <th>age</th>\n",
              "      <th>number_credits</th>\n",
              "      <th>people_liable</th>\n",
              "      <th>target</th>\n",
              "      <th>checking_account_0 &lt;= ... &lt; 200 DM</th>\n",
              "      <th>checking_account_&lt; 0 DM</th>\n",
              "      <th>...</th>\n",
              "      <th>job_management / self-employed / qualified</th>\n",
              "      <th>job_skilled / official</th>\n",
              "      <th>job_unemployed / non-resident</th>\n",
              "      <th>job_unskilled - resident</th>\n",
              "      <th>telephone_none</th>\n",
              "      <th>telephone_yes, registered</th>\n",
              "      <th>foreign_worker_no</th>\n",
              "      <th>foreign_worker_yes</th>\n",
              "      <th>genre_female</th>\n",
              "      <th>genre_male</th>\n",
              "    </tr>\n",
              "  </thead>\n",
              "  <tbody>\n",
              "    <tr>\n",
              "      <th>0</th>\n",
              "      <td>6</td>\n",
              "      <td>1169</td>\n",
              "      <td>4</td>\n",
              "      <td>4</td>\n",
              "      <td>67</td>\n",
              "      <td>2</td>\n",
              "      <td>1</td>\n",
              "      <td>1</td>\n",
              "      <td>0</td>\n",
              "      <td>1</td>\n",
              "      <td>...</td>\n",
              "      <td>0</td>\n",
              "      <td>1</td>\n",
              "      <td>0</td>\n",
              "      <td>0</td>\n",
              "      <td>0</td>\n",
              "      <td>1</td>\n",
              "      <td>0</td>\n",
              "      <td>1</td>\n",
              "      <td>0</td>\n",
              "      <td>1</td>\n",
              "    </tr>\n",
              "    <tr>\n",
              "      <th>1</th>\n",
              "      <td>48</td>\n",
              "      <td>5951</td>\n",
              "      <td>2</td>\n",
              "      <td>2</td>\n",
              "      <td>22</td>\n",
              "      <td>1</td>\n",
              "      <td>1</td>\n",
              "      <td>0</td>\n",
              "      <td>1</td>\n",
              "      <td>0</td>\n",
              "      <td>...</td>\n",
              "      <td>0</td>\n",
              "      <td>1</td>\n",
              "      <td>0</td>\n",
              "      <td>0</td>\n",
              "      <td>1</td>\n",
              "      <td>0</td>\n",
              "      <td>0</td>\n",
              "      <td>1</td>\n",
              "      <td>1</td>\n",
              "      <td>0</td>\n",
              "    </tr>\n",
              "    <tr>\n",
              "      <th>2</th>\n",
              "      <td>12</td>\n",
              "      <td>2096</td>\n",
              "      <td>2</td>\n",
              "      <td>3</td>\n",
              "      <td>49</td>\n",
              "      <td>1</td>\n",
              "      <td>2</td>\n",
              "      <td>1</td>\n",
              "      <td>0</td>\n",
              "      <td>0</td>\n",
              "      <td>...</td>\n",
              "      <td>0</td>\n",
              "      <td>0</td>\n",
              "      <td>0</td>\n",
              "      <td>1</td>\n",
              "      <td>1</td>\n",
              "      <td>0</td>\n",
              "      <td>0</td>\n",
              "      <td>1</td>\n",
              "      <td>0</td>\n",
              "      <td>1</td>\n",
              "    </tr>\n",
              "    <tr>\n",
              "      <th>3</th>\n",
              "      <td>42</td>\n",
              "      <td>7882</td>\n",
              "      <td>2</td>\n",
              "      <td>4</td>\n",
              "      <td>45</td>\n",
              "      <td>1</td>\n",
              "      <td>2</td>\n",
              "      <td>1</td>\n",
              "      <td>0</td>\n",
              "      <td>1</td>\n",
              "      <td>...</td>\n",
              "      <td>0</td>\n",
              "      <td>1</td>\n",
              "      <td>0</td>\n",
              "      <td>0</td>\n",
              "      <td>1</td>\n",
              "      <td>0</td>\n",
              "      <td>0</td>\n",
              "      <td>1</td>\n",
              "      <td>0</td>\n",
              "      <td>1</td>\n",
              "    </tr>\n",
              "    <tr>\n",
              "      <th>4</th>\n",
              "      <td>24</td>\n",
              "      <td>4870</td>\n",
              "      <td>3</td>\n",
              "      <td>4</td>\n",
              "      <td>53</td>\n",
              "      <td>2</td>\n",
              "      <td>2</td>\n",
              "      <td>0</td>\n",
              "      <td>0</td>\n",
              "      <td>1</td>\n",
              "      <td>...</td>\n",
              "      <td>0</td>\n",
              "      <td>1</td>\n",
              "      <td>0</td>\n",
              "      <td>0</td>\n",
              "      <td>1</td>\n",
              "      <td>0</td>\n",
              "      <td>0</td>\n",
              "      <td>1</td>\n",
              "      <td>0</td>\n",
              "      <td>1</td>\n",
              "    </tr>\n",
              "  </tbody>\n",
              "</table>\n",
              "<p>5 rows × 60 columns</p>\n",
              "</div>"
            ],
            "text/plain": [
              "   duration  credit_amount  installment_rate  residence_since  age  \\\n",
              "0         6           1169                 4                4   67   \n",
              "1        48           5951                 2                2   22   \n",
              "2        12           2096                 2                3   49   \n",
              "3        42           7882                 2                4   45   \n",
              "4        24           4870                 3                4   53   \n",
              "\n",
              "   number_credits  people_liable  target  checking_account_0 <= ... < 200 DM  \\\n",
              "0               2              1       1                                   0   \n",
              "1               1              1       0                                   1   \n",
              "2               1              2       1                                   0   \n",
              "3               1              2       1                                   0   \n",
              "4               2              2       0                                   0   \n",
              "\n",
              "   checking_account_< 0 DM  ...  job_management / self-employed / qualified  \\\n",
              "0                        1  ...                                           0   \n",
              "1                        0  ...                                           0   \n",
              "2                        0  ...                                           0   \n",
              "3                        1  ...                                           0   \n",
              "4                        1  ...                                           0   \n",
              "\n",
              "   job_skilled / official  job_unemployed / non-resident  \\\n",
              "0                       1                              0   \n",
              "1                       1                              0   \n",
              "2                       0                              0   \n",
              "3                       1                              0   \n",
              "4                       1                              0   \n",
              "\n",
              "   job_unskilled - resident  telephone_none  telephone_yes, registered  \\\n",
              "0                         0               0                          1   \n",
              "1                         0               1                          0   \n",
              "2                         1               1                          0   \n",
              "3                         0               1                          0   \n",
              "4                         0               1                          0   \n",
              "\n",
              "   foreign_worker_no  foreign_worker_yes  genre_female  genre_male  \n",
              "0                  0                   1             0           1  \n",
              "1                  0                   1             1           0  \n",
              "2                  0                   1             0           1  \n",
              "3                  0                   1             0           1  \n",
              "4                  0                   1             0           1  \n",
              "\n",
              "[5 rows x 60 columns]"
            ]
          },
          "metadata": {},
          "output_type": "display_data"
        }
      ],
      "source": [
        "# Convertimos todas las columnas categóricas a variables dummy\n",
        "g_credit_data_dummies = pd.get_dummies(g_credit_data)\n",
        "\n",
        "# Convertimos las variables categóricas a enteros\n",
        "g_credit_data_dummies = g_credit_data_dummies.astype(int)\n",
        "\n",
        "print(f\"Dimensiones del dataset: {g_credit_data_dummies.shape[0]} filas × {g_credit_data_dummies.shape[1]} columnas\\n\")\n",
        "print(\"Primeras 5 filas:\")\n",
        "display(g_credit_data_dummies.head())"
      ]
    },
    {
      "cell_type": "code",
      "execution_count": 6,
      "id": "5ccfc260",
      "metadata": {},
      "outputs": [
        {
          "name": "stdout",
          "output_type": "stream",
          "text": [
            "Correlaciones con la variable 'target':\n",
            "target                                           1.000000\n",
            "checking_account_no account                      0.322436\n",
            "credit_history_critical account / other bank     0.181713\n",
            "housing_own                                      0.134589\n",
            "savings_account_unknown / no account             0.129238\n",
            "property_real estate                             0.119300\n",
            "other_installment_plans_none                     0.113285\n",
            "purpose_radio/TV                                 0.106922\n",
            "purpose_car (used)                               0.099791\n",
            "age                                              0.091127\n",
            "savings_account_>= 1000 DM                       0.085749\n",
            "foreign_worker_no                                0.082079\n",
            "employment_since_4 <= ... < 7 years              0.075980\n",
            "genre_male                                       0.075493\n",
            "savings_account_500 <= ... < 1000 DM             0.070954\n",
            "employment_since_>= 7 years                      0.059733\n",
            "other_debtors_guarantor                          0.055039\n",
            "number_credits                                   0.045732\n",
            "checking_account_>= 200 DM or salary assigned    0.044009\n",
            "purpose_retraining                               0.039281\n",
            "telephone_yes, registered                        0.036466\n",
            "job_unskilled - resident                         0.021822\n",
            "job_skilled / official                           0.013559\n",
            "people_liable                                    0.003015\n",
            "other_debtors_none                               0.000751\n",
            "residence_since                                 -0.002967\n",
            "job_unemployed / non-resident                   -0.005951\n",
            "property_building society / insurance           -0.007238\n",
            "purpose_domestic appliances                     -0.008016\n",
            "employment_since_1 <= ... < 4 years             -0.010603\n",
            "property_car / other                            -0.011121\n",
            "credit_history_delay in past                    -0.012325\n",
            "purpose_repairs                                 -0.020828\n",
            "purpose_furniture/equipment                     -0.020971\n",
            "savings_account_100 <= ... < 500 DM             -0.022255\n",
            "purpose_others                                  -0.028058\n",
            "purpose_business                                -0.036129\n",
            "telephone_none                                  -0.036466\n",
            "employment_since_unemployed                     -0.039815\n",
            "job_management / self-employed / qualified      -0.040559\n",
            "credit_history_paid duly till now               -0.043722\n",
            "other_installment_plans_stores                  -0.050523\n",
            "other_debtors_co-applicant                      -0.062728\n",
            "purpose_education                               -0.070088\n",
            "installment_rate                                -0.072404\n",
            "genre_female                                    -0.075493\n",
            "housing_for free                                -0.081556\n",
            "foreign_worker_yes                              -0.082079\n",
            "housing_rent                                    -0.092785\n",
            "other_installment_plans_bank                    -0.096510\n",
            "purpose_car (new)                               -0.096900\n",
            "employment_since_< 1 year                       -0.106397\n",
            "checking_account_0 <= ... < 200 DM              -0.119581\n",
            "property_unknown / no property                  -0.125750\n",
            "credit_history_paid at this bank                -0.134448\n",
            "credit_history_no credits / all paid            -0.144767\n",
            "credit_amount                                   -0.154739\n",
            "savings_account_< 100 DM                        -0.161007\n",
            "duration                                        -0.214927\n",
            "checking_account_< 0 DM                         -0.258333\n",
            "Name: target, dtype: float64\n"
          ]
        }
      ],
      "source": [
        "# Analizamos correlaciones con la variable 'target'\n",
        "correlaciones = g_credit_data_dummies.corr()['target'].sort_values(ascending=False)\n",
        "print(\"Correlaciones con la variable 'target':\")\n",
        "print(correlaciones)"
      ]
    },
    {
      "cell_type": "code",
      "execution_count": 8,
      "id": "370856b2",
      "metadata": {},
      "outputs": [
        {
          "name": "stdout",
          "output_type": "stream",
          "text": [
            "Variables seleccionadas y su correlación con la variable 'target':\n"
          ]
        },
        {
          "data": {
            "text/html": [
              "<div>\n",
              "<style scoped>\n",
              "    .dataframe tbody tr th:only-of-type {\n",
              "        vertical-align: middle;\n",
              "    }\n",
              "\n",
              "    .dataframe tbody tr th {\n",
              "        vertical-align: top;\n",
              "    }\n",
              "\n",
              "    .dataframe thead th {\n",
              "        text-align: right;\n",
              "    }\n",
              "</style>\n",
              "<table border=\"1\" class=\"dataframe\">\n",
              "  <thead>\n",
              "    <tr style=\"text-align: right;\">\n",
              "      <th></th>\n",
              "      <th>variable</th>\n",
              "      <th>correlacion</th>\n",
              "    </tr>\n",
              "  </thead>\n",
              "  <tbody>\n",
              "    <tr>\n",
              "      <th>0</th>\n",
              "      <td>checking_account_no account</td>\n",
              "      <td>0.322436</td>\n",
              "    </tr>\n",
              "    <tr>\n",
              "      <th>1</th>\n",
              "      <td>credit_history_critical account / other bank</td>\n",
              "      <td>0.181713</td>\n",
              "    </tr>\n",
              "    <tr>\n",
              "      <th>2</th>\n",
              "      <td>housing_own</td>\n",
              "      <td>0.134589</td>\n",
              "    </tr>\n",
              "    <tr>\n",
              "      <th>3</th>\n",
              "      <td>savings_account_unknown / no account</td>\n",
              "      <td>0.129238</td>\n",
              "    </tr>\n",
              "    <tr>\n",
              "      <th>4</th>\n",
              "      <td>property_real estate</td>\n",
              "      <td>0.119300</td>\n",
              "    </tr>\n",
              "    <tr>\n",
              "      <th>5</th>\n",
              "      <td>other_installment_plans_none</td>\n",
              "      <td>0.113285</td>\n",
              "    </tr>\n",
              "    <tr>\n",
              "      <th>6</th>\n",
              "      <td>purpose_radio/TV</td>\n",
              "      <td>0.106922</td>\n",
              "    </tr>\n",
              "    <tr>\n",
              "      <th>16</th>\n",
              "      <td>genre_male</td>\n",
              "      <td>0.075493</td>\n",
              "    </tr>\n",
              "    <tr>\n",
              "      <th>7</th>\n",
              "      <td>employment_since_&lt; 1 year</td>\n",
              "      <td>-0.106397</td>\n",
              "    </tr>\n",
              "    <tr>\n",
              "      <th>8</th>\n",
              "      <td>checking_account_0 &lt;= ... &lt; 200 DM</td>\n",
              "      <td>-0.119581</td>\n",
              "    </tr>\n",
              "    <tr>\n",
              "      <th>9</th>\n",
              "      <td>property_unknown / no property</td>\n",
              "      <td>-0.125750</td>\n",
              "    </tr>\n",
              "    <tr>\n",
              "      <th>10</th>\n",
              "      <td>credit_history_paid at this bank</td>\n",
              "      <td>-0.134448</td>\n",
              "    </tr>\n",
              "    <tr>\n",
              "      <th>11</th>\n",
              "      <td>credit_history_no credits / all paid</td>\n",
              "      <td>-0.144767</td>\n",
              "    </tr>\n",
              "    <tr>\n",
              "      <th>12</th>\n",
              "      <td>credit_amount</td>\n",
              "      <td>-0.154739</td>\n",
              "    </tr>\n",
              "    <tr>\n",
              "      <th>13</th>\n",
              "      <td>savings_account_&lt; 100 DM</td>\n",
              "      <td>-0.161007</td>\n",
              "    </tr>\n",
              "    <tr>\n",
              "      <th>14</th>\n",
              "      <td>duration</td>\n",
              "      <td>-0.214927</td>\n",
              "    </tr>\n",
              "    <tr>\n",
              "      <th>15</th>\n",
              "      <td>checking_account_&lt; 0 DM</td>\n",
              "      <td>-0.258333</td>\n",
              "    </tr>\n",
              "  </tbody>\n",
              "</table>\n",
              "</div>"
            ],
            "text/plain": [
              "                                        variable  correlacion\n",
              "0                    checking_account_no account     0.322436\n",
              "1   credit_history_critical account / other bank     0.181713\n",
              "2                                    housing_own     0.134589\n",
              "3           savings_account_unknown / no account     0.129238\n",
              "4                           property_real estate     0.119300\n",
              "5                   other_installment_plans_none     0.113285\n",
              "6                               purpose_radio/TV     0.106922\n",
              "16                                    genre_male     0.075493\n",
              "7                      employment_since_< 1 year    -0.106397\n",
              "8             checking_account_0 <= ... < 200 DM    -0.119581\n",
              "9                 property_unknown / no property    -0.125750\n",
              "10              credit_history_paid at this bank    -0.134448\n",
              "11          credit_history_no credits / all paid    -0.144767\n",
              "12                                 credit_amount    -0.154739\n",
              "13                      savings_account_< 100 DM    -0.161007\n",
              "14                                      duration    -0.214927\n",
              "15                       checking_account_< 0 DM    -0.258333"
            ]
          },
          "execution_count": 8,
          "metadata": {},
          "output_type": "execute_result"
        }
      ],
      "source": [
        "# selecciono las variables con correlacion mayor a 0.1 en módulo + 'genre_male'\n",
        "variables_seleccionadas = correlaciones[abs(correlaciones) > 0.1].index.tolist()\n",
        "variables_seleccionadas.append('genre_male')\n",
        "\n",
        "# saco a la variable objetivo\n",
        "variables_seleccionadas.remove('target')\n",
        "                               \n",
        "# armo un df para mostrar las variables seleccionadas junto con su correlacion\n",
        "df_seleccionadas = pd.DataFrame(correlaciones[variables_seleccionadas])\n",
        "df_seleccionadas = df_seleccionadas.reset_index()\n",
        "df_seleccionadas.columns = ['variable', 'correlacion']\n",
        "df_seleccionadas = df_seleccionadas.sort_values(by='correlacion', ascending=False)\n",
        "print(\"Variables seleccionadas y su correlación con la variable 'target':\")\n",
        "df_seleccionadas"
      ]
    },
    {
      "cell_type": "markdown",
      "id": "1c97de7e",
      "metadata": {},
      "source": [
        "### 2.2 Separación en datos de entrenamiento y prueba"
      ]
    },
    {
      "cell_type": "markdown",
      "id": "653bff4f",
      "metadata": {
        "id": "653bff4f"
      },
      "source": [
        "Prepararemos los datos para el entrenamiento de nuestro modelo de regresión logística.\n",
        "Esto implica:\n",
        "1. Separar variables predictoras (X) de la variable objetivo (y)\n",
        "3. Dividir los datos en conjuntos de entrenamiento y prueba\n",
        "4. Preparar la matriz de diseño con término de intercepto para la regresión logística"
      ]
    },
    {
      "cell_type": "code",
      "execution_count": 9,
      "id": "c7000ab1",
      "metadata": {
        "id": "c7000ab1",
        "outputId": "3a350f23-d8fa-416c-e334-b5a26ecb24fb"
      },
      "outputs": [
        {
          "name": "stdout",
          "output_type": "stream",
          "text": [
            "Dimensiones de X_train_design: (800, 18)\n",
            "Dimensiones de X_test_design: (200, 18)\n",
            "Distribución de clases en el conjunto de entrenamiento: [241 559]\n",
            "Distribución de clases en el conjunto de prueba: [ 59 141]\n"
          ]
        }
      ],
      "source": [
        "# Separamos variables predictoras (X) y variable objetivo (y)\n",
        "X = g_credit_data_dummies[variables_seleccionadas]\n",
        "y = g_credit_data_dummies['target']\n",
        "indices = X.index\n",
        "\n",
        "# Dividimos en conjuntos de entrenamiento (80%) y prueba (20%)\n",
        "X_train, X_test, y_train, y_test, idx_train, idx_test = train_test_split(\n",
        "    X.values, y.values, indices, test_size=0.2, random_state=42\n",
        ")\n",
        "\n",
        "# Agregamos columna de intercepto (unos) a las matrices de diseño\n",
        "X_train_design = np.hstack([np.ones((X_train.shape[0], 1)), X_train])\n",
        "X_test_design = np.hstack([np.ones((X_test.shape[0], 1)), X_test])\n",
        "\n",
        "print(f\"Dimensiones de X_train_design: {X_train_design.shape}\")\n",
        "print(f\"Dimensiones de X_test_design: {X_test_design.shape}\")\n",
        "print(f\"Distribución de clases en el conjunto de entrenamiento: {np.bincount(y_train)}\")\n",
        "print(f\"Distribución de clases en el conjunto de prueba: {np.bincount(y_test)}\")"
      ]
    },
    {
      "cell_type": "markdown",
      "id": "4189a492",
      "metadata": {
        "id": "4189a492"
      },
      "source": [
        "## 3. Entrenamiento del modelo de regresión logística"
      ]
    },
    {
      "cell_type": "markdown",
      "id": "bf391edd",
      "metadata": {
        "id": "bf391edd"
      },
      "source": [
        "Utilizaremos un modelo de regresión logística como nuestro primer enfoque debido a:\n",
        "\n",
        "1. **Simplicidad e interpretabilidad**: La regresión logística es un modelo sencillo\n",
        "   cuyos coeficientes pueden interpretarse directamente, facilitando el análisis de equidad.\n",
        "\n",
        "2. **Adecuación al problema**: Al ser un problema de clasificación binaria (alto/bajo riesgo),\n",
        "   la regresión logística es una opción natural y efectiva.\n",
        "\n",
        "3. **Eficiencia computacional**: Requiere menos recursos y tiempo de entrenamiento\n",
        "   que modelos más complejos, lo que es ideal para una primera iteración.\n",
        "\n",
        "Utilizaremos funciones personalizadas de nuestro módulo de utilidades para el ajuste\n",
        "y la predicción del modelo."
      ]
    },
    {
      "cell_type": "code",
      "execution_count": 10,
      "id": "cf2c8c44",
      "metadata": {
        "id": "cf2c8c44",
        "outputId": "b4bf88ca-1b2f-4b00-91e8-8aa511b516b5"
      },
      "outputs": [
        {
          "name": "stdout",
          "output_type": "stream",
          "text": [
            "Entrenando modelo de regresión logística...\n",
            "Predicciones completadas.\n"
          ]
        }
      ],
      "source": [
        "from tp_final_fairness_ML.utils.models import ajustar_regresion_logistica, predecir_regresion_logistica\n",
        "\n",
        "coeficientes = ajustar_regresion_logistica(X_train_design, y_train)\n",
        "y_pred_test = predecir_regresion_logistica(X_test_design, coeficientes)"
      ]
    },
    {
      "cell_type": "markdown",
      "id": "1a7a7b00",
      "metadata": {
        "id": "1a7a7b00"
      },
      "source": [
        "## 4. Evaluación del modelo mediante métricas de clasificación"
      ]
    },
    {
      "cell_type": "markdown",
      "id": "c601119d",
      "metadata": {
        "id": "c601119d"
      },
      "source": [
        "Evaluaremos el desempeño del modelo utilizando métricas estándar de clasificación:\n",
        "\n",
        "- **Precisión (Precision)**: Proporción de predicciones positivas que fueron correctas\n",
        "- **Sensibilidad (Recall)**: Proporción de casos positivos reales que fueron correctamente identificados\n",
        "- **F1-Score**: Media armónica de precisión y sensibilidad\n",
        "- **Exactitud (Accuracy)**: Proporción total de predicciones correctas\n",
        "\n",
        "Estas métricas nos darán una visión general de la calidad del modelo y su capacidad\n",
        "para identificar correctamente tanto solicitantes de bajo como de alto riesgo."
      ]
    },
    {
      "cell_type": "code",
      "execution_count": 11,
      "id": "4f9508e9",
      "metadata": {
        "id": "4f9508e9",
        "outputId": "ce9d1fc8-716d-4c3a-b711-7439dc505fb6"
      },
      "outputs": [
        {
          "name": "stdout",
          "output_type": "stream",
          "text": [
            "Reporte de clasificación:\n",
            "              precision    recall  f1-score   support\n",
            "\n",
            "           0       0.68      0.46      0.55        59\n",
            "           1       0.80      0.91      0.85       141\n",
            "\n",
            "    accuracy                           0.78       200\n",
            "   macro avg       0.74      0.68      0.70       200\n",
            "weighted avg       0.76      0.78      0.76       200\n",
            "\n"
          ]
        }
      ],
      "source": [
        "print(\"Reporte de clasificación:\")\n",
        "print(classification_report(y_test, y_pred_test))"
      ]
    },
    {
      "cell_type": "markdown",
      "id": "d829ecef",
      "metadata": {
        "id": "d829ecef"
      },
      "source": [
        "### Interpretación de las métricas\n",
        "\n",
        "- **Clase 1 (Bajo riesgo)**: El modelo muestra un buen desempeño identificando solicitantes de bajo riesgo:\n",
        "  - Precisión: 0.80 - El 80% de los solicitantes clasificados como bajo riesgo efectivamente lo son.\n",
        "  - Sensibilidad: 0.91 - El modelo identifica correctamente el 91% de los solicitantes de bajo riesgo.\n",
        "  - F1-Score: 0.85 - Buen balance entre precisión y sensibilidad para esta clase.\n",
        "\n",
        "- **Clase 0 (Alto riesgo)**: El desempeño es menor para identificar solicitantes de alto riesgo:\n",
        "  - Precisión: 0.68 - El 68% de los solicitantes clasificados como alto riesgo realmente lo son.\n",
        "  - Sensibilidad: 0.46 - El modelo solo identifica correctamente el 46% de los solicitantes de alto riesgo.\n",
        "  - F1-Score: 0.55 - Desempeño bajo/moderado para esta clase.\n",
        "\n",
        "- **Exactitud general**: 0.78 - El 78% de todas las predicciones son correctas.\n",
        "\n",
        "Este desequilibrio en el desempeño entre clases podría atribuirse principalmente a la\n",
        "distribución desbalanceada de las clases en los datos, donde hay más solicitantes de\n",
        "bajo riesgo que de alto riesgo. Esta situación es común en problemas de crédito y\n",
        "requiere atención especial desde la perspectiva de equidad."
      ]
    },
    {
      "cell_type": "markdown",
      "id": "20e67ca6",
      "metadata": {
        "id": "20e67ca6"
      },
      "source": [
        "## 5. Análisis de la matriz de confusión"
      ]
    },
    {
      "cell_type": "markdown",
      "id": "5bc721b7",
      "metadata": {
        "id": "5bc721b7"
      },
      "source": [
        "La matriz de confusión nos permitirá visualizar en detalle los aciertos y errores del modelo,\n",
        "así como entender los diferentes tipos de errores (falsos positivos y falsos negativos) y su\n",
        "impacto en términos de equidad y toma de decisiones."
      ]
    },
    {
      "cell_type": "code",
      "execution_count": 14,
      "id": "5568bdaa",
      "metadata": {
        "id": "5568bdaa",
        "outputId": "142a34e4-3a78-4411-d212-5513e56c3898"
      },
      "outputs": [
        {
          "data": {
            "image/png": "[encoded data removed]",
            "text/plain": [
              "<Figure size 1000x600 with 2 Axes>"
            ]
          },
          "metadata": {},
          "output_type": "display_data"
        }
      ],
      "source": [
        "cm = confusion_matrix(y_test, y_pred_test, labels=[1, 0])\n",
        "labels = ['Bajo riesgo (1)', 'Alto riesgo (0)']\n",
        "\n",
        "plt.figure(figsize=(10, 6))\n",
        "sns.heatmap(cm, annot=True, fmt='d', cmap='Blues', xticklabels=labels, yticklabels=labels)\n",
        "plt.xlabel('Predicción')\n",
        "plt.ylabel('Valor real')\n",
        "plt.title('Matriz de confusión')\n",
        "plt.tight_layout()\n",
        "plt.show()"
      ]
    },
    {
      "cell_type": "markdown",
      "id": "958eb4a9",
      "metadata": {
        "id": "958eb4a9"
      },
      "source": [
        "### Interpretación de la matriz de confusión\n",
        "\n",
        "Para interpretar correctamente la matriz, consideremos:\n",
        "\n",
        "- **Verdaderos positivos (TP)**: 128 solicitantes fueron correctamente clasificados como de bajo riesgo.\n",
        "- **Falsos negativos (FN)**: 13 solicitantes de bajo riesgo fueron incorrectamente clasificados como de alto riesgo.\n",
        "- **Falsos positivos (FP)**: 32 solicitantes de alto riesgo fueron incorrectamente clasificados como de bajo riesgo.\n",
        "- **Verdaderos negativos (TN)**: 27 solicitantes fueron correctamente clasificados como de alto riesgo.\n",
        "\n",
        "**Implicaciones de los errores**:\n",
        "\n",
        "1. **Falsos positivos (32)**: Este tipo de error es particularmente problemático para instituciones financieras, ya que implica otorgar préstamos a personas que realmente son de alto riesgo, lo que podría resultar en pérdidas financieras.\n",
        "\n",
        "2. **Falsos negativos (13)**: Aunque menos costoso desde la perspectiva financiera, este error implica negar préstamos a personas que realmente son de bajo riesgo, lo que representa un problema de equidad y acceso a servicios financieros.\n",
        "\n",
        "El balance entre estos tipos de errores es fundamental para garantizar tanto la salud financiera de la institución como la equidad en el acceso al crédito para diferentes grupos demográficos."
      ]
    },
    {
      "cell_type": "markdown",
      "id": "bd25c44a",
      "metadata": {
        "id": "bd25c44a"
      },
      "source": [
        "## 6. Preparación de datos para análisis de equidad"
      ]
    },
    {
      "cell_type": "markdown",
      "id": "a6221f1e",
      "metadata": {
        "id": "a6221f1e"
      },
      "source": [
        "Para realizar un análisis de equidad por género, necesitamos combinar nuestras predicciones\n",
        "con la información de género de los solicitantes. Esto nos permitirá evaluar si el modelo\n",
        "presenta sesgos algorítmicos que afecten desproporcionadamente a algún grupo.\n",
        "\n",
        "Crearemos un nuevo conjunto de datos que contenga:\n",
        "- Las etiquetas reales (y_test)\n",
        "- Las predicciones del modelo (y_pred_test)\n",
        "- El género de cada solicitante"
      ]
    },
    {
      "cell_type": "code",
      "execution_count": 15,
      "id": "5bf39c60",
      "metadata": {
        "id": "5bf39c60",
        "outputId": "354b9bff-2eb4-4aed-e6bb-e89a44b11eab"
      },
      "outputs": [
        {
          "name": "stdout",
          "output_type": "stream",
          "text": [
            "Primeras filas del dataframe para análisis de equidad:\n"
          ]
        },
        {
          "data": {
            "text/html": [
              "<div>\n",
              "<style scoped>\n",
              "    .dataframe tbody tr th:only-of-type {\n",
              "        vertical-align: middle;\n",
              "    }\n",
              "\n",
              "    .dataframe tbody tr th {\n",
              "        vertical-align: top;\n",
              "    }\n",
              "\n",
              "    .dataframe thead th {\n",
              "        text-align: right;\n",
              "    }\n",
              "</style>\n",
              "<table border=\"1\" class=\"dataframe\">\n",
              "  <thead>\n",
              "    <tr style=\"text-align: right;\">\n",
              "      <th></th>\n",
              "      <th>y_test</th>\n",
              "      <th>y_pred_test</th>\n",
              "      <th>genre</th>\n",
              "    </tr>\n",
              "  </thead>\n",
              "  <tbody>\n",
              "    <tr>\n",
              "      <th>521</th>\n",
              "      <td>0</td>\n",
              "      <td>1</td>\n",
              "      <td>female</td>\n",
              "    </tr>\n",
              "    <tr>\n",
              "      <th>737</th>\n",
              "      <td>1</td>\n",
              "      <td>1</td>\n",
              "      <td>male</td>\n",
              "    </tr>\n",
              "    <tr>\n",
              "      <th>740</th>\n",
              "      <td>1</td>\n",
              "      <td>0</td>\n",
              "      <td>male</td>\n",
              "    </tr>\n",
              "    <tr>\n",
              "      <th>660</th>\n",
              "      <td>1</td>\n",
              "      <td>1</td>\n",
              "      <td>male</td>\n",
              "    </tr>\n",
              "    <tr>\n",
              "      <th>411</th>\n",
              "      <td>1</td>\n",
              "      <td>1</td>\n",
              "      <td>male</td>\n",
              "    </tr>\n",
              "  </tbody>\n",
              "</table>\n",
              "</div>"
            ],
            "text/plain": [
              "     y_test  y_pred_test   genre\n",
              "521       0            1  female\n",
              "737       1            1    male\n",
              "740       1            0    male\n",
              "660       1            1    male\n",
              "411       1            1    male"
            ]
          },
          "metadata": {},
          "output_type": "display_data"
        },
        {
          "name": "stdout",
          "output_type": "stream",
          "text": [
            "Datos guardados en: ..\\data\\processed\\df_genero_eval.csv\n"
          ]
        }
      ],
      "source": [
        "ruta_datos_procesados = os.path.join('..', 'data', 'processed', 'german_credit_data.csv')\n",
        "g_credit_data = pd.read_csv(ruta_datos_procesados)\n",
        "\n",
        "df_genero_eval = pd.DataFrame({\n",
        "    'y_test': y_test,\n",
        "    'y_pred_test': y_pred_test,\n",
        "    'genre': g_credit_data.loc[idx_test, 'genre']\n",
        "})\n",
        "\n",
        "print(\"Primeras filas del dataframe para análisis de equidad:\")\n",
        "display(df_genero_eval.head())\n",
        "\n",
        "ruta_guardado = os.path.join('..', 'data', 'processed', 'df_genero_eval.csv')\n",
        "df_genero_eval.to_csv(ruta_guardado, index=False)\n",
        "print(f\"Datos guardados en: {ruta_guardado}\")"
      ]
    },
    {
      "cell_type": "markdown",
      "id": "347f93d8",
      "metadata": {
        "id": "347f93d8"
      },
      "source": [
        "## 7. Resumen y conclusiones"
      ]
    },
    {
      "cell_type": "markdown",
      "id": "32a746d1",
      "metadata": {
        "id": "32a746d1"
      },
      "source": [
        "En este notebook hemos completado las siguientes tareas:\n",
        "\n",
        "1. **Carga y preparación de datos**: Importamos el conjunto de datos German Credit y aplicamos un One hot encoding para poder entrenar un modelo usando también a las variables categóricas.\n",
        "\n",
        "2. **Selección de features**: Una vez hecho el One hot encoding elegimos las columnas que mostraron mayor correlación con la variable objetivo, eliminando así gran parte del ruido.\n",
        "\n",
        "3. **Entrenamiento del modelo**: Implementamos un modelo de regresión logística para predecir el riesgo crediticio.\n",
        "\n",
        "4. **Evaluación de desempeño**: Analizamos las métricas de clasificación y la matriz de confusión para entender el comportamiento del modelo.\n",
        "\n",
        "5. **Preparación para análisis de equidad**: Generamos un conjunto de datos que incluye las predicciones y el género de los solicitantes.\n",
        "\n",
        "Observamos que el modelo tiene un buen desempeño general (78% de exactitud), pero muestra diferencias significativas en su capacidad para identificar correctamente las dos clases: es mejor identificando solicitantes de bajo riesgo (91% de sensibilidad) que solicitantes de alto riesgo (46% de sensibilidad)."
      ]
    }
  ],
  "metadata": {
    "colab": {
      "provenance": []
    },
    "jupytext": {
      "cell_metadata_filter": "-all",
      "main_language": "python",
      "notebook_metadata_filter": "-all"
    },
    "kernelspec": {
      "display_name": "venv",
      "language": "python",
      "name": "python3"
    },
    "language_info": {
      "codemirror_mode": {
        "name": "ipython",
        "version": 3
      },
      "file_extension": ".py",
      "mimetype": "text/x-python",
      "name": "python",
      "nbconvert_exporter": "python",
      "pygments_lexer": "ipython3",
      "version": "3.11.4"
    }
  },
  "nbformat": 4,
  "nbformat_minor": 5
}
