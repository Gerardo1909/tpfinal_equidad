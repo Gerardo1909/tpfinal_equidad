{
 "cells": [
  {
   "cell_type": "markdown",
   "id": "7c08e1ba",
   "metadata": {},
   "source": [
    "# Equidad en Aprendizaje Automático - Trabajo Práctico\n",
    "\n",
    "## Análisis del Dataset _German Credit Data_\n",
    "\n",
    "**1º Cuatrimestre 2025**\n",
    "\n",
    "**Escuela de Ciencia y Tecnología - Universidad Nacional de San Martín**\n",
    "\n",
    "### Integrantes\n",
    "\n",
    "- [Gerardo Toboso](https://github.com/Gerardo1909)\n",
    "- [Gianni Bevilacqua](https://github.com/Gianni2025)\n",
    "- [Javier Spina](https://github.com/jaspina-unsam)\n",
    "\n",
    "---\n",
    "\n",
    "### Objetivo\n",
    "\n",
    "En este notebook analizamos un modelo de aprendizaje automático de clasificación básico o _baseline_ y una mejora en cuanto a justicia o equidad social (de ahora en más, _fairness_) respecto a los grupos representados por los atributos sensibles, en particular el género. Nos servimos de las métricas clásicas de _performance_, el análisis con matrices de confusión y el uso de metricas de _fairness_; así mismo, al final de este _notebook_, comparamos el modelo _baseline_ con el modelo mitigado.\n",
    "\n",
    "### Elementos complementarios\n",
    "\n",
    "A la par de este _notebook_, hemos creado un documento de texto que profundiza en aspectos que no necesitan el uso de código, por ejemplo allí se encuentra el contenido de _Datasheets for Datasets_ pertinente al _German Credit Data_, así como también los análisis, reflexiones y conclusiones complementarias a este documento.\n",
    "\n",
    "---\n",
    "\n",
    "### Índice\n",
    "\n",
    "1. Preprocesamiento\n",
    "2. Análisis Exploratorio\n",
    "3. Modelo baseline\n",
    "4. Evaluación Fairness\n",
    "5. Mitigación\n",
    "6. Evaluación final\n"
   ]
  },
  {
   "cell_type": "code",
   "execution_count": null,
   "id": "65d49dc8",
   "metadata": {},
   "outputs": [],
   "source": [
    "import pandas as pd\n",
    "import numpy as np\n",
    "from matplotlib import pyplot as plt\n",
    "import seaborn as sns\n",
    "from sklearn.model_selection import train_test_split\n",
    "from sklearn.metrics import classification_report\n",
    "from sklearn.metrics import confusion_matrix\n",
    "from sklearn.metrics import accuracy_score\n",
    "from sklearn.preprocessing import StandardScaler\n",
    "from sklearn.linear_model import LogisticRegression\n",
    "from holisticai.bias.metrics import classification_bias_metrics\n",
    "from holisticai.pipeline import Pipeline\n",
    "from holisticai.bias.mitigation import CorrelationRemover\n",
    "from holisticai.bias.mitigation import PrejudiceRemover\n",
    "\n",
    "from ucimlrepo import fetch_ucirepo\n",
    "\n",
    "sns.set_context(\"notebook\")"
   ]
  },
  {
   "cell_type": "markdown",
   "id": "7ec9f135",
   "metadata": {},
   "source": [
    "## 1. Preprocesamiento de Datos\n",
    "\n",
    "### 1.1 Carga de datos brutos\n",
    "\n",
    "La fuente [UC Irvine - Machine Learning Repository](https://archive.ics.uci.edu/dataset/144/statlog+german+credit+data) provee instrucciones sencillas para importar el dataset.\n",
    "\n",
    "> Importante: Instalar los requisitos listados en `requirements.txt`. Se recomienda usar la versión `3.10.17` de Python para asegurar compatibilidad.\n"
   ]
  },
  {
   "cell_type": "code",
   "execution_count": null,
   "id": "43230cef",
   "metadata": {},
   "outputs": [],
   "source": [
    "statlog_german_credit_data = fetch_ucirepo(id=144)\n",
    "\n",
    "X = statlog_german_credit_data.data.features\n",
    "y = statlog_german_credit_data.data.targets\n",
    "\n",
    "print(\"Dimensiones de los atributos %d filas x %d columnas\\nPrimeras 5 filas:\" % X.shape)\n",
    "X.head()"
   ]
  },
  {
   "cell_type": "markdown",
   "id": "ed3cd196",
   "metadata": {},
   "source": [
    "Es imposible leer el dataset a simple vista sin procesar los nombres de los atributos y los valores de cada uno. En la página de la fuente hay una tabla que describe el mapeo correspondiente.\n",
    "\n",
    "#### Tabla de variables\n",
    "\n",
    "| Variable Name | Role    | Type        | Demographic     | Description                                                       | Units  | Missing Values |\n",
    "|---------------|---------|-------------|------------------|-------------------------------------------------------------------|--------|----------------|\n",
    "| Attribute1    | Feature | Categorical |                  | Status of existing checking account                               |        | no             |\n",
    "| Attribute2    | Feature | Integer     |                  | Duration                                                          | months | no             |\n",
    "| Attribute3    | Feature | Categorical |                  | Credit history                                                    |        | no             |\n",
    "| Attribute4    | Feature | Categorical |                  | Purpose                                                           |        | no             |\n",
    "| Attribute5    | Feature | Integer     |                  | Credit amount                                                     |        | no             |\n",
    "| Attribute6    | Feature | Categorical |                  | Savings account/bonds                                             |        | no             |\n",
    "| Attribute7    | Feature | Categorical | Other           | Present employment since                                          |        | no             |\n",
    "| Attribute8    | Feature | Integer     |                  | Installment rate in percentage of disposable income               |        | no             |\n",
    "| Attribute9    | Feature | Categorical | Marital Status  | Personal status and sex                                           |        | no             |\n",
    "| Attribute10   | Feature | Categorical |                  | Other debtors / guarantors                                        |        | no             |\n",
    "| Attribute11   | Feature | Integer     |                  | Present residence since                                           |        | no             |\n",
    "| Attribute12   | Feature | Categorical |                  | Property                                                          |        | no             |\n",
    "| Attribute13   | Feature | Integer     | Age             | Age                                                               | years  | no             |\n",
    "| Attribute14   | Feature | Categorical |                  | Other installment plans                                           |        | no             |\n",
    "| Attribute15   | Feature | Categorical | Other           | Housing                                                           |        | no             |\n",
    "| Attribute16   | Feature | Integer     |                  | Number of existing credits at this bank                           |        | no             |\n",
    "| Attribute17   | Feature | Categorical | Occupation      | Job                                                               |        | no             |\n",
    "| Attribute18   | Feature | Integer     |                  | Number of people being liable to provide maintenance for          |        | no             |\n",
    "| Attribute19   | Feature | Binary      |                  | Telephone                                                         |        | no             |\n",
    "| Attribute20   | Feature | Binary      | Other           | Foreign worker                                                    |        | no             |\n",
    "| class         | Target  | Binary      |                  | 1 = Good, 2 = Bad                                                  |        | no             |\n",
    "\n",
    "#### Información adicional de variables\n",
    "\n",
    "1. Attribute 1 (qualitative): **Status of existing checking account**\n",
    "    - A11:      ... &lt;    0 DM\n",
    "    - A12: 0 &lt;= ... &lt;  200 DM\n",
    "    - A13:      ... &gt;= 200 DM / salary assignments for at least 1 year\n",
    "    - A14: no checking account\n",
    "\n",
    "2. Attribute 2 (numerical): **Duration in month**\n",
    "\n",
    "3. Attribute 3 (qualitative): **Credit history**\n",
    "    - A30: no credits taken/ all credits paid back duly\n",
    "    - A31: all credits at this bank paid back duly\n",
    "    - A32: existing credits paid back duly till now\n",
    "    - A33: delay in paying off in the past\n",
    "    - A34: critical account/  other credits existing (not at this bank)\n",
    "\n",
    "4. Attribute 4 (qualitative): **Purpose**\n",
    "    - A40: car (new)\n",
    "    - A41: car (used)\n",
    "    - A42: furniture/equipment\n",
    "    - A43: radio/television\n",
    "    - A44: domestic appliances\n",
    "    - A45: repairs\n",
    "    - A46: education\n",
    "    - A47: (vacation - does not exist?)\n",
    "    - A48: retraining\n",
    "    - A49: business\n",
    "    - A410: others\n",
    "\n",
    "5. Attribute 5 (numerical): **Credit amount**\n",
    "\n",
    "6. Attibute 6 (qualitative): **Savings account/bonds**\n",
    "    - A61:          ... &lt;  100 DM\n",
    "    - A62:   100 &lt;= ... &lt;  500 DM\n",
    "    - A63:   500 &lt;= ... &lt; 1000 DM\n",
    "    - A64:          .. &gt;= 1000 DM\n",
    "    - A65:   unknown/ no savings account\n",
    "\n",
    "7. Attribute 7 (qualitative): **Present employment since**\n",
    "    - A71: unemployed\n",
    "    - A72:       ... &lt; 1 year\n",
    "    - A73: 1  &lt;= ... &lt; 4 years\n",
    "    - A74: 4  &lt;= ... &lt; 7 years\n",
    "    - A75:       .. &gt;= 7 years\n",
    "\n",
    "8. Attribute 8 (numerical): **Installment rate in percentage of disposable income**\n",
    "\n",
    "9. Attribute 9 (qualitative): **Personal status and sex**\n",
    "    - A91: male divorced/separated\n",
    "    - A92: female divorced/separated/married\n",
    "    - A93: male single\n",
    "    - A94: male married/widowed\n",
    "    - A95: female single\n",
    "\n",
    "10. Attribute 10 (qualitative): **Other debtors / guarantors**\n",
    "    - A101: none\n",
    "    - A102: co-applicant\n",
    "    - A103: guarantor\n",
    "\n",
    "11. Attribute 11 (numerical) **Present residence since**\n",
    "\n",
    "12. Attribute 12 (qualitative): **Property**\n",
    "    - A121: real estate\n",
    "    - A122: if not A121, building society savings agreement/ life insurance\n",
    "    - A123: if not A121/A122, car or other, not in attribute 6\n",
    "    - A124: unknown / no property\n",
    "\n",
    "13. Attribute 13 (numerical): **Age in years**\n",
    "\n",
    "14. Attribute 14 (qualitative): **Other installment plans**\n",
    "    - A141: bank\n",
    "    - A142: stores\n",
    "    - A143: none\n",
    "\n",
    "15. Attribute 15 (qualitative): **Housing**\n",
    "    - A151: rent\n",
    "    - A152: own\n",
    "    - A153: for free\n",
    "\n",
    "16. Attribute 16 (numerical): **Number of existing credits at this bank**\n",
    "\n",
    "17. Attribute 17 (qualitative): **Job**\n",
    "    - A171: unemployed/ unskilled  - non-resident\n",
    "    - A172: unskilled - resident\n",
    "    - A173: skilled employee / official\n",
    "    - A174: management/ self-employed/highly qualified employee/ officer\n",
    "\n",
    "18. Attribute 18 (numerical): **Number of people being liable to provide maintenance for**\n",
    "\n",
    "19. Attribute 19 (qualitative): **Telephone**\n",
    "    - A191: none\n",
    "    - A192: yes, registered under the customers name\n",
    "\n",
    "20. Attribute 20 (qualitative): **Foreign worker**\n",
    "    - A201: yes\n",
    "    - A202: no"
   ]
  },
  {
   "cell_type": "markdown",
   "id": "539a5850",
   "metadata": {},
   "source": [
    "### 1.2 Transformación de códigos a etiquetas descriptivas\n",
    "\n",
    "Para facilitar el análisis, transformaremos los códigos alfanuméricos a descripciones legibles utilizando\n",
    "una función auxiliar que mapea estos códigos según la documentación oficial del German Credit Dataset."
   ]
  },
  {
   "cell_type": "code",
   "execution_count": null,
   "id": "0109659e",
   "metadata": {},
   "outputs": [],
   "source": [
    "# Cambiamos los nombres de las columnas\n",
    "X.columns = [\n",
    "    \"checking_account\",\n",
    "    \"duration\",\n",
    "    \"credit_history\",\n",
    "    \"purpose\",\n",
    "    \"credit_amount\",\n",
    "    \"savings_account\",\n",
    "    \"employment_since\",\n",
    "    \"installment_rate\",\n",
    "    \"personal_status_sex\",\n",
    "    \"other_debtors\",\n",
    "    \"residence_since\",\n",
    "    \"property\",\n",
    "    \"age\",\n",
    "    \"other_installment_plans\",\n",
    "    \"housing\",\n",
    "    \"number_credits\",\n",
    "    \"job\",\n",
    "    \"people_liable\",\n",
    "    \"telephone\",\n",
    "    \"foreign_worker\"\n",
    "]\n",
    "\n",
    "# Y mapeamos los valores de cada atributo a etiquetas nuevas, legibles e interpretables\n",
    "replacement_values = {\n",
    "    \"checking_account\": {\n",
    "        \"A11\": \"< 0 DM\",\n",
    "        \"A12\": \"0 <= ... < 200 DM\",\n",
    "        \"A13\": \">= 200 DM or salary assigned\",\n",
    "        \"A14\": \"no account\"\n",
    "    },\n",
    "    \"credit_history\": {\n",
    "        \"A30\": \"no credits / all paid\",\n",
    "        \"A31\": \"paid at this bank\",\n",
    "        \"A32\": \"paid duly till now\",\n",
    "        \"A33\": \"delay in past\",\n",
    "        \"A34\": \"critical account / other bank\"\n",
    "    },\n",
    "    \"purpose\": {\n",
    "        \"A40\": \"car (new)\",\n",
    "        \"A41\": \"car (used)\",\n",
    "        \"A42\": \"furniture/equipment\",\n",
    "        \"A43\": \"radio/TV\",\n",
    "        \"A44\": \"domestic appliances\",\n",
    "        \"A45\": \"repairs\",\n",
    "        \"A46\": \"education\",\n",
    "        \"A47\": \"vacation?\",\n",
    "        \"A48\": \"retraining\",\n",
    "        \"A49\": \"business\",\n",
    "        \"A410\": \"others\"\n",
    "    },\n",
    "    \"savings_account\": {\n",
    "        \"A61\": \"< 100 DM\",\n",
    "        \"A62\": \"100 <= ... < 500 DM\",\n",
    "        \"A63\": \"500 <= ... < 1000 DM\",\n",
    "        \"A64\": \">= 1000 DM\",\n",
    "        \"A65\": \"unknown / no account\"\n",
    "    },\n",
    "    \"employment_since\": {\n",
    "        \"A71\": \"unemployed\",\n",
    "        \"A72\": \"< 1 year\",\n",
    "        \"A73\": \"1 <= ... < 4 years\",\n",
    "        \"A74\": \"4 <= ... < 7 years\",\n",
    "        \"A75\": \">= 7 years\"\n",
    "    },\n",
    "    \"personal_status_sex\": {\n",
    "        \"A91\": \"male, divorced/separated\",\n",
    "        \"A92\": \"female, div/sep/married\",\n",
    "        \"A93\": \"male, single\",\n",
    "        \"A94\": \"male, married/widowed\",\n",
    "        \"A95\": \"female, single\"\n",
    "    },\n",
    "    \"other_debtors\": {\n",
    "        \"A101\": \"none\",\n",
    "        \"A102\": \"co-applicant\",\n",
    "        \"A103\": \"guarantor\"\n",
    "    },\n",
    "    \"property\": {\n",
    "        \"A121\": \"real estate\",\n",
    "        \"A122\": \"building society / insurance\",\n",
    "        \"A123\": \"car / other\",\n",
    "        \"A124\": \"unknown / no property\"\n",
    "    },\n",
    "    \"other_installment_plans\": {\n",
    "        \"A141\": \"bank\",\n",
    "        \"A142\": \"stores\",\n",
    "        \"A143\": \"none\"\n",
    "    },\n",
    "    \"housing\": {\n",
    "        \"A151\": \"rent\",\n",
    "        \"A152\": \"own\",\n",
    "        \"A153\": \"for free\"\n",
    "    },\n",
    "    \"job\": {\n",
    "        \"A171\": \"unemployed / non-resident\",\n",
    "        \"A172\": \"unskilled - resident\",\n",
    "        \"A173\": \"skilled / official\",\n",
    "        \"A174\": \"management / self-employed / qualified\"\n",
    "    },\n",
    "    \"telephone\": {\n",
    "        \"A191\": \"none\",\n",
    "        \"A192\": \"yes, registered\"\n",
    "    },\n",
    "    \"foreign_worker\": {\n",
    "        \"A201\": \"yes\",\n",
    "        \"A202\": \"no\"\n",
    "    }\n",
    "}\n",
    "X = X.replace(replacement_values)\n",
    "\n",
    "# Chequeamos que la operación esté OK\n",
    "X.head()"
   ]
  },
  {
   "cell_type": "markdown",
   "id": "22feb5b1",
   "metadata": {},
   "source": [
    "Ahora los datos son mucho más interpretables. Cada columna tiene un nombre descriptivo (como \"checking_account\", \"credit_history\", etc.) y los valores son legibles en lenguaje natural en lugar de códigos crípticos."
   ]
  },
  {
   "cell_type": "markdown",
   "id": "aafda556",
   "metadata": {},
   "source": [
    "### 1.3 Extracción de la variable de género\n",
    "\n",
    "Observamos que la columna `personal_status_sex` contiene información combinada sobre el estado civil y el género del solicitante. Para facilitar nuestro análisis de equidad, extraeremos específicamente la información de género en una nueva columna."
   ]
  },
  {
   "cell_type": "code",
   "execution_count": null,
   "id": "fb13867e",
   "metadata": {},
   "outputs": [],
   "source": [
    "print(\"Distribución de estado civil y género\\n\\n\", X[\"personal_status_sex\"].value_counts())"
   ]
  },
  {
   "cell_type": "markdown",
   "id": "9ab749bc",
   "metadata": {},
   "source": [
    "Podemos observar que la columna `personal_status_sex` contiene cuatro categorías, donde solo una corresponde a mujeres (`female, div/sep/married`) y las otras tres a hombres con diferentes estados civiles.\n",
    "\n",
    "Para facilitar el análisis de equidad por género, necesitamos crear una nueva columna `sex` que contenga exclusivamente la información de género (masculino o femenino)."
   ]
  },
  {
   "cell_type": "code",
   "execution_count": null,
   "id": "3b7aeffa",
   "metadata": {},
   "outputs": [],
   "source": [
    "X[\"sex\"] = X[\"personal_status_sex\"].map(\n",
    "    {\n",
    "        \"male, divorced/separated\": \"male\",\n",
    "        \"female, div/sep/married\": \"female\",\n",
    "        \"male, single\": \"male\",\n",
    "        \"male, married/widowed\": \"male\",\n",
    "        \"female, single\": \"female\"\n",
    "    }\n",
    ")\n",
    "\n",
    "print(\"Distribución de género (biológico)\\n\\n\", X['sex'].value_counts())"
   ]
  },
  {
   "cell_type": "markdown",
   "id": "115bed88",
   "metadata": {},
   "source": [
    "### 1.4 Etiquetas categóricas para la variable objetivo\n",
    "\n",
    "La variable objetivo `class` actualmente está codificada como $1$ (bajo riesgo) y $2$ (alto riesgo). Para mejorar la interpretabilidad, especialmente en visualizaciones futuras, la cambiamos por la columna `target` con etiquetas descriptivas."
   ]
  },
  {
   "cell_type": "code",
   "execution_count": null,
   "id": "86560bad",
   "metadata": {},
   "outputs": [],
   "source": [
    "y[\"target\"] = y[\"class\"].copy()\n",
    "y = y.replace({\"target\": {1: \"low_risk\", 2: \"high_risk\"}})\n",
    "y.value_counts()"
   ]
  },
  {
   "cell_type": "markdown",
   "id": "dcad9593",
   "metadata": {},
   "source": [
    "### 1.5 Verificación de la consistencia de los datos\n",
    "Antes de guardar los datos procesados, verificamos que los cambios que estuvimos haciendo no hayan roto el dataset\n",
    "- Comprobamos que no hay valores faltantes (como afirma la fuente)\n",
    "- Verificamos que los tipos de datos son los esperados\n",
    "- Confirmamos que no se perdió ninguna columna en los cambios ejecutados"
   ]
  },
  {
   "cell_type": "code",
   "execution_count": null,
   "id": "6486fb59",
   "metadata": {},
   "outputs": [],
   "source": [
    "# Info de los atributos\n",
    "X.info()"
   ]
  },
  {
   "cell_type": "code",
   "execution_count": null,
   "id": "e0e8d471",
   "metadata": {},
   "outputs": [],
   "source": [
    "# Info del target\n",
    "y.info()"
   ]
  },
  {
   "cell_type": "markdown",
   "id": "03ee12cb",
   "metadata": {},
   "source": [
    "Confirmamos que:\n",
    "- Tenemos 1000 observaciones para ambos `X` e `y`\n",
    "- El dataframe de atributos tiene 21 columnas (las 20 originales más `sex`)\n",
    "- El dataframe de target tiene tanto a `class` como `target`\n",
    "- No hay valores nulos o faltantes en ninguna columna\n",
    "- Los tipos de datos son los esperados"
   ]
  },
  {
   "cell_type": "markdown",
   "id": "1ae1f874",
   "metadata": {},
   "source": [
    "## 2. Análisis Exploratorio - EDA\n",
    "### 2.1 Análisis de variables numéricas"
   ]
  },
  {
   "cell_type": "code",
   "execution_count": null,
   "id": "2a01d7bf",
   "metadata": {},
   "outputs": [],
   "source": [
    "# Resumen estadístico de los atributos numéricos\n",
    "X.describe().round(2).T"
   ]
  },
  {
   "cell_type": "code",
   "execution_count": null,
   "id": "4159e0e0",
   "metadata": {},
   "outputs": [],
   "source": [
    "# Histogramas para cada variable de tipo numérica\n",
    "fig, ax = plt.subplots(4, 2, figsize=(12, 10))\n",
    "ax = ax.ravel()\n",
    "numeric_attr = X.select_dtypes(include='number').columns.tolist()\n",
    "\n",
    "for i, col in enumerate(numeric_attr):\n",
    "    current_ax = ax[i]\n",
    "    current_data = X[col]\n",
    "    sns.histplot(data=current_data, kde=True, ax=current_ax)\n",
    "    current_ax.set_title(f\"Distribución para {col} ~ $N({current_data.mean():.2f}, {current_data.std():.2f})$\")\n",
    "    current_ax.set_xlabel(col)\n",
    "    current_ax.set_ylabel(\"Frecuencia\")\n",
    "\n",
    "current_ax = ax[-1]\n",
    "col = \"class\"\n",
    "current_data = y[col]\n",
    "sns.histplot(data=current_data, kde=True, ax=current_ax)\n",
    "current_ax.set_title(f\"Distribución para {col} ~ $N({current_data.mean():.2f}, {current_data.std():.2f})$\")\n",
    "current_ax.set_xlabel(col)\n",
    "current_ax.set_ylabel(\"Frecuencia\")\n",
    "\n",
    "plt.tight_layout()\n",
    "plt.show()"
   ]
  },
  {
   "cell_type": "markdown",
   "id": "737d5924",
   "metadata": {},
   "source": [
    "**Observaciones sobre las variables numéricas:**\n",
    "\n",
    "- **`duration`**: La duración media del crédito es de aproximadamente 21 meses, con un rango de 4 a 72 meses.\n",
    "- **`credit_amount`**: El monto promedio de crédito es de 3,271 DM, con una variabilidad considerable (desviación estándar de 2,823 DM).\n",
    "- **`age`**: La edad promedio de los solicitantes es de 35.5 años, con un mínimo de 19 y un máximo de 75 años.\n",
    "- **`installment_rate`**: La tasa de pago promedio es de aproximadamente 3 (en porcentaje del ingreso disponible).\n",
    "- **`class`**: La variable objetivo tiene un valor medio de 1.3, lo que indica que aproximadamente el 30% de los préstamos están clasificados como de alto riesgo (valor 2)."
   ]
  },
  {
   "cell_type": "markdown",
   "id": "535c5698",
   "metadata": {},
   "source": [
    "#### 2.1.1 Relación con la variable objetivo\n",
    "\n",
    "Exploramos cómo las variables numéricas se relacionan con la clasificación de riesgo crediticio."
   ]
  },
  {
   "cell_type": "code",
   "execution_count": null,
   "id": "ec1590cd",
   "metadata": {},
   "outputs": [],
   "source": [
    "# Visualizaciones con box plots\n",
    "fig, ax = plt.subplots(3, 2, figsize=(16, 10))\n",
    "ax = ax.ravel()\n",
    "\n",
    "for i, col in enumerate(numeric_attr):\n",
    "    if col in [\"number_credits\", \"people_liable\"]:\n",
    "        continue\n",
    "    current_ax = ax[i]\n",
    "    sns.boxplot(y=y[\"target\"], x=X[col], ax=current_ax, hue=y[\"target\"])\n",
    "    current_ax.set_title(col)\n",
    "    current_ax.set_ylabel(\"\")\n",
    "    current_ax.set_xlabel(\"\")\n",
    "\n",
    "plt.tight_layout()\n",
    "plt.show()"
   ]
  },
  {
   "cell_type": "markdown",
   "id": "fabcd818",
   "metadata": {},
   "source": [
    "**Análisis de la relación entre variables numéricas y riesgo crediticio:**\n",
    "\n",
    "- **`duration`**: Los préstamos clasificados como de alto riesgo tienden a tener una duración mayor. Esto podría indicar que préstamos a más largo plazo se asocian con mayor probabilidad de incumplimiento.\n",
    "- **`credit_amount`**: Los préstamos de alto riesgo suelen tener montos ligeramente más altos, aunque la diferencia no es tan marcada como en otras variables.\n",
    "- **`age`**: Los solicitantes más jóvenes parecen ser clasificados como de alto riesgo con mayor frecuencia.\n",
    "- **`installment_rate`**: Las tasas de pago más altas se asocian moderadamente con clasificaciones de alto riesgo.\n",
    "- **`residence_since`**: No se observa una diferencia significativa entre las categorías de riesgo en función del tiempo de residencia."
   ]
  },
  {
   "cell_type": "markdown",
   "id": "8aeb42db",
   "metadata": {},
   "source": [
    "### 2.2 Análisis de variables categóricas\n",
    "\n",
    "Analizamos ahora las variables categóricas para entender su distribución y relación con la variable objetivo.\n",
    "\n",
    "#### 2.2.1 Distribuciones y estadísticas"
   ]
  },
  {
   "cell_type": "code",
   "execution_count": null,
   "id": "8243dc0c",
   "metadata": {},
   "outputs": [],
   "source": [
    "X.describe(include=\"object\").T"
   ]
  },
  {
   "cell_type": "markdown",
   "id": "05af5c86",
   "metadata": {},
   "source": [
    "**Observaciones sobre las variables categóricas:**\n",
    "\n",
    "* **`credit_history`**: Al momento de solicitar un préstamo, un solicitante suele tener todos sus préstamos pagados debidamente.\n",
    "* **`personal_status_sex`**: Los solicitantes son mayormente hombres solteros.\n",
    "* **`housing`**: Los solicitantes en gran mayoría son dueños de la casa que habitan.\n",
    "* **`job`**: Los solicitantes en gran mayoría tienen trabajos estables.\n",
    "* **`foreign_worker`**: La mayoría son trabajadores extranjeros."
   ]
  },
  {
   "cell_type": "markdown",
   "id": "38b6f8cc",
   "metadata": {},
   "source": [
    "#### 2.2.2 Relación con la variable objetivo"
   ]
  },
  {
   "cell_type": "code",
   "execution_count": null,
   "id": "66700eaa",
   "metadata": {},
   "outputs": [],
   "source": [
    "categorical_attr = [\n",
    "    \"checking_account\",\n",
    "    \"credit_history\",\n",
    "    \"purpose\",\n",
    "    \"savings_account\",\n",
    "    \"employment_since\",\n",
    "    \"housing\",\n",
    "    \"job\"\n",
    "]"
   ]
  },
  {
   "cell_type": "code",
   "execution_count": null,
   "id": "a4c6c590",
   "metadata": {},
   "outputs": [],
   "source": [
    "# Visualizaciones con count plots\n",
    "fig, ax = plt.subplots(4, 2, figsize=(15, 20))\n",
    "ax = ax.ravel()\n",
    "\n",
    "for i, col in enumerate(categorical_attr):\n",
    "    current_ax = ax[i]\n",
    "    sns.countplot(y=X[col], hue=y[\"target\"], ax=current_ax)\n",
    "    current_ax.set_title(col)\n",
    "    current_ax.set_ylabel(\"\")\n",
    "    current_ax.set_xlabel(\"Frecuencia\")\n",
    "    current_ax.legend(title=\"target\", loc='best')\n",
    "\n",
    "plt.tight_layout()\n",
    "plt.show()"
   ]
  },
  {
   "cell_type": "markdown",
   "id": "5fe8ad4b",
   "metadata": {},
   "source": [
    "**Análisis de la relación entre variables categóricas y riesgo crediticio:**\n",
    "\n",
    "* **`checking_account`**: Los solicitantes de bajo riesgo suelen no tener cuenta o tener saldos altos. Los de alto riesgo se concentran con saldos bajos.\n",
    "\n",
    "* **`savings_account`**: En solicitantes con ahorros más bajos (<100 DM) suelen aparecer más de alto riesgo.\n",
    "\n",
    "* **`employment_since`**: Mayor antigüedad laboral (≥ 4 años) se asocia a buen historial. Los que llevan menos de 1 año o están desempleados tienden a ser de alto riesgo.\n",
    "\n",
    "* **`housing`**: La mayoría de los solicitantes de bajo riesgo son propietarios. Alquilar o vivir gratis es más común entre aquellos solicitantes clasificados como de alto riesgo si hablamos en términos de proporciones.\n",
    "\n",
    "Con todos estos puntos en mente ya tenemos un análisis realizado sobre las variables presentes en nuestro conjunto de datos, logrando identificar aquellas más relevantes para la variable objetivo y aquellas que no tanto.\n",
    "\n",
    "Ahora como último paso en este análisis exploratorio analizaremos más a fondo la variable que registra información sobre el género del solicitante."
   ]
  },
  {
   "cell_type": "markdown",
   "id": "83cad154",
   "metadata": {},
   "source": [
    "### 2.3 Análisis de equidad por género\n",
    "\n",
    "En esta sección, examinamos específicamente la distribución de género en los datos y su relación con la clasificación de riesgo crediticio, lo cual es fundamental para evaluar la equidad del modelo."
   ]
  },
  {
   "cell_type": "markdown",
   "id": "4c9faed9",
   "metadata": {},
   "source": [
    "#### 2.3.1 Distribución por género"
   ]
  },
  {
   "cell_type": "code",
   "execution_count": null,
   "id": "d9692e63",
   "metadata": {},
   "outputs": [],
   "source": [
    "plt.figure(figsize=(8, 6))\n",
    "sns.countplot(data=X, x=\"sex\", hue=\"sex\")\n",
    "plt.title(\"Distribución de género en la muestra\")\n",
    "plt.xlabel(\"Género\")\n",
    "plt.ylabel(\"Cantidad\")\n",
    "plt.show()"
   ]
  },
  {
   "cell_type": "markdown",
   "id": "93ba062d",
   "metadata": {},
   "source": [
    "**Observaciones sobre la distribución de género:**\n",
    "\n",
    "* Tenemos **una clara mayoría** del género masculino siendo en total 700 solicitantes de este género ante 300 del género femenino."
   ]
  },
  {
   "cell_type": "markdown",
   "id": "e09a45b5",
   "metadata": {},
   "source": [
    "#### 2.3.2 Tasas de aprobación por género"
   ]
  },
  {
   "cell_type": "code",
   "execution_count": null,
   "id": "71beac35",
   "metadata": {},
   "outputs": [],
   "source": [
    "plt.figure(figsize=(8, 6))\n",
    "sns.countplot(x=X[\"sex\"], hue=y[\"target\"])\n",
    "plt.title(\"Resultado crediticio por género\")\n",
    "plt.xlabel(\"Género\")\n",
    "plt.ylabel(\"Cantidad\")\n",
    "plt.legend(title=\"Clasificación\")\n",
    "plt.show()"
   ]
  },
  {
   "cell_type": "markdown",
   "id": "d5047f94",
   "metadata": {},
   "source": [
    "**Análisis de la relación género-riesgo:**\n",
    "\n",
    "Podemos ver que en el género femenino la diferencia de proporciones entre el bajo o alto riesgo crediticio no está tan marcada como en el género masculino, donde la mayoría son clasificados como de bajo riesgo. Esto sugiere que en términos de proporciones, a las solicitantes femeninas se les suele clasificar como de alto riesgo con mayor frecuencia.\n",
    "\n",
    "Veamos esto de las proporciones con un gráfico más específico:"
   ]
  },
  {
   "cell_type": "code",
   "execution_count": null,
   "id": "788a0b1e",
   "metadata": {},
   "outputs": [],
   "source": [
    "# Calculamos la tasa de alto riesgo por género\n",
    "tasa_genero = X.copy()\n",
    "tasa_genero[\"target\"] = y[\"target\"]\n",
    "tasa_genero = tasa_genero.groupby(\"sex\", observed=True)[\"target\"].apply(lambda x: (x == \"high_risk\").mean()*100).reset_index()\n",
    "tasa_genero.columns = [\"genero\", \"proporcion\"]\n",
    "\n",
    "plt.figure(figsize=(8, 6))\n",
    "ax = sns.barplot(data=tasa_genero, x=\"genero\", y=\"proporcion\", hue=\"genero\")\n",
    "for container in ax.containers:\n",
    "    ax.bar_label(container, fmt='%.1f', label_type='edge', padding=3)\n",
    "plt.title(\"Tasa de clientes de alto riesgo por género\")\n",
    "plt.ylabel(\"Proporción\")\n",
    "plt.ylim(0, 100)\n",
    "plt.show()"
   ]
  },
  {
   "cell_type": "markdown",
   "id": "f835c3ce",
   "metadata": {},
   "source": [
    "**Hallazgos importantes sobre equidad de género:**\n",
    "\n",
    "A partir del gráfico y tabla anteriores, podemos ver que los solicitantes clasificados como de alto riesgo son en mayor proporción femeninos (como ya habíamos notado en los gráficos anteriores). Más precisamente, la diferencia es de aproximadamente 8 puntos porcentuales entre géneros:\n",
    "\n",
    "- **Mujeres**: 35.2% clasificadas como alto riesgo\n",
    "- **Hombres**: 27.7% clasificados como alto riesgo\n",
    "\n",
    "Esta disparidad es significativa y plantea interrogantes importantes sobre equidad:\n",
    "- ¿Existe un sesgo preestablecido entre las personas que generaron la clasificación originalmente?\n",
    "- ¿Podremos evitar este posible sesgo en nuestro modelo predictivo?"
   ]
  },
  {
   "cell_type": "markdown",
   "id": "a849e75c",
   "metadata": {},
   "source": [
    "### 2.4 Resumen del análisis exploratorio\n",
    "\n",
    "\n",
    "1. **Variables numéricas relevantes:**\n",
    "   - La duración del crédito muestra una clara relación con el riesgo. Los préstamos de mayor plazo tienden a ser clasificados como de mayor riesgo.\n",
    "   - Solicitantes más jóvenes tienen mayor probabilidad de ser clasificados como de alto riesgo.\n",
    "   - Montos de crédito más altos también se asocian moderadamente con clasificaciones de mayor riesgo.\n",
    "\n",
    "2. **Variables categóricas importantes:**\n",
    "   - Saldos bajos en la cuenta corriente es un fuerte predictor son asociados con alto riesgo.\n",
    "   - Ahorros bajos (<100 DM) se asocian con clasificaciones de alto riesgo.\n",
    "   - Menor antigüedad laboral (menos de 1 año) está relacionada con clasificaciones de alto riesgo.\n",
    "   - Propietarios de vivienda tienen menor probabilidad de ser clasificados como de alto riesgo.\n",
    "\n",
    "3. **Consideraciones de equidad:**\n",
    "   - Existe una disparidad notable en las tasas de clasificación de alto riesgo entre géneros (35.2% para mujeres; 27.7% para hombres).\n",
    "   - Esta diferencia de 8 puntos porcentuales plantea preocupaciones sobre posibles sesgos en la clasificación original.\n",
    "   - Las variables relacionadas con ingresos, empleo y propiedad podrían estar actuando como proxies que amplifican disparidades de género."
   ]
  },
  {
   "cell_type": "markdown",
   "id": "16982788",
   "metadata": {},
   "source": [
    "## 3. Modelo _Baseline_"
   ]
  },
  {
   "cell_type": "code",
   "execution_count": null,
   "id": "8ee43443",
   "metadata": {},
   "outputs": [],
   "source": [
    "# Conversión de columnas tipo objeto a categóricas para mejor manejo\n",
    "categorical_attr = X.select_dtypes(include=[\"object\"]).columns\n",
    "for col in categorical_attr:\n",
    "    X[col] = X[col].astype(\"category\")\n",
    "\n",
    "X.info()"
   ]
  },
  {
   "cell_type": "markdown",
   "id": "5271936f",
   "metadata": {},
   "source": [
    "### 3.1 Preparación de los datos para el entrenamiento\n",
    "\n",
    "Llegamos a la prte de la preparación de datos para el entrenamiento de nuestro primer modelo. Entre los objetivos principales a lograr en esta sección tenemos:\n",
    "\n",
    "* Llevar nuestros datos categóricos a un formato numérico mediante técnicas de encoding para poder usarlas en nuestro modelo.\n",
    "\n",
    "* Realizar una **selección de variables** predictoras mediante el análisis de correlación respecto a la variable objetivo\n",
    "\n",
    "* Sobre las variables seleccionadas **hacer una estandarización** de cara al entrenamiento del modelo.\n",
    "\n",
    "* Separar los datos en conjuntos de entrenamiento y prueba.\n",
    "\n",
    "#### 3.1.1 _One-Hot Encoding_ y análisis de correlación respecto al _target_\n",
    "\n",
    "Primero, aplicaremos **_One-Hot Encoding_** a nuestro conjunto de datos para convertir todas las variables categóricas en un formato completamente numérico. Sin embargo, antes de hacerlo, eliminaremos un par de columnas cuya inclusión en este proceso resultaría **redundante**: **target_label** y **personal_status_sex**. A continuación, explicamos las razones para su exclusión:\n",
    "\n",
    "* **personal_status_sex** contiene información combinada sobre el género y el estado civil de los solicitantes. Durante el análisis exploratorio, ya resumimos esta información en una nueva columna llamada **sex**, que indica únicamente si el solicitante es hombre o mujer. Consideramos que el estado civil no es relevante para los objetivos de este proyecto, por lo que **sex** contiene toda la información pertinente. Mantener **personal_status_sex** sería, por lo tanto, redundante.\n",
    "\n",
    "* **target_label** fue una columna auxiliar creada durante el análisis exploratorio para facilitar la interpretación de las clases objetivo. Sin embargo, su información ya está representada en la columna **target**, por lo que no es necesario conservarla ni transformarla.\n",
    "\n",
    "Por último, es importante aclarar una modificación que realizaremos en la columna **target**, la cual actualmente codifica el riesgo crediticio como **1 para bajo riesgo** y **2 para alto riesgo**. Para simplificar el modelado y facilitar la interpretación de los resultados, convertiremos estos valores a **1 para bajo riesgo crediticio** y **0 para alto riesgo crediticio**, siguiendo la convención habitual en problemas de clasificación binaria. Con todo esto aclarado procedemos a realizar los cambios:"
   ]
  },
  {
   "cell_type": "code",
   "execution_count": null,
   "id": "c234ed0b",
   "metadata": {},
   "outputs": [],
   "source": [
    "# Eliminación de columnas innecesarias\n",
    "df = X.drop(columns=[\"personal_status_sex\"])\n",
    "\n",
    "# Cambio de valores en columna 'class'\n",
    "df[\"target\"] = y[\"class\"].map({1: 1, 2: 0})\n",
    "\n",
    "# One-Hot Encoding de variables categóricas\n",
    "df_dummies = pd.get_dummies(df)\n",
    "df_dummies = df_dummies.astype(int)\n",
    "\n",
    "print(f\"Dimensiones del dataset: {df_dummies.shape[0]} filas × {df_dummies.shape[1]} columnas\\n\")\n",
    "print(\"Primeras 5 filas:\")\n",
    "display(df_dummies.head())"
   ]
  },
  {
   "cell_type": "markdown",
   "id": "ff69f802",
   "metadata": {},
   "source": [
    "Ya con nuestros datos en un formato numérico podemos proceder con el **análisis de correlación** que nos ayudará a elegir variables predictoras para nuestro modelo. Procedemos a observar las correlaciones respecto a la variable objetivo:"
   ]
  },
  {
   "cell_type": "code",
   "execution_count": null,
   "id": "ba12199a",
   "metadata": {},
   "outputs": [],
   "source": [
    "correlaciones = df_dummies.corr()[\"target\"].sort_values(ascending=False)\n",
    "print(\"Correlaciones con la variable 'target':\")\n",
    "print(correlaciones)"
   ]
  },
  {
   "cell_type": "markdown",
   "id": "37ec739f",
   "metadata": {},
   "source": [
    "Podemos ver en valores numéricos concretos cosas que **habíamos notado antes en el análisis exploratorio**: \n",
    "\n",
    "* La duración de un préstamo tiene una correlación negativa respecto a la variable objetivo, es decir que los solicitantes de alto riesgo solicitan préstamos de mayor duración.\n",
    "\n",
    "* La presencia o ausencia de cuentas de ahorro/corriente tienen fuerte correlación en ambos sentidos con respecto a la variable objetivo.\n",
    "\n",
    "Y así muchas otras relaciones observadas anteriormente en el análisis exploratorio podemos observar que aquí se cumplen.\n",
    "\n",
    "Ahora con el objetivo de reducir el ruido y construir un modelo base más simple pero efectivo, aplicaremos un criterio básico de **selección de variables basado en la correlación** con la variable objetivo. En concreto, seleccionaremos aquellas variables que presenten una **correlación en valor absoluto mayor a 0.1** respecto de la variable **target**.\n",
    "\n",
    "Este umbral fue elegido de manera pragmática: aunque no es alto, permite filtrar aquellas variables que tienen una **relación débil o inexistente con la variable objetivo**, sin ser demasiado restrictivo. De esta forma, eliminamos variables irrelevantes que podrían introducir ruido o redundancia en el modelo, al tiempo que conservamos aquellas que muestran al menos un **grado mínimo de asociación lineal** con el resultado que se desea predecir.\n",
    "Procedemos a realizar dicha selección:"
   ]
  },
  {
   "cell_type": "code",
   "execution_count": null,
   "id": "4d00e3ee",
   "metadata": {},
   "outputs": [],
   "source": [
    "# Selección de variables con correlación significativa\n",
    "variables_seleccionadas = correlaciones[abs(correlaciones) > 0.1].index.tolist()\n",
    "variables_seleccionadas.append(\"sex_male\")\n",
    "variables_seleccionadas.remove(\"target\")\n",
    "\n",
    "# Df para mostrar las variables seleccionadas junto con su correlacion\n",
    "df_seleccionadas = pd.DataFrame(correlaciones[variables_seleccionadas])\n",
    "df_seleccionadas = df_seleccionadas.reset_index()\n",
    "df_seleccionadas.columns = [\"variable\", \"correlacion\"]\n",
    "df_seleccionadas = df_seleccionadas.sort_values(by=\"correlacion\", ascending=False)\n",
    "print(\"Variables seleccionadas y su correlación con la variable 'target':\")\n",
    "df_seleccionadas"
   ]
  },
  {
   "cell_type": "markdown",
   "id": "f31f62a4",
   "metadata": {},
   "source": [
    "Como último comentario queríamos mencionar el hecho de que incluimos a la variable que registra el género entre las seleccionadas, por más que esta no tuviese una alta correlación entendemos que esta es la pieza central en el desarrollo del modelo."
   ]
  },
  {
   "cell_type": "markdown",
   "id": "47d04ce1",
   "metadata": {},
   "source": [
    "#### 3.1.2 Estandarización y separación en datos de entrenamiento y prueba\n",
    "\n",
    "Prepararemos los datos para el entrenamiento de nuestro modelo. Esto implica:\n",
    "\n",
    "1. Volver a separar variables predictoras (X) de la variable objetivo (y)\n",
    "2. Dividir los datos en conjuntos de entrenamiento y prueba\n",
    "3. Estandarizar las variables predictoras (X) de entrenamiento y prueba"
   ]
  },
  {
   "cell_type": "code",
   "execution_count": null,
   "id": "999852d4",
   "metadata": {},
   "outputs": [],
   "source": [
    "# Separamos variables predictoras (X) y variable objetivo (y)\n",
    "X = df_dummies[variables_seleccionadas]\n",
    "y = df_dummies[\"target\"]\n",
    "idxs = X.index\n",
    "\n",
    "# Dividimos en conjuntos de entrenamiento (80%) y prueba (20%)\n",
    "X_train, X_test, y_train, y_test, idx_train, idx_test = train_test_split(\n",
    "    X.values, y.values, idxs, test_size=0.2, random_state=42\n",
    ")\n",
    "\n",
    "# Estandarizamos las variables predictoras\n",
    "scaler = StandardScaler()\n",
    "X_train_scaled= scaler.fit_transform(X_train)\n",
    "X_test_scaled = scaler.transform(X_test)\n",
    "\n",
    "# Mostramos las dimensiones de los conjuntos de entrenamiento y prueba\n",
    "print(f\"Dimensiones de X_train: {X_train.shape}\")\n",
    "print(f\"Dimensiones de X_test: {X_test.shape}\")\n",
    "print(f\"Distribución de clases en el conjunto de entrenamiento: {np.bincount(y_train)}\")\n",
    "print(f\"Distribución de clases en el conjunto de prueba: {np.bincount(y_test)}\")"
   ]
  },
  {
   "cell_type": "markdown",
   "id": "67d23b41",
   "metadata": {},
   "source": [
    "### 3.2 Entrenamiento del modelo de regresión logística\n",
    "\n",
    "Utilizaremos un modelo de regresión logística como nuestro modelo base debido a:\n",
    "\n",
    "1. **Simplicidad e interpretabilidad**: La regresión logística es un modelo sencillo\n",
    "   cuyos coeficientes pueden interpretarse directamente, facilitando el análisis de equidad.\n",
    "\n",
    "2. **Adecuación al problema**: Al ser un problema de clasificación binaria (alto/bajo riesgo),\n",
    "   la regresión logística es una opción natural y efectiva.\n",
    "\n",
    "3. **Eficiencia computacional**: Requiere menos recursos y tiempo de entrenamiento\n",
    "   que modelos más complejos, lo que es ideal para una primera iteración.\n",
    "\n",
    "Procedemos al entrenamiento de este modelo:"
   ]
  },
  {
   "cell_type": "code",
   "execution_count": null,
   "id": "2fc29ea2",
   "metadata": {},
   "outputs": [],
   "source": [
    "# Entrenamos y obtenemos predicciones para test\n",
    "baseline_model = LogisticRegression(random_state=42, max_iter=1000, fit_intercept=True)\n",
    "baseline_model.fit(X_train_scaled, y_train)\n",
    "\n",
    "y_pred_test = baseline_model.predict(X_test_scaled)"
   ]
  },
  {
   "cell_type": "markdown",
   "id": "3c7eb5b8",
   "metadata": {},
   "source": [
    "### 3.3 Evaluación del modelo mediante métricas de clasificación\n",
    "\n",
    "Evaluaremos el desempeño del modelo utilizando métricas estándar de clasificación:\n",
    "\n",
    "- **Precisión (Precision)**: Proporción de predicciones positivas que fueron correctas\n",
    "- **Sensibilidad (Recall)**: Proporción de casos positivos reales que fueron correctamente identificados\n",
    "- **F1-Score**: Media armónica de precisión y sensibilidad\n",
    "- **Exactitud (Accuracy)**: Proporción total de predicciones correctas\n",
    "\n",
    "Estas métricas nos darán una visión general de la calidad del modelo y su capacidad\n",
    "para identificar correctamente tanto solicitantes de bajo como de alto riesgo."
   ]
  },
  {
   "cell_type": "code",
   "execution_count": null,
   "id": "95ecc743",
   "metadata": {},
   "outputs": [],
   "source": [
    "print(\"Reporte de clasificación para el Modelo Baseline\\n\\n\", classification_report(y_test, y_pred_test))"
   ]
  },
  {
   "cell_type": "markdown",
   "id": "f716fbf0",
   "metadata": {},
   "source": [
    "#### 3.3.1 Análisis de las métricas\n",
    "\n",
    "- **Clase 1 (Bajo riesgo)**: El modelo muestra un buen desempeño identificando solicitantes de bajo riesgo:\n",
    "  - Precisión: 0.79 - El 79% de los solicitantes clasificados como bajo riesgo efectivamente lo son.\n",
    "  - Sensibilidad: 0.91 - El modelo identifica correctamente el 91% de los solicitantes de bajo riesgo.\n",
    "  - F1-Score: 0.84 - Buen balance entre precisión y sensibilidad para esta clase.\n",
    "\n",
    "- **Clase 0 (Alto riesgo)**: El desempeño es menor para identificar solicitantes de alto riesgo:\n",
    "  - Precisión: 0.66 - El 66% de los solicitantes clasificados como alto riesgo realmente lo son.\n",
    "  - Sensibilidad: 0.42 - El modelo solo identifica correctamente el 42% de los solicitantes de alto riesgo.\n",
    "  - F1-Score: 0.52 - Desempeño bajo/moderado para esta clase.\n",
    "\n",
    "- **Exactitud general**: 0.77 - El 77% de todas las predicciones son correctas.\n",
    "\n",
    "Este desequilibrio en el desempeño entre clases podría atribuirse principalmente a la\n",
    "distribución desbalanceada de las clases en los datos, donde hay más solicitantes de\n",
    "bajo riesgo que de alto riesgo. Esta situación es común en problemas de crédito y\n",
    "requiere atención especial desde la perspectiva de equidad."
   ]
  },
  {
   "cell_type": "markdown",
   "id": "37616de6",
   "metadata": {},
   "source": [
    "### 3.4 Matriz de confusión\n",
    "\n",
    "La matriz de confusión nos permitirá visualizar en detalle los aciertos y errores del modelo,\n",
    "así como entender los diferentes tipos de errores (falsos positivos y falsos negativos) y su\n",
    "impacto en términos de equidad y toma de decisiones."
   ]
  },
  {
   "cell_type": "code",
   "execution_count": null,
   "id": "9e39dc14",
   "metadata": {},
   "outputs": [],
   "source": [
    "def graficar_matrices_de_confusion(matrices, n_rows:int=1, n_cols:int=1, size:tuple=(10, 6)):\n",
    "    # Visualizamos las matrices de confusión\n",
    "    _, ax = plt.subplots(n_rows, n_cols, figsize=size)\n",
    "    labels = ['Bajo riesgo (1)', 'Alto riesgo (0)']\n",
    "    if isinstance(ax, np.ndarray):\n",
    "        ax = ax.ravel()\n",
    "    else:\n",
    "        ax = [ax]  # convertimos Axes a lista\n",
    "\n",
    "    i = 0\n",
    "    for titulo, matriz in matrices.items():\n",
    "        current_ax = ax[i]\n",
    "\n",
    "        # Cada uno de los heatmaps\n",
    "        sns.heatmap(\n",
    "            matriz,\n",
    "            annot=True,\n",
    "            fmt=\"d\",\n",
    "            cmap=\"Blues\",\n",
    "            ax=current_ax,\n",
    "            cbar=False,\n",
    "            xticklabels=labels,\n",
    "            yticklabels=labels\n",
    "        )\n",
    "\n",
    "        # Agrego labels de referencia para mayor claridad\n",
    "        for (j, k), val in np.ndenumerate(matriz):\n",
    "            if j == 0 and k == 0:\n",
    "                label = \"TP\"\n",
    "            elif j == 1 and k == 0:\n",
    "                label = \"FP\"\n",
    "            elif j == 0 and k == 1:\n",
    "                label = \"FN\"\n",
    "            else:\n",
    "                label = \"TN\"\n",
    "            current_ax.text(\n",
    "                k + 0.35, j + 0.5,\n",
    "                label,\n",
    "                color=\"black\",\n",
    "                ha=\"center\",\n",
    "                va=\"center\",\n",
    "                fontsize=10,\n",
    "                fontweight=\"bold\"\n",
    "            )\n",
    "\n",
    "        #  Configuraciones de labels\n",
    "        current_ax.set_title(titulo)\n",
    "        current_ax.set_xlabel(\"Predicción\")\n",
    "        current_ax.set_ylabel(\"Valor Real\")\n",
    "        i = i+1\n",
    "\n",
    "    plt.tight_layout()\n",
    "    plt.show()"
   ]
  },
  {
   "cell_type": "code",
   "execution_count": null,
   "id": "68e8624f",
   "metadata": {},
   "outputs": [],
   "source": [
    "graficar_matrices_de_confusion({\"Modelo Baseline\": confusion_matrix(y_test, y_pred_test, labels=[1, 0])})"
   ]
  },
  {
   "cell_type": "markdown",
   "id": "67de25ae",
   "metadata": {},
   "source": [
    "#### 3.4.1 Análisis de la matriz de confusión\n",
    "\n",
    "Para interpretar correctamente la matriz, consideremos:\n",
    "\n",
    "- **Verdaderos positivos (TP)**: 128 solicitantes fueron correctamente clasificados como de bajo riesgo.\n",
    "- **Falsos negativos (FN)**: 13 solicitantes de bajo riesgo fueron incorrectamente clasificados como de alto riesgo.\n",
    "- **Falsos positivos (FP)**: 34 solicitantes de alto riesgo fueron incorrectamente clasificados como de bajo riesgo.\n",
    "- **Verdaderos negativos (TN)**: 25 solicitantes fueron correctamente clasificados como de alto riesgo.\n",
    "\n",
    "**Implicaciones de los errores**:\n",
    "\n",
    "1. **Falsos positivos (34)**: Este tipo de error es particularmente problemático para instituciones financieras, ya que implica otorgar préstamos a personas que realmente son de alto riesgo, lo que podría resultar en pérdidas financieras.\n",
    "\n",
    "2. **Falsos negativos (13)**: Aunque menos costoso desde la perspectiva financiera, este error implica negar préstamos a personas que realmente son de bajo riesgo, lo que representa un problema de equidad y acceso a servicios financieros.\n",
    "\n",
    "El balance entre estos tipos de errores es fundamental para garantizar tanto la salud financiera de la institución como la equidad en el acceso al crédito para diferentes grupos demográficos."
   ]
  },
  {
   "cell_type": "markdown",
   "id": "366522f4",
   "metadata": {},
   "source": [
    "## 4. Evaluación de equidad por género\n",
    "### 4.1 Matriz de confusión y Métricas de rendimiento por género\n",
    "\n",
    "Ahora vamos a analizar al atributo que consideramos sensible en este análisis, el género. Para esto vamos a separar el conjunto de datos entre la categoría femenina y masculina:"
   ]
  },
  {
   "cell_type": "code",
   "execution_count": null,
   "id": "db6083ab",
   "metadata": {},
   "outputs": [],
   "source": [
    "def accuracy_precision(cm):\n",
    "    tn, fp, fn, tp = cm.ravel()\n",
    "    accuracy = (tp + tn) / (tp + tn + fp + fn)\n",
    "    precision = tp / (tp + fp) if (tp + fp) > 0 else 0\n",
    "    return accuracy, precision\n",
    "\n",
    "df_eval = pd.DataFrame(\n",
    "    {\n",
    "        \"y_test\": y_test,\n",
    "        \"y_pred_test\": y_pred_test,\n",
    "        \"sex\": df.loc[idx_test, \"sex\"]\n",
    "    }\n",
    ")\n",
    "df_male_eval = df_eval[df_eval[\"sex\"] == \"male\"]\n",
    "df_female_eval = df_eval[df_eval[\"sex\"]  == \"female\"]\n",
    "\n",
    "cm_male = confusion_matrix(\n",
    "    df_male_eval[\"y_test\"], df_male_eval[\"y_pred_test\"], labels=[1, 0]\n",
    ")\n",
    "cm_female = confusion_matrix(\n",
    "    df_female_eval[\"y_test\"], df_female_eval[\"y_pred_test\"], labels=[1, 0]\n",
    ")\n",
    "acc_male, prec_male = accuracy_precision(cm_male)\n",
    "acc_female, prec_female = accuracy_precision(cm_female)\n",
    "titulo_male = f\"[Baseline] sex: female (accuracy: {acc_male:.2f}, precision: {prec_male:.2f})\"\n",
    "titulo_female = f\"[Baseline] sex: female (accuracy: {acc_female:.2f}, precision: {prec_female:.2f})\"\n",
    "\n",
    "matrices_sex_eval = {\n",
    "    titulo_male: cm_male,\n",
    "    titulo_female: cm_female\n",
    "}\n",
    "\n",
    "graficar_matrices_de_confusion(matrices_sex_eval, n_rows=1, n_cols=2, size=(12, 5))"
   ]
  },
  {
   "cell_type": "markdown",
   "id": "7b3df773",
   "metadata": {},
   "source": [
    "De este par de gráficos podemos notar lo siguiente:\n",
    "\n",
    "* En ambas categorías el modelo logró identificar en la mayoría de los casos a los verdaderos positivos con 34 casos en la categoría femenina y 94 en la masculina.\n",
    "\n",
    "* En la categoría masculina se obtuvo una mayor tasa de falsos positivos en términos de proporción a comparación de la categoría femenina, siendo que de un total de 42 casos de alto riesgo, 26 fueron falsos positivos y 16 verdaderos negativos.\n",
    "\n",
    "* En la categoría femenina solamente se identificaron a 5 personas erróneamente como de alto riesgo, lo que indica que el modelo tuvo un buen desempeño identificando instancias positivas en esta clase.\n",
    "\n",
    "Con estos puntos ya empezamos a notar cosas importantes acerca del desempeño del modelo entre los grupos, **pareciendo inicialmente que el modelo se desempeñó mejor en la clase femenina**.\n",
    "\n",
    "Miremos ahora las métricas generales de clasificación para cada grupo:"
   ]
  },
  {
   "cell_type": "code",
   "execution_count": null,
   "id": "434b2ba2",
   "metadata": {},
   "outputs": [],
   "source": [
    "print(\"Report de clasificación para sex: female (modelo baseline)\\n\\n\", classification_report(df_female_eval[\"y_test\"], df_female_eval[\"y_pred_test\"]))\n",
    "print(\"Report de clasificación para sex: male (modelo baseline)\\n\\n\", classification_report(df_male_eval[\"y_test\"], df_male_eval[\"y_pred_test\"]))"
   ]
  },
  {
   "cell_type": "markdown",
   "id": "41632ada",
   "metadata": {},
   "source": [
    "Podemos ver que en términos de métricas calculadas no hay diferencias significativas entre ambos géneros, siendo que en casos como **accuracy general** ambas tuvieron puntajes casi similares e igual ocurre con las otras métricas. **¿Que implica esto en términos de equidad?**.\n",
    "\n",
    "Para analizar esto aún más a profundidad vamos a hacer **pruebas de disparidad** entre ambos géneros para evaluar si el modelo está generando predicciones justas."
   ]
  },
  {
   "cell_type": "markdown",
   "id": "b817eaf0",
   "metadata": {},
   "source": [
    "### 4.2 Evaluando según distintos enfoques del Group Fairness\n",
    "\n",
    "En el contexto en el que nos encontramos, donde desarrollamos un modelo de aprendizaje automático que ayude en la asignación de créditos bancarios, es fundamental garantizar que las decisiones del sistema no estén sesgadas en función de atributos sensibles como el género. Un enfoque que nos ayudará a evaluar cuestiones relacionadas al sesgo por grupos es el **Group Fairness (equidad grupal)**, el cual permite evaluar si el modelo trata de manera equitativa a distintos grupos poblacionales definidos por atributos sensibles. \n",
    "\n",
    "Este enfoque se basa en comparar métricas de desempeño del modelo **—como tasas de verdaderos positivos, falsos positivos, precisión o tasa de aprobación—** entre los distintos grupos. Su relevancia radica en que ayuda a identificar **disparidades sistemáticas que podrían derivar en discriminación algorítmica**, afectando la transparencia, la justicia y, potencialmente, el cumplimiento normativo de la organización.\n",
    "\n",
    "#### 4.2.1 Definiciones de métricas\n",
    "\n",
    "Entre las principales definiciones de equidad según el enfoque de **Group Fairness**, se identifican **cuatro métricas clave**, que en nuestro caso pueden interpretarse de la siguiente manera:\n",
    "\n",
    "* **Statistical Parity / Demographic Parity (Independencia): $\\mathbb{P}(\\hat{Y} = 1 | A =a) = \\mathbb{P}(\\hat{Y} = 1 | A =b)$:** En nuestro contexto, la clase positiva (1) representa a un solicitante con bajo riesgo crediticio. Este criterio busca que la proporción de personas clasificadas por el modelo como de bajo riesgo sea la misma en ambos grupos (géneros). Esto apunta a garantizar un acceso equitativo a decisiones favorables sin importar el grupo al que se pertenezca.\n",
    "\n",
    "* **Equalized Odds (Separación): $\\mathbb{P}(\\hat{Y} = 1 |Y = 1, A =a) = \\mathbb{P}(\\hat{Y} = 1 |Y = 1, A =b)$ $\\text{ y }$ $\\mathbb{P}(\\hat{Y} = 1 |Y = 0, A =a) = \\mathbb{P}(\\hat{Y} = 1 |Y = 0, A =b)$:** Este criterio exige que el modelo tenga la misma tasa de verdaderos positivos (clasificar correctamente como de bajo riesgo) y de falsos positivos (clasificar como de bajo riesgo a quienes en realidad no lo son) para ambos grupos. Es decir, que el modelo acierte y se equivoque de forma similar para todos los grupos sensibles.\n",
    "\n",
    "* **Equal Oportunity (Separación relajada): $\\mathbb{P}(\\hat{Y} = 1 |Y = 1, A =a) = \\mathbb{P}(\\hat{Y} = 1 |Y = 1, A =b)$:** Es una versión más flexible de Equalized Odds. Se enfoca únicamente en la tasa de verdaderos positivos, buscando que el modelo identifique con la misma probabilidad como de bajo riesgo a las personas que realmente lo son, sin importar su grupo.\n",
    "\n",
    "* **Predictive Parity (Suficiencia): $\\mathbb{P}(Y= 1 |\\hat{Y} =1, A =a) = \\mathbb{P}(Y= 1 |\\hat{Y} =1, A =b)$** Este criterio se centra en la precisión de las predicciones positivas. En nuestro caso, exige que, entre los solicitantes identificados por el modelo como de bajo riesgo, la proporción que realmente lo son sea igual en ambos grupos. Esto asegura que la confianza que se puede tener en una predicción favorable sea independiente del grupo sensible.\n",
    "\n",
    "Teniendo en cuenta las definiciones anteriores, ya contamos con una idea clara de qué aspectos debemos medir para evaluar la equidad en cada caso. Para hacerlo, necesitamos recurrir a métricas específicas que se alineen con cada una de estas definiciones. A continuación, detallamos las métricas correspondientes:\n",
    "\n",
    "* Para **Statistical Parity**, una métrica útil es **`pprev`**, que según la [documentación de Aequitas](https://dssg.github.io/aequitas/metrics.html), libreria dedicada a evaluar fairness, representa la proporción de instancias que el modelo clasifica como positivas (en nuestro caso, solicitantes de bajo riesgo) sobre el total de instancias de un grupo. Esta métrica refleja directamente la probabilidad condicional definida anteriormente.\n",
    "\n",
    "* En el caso de **Equalized Odds**, las métricas relevantes son el **True Positive Rate (TPR)** y el **False Positive Rate (FPR)**. Para que se cumpla esta definición, ambos indicadores deben superar la prueba de disparidad, es decir, presentar valores similares entre los grupos.\n",
    "\n",
    "* Para **Equal Opportunity**, nos enfocamos únicamente en el **True Positive Rate (TPR)**. Si esta métrica pasa la prueba de disparidad, se considera que la definición está satisfecha.\n",
    "\n",
    "* Finalmente, para **Predictive Parity**, la métrica adecuada es la **precisión (precision)**, que mide qué proporción de las instancias clasificadas como positivas por el modelo (bajo riesgo) fueron realmente positivas en la realidad.\n",
    "\n",
    "Con estas métricas definidas, podemos proceder a aplicar la prueba de disparidad entre los distintos grupos definidos por la variable de género.\n",
    "\n",
    "### 4.3 Evaluación de disparidad\n",
    "\n",
    "A continuación, utilizamos las métricas definidas previamente para evaluar la equidad del modelo en función del **género**. Para ello primero obtenemos sus valores puntuales para este caso:"
   ]
  },
  {
   "cell_type": "code",
   "execution_count": null,
   "id": "cadf861b",
   "metadata": {},
   "outputs": [],
   "source": [
    "resultados = []\n",
    "\n",
    "for grupo, categoria in df_eval.groupby(\"sex\", observed=False):\n",
    "    # Verdaderos positivos y falsos positivos\n",
    "    tp = ((categoria[\"y_test\"] == 1) & (categoria[\"y_pred_test\"] == 1)).sum()\n",
    "    fp = ((categoria[\"y_test\"] == 0) & (categoria[\"y_pred_test\"] == 1)).sum()\n",
    "\n",
    "    total = len(categoria)\n",
    "    positivos_reales = (categoria[\"y_test\"] == 1).sum()\n",
    "    negativos_reales = (categoria[\"y_test\"] == 0).sum()\n",
    "    predichos_positivos = (categoria[\"y_pred_test\"] == 1).sum()\n",
    "\n",
    "    # Métricas\n",
    "    pprev = predichos_positivos / total if total else 0\n",
    "    tpr = tp / positivos_reales if positivos_reales else 0\n",
    "    fpr = fp / negativos_reales if negativos_reales else 0\n",
    "    precision = tp / (tp + fp) if (tp + fp) else 0\n",
    "\n",
    "    resultados.append({\n",
    "        \"Atributo\": grupo,\n",
    "        \"Predicted Positive\": pprev,\n",
    "        \"True Positive Rate\": tpr,\n",
    "        \"False Positive Rate\": fpr,\n",
    "        \"Precision\": precision\n",
    "    })\n",
    "\n",
    "results_df = pd.DataFrame(resultados).round(5)\n",
    "results_df"
   ]
  },
  {
   "cell_type": "markdown",
   "id": "29c5e4b8",
   "metadata": {},
   "source": [
    "Para evaluar la equidad del modelo en términos de *Group Fairness*, decidimos adoptar como criterio de disparidad una diferencia máxima tolerable de **0.1** (en valor absoluto) entre las métricas de equidad de ambos géneros. Este umbral se fundamenta en tres consideraciones:\n",
    "\n",
    "* **Interpretabilidad práctica**: diferencias mayores al 10% en métricas como la tasa de verdaderos positivos o la tasa de aprobación pueden implicar efectos sustanciales y sistemáticos sobre el acceso a beneficios (como créditos, becas o servicios), y por lo tanto, pueden considerarse potencialmente injustas o discriminatorias desde una perspectiva de impacto social.\n",
    "\n",
    "* **Balance entre equidad y performance**: un umbral de 0.1 nos permite mantener un buen compromiso entre reducir el sesgo y no afectar excesivamente la capacidad predictiva del modelo. Umbrales más estrictos podrían forzar al modelo a sacrificar demasiado rendimiento, mientras que valores más permisivos podrían ignorar desigualdades sustanciales.\n",
    "\n",
    "En este análisis, entonces, **consideramos como aceptable toda diferencia en módulo menor o igual a 0.1**. Si alguna métrica clave supera dicho umbral, interpretamos que hay indicios de sesgo que deben ser luego mitigados."
   ]
  },
  {
   "cell_type": "code",
   "execution_count": null,
   "id": "0008bce3",
   "metadata": {},
   "outputs": [],
   "source": [
    "# Seleccionamos solo las columnas numéricas (excluyendo 'attribute_value')\n",
    "columnas_numericas = results_df.select_dtypes(include=\"number\").columns.tolist()\n",
    "\n",
    "# Calculamos la diferencia absoluta entre las dos filas\n",
    "modulo_diferencias = (results_df.loc[0, columnas_numericas] - results_df.loc[1, columnas_numericas]).abs()\n",
    "\n",
    "# Mostramos el resultado\n",
    "print(modulo_diferencias)"
   ]
  },
  {
   "cell_type": "markdown",
   "id": "36e58821",
   "metadata": {},
   "source": [
    "A partir de las diferencias obtenidas tenemos que:\n",
    "\n",
    "* **Demographic Parity** (`pprev`: 0.0833): **cumple**\n",
    "* **Predictive Parity** (`precision`: 0.0261): **cumple**\n",
    "* **Equalized Odds**:\n",
    "\n",
    "  * `tpr`: 0.0497 → **cumple** **(Equal Oportunity)**\n",
    "  * `fpr`: 0.1485 → **no cumple**\n",
    "\n",
    "Por lo tanto, el modelo **no cumple con Equalized Odds**, ya que comete más errores (falsos positivos) en un grupo que en el otro. Sin embargo nunca está de más destacar el buen desempeño \n",
    "general que tuvo nuestro modelo con las 4 métricas consideradas. \n",
    "\n",
    "Ahora pensando desde la perspectiva del equipo que forma parte del banco que otorga los créditos, sabemos que nuestro objetivo principal es **maximizar la cantidad de personas que efectivamente van a pagar el préstamo**. Desde esta perspectiva, **Equalized Odds** es la definición de equidad que mejor se alinea con nuestra meta institucional, ya que:\n",
    "\n",
    "* Controla a los verdaderos positivos, procurando que ambos grupos tengan tasas similares en esta métrica e **identificando correctamente a personas que podrán pagar**.\n",
    "\n",
    "* Evita otorgar créditos a quienes no podrán pagarlos **ya que toma en cuenta también a los falsos positivos**, protegiendo la sustentabilidad del sistema.\n",
    "\n",
    "Teniendo esto en cuenta, y dado que observamos una disparidad en la tasa de falsos positivos entre grupos, el próximo paso será desarrollar un modelo que mitigue este sesgo y nos permita cumplir con la definición de **Equalized Odds** en nuestro caso de asignación de créditos."
   ]
  },
  {
   "cell_type": "markdown",
   "id": "cb36135d",
   "metadata": {},
   "source": [
    "## 5. Mitigación de sesgo del modelo _baseline_"
   ]
  },
  {
   "cell_type": "code",
   "execution_count": null,
   "id": "0516262c",
   "metadata": {},
   "outputs": [],
   "source": [
    "metrics = {}\n",
    "\n",
    "X_train_df = pd.DataFrame(X_train, index=idx_train, columns=variables_seleccionadas)\n",
    "X_test_df = pd.DataFrame(X_test, index=idx_test, columns=variables_seleccionadas)\n",
    "\n",
    "baseline_metrics = classification_bias_metrics(\n",
    "    X_test_df[\"sex_male\"] == 1,\n",
    "    X_test_df[\"sex_male\"] == 0,\n",
    "    y_pred_test,\n",
    "    y_test,\n",
    "    metric_type=\"both\",\n",
    ")\n",
    "\n",
    "baseline_accuracy = accuracy_score(y_test, y_pred_test)\n",
    "\n",
    "metrics[\"Baseline\"] = baseline_metrics\n",
    "print(baseline_metrics)\n",
    "print(f\"Baseline accuracy: {baseline_accuracy:.4f}\")\n",
    "print(classification_report(y_test, y_pred_test))"
   ]
  },
  {
   "cell_type": "markdown",
   "id": "4fba58e6",
   "metadata": {},
   "source": [
    "### 5.1 Primer método de mitigación\n",
    "\n",
    "#### 5.1.1 Aplicación de `CorrelationRemover()` y entrenamiento"
   ]
  },
  {
   "cell_type": "code",
   "execution_count": null,
   "id": "cc6460f1",
   "metadata": {},
   "outputs": [],
   "source": [
    "corr_remover = CorrelationRemover()\n",
    "\n",
    "pipe_corr_remover = Pipeline(\n",
    "    steps=[\n",
    "        (\"scaler\", StandardScaler()),\n",
    "        (\"bm_preprocessing\", corr_remover),\n",
    "        (\"estimator\", baseline_model),\n",
    "    ]\n",
    ")\n",
    "\n",
    "pipe_corr_remover.fit(\n",
    "    X_train,\n",
    "    y_train,\n",
    "    bm__group_a=X_train_df[\"sex_male\"] == 1,\n",
    "    bm__group_b=X_train_df[\"sex_male\"] == 0,\n",
    ")\n",
    "\n",
    "y_pred_test_corr_remover = pipe_corr_remover.predict(\n",
    "    X_test, bm__group_a=X_test_df[\"sex_male\"] == 1, bm__group_b=X_test_df[\"sex_male\"] == 0\n",
    ")\n",
    "\n",
    "metrics_preprocessing_correlation_remover = classification_bias_metrics(\n",
    "    X_test_df[\"sex_male\"] == 1,\n",
    "    X_test_df[\"sex_male\"] == 0,\n",
    "    y_pred_test_corr_remover,\n",
    "    y_test,\n",
    "    metric_type=\"both\",\n",
    ")\n",
    "\n",
    "metrics[\"CorrelationRemover\"] = metrics_preprocessing_correlation_remover\n",
    "print(metrics_preprocessing_correlation_remover)"
   ]
  },
  {
   "cell_type": "markdown",
   "id": "85f9aff6",
   "metadata": {},
   "source": [
    "#### 5.1.2 Evaluación con métricas de clasificación"
   ]
  },
  {
   "cell_type": "code",
   "execution_count": null,
   "id": "e92b2940",
   "metadata": {},
   "outputs": [],
   "source": [
    "print(\"Reporte de clasificación CorrelationRemover\\n\\n\", classification_report(y_test, y_pred_test_corr_remover))"
   ]
  },
  {
   "cell_type": "code",
   "execution_count": null,
   "id": "0d643457",
   "metadata": {},
   "outputs": [],
   "source": [
    "graficar_matrices_de_confusion(\n",
    "    {\"Modelo Baseline\": confusion_matrix(y_test, y_pred_test, labels=[1, 0]),\n",
    "     \"CorrelationRemover\": confusion_matrix(\n",
    "        y_test, y_pred_test_corr_remover, labels=[1, 0]\n",
    "    )},\n",
    "    n_cols=2,\n",
    "    size=(12, 6)\n",
    ")"
   ]
  },
  {
   "cell_type": "markdown",
   "id": "052da2e4",
   "metadata": {},
   "source": [
    "### 5.2 Segundo método de mitigación\n",
    "\n",
    "#### 5.2.1 Aplicación de `PrejudiceRemover()` y entrenamiento"
   ]
  },
  {
   "cell_type": "code",
   "execution_count": null,
   "id": "4302b1e3",
   "metadata": {},
   "outputs": [],
   "source": [
    "prejud_remover = PrejudiceRemover(\n",
    "    maxiter=100, fit_intercept=True, print_interval=1\n",
    ")\n",
    "\n",
    "pipe_prejud_remover = Pipeline(\n",
    "    steps=[\n",
    "        (\"scaler\", StandardScaler()),\n",
    "        (\"bm_inprocessing\", prejud_remover.transform_estimator(baseline_model)),\n",
    "    ]\n",
    ")\n",
    "\n",
    "pipe_prejud_remover.fit(\n",
    "    X_train,\n",
    "    y_train,\n",
    "    bm__group_a=X_train_df[\"sex_male\"] == 1,\n",
    "    bm__group_b=X_train_df[\"sex_male\"] == 0,\n",
    ")\n",
    "\n",
    "y_pred_test_prejud_remover = pipe_prejud_remover.predict(\n",
    "    X_test, bm__group_a=X_test_df[\"sex_male\"] == 1, bm__group_b=X_test_df[\"sex_male\"] == 0\n",
    ")\n",
    "\n",
    "metrics_prejud_remover = classification_bias_metrics(\n",
    "    X_test_df[\"sex_male\"] == 1,\n",
    "    X_test_df[\"sex_male\"] == 0,\n",
    "    y_pred_test_prejud_remover,\n",
    "    y_test,\n",
    "    metric_type=\"both\",\n",
    ")\n",
    "\n",
    "metrics[\"PrejudiceRemover\"] = metrics_prejud_remover\n",
    "print(metrics_prejud_remover)"
   ]
  },
  {
   "cell_type": "code",
   "execution_count": null,
   "id": "2714bd2b",
   "metadata": {},
   "outputs": [],
   "source": [
    "print(\"Reporte de clasificación PrejudiceRemover\\n\\n\", classification_report(y_test, y_pred_test_prejud_remover))"
   ]
  },
  {
   "cell_type": "code",
   "execution_count": null,
   "id": "948cac1d",
   "metadata": {},
   "outputs": [],
   "source": [
    "graficar_matrices_de_confusion(\n",
    "    {\"Modelo Baseline\": confusion_matrix(y_test, y_pred_test, labels=[1, 0]),\n",
    "     \"PrejudiceRemover\": confusion_matrix(\n",
    "        y_test, y_pred_test_prejud_remover, labels=[1, 0]\n",
    "    )},\n",
    "    n_cols=2,\n",
    "    size=(12, 6)\n",
    ")"
   ]
  },
  {
   "cell_type": "code",
   "execution_count": null,
   "id": "c1ce4972",
   "metadata": {},
   "outputs": [],
   "source": [
    "keys = [\"Baseline\", \"CorrelationRemover\", \"PrejudiceRemover\", \"Reference\"]\n",
    "comparison = pd.concat(\n",
    "    [\n",
    "        baseline_metrics[\"Value\"],\n",
    "        metrics_preprocessing_correlation_remover[\"Value\"],\n",
    "        metrics_prejud_remover,\n",
    "    ],\n",
    "    axis=1,\n",
    ")\n",
    "comparison.columns = keys\n",
    "\n",
    "\n",
    "def highlight_closest(s):\n",
    "    reference = s[\"Reference\"]\n",
    "    differences = s.drop(\"Reference\").apply(lambda x: abs(x - reference))\n",
    "    closest = differences.idxmin()\n",
    "    return [\"background-color: mediumseagreen\" if x == s[closest] else \"\" for x in s]\n",
    "\n",
    "\n",
    "comparison_highlighted = comparison.style.apply(highlight_closest, axis=1)\n",
    "comparison_highlighted"
   ]
  },
  {
   "cell_type": "markdown",
   "id": "53f0ec17",
   "metadata": {},
   "source": [
    "### 5.3 Análisis y comparación de mitigadores\n",
    "\n",
    "- El método **PrejudiceRemover** mostró una mejora más consistente en la mayoría de las métricas de equidad, logrando valores más cercanos al punto de referencia en Statistical Parity, Disparate Impact y Average Odds Difference.\n",
    "- Al disminuir significativamente el modulo de la diferencia de FPR, este nuevo modelo cumple con Equalized Odds para un umbral de 0.1.\n",
    "- El desempeño general del modelo mitigado se mantiene adecuado, con una exactitud del 79%. Sin embargo, persiste una diferencia en la sensibilidad para las clases: el modelo identifica mejor a los solicitantes de bajo riesgo (sensibilidad alta) que a los de alto riesgo.\n",
    "- La mitigación del sesgo es posible sin sacrificar el desempeño global del modelo, aunque se recomienda seguir explorando técnicas y ajustando hiperparámetros para lograr un balance óptimo entre equidad y precisión."
   ]
  },
  {
   "cell_type": "markdown",
   "id": "394e9c51",
   "metadata": {},
   "source": [
    "## 6. Conclusiones\n",
    "\n",
    "### 6.1 Comparación de resultados\n",
    "\n",
    "#### 6.1.1 Matrices de confusión por grupo"
   ]
  },
  {
   "cell_type": "code",
   "execution_count": null,
   "id": "a23deb6a",
   "metadata": {},
   "outputs": [],
   "source": [
    "group_a_train = X_train_df[\"sex_male\"] == 1\n",
    "group_b_train = X_train_df[\"sex_male\"] == 0\n",
    "group_a_test = X_test_df[\"sex_male\"] == 1\n",
    "group_b_test = X_test_df[\"sex_male\"] == 0\n",
    "\n",
    "y_test_df = pd.DataFrame(y_test, index=idx_test, columns=[\"target\"])\n",
    "y_test_df"
   ]
  },
  {
   "cell_type": "code",
   "execution_count": null,
   "id": "7ff7c94e",
   "metadata": {},
   "outputs": [],
   "source": [
    "# Índices de los grupos\n",
    "idx_group_0 = y_test_df.index[y_test_df.index.isin(idx_test) & (group_a_test == False)]\n",
    "idx_group_1 = y_test_df.index[y_test_df.index.isin(idx_test) & (group_a_test == True)]\n",
    "y_test_female = y_test_df.loc[idx_group_0]\n",
    "y_test_male = y_test_df.loc[idx_group_1]\n",
    "y_pred_test_female = y_pred_test[[i for i, idx in enumerate(idx_test) if idx in idx_group_0]]\n",
    "y_pred_test_male = y_pred_test[[i for i, idx in enumerate(idx_test) if idx in idx_group_1]]\n",
    "y_mitigated_pred_test_female = y_pred_test_prejud_remover[[i for i, idx in enumerate(idx_test) if idx in idx_group_0]]\n",
    "y_mitigated_pred_test_male = y_pred_test_prejud_remover[[i for i, idx in enumerate(idx_test) if idx in idx_group_1]]\n",
    "\n",
    "# Para el modelo sin mitigación\n",
    "cm_female = confusion_matrix(\n",
    "    y_test_female,\n",
    "    y_pred_test_female,\n",
    "    labels=[1, 0]\n",
    ")\n",
    "cm_male = confusion_matrix(\n",
    "    y_test_male,\n",
    "    y_pred_test_male,\n",
    "    labels=[1, 0]\n",
    ")\n",
    "\n",
    "# Para el modelo mitigado\n",
    "cm_mitigated_female = confusion_matrix(\n",
    "    y_test_female,\n",
    "    y_mitigated_pred_test_female,\n",
    "    labels=[1, 0]\n",
    ")\n",
    "cm_mitigated_male = confusion_matrix(\n",
    "    y_test_male,\n",
    "    y_mitigated_pred_test_male,\n",
    "    labels=[1, 0]\n",
    ")\n",
    "\n",
    "matrices = {\n",
    "    \"Modelo Baseline\": confusion_matrix(y_test, y_pred_test, labels=[1, 0]),\n",
    "    \"PrejudiceRemover\": confusion_matrix(y_test, y_pred_test_prejud_remover, labels=[1, 0]),\n",
    "    \"Modelo baseline para mujeres\": cm_female,\n",
    "    \"Modelo mitigado para mujeres\": cm_mitigated_female,\n",
    "    \"Modelo baseline para hombres\": cm_male,\n",
    "    \"Modelo mitigado para hombres\": cm_mitigated_male\n",
    "}\n",
    "\n",
    "graficar_matrices_de_confusion(matrices, n_rows=3, n_cols=2, size=(15, 20))"
   ]
  },
  {
   "cell_type": "markdown",
   "id": "1ceeecbf",
   "metadata": {},
   "source": [
    "El modelo entrenado con `PrejudiceRemover` mejoró la _performance_ para el grupo de mujeres, incrementando la cantidad de Positivos Verdaderos (TP, _True Positive_) en 3 casos, además de mejorar en 1 caso los TP del modelo en general. Se pierde un poco la perfomance del grupo privilegiado en el modelo basae, pero se gana en _fairness_, (equidad o igualdad) para los grupos estudiados."
   ]
  },
  {
   "cell_type": "code",
   "execution_count": null,
   "id": "85b3768b",
   "metadata": {},
   "outputs": [],
   "source": [
    "idx_group_0"
   ]
  },
  {
   "cell_type": "code",
   "execution_count": null,
   "id": "be549ffc",
   "metadata": {},
   "outputs": [],
   "source": [
    "bool((y_test_female.loc[521] == 0)[\"target\"])"
   ]
  },
  {
   "cell_type": "code",
   "execution_count": null,
   "id": "c042f9b2",
   "metadata": {},
   "outputs": [],
   "source": [
    "y_pred_test_female"
   ]
  },
  {
   "cell_type": "code",
   "execution_count": null,
   "id": "8226c190",
   "metadata": {},
   "outputs": [],
   "source": [
    "tp_female = [ix for k, ix in enumerate(idx_group_0) if bool((y_test_female.loc[ix] == 1)[\"target\"]) and y_pred_test_female[k] == 1]\n",
    "tp_male = [ix for k, ix in enumerate(idx_group_1) if bool((y_test_male.loc[ix] == 1)[\"target\"]) and y_pred_test_male[k] == 1]\n",
    "new_tp_female = [ix for k, ix in enumerate(idx_group_0) if bool((y_test_female.loc[ix] == 1)[\"target\"]) and y_mitigated_pred_test_female[k] == 1 and y_pred_test_female[k] == 0]\n",
    "\n",
    "df_women_base = X.loc[tp_female]\n",
    "df_men = X.loc[tp_male]\n",
    "df_women_mitigated = X.loc[new_tp_female]"
   ]
  },
  {
   "cell_type": "code",
   "execution_count": null,
   "id": "673cbce1",
   "metadata": {},
   "outputs": [],
   "source": [
    "# Suponiendo que `df_women` y `df_men` son los DataFrames filtrados\n",
    "variables_numericas = ['credit_amount', 'duration']\n",
    "print(\"Promedios:\\n\")\n",
    "print(\"Mujeres (Baseline):\\n\", df_women_base[variables_numericas].mean())\n",
    "print(\"\\nHombres (Baseline):\\n\", df_men[variables_numericas].mean())\n",
    "print(\"\\nMujeres (Mitigado):\\n\", df_women_mitigated[variables_numericas].mean())\n"
   ]
  },
  {
   "cell_type": "code",
   "execution_count": null,
   "id": "492f0a76",
   "metadata": {},
   "outputs": [],
   "source": [
    "categoricas = ['checking_account_no account', 'credit_history_critical account / other bank', 'housing_own', 'savings_account_unknown / no account', 'property_real estate']\n",
    "for col in categoricas:\n",
    "    print(f\"\\nDistribución de {col}:\")\n",
    "    print(\"Mujeres (Baseline):\\n\", df_women_base[col].value_counts(normalize=True).sort_index())\n",
    "    print(\"Hombres (Baseline):\\n\", df_men[col].value_counts(normalize=True).sort_values().sort_index())\n",
    "    print(\"Mujeres (Mitigado):\\n\", df_women_mitigated[col].value_counts(normalize=True).sort_values().sort_index())\n"
   ]
  }
 ],
 "metadata": {
  "kernelspec": {
   "display_name": ".venv",
   "language": "python",
   "name": "python3"
  },
  "language_info": {
   "codemirror_mode": {
    "name": "ipython",
    "version": 3
   },
   "file_extension": ".py",
   "mimetype": "text/x-python",
   "name": "python",
   "nbconvert_exporter": "python",
   "pygments_lexer": "ipython3",
   "version": "3.10.17"
  }
 },
 "nbformat": 4,
 "nbformat_minor": 5
}
