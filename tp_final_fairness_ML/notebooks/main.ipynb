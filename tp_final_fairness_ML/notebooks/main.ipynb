{
 "cells": [
  {
   "cell_type": "markdown",
   "id": "7c08e1ba",
   "metadata": {},
   "source": [
    "# Equidad en Aprendizaje Automático - Trabajo Práctico\n",
    "## Análisis del Dataset _German Credit Data_\n",
    "**1º Cuatrimestre 2025**\n",
    "\n",
    "**Escuela de Ciencia y Tecnología - Universidad Nacional de San Martín**\n",
    "### Integrantes\n",
    "- [Gerardo Toboso](https://github.com/Gerardo1909)\n",
    "- [Gianni Bevilacqua](https://github.com/Gianni2025)\n",
    "- [Javier Spina](https://github.com/jaspina-unsam)\n",
    "---\n",
    "### Objetivo\n",
    "En este notebook analizamos un modelo de aprendizaje automático de clasificación básico o _baseline_ y una mejora en cuanto a justicia o equidad social (de ahora en más, _fairness_) respecto a los grupos representados por los atributos sensibles, en particular el género. Nos servimos de las métricas clásicas de _performance_, el análisis con matrices de confusión y el uso de metricas de _fairness_; así mismo, al final de este _notebook_, comparamos el modelo _baseline_ con el modelo mitigado.\n",
    "\n",
    "### Elementos complementarios\n",
    "A la par de este _notebook_, hemos creado un documento de texto que profundiza en aspectos que no necesitan el uso de código, por ejemplo allí se encuentra el contenido de _Datasheets for Datasets_ pertinente al _German Credit Data_, así como también los análisis, reflexiones y conclusiones complementarias a este documento.\n",
    "\n",
    "---\n",
    "### Índice\n",
    "1. Preprocesamiento\n",
    "2. Análisis Exploratorio\n",
    "3. Modelo baseline\n",
    "4. Evaluación Fairness\n",
    "5. Mitigación\n",
    "6. Evaluación final"
   ]
  },
  {
   "cell_type": "code",
   "execution_count": 2,
   "id": "75a6f9b8",
   "metadata": {},
   "outputs": [],
   "source": [
    "# SEPARADOR ~~~~~~~~~~~~~~~~~~~~~~~~~~~~~~~~~~~~~~~~~~~~~~~~~~~~~~~~~~~~~~~~~~~~~~~~~~~~~~\n",
    "# BORRAR PARA ENTREGA FINAL\n",
    "# ~~~~~~~~~~~~~~~~~~~~~~~~~~~~~~~~~~~~~~~~~~~~~~~~~~~~~~~~~~~~~~~~~~~~~~~~~~~~~~~~~~~~~~~~\n",
    "# ACÁ EMPIEZA LO QUE PERTENECE AL ARCHIVO 01_preprocesamiento.ipynb\n",
    "# ~~~~~~~~~~~~~~~~~~~~~~~~~~~~~~~~~~~~~~~~~~~~~~~~~~~~~~~~~~~~~~~~~~~~~~~~~~~~~~~~~~~~~~~~"
   ]
  }
 ],
 "metadata": {
  "kernelspec": {
   "display_name": ".venv",
   "language": "python",
   "name": "python3"
  },
  "language_info": {
   "codemirror_mode": {
    "name": "ipython",
    "version": 3
   },
   "file_extension": ".py",
   "mimetype": "text/x-python",
   "name": "python",
   "nbconvert_exporter": "python",
   "pygments_lexer": "ipython3",
   "version": "3.10.17"
  }
 },
 "nbformat": 4,
 "nbformat_minor": 5
}
