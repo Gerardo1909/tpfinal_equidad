{
  "cells": [
    {
      "cell_type": "markdown",
      "id": "fa6ddd31",
      "metadata": {
        "id": "fa6ddd31"
      },
      "source": [
        "# Evaluación de equidad por género"
      ]
    },
    {
      "cell_type": "markdown",
      "id": "c09c298f",
      "metadata": {
        "id": "c09c298f"
      },
      "source": [
        "## Índice de Contenido\n",
        "\n",
        "1. [Preparación del entorno y carga de datos](#1-Preparación-del-entorno-y-carga-de-datos)\n",
        "2. [Mirando matriz de confusión y métricas varias](#2-Mirando-matriz-de-confusión-y-métricas-varias)\n",
        "3. [Evaluando según distintos enfoques del Group Fairness](#4-Evaluando-según-distintos-enfoques-del-group-fairness)\n",
        "    - [Definición de métricas del Group Fairness](#3.1-Definición-de-métricas-del-group-fairness)\n",
        "    - [Evaluación de disparidad](#3.2-Evaluación-de-disparidad)\n",
        "4. [Resumen y conclusiones](#4.-Resumen-y-conclusiones)"
      ]
    },
    {
      "cell_type": "markdown",
      "id": "c0b69103",
      "metadata": {
        "id": "c0b69103"
      },
      "source": [
        "## 1. Preparación del entorno y carga de datos"
      ]
    },
    {
      "cell_type": "code",
      "execution_count": 1,
      "id": "a025aa0b",
      "metadata": {
        "id": "a025aa0b"
      },
      "outputs": [],
      "source": [
        "import pandas as pd\n",
        "import matplotlib.pyplot as plt\n",
        "import os\n",
        "\n",
        "ruta_archivo = os.path.join('..', 'data', 'processed', 'df_genero_eval.csv')\n",
        "\n",
        "df_genero_eval = pd.read_csv(ruta_archivo)"
      ]
    },
    {
      "cell_type": "code",
      "execution_count": 2,
      "id": "Jc1BdkpRzCkk",
      "metadata": {
        "colab": {
          "base_uri": "https://localhost:8080/",
          "height": 258
        },
        "id": "Jc1BdkpRzCkk",
        "outputId": "b05c6ddc-cda1-42fd-e1ff-d688b97f3379"
      },
      "outputs": [
        {
          "name": "stdout",
          "output_type": "stream",
          "text": [
            "Dimensiones del dataset: 200 filas × 3 columnas\n",
            "\n",
            "Primeras 5 filas:\n"
          ]
        },
        {
          "data": {
            "text/html": [
              "<div>\n",
              "<style scoped>\n",
              "    .dataframe tbody tr th:only-of-type {\n",
              "        vertical-align: middle;\n",
              "    }\n",
              "\n",
              "    .dataframe tbody tr th {\n",
              "        vertical-align: top;\n",
              "    }\n",
              "\n",
              "    .dataframe thead th {\n",
              "        text-align: right;\n",
              "    }\n",
              "</style>\n",
              "<table border=\"1\" class=\"dataframe\">\n",
              "  <thead>\n",
              "    <tr style=\"text-align: right;\">\n",
              "      <th></th>\n",
              "      <th>y_test</th>\n",
              "      <th>y_pred_test</th>\n",
              "      <th>genre</th>\n",
              "    </tr>\n",
              "  </thead>\n",
              "  <tbody>\n",
              "    <tr>\n",
              "      <th>0</th>\n",
              "      <td>0</td>\n",
              "      <td>1</td>\n",
              "      <td>female</td>\n",
              "    </tr>\n",
              "    <tr>\n",
              "      <th>1</th>\n",
              "      <td>1</td>\n",
              "      <td>1</td>\n",
              "      <td>male</td>\n",
              "    </tr>\n",
              "    <tr>\n",
              "      <th>2</th>\n",
              "      <td>1</td>\n",
              "      <td>0</td>\n",
              "      <td>male</td>\n",
              "    </tr>\n",
              "    <tr>\n",
              "      <th>3</th>\n",
              "      <td>1</td>\n",
              "      <td>1</td>\n",
              "      <td>male</td>\n",
              "    </tr>\n",
              "    <tr>\n",
              "      <th>4</th>\n",
              "      <td>1</td>\n",
              "      <td>1</td>\n",
              "      <td>male</td>\n",
              "    </tr>\n",
              "  </tbody>\n",
              "</table>\n",
              "</div>"
            ],
            "text/plain": [
              "   y_test  y_pred_test   genre\n",
              "0       0            1  female\n",
              "1       1            1    male\n",
              "2       1            0    male\n",
              "3       1            1    male\n",
              "4       1            1    male"
            ]
          },
          "execution_count": 2,
          "metadata": {},
          "output_type": "execute_result"
        }
      ],
      "source": [
        "# Vista general de los datos\n",
        "print(f\"Dimensiones del dataset: {df_genero_eval.shape[0]} filas × {df_genero_eval.shape[1]} columnas\\n\")\n",
        "print(\"Primeras 5 filas:\")\n",
        "df_genero_eval.head()"
      ]
    },
    {
      "cell_type": "code",
      "execution_count": 3,
      "id": "y_BHs25KzIv8",
      "metadata": {
        "colab": {
          "base_uri": "https://localhost:8080/"
        },
        "id": "y_BHs25KzIv8",
        "outputId": "004c3112-b891-4714-f245-dd58501265a8"
      },
      "outputs": [
        {
          "name": "stdout",
          "output_type": "stream",
          "text": [
            "<class 'pandas.core.frame.DataFrame'>\n",
            "RangeIndex: 200 entries, 0 to 199\n",
            "Data columns (total 3 columns):\n",
            " #   Column       Non-Null Count  Dtype \n",
            "---  ------       --------------  ----- \n",
            " 0   y_test       200 non-null    int64 \n",
            " 1   y_pred_test  200 non-null    int64 \n",
            " 2   genre        200 non-null    object\n",
            "dtypes: int64(2), object(1)\n",
            "memory usage: 4.8+ KB\n"
          ]
        }
      ],
      "source": [
        "# Información general sobre el dataset\n",
        "df_genero_eval.info()"
      ]
    },
    {
      "cell_type": "markdown",
      "id": "bfd316b9",
      "metadata": {
        "id": "bfd316b9"
      },
      "source": [
        "## 2. Mirando matriz de confusión y métricas varias"
      ]
    },
    {
      "cell_type": "markdown",
      "id": "c1b9ac1b",
      "metadata": {
        "id": "c1b9ac1b"
      },
      "source": [
        "Ahora vamos a analizar al atributo que consideramos sensible en este análisis, el género. Para esto vamos a separar el conjunto de datos entre la categoría femenina y masculina:"
      ]
    },
    {
      "cell_type": "code",
      "execution_count": 4,
      "id": "246317c2",
      "metadata": {
        "id": "246317c2"
      },
      "outputs": [],
      "source": [
        "df_male_eval = df_genero_eval[df_genero_eval['genre'] == 'male']\n",
        "df_female_eval = df_genero_eval[df_genero_eval['genre']  == 'female']"
      ]
    },
    {
      "cell_type": "markdown",
      "id": "8f47b522",
      "metadata": {
        "id": "8f47b522"
      },
      "source": [
        "Con los grupos separados lo siguiente es armar una matriz de confusión para cada uno, así podremos tener insights más precisos sobre el comportamiento del modelo con ambos grupos:"
      ]
    },
    {
      "cell_type": "code",
      "execution_count": 5,
      "id": "ac2dd97a",
      "metadata": {
        "id": "ac2dd97a",
        "outputId": "a17e8700-f979-428c-e190-b48142bfb39b"
      },
      "outputs": [
        {
          "data": {
            "image/png": "[encoded data removed]",
            "text/plain": [
              "<Figure size 1500x500 with 4 Axes>"
            ]
          },
          "metadata": {},
          "output_type": "display_data"
        }
      ],
      "source": [
        "from tp_final_fairness_ML.utils.plotting import graficar_matriz_de_confusion_por_genero\n",
        "\n",
        "graficar_matriz_de_confusion_por_genero([df_female_eval, df_male_eval], ['Bajo riesgo (1)', 'Alto riesgo (0)'], 'genre', 'y_test', 'y_pred_test')"
      ]
    },
    {
      "cell_type": "markdown",
      "id": "7f77615a",
      "metadata": {
        "id": "7f77615a"
      },
      "source": [
        "De este par de gráficos podemos notar lo siguiente:\n",
        "\n",
        "* En ambas categorías el modelo logró identificar en la mayoría de los casos a los verdaderos positivos con 34 casos en la categoría femenina y 94 en la masculina.\n",
        "\n",
        "* En la categoría masculina se obtuvo una mayor tasa de falsos positivos en términos de proporción a comparación de la categoría femenina, siendo que de un total de 42 casos de alto riesgo, 24 fueron falsos positivos y 18 verdaderos negativos.\n",
        "\n",
        "* En la categoría femenina solamente se identificaron a 5 personas erróneamente como de alto riesgo, lo que indica que el modelo tuvo un buen desempeño identificando instancias positivas en esta clase.\n",
        "\n",
        "Con estos puntos ya empezamos a notar cosas importantes acerca del desempeño del modelo entre los grupos, pareciendo inicialmente que el modelo se desempeñó mejor en la clase femenina.\n",
        "\n",
        "Miremos ahora las métricas generales de clasificación para cada grupo:"
      ]
    },
    {
      "cell_type": "code",
      "execution_count": 6,
      "id": "e58aace8",
      "metadata": {
        "id": "e58aace8",
        "outputId": "bc3d9aae-28bb-4401-b2f3-5ac385743754"
      },
      "outputs": [
        {
          "name": "stdout",
          "output_type": "stream",
          "text": [
            "Mujeres:\n",
            "              precision    recall  f1-score   support\n",
            "\n",
            "           0       0.64      0.53      0.58        17\n",
            "           1       0.81      0.87      0.84        39\n",
            "\n",
            "    accuracy                           0.77        56\n",
            "   macro avg       0.73      0.70      0.71        56\n",
            "weighted avg       0.76      0.77      0.76        56\n",
            "\n",
            "Hombres:\n",
            "              precision    recall  f1-score   support\n",
            "\n",
            "           0       0.69      0.43      0.53        42\n",
            "           1       0.80      0.92      0.85       102\n",
            "\n",
            "    accuracy                           0.78       144\n",
            "   macro avg       0.74      0.68      0.69       144\n",
            "weighted avg       0.77      0.78      0.76       144\n",
            "\n"
          ]
        }
      ],
      "source": [
        "from sklearn.metrics import classification_report\n",
        "\n",
        "print(\"Mujeres:\")\n",
        "print(classification_report(df_female_eval['y_test'], df_female_eval['y_pred_test']))\n",
        "print(\"Hombres:\")\n",
        "print(classification_report(df_male_eval['y_test'], df_male_eval['y_pred_test']))"
      ]
    },
    {
      "cell_type": "markdown",
      "id": "3148b189",
      "metadata": {
        "id": "3148b189"
      },
      "source": [
        "Podemos ver que en términos de métricas calculadas no hay diferencias significativas entre ambos géneros, siendo que en casos como **accuracy general** ambas tuvieron puntajes casi similares e igual ocurre con las otras métricas. **¿Que implica esto en términos de equidad?**.\n",
        "\n",
        "Para analizar esto aún más a profundidad vamos a hacer **pruebas de disparidad** entre ambos géneros para evaluar si el modelo está generando predicciones justas."
      ]
    },
    {
      "cell_type": "markdown",
      "id": "dfe4c455",
      "metadata": {
        "id": "dfe4c455"
      },
      "source": [
        "## 3. Evaluando según distintos enfoques del Group Fairness"
      ]
    },
    {
      "cell_type": "markdown",
      "id": "4c6e086b",
      "metadata": {},
      "source": [
        "En el contexto en el que nos encontramos, donde desarrollamos un modelo de aprendizaje automático que ayude en la asignación de créditos bancarios, es fundamental garantizar que las decisiones del sistema no estén sesgadas en función de atributos sensibles como el género. Un enfoque que nos ayudará a evaluar cuestiones relacionadas al sesgo por grupos es el **Group Fairness (equidad grupal)**, el cual permite evaluar si el modelo trata de manera equitativa a distintos grupos poblacionales definidos por atributos sensibles. \n",
        "\n",
        "Este enfoque se basa en comparar métricas de desempeño del modelo **—como tasas de verdaderos positivos, falsos positivos, precisión o tasa de aprobación—** entre los distintos grupos. Su relevancia radica en que ayuda a identificar **disparidades sistemáticas que podrían derivar en discriminación algorítmica**, afectando la transparencia, la justicia y, potencialmente, el cumplimiento normativo de la organización."
      ]
    },
    {
      "cell_type": "markdown",
      "id": "Bz-CDtU1-w2j",
      "metadata": {
        "id": "Bz-CDtU1-w2j"
      },
      "source": [
        "### 3.1 Definición de métricas del Group Fairness"
      ]
    },
    {
      "cell_type": "markdown",
      "id": "Pcc9nY5uCexz",
      "metadata": {
        "id": "Pcc9nY5uCexz"
      },
      "source": [
        "Entre las principales definiciones de equidad según el enfoque de **Group Fairness**, se identifican **cuatro métricas clave**, que en nuestro caso pueden interpretarse de la siguiente manera:\n",
        "\n",
        "* **Statistical Parity / Demographic Parity (Independencia): $\\mathbb{P}(\\hat{Y} = 1 | A =a) = \\mathbb{P}(\\hat{Y} = 1 | A =b)$:** En nuestro contexto, la clase positiva (1) representa a un solicitante con bajo riesgo crediticio. Este criterio busca que la proporción de personas clasificadas por el modelo como de bajo riesgo sea la misma en ambos grupos (géneros). Esto apunta a garantizar un acceso equitativo a decisiones favorables sin importar el grupo al que se pertenezca.\n",
        "\n",
        "* **Equalized Odds (Separación): $\\mathbb{P}(\\hat{Y} = 1 |Y = 1, A =a) = \\mathbb{P}(\\hat{Y} = 1 |Y = 1, A =b)$ $\\text{ y }$ $\\mathbb{P}(\\hat{Y} = 1 |Y = 0, A =a) = \\mathbb{P}(\\hat{Y} = 1 |Y = 0, A =b)$:** Este criterio exige que el modelo tenga la misma tasa de verdaderos positivos (clasificar correctamente como de bajo riesgo) y de falsos positivos (clasificar como de bajo riesgo a quienes en realidad no lo son) para ambos grupos. Es decir, que el modelo acierte y se equivoque de forma similar para todos los grupos sensibles.\n",
        "\n",
        "* **Equal Oportunity (Separación relajada): $\\mathbb{P}(\\hat{Y} = 1 |Y = 1, A =a) = \\mathbb{P}(\\hat{Y} = 1 |Y = 1, A =b)$:** Es una versión más flexible de Equalized Odds. Se enfoca únicamente en la tasa de verdaderos positivos, buscando que el modelo identifique con la misma probabilidad como de bajo riesgo a las personas que realmente lo son, sin importar su grupo.\n",
        "\n",
        "* **Predictive Parity (Suficiencia): $\\mathbb{P}(Y= 1 |\\hat{Y} =1, A =a) = \\mathbb{P}(Y= 1 |\\hat{Y} =1, A =b)$** Este criterio se centra en la precisión de las predicciones positivas. En nuestro caso, exige que, entre los solicitantes identificados por el modelo como de bajo riesgo, la proporción que realmente lo son sea igual en ambos grupos. Esto asegura que la confianza que se puede tener en una predicción favorable sea independiente del grupo sensible."
      ]
    },
    {
      "cell_type": "markdown",
      "id": "Y3cr3hunIegK",
      "metadata": {
        "id": "Y3cr3hunIegK"
      },
      "source": [
        "Teniendo en cuenta las definiciones anteriores, ya contamos con una idea clara de qué aspectos debemos medir para evaluar la equidad en nuestro caso. Para hacerlo, necesitamos recurrir a métricas específicas que se alineen con cada una de las definiciones de equidad. A continuación, detallamos las métricas correspondientes:\n",
        "\n",
        "* Para **Statistical Parity**, una métrica útil es **`pprev`**, que según la [documentación de Aequitas](https://dssg.github.io/aequitas/metrics.html), libreria dedicada a evaluar fairness, representa la proporción de instancias que el modelo clasifica como positivas (en nuestro caso, solicitantes de bajo riesgo) sobre el total de instancias de un grupo. Esta métrica refleja directamente la probabilidad condicional definida anteriormente.\n",
        "\n",
        "* En el caso de **Equalized Odds**, las métricas relevantes son el **True Positive Rate (TPR)** y el **False Positive Rate (FPR)**. Para que se cumpla esta definición, ambos indicadores deben superar la prueba de disparidad, es decir, presentar valores similares entre los grupos.\n",
        "\n",
        "* Para **Equal Opportunity**, nos enfocamos únicamente en el **True Positive Rate (TPR)**. Si esta métrica pasa la prueba de disparidad, se considera que la definición está satisfecha.\n",
        "\n",
        "* Finalmente, para **Predictive Parity**, la métrica adecuada es la **precisión (precision)**, que mide qué proporción de las instancias clasificadas como positivas por el modelo (bajo riesgo) fueron realmente positivas en la realidad.\n",
        "\n",
        "Con estas métricas definidas, podemos proceder a aplicar la prueba de disparidad entre los distintos grupos definidos por la variable de género."
      ]
    },
    {
      "cell_type": "markdown",
      "id": "apO4iUyp-7lT",
      "metadata": {
        "id": "apO4iUyp-7lT"
      },
      "source": [
        "### 3.2 Evaluación de disparidad"
      ]
    },
    {
      "cell_type": "code",
      "execution_count": 7,
      "id": "cwQRDwms50MD",
      "metadata": {
        "colab": {
          "base_uri": "https://localhost:8080/",
          "height": 112
        },
        "id": "cwQRDwms50MD",
        "outputId": "af8b5eea-d4e0-4cd9-d750-57c5f5fa050d"
      },
      "outputs": [
        {
          "data": {
            "text/html": [
              "<div>\n",
              "<style scoped>\n",
              "    .dataframe tbody tr th:only-of-type {\n",
              "        vertical-align: middle;\n",
              "    }\n",
              "\n",
              "    .dataframe tbody tr th {\n",
              "        vertical-align: top;\n",
              "    }\n",
              "\n",
              "    .dataframe thead th {\n",
              "        text-align: right;\n",
              "    }\n",
              "</style>\n",
              "<table border=\"1\" class=\"dataframe\">\n",
              "  <thead>\n",
              "    <tr style=\"text-align: right;\">\n",
              "      <th></th>\n",
              "      <th>attribute_value</th>\n",
              "      <th>pprev</th>\n",
              "      <th>tpr</th>\n",
              "      <th>fpr</th>\n",
              "      <th>precision</th>\n",
              "    </tr>\n",
              "  </thead>\n",
              "  <tbody>\n",
              "    <tr>\n",
              "      <th>0</th>\n",
              "      <td>female</td>\n",
              "      <td>0.750000</td>\n",
              "      <td>0.871795</td>\n",
              "      <td>0.470588</td>\n",
              "      <td>0.809524</td>\n",
              "    </tr>\n",
              "    <tr>\n",
              "      <th>1</th>\n",
              "      <td>male</td>\n",
              "      <td>0.819444</td>\n",
              "      <td>0.921569</td>\n",
              "      <td>0.571429</td>\n",
              "      <td>0.796610</td>\n",
              "    </tr>\n",
              "  </tbody>\n",
              "</table>\n",
              "</div>"
            ],
            "text/plain": [
              "  attribute_value     pprev       tpr       fpr  precision\n",
              "0          female  0.750000  0.871795  0.470588   0.809524\n",
              "1            male  0.819444  0.921569  0.571429   0.796610"
            ]
          },
          "metadata": {},
          "output_type": "display_data"
        }
      ],
      "source": [
        "from tp_final_fairness_ML.utils.fairness_eval import calcular_metricas_group_fairness\n",
        "\n",
        "df_resultado = calcular_metricas_group_fairness(df_genero_eval, 'genre')\n",
        "display(df_resultado)"
      ]
    },
    {
      "cell_type": "code",
      "execution_count": 8,
      "id": "F0W5mgaiD3Az",
      "metadata": {
        "colab": {
          "base_uri": "https://localhost:8080/"
        },
        "id": "F0W5mgaiD3Az",
        "outputId": "289de4a8-bfce-4963-c7e9-451e1558d2dc"
      },
      "outputs": [
        {
          "name": "stdout",
          "output_type": "stream",
          "text": [
            "pprev        0.069444\n",
            "tpr          0.049774\n",
            "fpr           0.10084\n",
            "precision    0.012914\n",
            "dtype: object\n"
          ]
        }
      ],
      "source": [
        "# Seleccionamos solo las columnas numéricas (excluyendo 'attribute_value')\n",
        "columnas_numericas = ['pprev', 'tpr', 'fpr', 'precision']\n",
        "\n",
        "# Calculamos la diferencia absoluta entre las dos filas\n",
        "modulo_diferencias = (df_resultado.loc[0, columnas_numericas] - df_resultado.loc[1, columnas_numericas]).abs()\n",
        "\n",
        "# Mostramos el resultado\n",
        "print(modulo_diferencias)"
      ]
    },
    {
      "cell_type": "markdown",
      "id": "4bfcbf30",
      "metadata": {
        "id": "4bfcbf30"
      },
      "source": [
        "## 4. Resumen y conclusiones"
      ]
    },
    {
      "cell_type": "markdown",
      "id": "9d450b4e",
      "metadata": {
        "vscode": {
          "languageId": "groovy"
        }
      },
      "source": [
        "Considerando un umbral de 0.15 para las diferencias absolutas entre las métricas de equidad grupal, los resultados muestran que todas las diferencias observadas están por debajo de este valor. Esto sugiere que el modelo no presenta disparidades relevantes entre los géneros en términos de Statistical Parity, True Positive Rate, False Positive Rate (Equalized Odds y Equal Oportunity) y Precisión (Predictive Parity).\n",
        "\n",
        "En resumen, bajo este criterio, el modelo puede considerarse equitativo respecto al género según las métricas analizadas. No obstante, se recomienda seguir monitoreando el desempeño y la equidad del modelo ante posibles cambios en los datos o la inclusión de nuevas variables sensibles."
      ]
    }
  ],
  "metadata": {
    "colab": {
      "collapsed_sections": [
        "c0b69103",
        "bfd316b9",
        "apO4iUyp-7lT"
      ],
      "provenance": []
    },
    "kernelspec": {
      "display_name": "3.11.12",
      "language": "python",
      "name": "python3"
    },
    "language_info": {
      "codemirror_mode": {
        "name": "ipython",
        "version": 3
      },
      "file_extension": ".py",
      "mimetype": "text/x-python",
      "name": "python",
      "nbconvert_exporter": "python",
      "pygments_lexer": "ipython3",
      "version": "3.11.12"
    }
  },
  "nbformat": 4,
  "nbformat_minor": 5
}
