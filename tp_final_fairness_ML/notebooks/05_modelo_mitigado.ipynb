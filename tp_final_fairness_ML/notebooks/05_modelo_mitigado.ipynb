{
 "cells": [
  {
   "cell_type": "markdown",
   "id": "0922741b",
   "metadata": {},
   "source": [
    "# Mitigación de sesgo en el modelo original"
   ]
  },
  {
   "cell_type": "markdown",
   "id": "a347a0a1",
   "metadata": {},
   "source": [
    "## Índice de Contenido\n",
    "\n",
    "1. [Preparación del entorno y carga de datos](#1.-Preparación-del-entorno-y-carga-de-datos)\n",
    "2. [Primer método de mitigación](#2.-Primer-método-de-mitigación)\n",
    "    - [Aplicación del método y entrenamiento del modelo](#2.1-Aplicación-del-método-y-entrenamiento-del-modelo)\n",
    "    - [Evaluación del modelo mediante métricas de clasificación](#2.2-Evaluación-del-modelo-mediante-métricas-de-clasificación)\n",
    "3. [Segundo método de mitigación](#3.-Segundo-método-de-mitigación)\n",
    "    - [Aplicación del método y entrenamiento del modelo](#3.1-Aplicación-del-método-y-entrenamiento-del-modelo)\n",
    "    - [Evaluación del modelo mediante métricas de clasificación](#3.2-Evaluación-del-modelo-mediante-métricas-de-clasificación)\n",
    "4. [Evaluación de equidad de modelos mitigados](#4.-Evaluación-de-equidad-de-modelos-mitigados)\n",
    "5. [Resumen y conclusiones](#5.-Resumen-y-conclusiones)"
   ]
  },
  {
   "cell_type": "markdown",
   "id": "965bb257",
   "metadata": {},
   "source": [
    "# 1. Preparación del entorno y carga de datos"
   ]
  },
  {
   "cell_type": "code",
   "execution_count": 58,
   "id": "fc905426",
   "metadata": {},
   "outputs": [],
   "source": [
    "import pandas as pd\n",
    "import os \n",
    "from holisticai.bias.metrics import classification_bias_metrics\n",
    "from sklearn.linear_model import LogisticRegression\n",
    "from holisticai.pipeline import Pipeline\n",
    "from sklearn.preprocessing import StandardScaler\n",
    "from sklearn.metrics import classification_report\n",
    "from tp_final_fairness_ML.utils.plotting import graficar_matriz_de_confusion\n",
    "\n",
    "# Carga de datos\n",
    "ruta_X_train = os.path.join('..', 'data', 'processed', 'X_train.csv')\n",
    "ruta_X_test = os.path.join('..', 'data', 'processed', 'X_test.csv')\n",
    "ruta_y_train = os.path.join('..', 'data', 'processed', 'y_train.csv')\n",
    "ruta_y_test = os.path.join('..', 'data', 'processed', 'y_test.csv')\n",
    "\n",
    "X_train = pd.read_csv(ruta_X_train, index_col=0)\n",
    "X_test = pd.read_csv(ruta_X_test, index_col=0)\n",
    "y_train = pd.read_csv(ruta_y_train).values.ravel()\n",
    "y_test = pd.read_csv(ruta_y_test).values.ravel()"
   ]
  },
  {
   "cell_type": "markdown",
   "id": "80433921",
   "metadata": {},
   "source": [
    "# 2. Primer método de mitigación"
   ]
  },
  {
   "cell_type": "markdown",
   "id": "38c3e7a6",
   "metadata": {},
   "source": [
    "## 2.1 Aplicación del método y entrenamiento del modelo"
   ]
  },
  {
   "cell_type": "code",
   "execution_count": 59,
   "id": "e6e2d74a",
   "metadata": {},
   "outputs": [
    {
     "name": "stdout",
     "output_type": "stream",
     "text": [
      "                                       Value  Reference\n",
      "Metric                                                 \n",
      "Statistical Parity                 -0.097222          0\n",
      "Disparate Impact                    0.888889          1\n",
      "Four Fifths Rule                    0.888889          1\n",
      "Cohen D                            -0.246777          0\n",
      "2SD Rule                           -1.558155          0\n",
      "Equality of Opportunity Difference -0.056561          0\n",
      "False Positive Rate Difference     -0.205882          0\n",
      "Average Odds Difference            -0.131222          0\n",
      "Accuracy Difference                 0.027778          0\n"
     ]
    }
   ],
   "source": [
    "from holisticai.bias.mitigation import CorrelationRemover \n",
    "\n",
    "mitigator = CorrelationRemover()\n",
    "\n",
    "metrics = {}\n",
    "\n",
    "model = LogisticRegression(random_state=42, max_iter=1000)\n",
    "\n",
    "pipeline = Pipeline(steps=[\n",
    "                     ('scaler', StandardScaler()),\n",
    "                     (\"bm_preprocessing\", mitigator), \n",
    "                     (\"estimator\", model),\n",
    "                     ])\n",
    "\n",
    "pipeline.fit(X_train, y_train, bm__group_a=X_train['genre_male'] == 1, bm__group_b=X_train['genre_male'] == 0)\n",
    "\n",
    "y_pred_pipeline = pipeline.predict(X_test, bm__group_a=X_test['genre_male'] == 1, bm__group_b=X_test['genre_male'] == 0)\n",
    "\n",
    "metrics_preprocessing_correlationRemover = classification_bias_metrics(\n",
    "    X_test['genre_male']==1, \n",
    "    X_test['genre_male']==0, \n",
    "    y_pred_pipeline, \n",
    "    y_test, \n",
    "    metric_type='both')\n",
    "\n",
    "metrics['CorrelationRemover'] = metrics_preprocessing_correlationRemover\n",
    "print(metrics_preprocessing_correlationRemover)"
   ]
  },
  {
   "cell_type": "markdown",
   "id": "466392de",
   "metadata": {},
   "source": [
    "## 2.2 Evaluación del modelo mediante métricas de clasificación"
   ]
  },
  {
   "cell_type": "code",
   "execution_count": 60,
   "id": "2132cbf6",
   "metadata": {},
   "outputs": [
    {
     "name": "stdout",
     "output_type": "stream",
     "text": [
      "Reporte de clasificación:\n",
      "              precision    recall  f1-score   support\n",
      "\n",
      "           0       0.67      0.44      0.53        59\n",
      "           1       0.80      0.91      0.85       141\n",
      "\n",
      "    accuracy                           0.77       200\n",
      "   macro avg       0.73      0.67      0.69       200\n",
      "weighted avg       0.76      0.77      0.75       200\n",
      "\n"
     ]
    }
   ],
   "source": [
    "print(\"Reporte de clasificación:\")\n",
    "print(classification_report(y_test, y_pred_pipeline))"
   ]
  },
  {
   "cell_type": "code",
   "execution_count": 61,
   "id": "2e49b886",
   "metadata": {},
   "outputs": [
    {
     "data": {
      "image/png": "[encoded data removed]",
      "text/plain": [
       "<Figure size 1000x600 with 2 Axes>"
      ]
     },
     "metadata": {},
     "output_type": "display_data"
    }
   ],
   "source": [
    "graficar_matriz_de_confusion(y_test, y_pred_pipeline)"
   ]
  },
  {
   "cell_type": "markdown",
   "id": "3f2dea1b",
   "metadata": {},
   "source": [
    "# 3. Segundo método de mitigación"
   ]
  },
  {
   "cell_type": "markdown",
   "id": "b31858a3",
   "metadata": {},
   "source": [
    "## 3.1 Aplicación del método y entrenamiento del modelo"
   ]
  },
  {
   "cell_type": "code",
   "execution_count": 62,
   "id": "8b608273",
   "metadata": {},
   "outputs": [
    {
     "name": "stdout",
     "output_type": "stream",
     "text": [
      "[elapsed time: 00:00:00 | iter:5/100 | loss:400.8517]\n",
      "[elapsed time: 00:00:00 | Best Loss : 400.8517]\n",
      "                                       Value  Reference\n",
      "Metric                                                 \n",
      "Statistical Parity                 -0.058532          0\n",
      "Disparate Impact                    0.931713          1\n",
      "Four Fifths Rule                    0.931713          1\n",
      "Cohen D                            -0.151043          0\n",
      "2SD Rule                           -0.957166          0\n",
      "Equality of Opportunity Difference -0.062594          0\n",
      "False Positive Rate Difference     -0.064426          0\n",
      "Average Odds Difference            -0.063510          0\n",
      "Accuracy Difference                -0.018849          0\n"
     ]
    }
   ],
   "source": [
    "from holisticai.bias.mitigation import PrejudiceRemover\n",
    "\n",
    "mitigator = PrejudiceRemover(maxiter=100, fit_intercept=True, verbose=1, print_interval=1)\n",
    "\n",
    "model = LogisticRegression(random_state=42, max_iter=1000)\n",
    "\n",
    "pipeline = Pipeline(steps=[\n",
    "    ('scaler', StandardScaler()),\n",
    "    (\"bm_inprocessing\", mitigator.transform_estimator(model)),\n",
    "])\n",
    "\n",
    "pipeline.fit(X_train, y_train, bm__group_a=X_train['genre_male'] == 1, bm__group_b=X_train['genre_male'] == 0)\n",
    "\n",
    "y_pred_prejudice = pipeline.predict(X_test, bm__group_a=X_test['genre_male'] == 1, bm__group_b=X_test['genre_male'] == 0)\n",
    "\n",
    "metrics_prejudice = classification_bias_metrics(\n",
    "    X_test['genre_male'] == 1,\n",
    "    X_test['genre_male'] == 0,\n",
    "    y_pred_prejudice,\n",
    "    y_test,\n",
    "    metric_type='both'\n",
    ")\n",
    "\n",
    "metrics['PrejudiceRemover'] = metrics_prejudice\n",
    "print(metrics_prejudice)"
   ]
  },
  {
   "cell_type": "markdown",
   "id": "2d91db36",
   "metadata": {},
   "source": [
    "## 3.2 Evaluación del modelo mediante métricas de clasificación"
   ]
  },
  {
   "cell_type": "code",
   "execution_count": 63,
   "id": "2593e90d",
   "metadata": {},
   "outputs": [
    {
     "name": "stdout",
     "output_type": "stream",
     "text": [
      "Reporte de clasificación:\n",
      "              precision    recall  f1-score   support\n",
      "\n",
      "           0       0.73      0.46      0.56        59\n",
      "           1       0.80      0.93      0.86       141\n",
      "\n",
      "    accuracy                           0.79       200\n",
      "   macro avg       0.77      0.69      0.71       200\n",
      "weighted avg       0.78      0.79      0.77       200\n",
      "\n"
     ]
    }
   ],
   "source": [
    "print(\"Reporte de clasificación:\")\n",
    "print(classification_report(y_test, y_pred_prejudice))"
   ]
  },
  {
   "cell_type": "code",
   "execution_count": 64,
   "id": "f9728016",
   "metadata": {},
   "outputs": [
    {
     "data": {
      "image/png": "[encoded data removed]",
      "text/plain": [
       "<Figure size 1000x600 with 2 Axes>"
      ]
     },
     "metadata": {},
     "output_type": "display_data"
    }
   ],
   "source": [
    "graficar_matriz_de_confusion(y_test, y_pred_prejudice)"
   ]
  },
  {
   "cell_type": "markdown",
   "id": "03ccc6e5",
   "metadata": {},
   "source": [
    "# 4. Evaluación de equidad de modelos mitigados"
   ]
  },
  {
   "cell_type": "code",
   "execution_count": 65,
   "id": "897d3ea4",
   "metadata": {},
   "outputs": [
    {
     "data": {
      "text/html": [
       "<style type=\"text/css\">\n",
       "#T_3c1b4_row0_col1, #T_3c1b4_row1_col1, #T_3c1b4_row2_col1, #T_3c1b4_row3_col1, #T_3c1b4_row4_col1, #T_3c1b4_row5_col0, #T_3c1b4_row6_col1, #T_3c1b4_row7_col1, #T_3c1b4_row8_col1 {\n",
       "  background-color: mediumseagreen;\n",
       "}\n",
       "</style>\n",
       "<table id=\"T_3c1b4\">\n",
       "  <thead>\n",
       "    <tr>\n",
       "      <th class=\"blank level0\" >&nbsp;</th>\n",
       "      <th id=\"T_3c1b4_level0_col0\" class=\"col_heading level0 col0\" >CorrelationRemover</th>\n",
       "      <th id=\"T_3c1b4_level0_col1\" class=\"col_heading level0 col1\" >PrejudiceRemover</th>\n",
       "      <th id=\"T_3c1b4_level0_col2\" class=\"col_heading level0 col2\" >Reference</th>\n",
       "    </tr>\n",
       "    <tr>\n",
       "      <th class=\"index_name level0\" >Metric</th>\n",
       "      <th class=\"blank col0\" >&nbsp;</th>\n",
       "      <th class=\"blank col1\" >&nbsp;</th>\n",
       "      <th class=\"blank col2\" >&nbsp;</th>\n",
       "    </tr>\n",
       "  </thead>\n",
       "  <tbody>\n",
       "    <tr>\n",
       "      <th id=\"T_3c1b4_level0_row0\" class=\"row_heading level0 row0\" >Statistical Parity</th>\n",
       "      <td id=\"T_3c1b4_row0_col0\" class=\"data row0 col0\" >-0.097222</td>\n",
       "      <td id=\"T_3c1b4_row0_col1\" class=\"data row0 col1\" >-0.058532</td>\n",
       "      <td id=\"T_3c1b4_row0_col2\" class=\"data row0 col2\" >0</td>\n",
       "    </tr>\n",
       "    <tr>\n",
       "      <th id=\"T_3c1b4_level0_row1\" class=\"row_heading level0 row1\" >Disparate Impact</th>\n",
       "      <td id=\"T_3c1b4_row1_col0\" class=\"data row1 col0\" >0.888889</td>\n",
       "      <td id=\"T_3c1b4_row1_col1\" class=\"data row1 col1\" >0.931713</td>\n",
       "      <td id=\"T_3c1b4_row1_col2\" class=\"data row1 col2\" >1</td>\n",
       "    </tr>\n",
       "    <tr>\n",
       "      <th id=\"T_3c1b4_level0_row2\" class=\"row_heading level0 row2\" >Four Fifths Rule</th>\n",
       "      <td id=\"T_3c1b4_row2_col0\" class=\"data row2 col0\" >0.888889</td>\n",
       "      <td id=\"T_3c1b4_row2_col1\" class=\"data row2 col1\" >0.931713</td>\n",
       "      <td id=\"T_3c1b4_row2_col2\" class=\"data row2 col2\" >1</td>\n",
       "    </tr>\n",
       "    <tr>\n",
       "      <th id=\"T_3c1b4_level0_row3\" class=\"row_heading level0 row3\" >Cohen D</th>\n",
       "      <td id=\"T_3c1b4_row3_col0\" class=\"data row3 col0\" >-0.246777</td>\n",
       "      <td id=\"T_3c1b4_row3_col1\" class=\"data row3 col1\" >-0.151043</td>\n",
       "      <td id=\"T_3c1b4_row3_col2\" class=\"data row3 col2\" >0</td>\n",
       "    </tr>\n",
       "    <tr>\n",
       "      <th id=\"T_3c1b4_level0_row4\" class=\"row_heading level0 row4\" >2SD Rule</th>\n",
       "      <td id=\"T_3c1b4_row4_col0\" class=\"data row4 col0\" >-1.558155</td>\n",
       "      <td id=\"T_3c1b4_row4_col1\" class=\"data row4 col1\" >-0.957166</td>\n",
       "      <td id=\"T_3c1b4_row4_col2\" class=\"data row4 col2\" >0</td>\n",
       "    </tr>\n",
       "    <tr>\n",
       "      <th id=\"T_3c1b4_level0_row5\" class=\"row_heading level0 row5\" >Equality of Opportunity Difference</th>\n",
       "      <td id=\"T_3c1b4_row5_col0\" class=\"data row5 col0\" >-0.056561</td>\n",
       "      <td id=\"T_3c1b4_row5_col1\" class=\"data row5 col1\" >-0.062594</td>\n",
       "      <td id=\"T_3c1b4_row5_col2\" class=\"data row5 col2\" >0</td>\n",
       "    </tr>\n",
       "    <tr>\n",
       "      <th id=\"T_3c1b4_level0_row6\" class=\"row_heading level0 row6\" >False Positive Rate Difference</th>\n",
       "      <td id=\"T_3c1b4_row6_col0\" class=\"data row6 col0\" >-0.205882</td>\n",
       "      <td id=\"T_3c1b4_row6_col1\" class=\"data row6 col1\" >-0.064426</td>\n",
       "      <td id=\"T_3c1b4_row6_col2\" class=\"data row6 col2\" >0</td>\n",
       "    </tr>\n",
       "    <tr>\n",
       "      <th id=\"T_3c1b4_level0_row7\" class=\"row_heading level0 row7\" >Average Odds Difference</th>\n",
       "      <td id=\"T_3c1b4_row7_col0\" class=\"data row7 col0\" >-0.131222</td>\n",
       "      <td id=\"T_3c1b4_row7_col1\" class=\"data row7 col1\" >-0.063510</td>\n",
       "      <td id=\"T_3c1b4_row7_col2\" class=\"data row7 col2\" >0</td>\n",
       "    </tr>\n",
       "    <tr>\n",
       "      <th id=\"T_3c1b4_level0_row8\" class=\"row_heading level0 row8\" >Accuracy Difference</th>\n",
       "      <td id=\"T_3c1b4_row8_col0\" class=\"data row8 col0\" >0.027778</td>\n",
       "      <td id=\"T_3c1b4_row8_col1\" class=\"data row8 col1\" >-0.018849</td>\n",
       "      <td id=\"T_3c1b4_row8_col2\" class=\"data row8 col2\" >0</td>\n",
       "    </tr>\n",
       "  </tbody>\n",
       "</table>\n"
      ],
      "text/plain": [
       "<pandas.io.formats.style.Styler at 0x2986c745e50>"
      ]
     },
     "execution_count": 65,
     "metadata": {},
     "output_type": "execute_result"
    }
   ],
   "source": [
    "keys = ['CorrelationRemover', 'PrejudiceRemover', 'Reference']\n",
    "comparison = pd.concat([metrics_preprocessing_correlationRemover['Value'], metrics_prejudice], axis=1)\n",
    "comparison.columns = keys\n",
    "\n",
    "def highlight_closest(s):\n",
    "    reference = s['Reference']\n",
    "    differences = s.drop('Reference').apply(lambda x: abs(x - reference))\n",
    "    closest = differences.idxmin()\n",
    "    return ['background-color: mediumseagreen' if x == s[closest] else '' for x in s]\n",
    "\n",
    "comparison_highlighted = comparison.style.apply(highlight_closest, axis=1)\n",
    "comparison_highlighted"
   ]
  },
  {
   "cell_type": "markdown",
   "id": "408d3fbe",
   "metadata": {},
   "source": [
    "# 5. Resumen y conclusiones"
   ]
  },
  {
   "cell_type": "markdown",
   "id": "6f8ab716",
   "metadata": {},
   "source": [
    "En este notebook hemos realizado las siguientes tareas:\n",
    "\n",
    "1. **Preparación del entorno y carga de datos**: Se importaron los datos procesados de German Credit, ya preparados para el análisis y modelado.\n",
    "\n",
    "2. **Aplicación de métodos de mitigación de sesgo**: Se implementaron dos enfoques para mitigar el sesgo de género en el modelo:\n",
    "    - **CorrelationRemover** (preprocesamiento): Elimina la correlación entre las variables de entrada y el atributo protegido antes del entrenamiento.\n",
    "    - **PrejudiceRemover** (in-processing): Incorpora una penalización durante el entrenamiento para reducir el sesgo en el modelo.\n",
    "\n",
    "3. **Entrenamiento y evaluación de modelos mitigados**: Se entrenó un modelo de regresión logística bajo ambos métodos y se evaluó su desempeño mediante métricas de clasificación y fairness.\n",
    "\n",
    "4. **Análisis de métricas de equidad**: Se compararon métricas como Statistical Parity, Disparate Impact, Four Fifths Rule, Cohen D, y otras, respecto a un valor de referencia ideal.\n",
    "\n",
    "**Conclusiones:**\n",
    "\n",
    "- Ambos métodos de mitigación lograron reducir el sesgo respecto al modelo base, acercando las métricas de fairness a los valores ideales.\n",
    "- El método **PrejudiceRemover** mostró una mejora más consistente en la mayoría de las métricas de equidad, logrando valores más cercanos al punto de referencia en Statistical Parity, Disparate Impact y Average Odds Difference.\n",
    "- El desempeño general del modelo mitigado se mantiene adecuado, con una exactitud del 77%. Sin embargo, persiste una diferencia en la sensibilidad para las clases: el modelo identifica mejor a los solicitantes de bajo riesgo (sensibilidad alta) que a los de alto riesgo.\n",
    "- La mitigación del sesgo es posible sin sacrificar significativamente el desempeño global del modelo, aunque se recomienda seguir explorando técnicas y ajustando hiperparámetros para lograr un balance óptimo entre equidad y precisión."
   ]
  }
 ],
 "metadata": {
  "kernelspec": {
   "display_name": "venv",
   "language": "python",
   "name": "python3"
  },
  "language_info": {
   "codemirror_mode": {
    "name": "ipython",
    "version": 3
   },
   "file_extension": ".py",
   "mimetype": "text/x-python",
   "name": "python",
   "nbconvert_exporter": "python",
   "pygments_lexer": "ipython3",
   "version": "3.11.4"
  }
 },
 "nbformat": 4,
 "nbformat_minor": 5
}
