{
 "cells": [
  {
   "cell_type": "markdown",
   "id": "0922741b",
   "metadata": {},
   "source": [
    "# Mitigación de sesgo en el modelo original"
   ]
  },
  {
   "cell_type": "markdown",
   "id": "a347a0a1",
   "metadata": {},
   "source": [
    "## Índice de Contenido\n",
    "\n",
    "1. [Preparación del entorno y carga de datos](#1-Preparación-del-entorno-y-carga-de-datos)\n",
    "2. [Primer método de mitigación](#2-Primer-método-de-mitigación)\n",
    "    - [Aplicación del método y entrenamiento del modelo](#2.1-Aplicación-del-método-y-entrenamiento-del-modelo)\n",
    "    - [Evaluación del modelo mediante métricas de clasificación](#2.2-Evaluación-del-modelo-mediante-métricas-de-clasificación)\n",
    "3. [Segundo método de mitigación](#3-Segundo-método-de-mitigación)\n",
    "    - [Aplicación del método y entrenamiento del modelo](#3.1-Aplicación-del-método-y-entrenamiento-del-modelo)\n",
    "    - [Evaluación del modelo mediante métricas de clasificación](#3.2-Evaluación-del-modelo-mediante-métricas-de-clasificación)\n",
    "4. [Evaluación de equidad de modelos mitigados](#4-Evaluación-de-equidad-de-modelos-mitigados)\n",
    "5. [Resumen y conclusiones](#5-Resumen-y-conclusiones)"
   ]
  },
  {
   "cell_type": "markdown",
   "id": "965bb257",
   "metadata": {},
   "source": [
    "# 1. Preparación del entorno y carga de datos"
   ]
  },
  {
   "cell_type": "code",
   "execution_count": 1,
   "id": "fc905426",
   "metadata": {},
   "outputs": [],
   "source": [
    "import pandas as pd\n",
    "import seaborn as sns\n",
    "import matplotlib.pyplot as plt\n",
    "from tp_final_fairness_ML.utils.preprocessing import convertir_object_a_categ\n",
    "import os \n",
    "import numpy as np\n",
    "from sklearn.model_selection import train_test_split\n",
    "from sklearn.metrics import classification_report, confusion_matrix\n",
    "\n",
    "# Carga de datos\n",
    "ruta_archivo = os.path.join('..', 'data', 'processed', 'german_credit_data.csv')\n",
    "g_credit_data = pd.read_csv(ruta_archivo)\n",
    "\n",
    "# Conversión de columnas tipo objeto a categóricas para mejor manejo\n",
    "g_credit_data = convertir_object_a_categ(g_credit_data)"
   ]
  },
  {
   "cell_type": "code",
   "execution_count": 2,
   "id": "5324da00",
   "metadata": {},
   "outputs": [
    {
     "name": "stdout",
     "output_type": "stream",
     "text": [
      "Dimensiones del dataset: 1000 filas × 23 columnas\n",
      "\n",
      "Primeras 5 filas:\n"
     ]
    },
    {
     "data": {
      "text/html": [
       "<div>\n",
       "<style scoped>\n",
       "    .dataframe tbody tr th:only-of-type {\n",
       "        vertical-align: middle;\n",
       "    }\n",
       "\n",
       "    .dataframe tbody tr th {\n",
       "        vertical-align: top;\n",
       "    }\n",
       "\n",
       "    .dataframe thead th {\n",
       "        text-align: right;\n",
       "    }\n",
       "</style>\n",
       "<table border=\"1\" class=\"dataframe\">\n",
       "  <thead>\n",
       "    <tr style=\"text-align: right;\">\n",
       "      <th></th>\n",
       "      <th>checking_account</th>\n",
       "      <th>duration</th>\n",
       "      <th>credit_history</th>\n",
       "      <th>purpose</th>\n",
       "      <th>credit_amount</th>\n",
       "      <th>savings_account</th>\n",
       "      <th>employment_since</th>\n",
       "      <th>installment_rate</th>\n",
       "      <th>personal_status_sex</th>\n",
       "      <th>other_debtors</th>\n",
       "      <th>...</th>\n",
       "      <th>other_installment_plans</th>\n",
       "      <th>housing</th>\n",
       "      <th>number_credits</th>\n",
       "      <th>job</th>\n",
       "      <th>people_liable</th>\n",
       "      <th>telephone</th>\n",
       "      <th>foreign_worker</th>\n",
       "      <th>target</th>\n",
       "      <th>genre</th>\n",
       "      <th>target_label</th>\n",
       "    </tr>\n",
       "  </thead>\n",
       "  <tbody>\n",
       "    <tr>\n",
       "      <th>0</th>\n",
       "      <td>&lt; 0 DM</td>\n",
       "      <td>6</td>\n",
       "      <td>critical account / other bank</td>\n",
       "      <td>radio/TV</td>\n",
       "      <td>1169</td>\n",
       "      <td>unknown / no account</td>\n",
       "      <td>&gt;= 7 years</td>\n",
       "      <td>4</td>\n",
       "      <td>male, single</td>\n",
       "      <td>none</td>\n",
       "      <td>...</td>\n",
       "      <td>none</td>\n",
       "      <td>own</td>\n",
       "      <td>2</td>\n",
       "      <td>skilled / official</td>\n",
       "      <td>1</td>\n",
       "      <td>yes, registered</td>\n",
       "      <td>yes</td>\n",
       "      <td>1</td>\n",
       "      <td>male</td>\n",
       "      <td>low_risk</td>\n",
       "    </tr>\n",
       "    <tr>\n",
       "      <th>1</th>\n",
       "      <td>0 &lt;= ... &lt; 200 DM</td>\n",
       "      <td>48</td>\n",
       "      <td>paid duly till now</td>\n",
       "      <td>radio/TV</td>\n",
       "      <td>5951</td>\n",
       "      <td>&lt; 100 DM</td>\n",
       "      <td>1 &lt;= ... &lt; 4 years</td>\n",
       "      <td>2</td>\n",
       "      <td>female, div/sep/married</td>\n",
       "      <td>none</td>\n",
       "      <td>...</td>\n",
       "      <td>none</td>\n",
       "      <td>own</td>\n",
       "      <td>1</td>\n",
       "      <td>skilled / official</td>\n",
       "      <td>1</td>\n",
       "      <td>none</td>\n",
       "      <td>yes</td>\n",
       "      <td>2</td>\n",
       "      <td>female</td>\n",
       "      <td>high_risk</td>\n",
       "    </tr>\n",
       "    <tr>\n",
       "      <th>2</th>\n",
       "      <td>no account</td>\n",
       "      <td>12</td>\n",
       "      <td>critical account / other bank</td>\n",
       "      <td>education</td>\n",
       "      <td>2096</td>\n",
       "      <td>&lt; 100 DM</td>\n",
       "      <td>4 &lt;= ... &lt; 7 years</td>\n",
       "      <td>2</td>\n",
       "      <td>male, single</td>\n",
       "      <td>none</td>\n",
       "      <td>...</td>\n",
       "      <td>none</td>\n",
       "      <td>own</td>\n",
       "      <td>1</td>\n",
       "      <td>unskilled - resident</td>\n",
       "      <td>2</td>\n",
       "      <td>none</td>\n",
       "      <td>yes</td>\n",
       "      <td>1</td>\n",
       "      <td>male</td>\n",
       "      <td>low_risk</td>\n",
       "    </tr>\n",
       "    <tr>\n",
       "      <th>3</th>\n",
       "      <td>&lt; 0 DM</td>\n",
       "      <td>42</td>\n",
       "      <td>paid duly till now</td>\n",
       "      <td>furniture/equipment</td>\n",
       "      <td>7882</td>\n",
       "      <td>&lt; 100 DM</td>\n",
       "      <td>4 &lt;= ... &lt; 7 years</td>\n",
       "      <td>2</td>\n",
       "      <td>male, single</td>\n",
       "      <td>guarantor</td>\n",
       "      <td>...</td>\n",
       "      <td>none</td>\n",
       "      <td>for free</td>\n",
       "      <td>1</td>\n",
       "      <td>skilled / official</td>\n",
       "      <td>2</td>\n",
       "      <td>none</td>\n",
       "      <td>yes</td>\n",
       "      <td>1</td>\n",
       "      <td>male</td>\n",
       "      <td>low_risk</td>\n",
       "    </tr>\n",
       "    <tr>\n",
       "      <th>4</th>\n",
       "      <td>&lt; 0 DM</td>\n",
       "      <td>24</td>\n",
       "      <td>delay in past</td>\n",
       "      <td>car (new)</td>\n",
       "      <td>4870</td>\n",
       "      <td>&lt; 100 DM</td>\n",
       "      <td>1 &lt;= ... &lt; 4 years</td>\n",
       "      <td>3</td>\n",
       "      <td>male, single</td>\n",
       "      <td>none</td>\n",
       "      <td>...</td>\n",
       "      <td>none</td>\n",
       "      <td>for free</td>\n",
       "      <td>2</td>\n",
       "      <td>skilled / official</td>\n",
       "      <td>2</td>\n",
       "      <td>none</td>\n",
       "      <td>yes</td>\n",
       "      <td>2</td>\n",
       "      <td>male</td>\n",
       "      <td>high_risk</td>\n",
       "    </tr>\n",
       "  </tbody>\n",
       "</table>\n",
       "<p>5 rows × 23 columns</p>\n",
       "</div>"
      ],
      "text/plain": [
       "    checking_account  duration                 credit_history  \\\n",
       "0             < 0 DM         6  critical account / other bank   \n",
       "1  0 <= ... < 200 DM        48             paid duly till now   \n",
       "2         no account        12  critical account / other bank   \n",
       "3             < 0 DM        42             paid duly till now   \n",
       "4             < 0 DM        24                  delay in past   \n",
       "\n",
       "               purpose  credit_amount       savings_account  \\\n",
       "0             radio/TV           1169  unknown / no account   \n",
       "1             radio/TV           5951              < 100 DM   \n",
       "2            education           2096              < 100 DM   \n",
       "3  furniture/equipment           7882              < 100 DM   \n",
       "4            car (new)           4870              < 100 DM   \n",
       "\n",
       "     employment_since  installment_rate      personal_status_sex  \\\n",
       "0          >= 7 years                 4             male, single   \n",
       "1  1 <= ... < 4 years                 2  female, div/sep/married   \n",
       "2  4 <= ... < 7 years                 2             male, single   \n",
       "3  4 <= ... < 7 years                 2             male, single   \n",
       "4  1 <= ... < 4 years                 3             male, single   \n",
       "\n",
       "  other_debtors  ...  other_installment_plans   housing  number_credits  \\\n",
       "0          none  ...                     none       own               2   \n",
       "1          none  ...                     none       own               1   \n",
       "2          none  ...                     none       own               1   \n",
       "3     guarantor  ...                     none  for free               1   \n",
       "4          none  ...                     none  for free               2   \n",
       "\n",
       "                    job people_liable        telephone foreign_worker  target  \\\n",
       "0    skilled / official             1  yes, registered            yes       1   \n",
       "1    skilled / official             1             none            yes       2   \n",
       "2  unskilled - resident             2             none            yes       1   \n",
       "3    skilled / official             2             none            yes       1   \n",
       "4    skilled / official             2             none            yes       2   \n",
       "\n",
       "    genre target_label  \n",
       "0    male     low_risk  \n",
       "1  female    high_risk  \n",
       "2    male     low_risk  \n",
       "3    male     low_risk  \n",
       "4    male    high_risk  \n",
       "\n",
       "[5 rows x 23 columns]"
      ]
     },
     "execution_count": 2,
     "metadata": {},
     "output_type": "execute_result"
    }
   ],
   "source": [
    "# Vista general de los datos\n",
    "print(f\"Dimensiones del dataset: {g_credit_data.shape[0]} filas × {g_credit_data.shape[1]} columnas\\n\")\n",
    "print(\"Primeras 5 filas:\")\n",
    "g_credit_data.head()"
   ]
  },
  {
   "cell_type": "code",
   "execution_count": 3,
   "id": "5947f637",
   "metadata": {},
   "outputs": [
    {
     "name": "stdout",
     "output_type": "stream",
     "text": [
      "<class 'pandas.core.frame.DataFrame'>\n",
      "RangeIndex: 1000 entries, 0 to 999\n",
      "Data columns (total 23 columns):\n",
      " #   Column                   Non-Null Count  Dtype   \n",
      "---  ------                   --------------  -----   \n",
      " 0   checking_account         1000 non-null   category\n",
      " 1   duration                 1000 non-null   int64   \n",
      " 2   credit_history           1000 non-null   category\n",
      " 3   purpose                  1000 non-null   category\n",
      " 4   credit_amount            1000 non-null   int64   \n",
      " 5   savings_account          1000 non-null   category\n",
      " 6   employment_since         1000 non-null   category\n",
      " 7   installment_rate         1000 non-null   int64   \n",
      " 8   personal_status_sex      1000 non-null   category\n",
      " 9   other_debtors            1000 non-null   category\n",
      " 10  residence_since          1000 non-null   int64   \n",
      " 11  property                 1000 non-null   category\n",
      " 12  age                      1000 non-null   int64   \n",
      " 13  other_installment_plans  1000 non-null   category\n",
      " 14  housing                  1000 non-null   category\n",
      " 15  number_credits           1000 non-null   int64   \n",
      " 16  job                      1000 non-null   category\n",
      " 17  people_liable            1000 non-null   int64   \n",
      " 18  telephone                1000 non-null   category\n",
      " 19  foreign_worker           1000 non-null   category\n",
      " 20  target                   1000 non-null   int64   \n",
      " 21  genre                    1000 non-null   category\n",
      " 22  target_label             1000 non-null   category\n",
      "dtypes: category(15), int64(8)\n",
      "memory usage: 79.9 KB\n"
     ]
    }
   ],
   "source": [
    "# Información general sobre el dataset\n",
    "g_credit_data.info()"
   ]
  },
  {
   "cell_type": "markdown",
   "id": "80433921",
   "metadata": {},
   "source": [
    "# 2. Primer método de mitigación"
   ]
  },
  {
   "cell_type": "markdown",
   "id": "6e7ef4e0",
   "metadata": {},
   "source": []
  },
  {
   "cell_type": "markdown",
   "id": "38c3e7a6",
   "metadata": {},
   "source": [
    "## 2.1 Aplicación del método y entrenamiento del modelo"
   ]
  },
  {
   "cell_type": "code",
   "execution_count": null,
   "id": "f85e56d8",
   "metadata": {},
   "outputs": [],
   "source": []
  },
  {
   "cell_type": "markdown",
   "id": "466392de",
   "metadata": {},
   "source": [
    "## 2.2 Evaluación del modelo mediante métricas de clasificación"
   ]
  },
  {
   "cell_type": "code",
   "execution_count": null,
   "id": "5a06d994",
   "metadata": {},
   "outputs": [],
   "source": []
  },
  {
   "cell_type": "markdown",
   "id": "3f2dea1b",
   "metadata": {},
   "source": [
    "# 3. Segundo método de mitigación"
   ]
  },
  {
   "cell_type": "markdown",
   "id": "b8f43e86",
   "metadata": {},
   "source": []
  },
  {
   "cell_type": "markdown",
   "id": "b31858a3",
   "metadata": {},
   "source": [
    "## 3.1 Aplicación del método y entrenamiento del modelo"
   ]
  },
  {
   "cell_type": "code",
   "execution_count": null,
   "id": "8b608273",
   "metadata": {},
   "outputs": [],
   "source": []
  },
  {
   "cell_type": "markdown",
   "id": "2d91db36",
   "metadata": {},
   "source": [
    "## 3.2 Evaluación del modelo mediante métricas de clasificación"
   ]
  },
  {
   "cell_type": "code",
   "execution_count": null,
   "id": "971ef182",
   "metadata": {},
   "outputs": [],
   "source": []
  },
  {
   "cell_type": "markdown",
   "id": "03ccc6e5",
   "metadata": {},
   "source": [
    "# 4. Evaluación de equidad de modelos mitigados"
   ]
  },
  {
   "cell_type": "markdown",
   "id": "1780c150",
   "metadata": {},
   "source": []
  },
  {
   "cell_type": "code",
   "execution_count": null,
   "id": "897d3ea4",
   "metadata": {},
   "outputs": [],
   "source": []
  },
  {
   "cell_type": "markdown",
   "id": "408d3fbe",
   "metadata": {},
   "source": [
    "# 5. Resumen y conclusiones"
   ]
  },
  {
   "cell_type": "markdown",
   "id": "6f8ab716",
   "metadata": {},
   "source": []
  }
 ],
 "metadata": {
  "kernelspec": {
   "display_name": "venv",
   "language": "python",
   "name": "python3"
  },
  "language_info": {
   "codemirror_mode": {
    "name": "ipython",
    "version": 3
   },
   "file_extension": ".py",
   "mimetype": "text/x-python",
   "name": "python",
   "nbconvert_exporter": "python",
   "pygments_lexer": "ipython3",
   "version": "3.11.4"
  }
 },
 "nbformat": 4,
 "nbformat_minor": 5
}
